{
 "cells": [
  {
   "cell_type": "markdown",
   "metadata": {},
   "source": [
    "# 第一隻Python程式"
   ]
  },
  {
   "cell_type": "markdown",
   "metadata": {},
   "source": [
    "### - random套件的使用"
   ]
  },
  {
   "cell_type": "code",
   "execution_count": 75,
   "metadata": {},
   "outputs": [
    {
     "name": "stdout",
     "output_type": "stream",
     "text": [
      "My favorite Language is JavaScript\n"
     ]
    }
   ],
   "source": [
    "import random\n",
    "language = ['Python', 'JavaScript', 'Java']\n",
    "rnd = random.randint(1, 2)\n",
    "print('My favorite Language is' , language[rnd])"
   ]
  },
  {
   "cell_type": "markdown",
   "metadata": {},
   "source": [
    "### - 使用requests套件做簡易爬蟲"
   ]
  },
  {
   "cell_type": "code",
   "execution_count": 76,
   "metadata": {},
   "outputs": [
    {
     "name": "stdout",
     "output_type": "stream",
     "text": [
      "{'result': {'limit': 1000, 'offset': 0, 'count': 1291, 'sort': '', 'results': [{'HOTSPOT_TYPE': 'Taipei Free免費無線上網熱點(室內)', 'HOTSPOT_NAME': '北投區行政中心', 'STATUS': '0', 'AREA': '區行政中心', 'AP_ID': 'BT020001', 'ADDRESS': '臺北市北投區新市街30號1樓(入口右側走廊上方天花板)', 'LAT': '25.132671', 'LNG': '121.502693', '_id': 1}, {'HOTSPOT_TYPE': 'Taipei Free免費無線上網熱點(室內)', 'HOTSPOT_NAME': '北投區行政中心', 'STATUS': '0', 'AREA': '區行政中心', 'AP_ID': 'BT020002', 'ADDRESS': '臺北市北投區新市街30號3樓(戶政事務所綜合受理1號櫃台前上方天花板)', 'LAT': '25.132671', 'LNG': '121.502695', '_id': 2}, {'HOTSPOT_TYPE': 'Taipei Free免費無線上網熱點(室內)', 'HOTSPOT_NAME': '北投區行政中心', 'STATUS': '0', 'AREA': '區行政中心', 'AP_ID': 'BT020003', 'ADDRESS': '臺北市北投區新市街30號3樓(志工服務台上方)', 'LAT': '25.132671', 'LNG': '121.502691', '_id': 3}, {'HOTSPOT_TYPE': 'Taipei Free免費無線上網熱點(室內)', 'HOTSPOT_NAME': '北投區行政中心', 'STATUS': '0', 'AREA': '區行政中心', 'AP_ID': 'BT020004', 'ADDRESS': '臺北市北投區新市街30號4樓(好便利11號櫃檯前天花板)', 'LAT': '25.132671', 'LNG': '121.502697', '_id': 4}, {'HOTSPOT_TYPE': 'Taipei Free免費無線上網熱點(室內)', 'HOTSPOT_NAME': '北投區行政中心', 'STATUS': '0', 'AREA': '區行政中心', 'AP_ID': 'BT020005', 'ADDRESS': '臺北市北投區新市街30號4樓(調解委員會門前天花板)', 'LAT': '25.132671', 'LNG': '121.502699', '_id': 5}, {'HOTSPOT_TYPE': 'Taipei Free免費無線上網熱點(室內)', 'HOTSPOT_NAME': '北投區行政中心', 'STATUS': '0', 'AREA': '區行政中心', 'AP_ID': 'BT020006', 'ADDRESS': '臺北市北投區新市街30號5樓(社服中心門前第五塊天花板)', 'LAT': '25.132673', 'LNG': '121.502693', '_id': 6}, {'HOTSPOT_TYPE': 'Taipei Free免費無線上網熱點(室內)', 'HOTSPOT_NAME': '北投區行政中心', 'STATUS': '0', 'AREA': '區行政中心', 'AP_ID': 'BT020007', 'ADDRESS': '臺北市北投區新市街30號5樓(就業服務處門前天花板)', 'LAT': '25.132675', 'LNG': '121.502693', '_id': 7}, {'HOTSPOT_TYPE': 'Taipei Free免費無線上網熱點(室內)', 'HOTSPOT_NAME': '秀山民眾閱覽室', 'STATUS': '0', 'AREA': '閱覽室', 'AP_ID': 'BT030001', 'ADDRESS': '臺北市北投區中和街534號6樓(閱讀室牌示正前方2塊天花板處)', 'LAT': '25.145577', 'LNG': '121.493118', '_id': 8}, {'HOTSPOT_TYPE': 'Taipei Free免費無線上網熱點(室內)', 'HOTSPOT_NAME': '秀山民眾閱覽室', 'STATUS': '0', 'AREA': '閱覽室', 'AP_ID': 'BT030002', 'ADDRESS': '臺北市北投區中和街534號7樓(自修區牌示正後方三塊天花板處)', 'LAT': '25.145577', 'LNG': '121.493114', '_id': 9}, {'HOTSPOT_TYPE': 'Taipei Free免費無線上網熱點(室內)', 'HOTSPOT_NAME': '清江分館', 'STATUS': '0', 'AREA': '圖書館', 'AP_ID': 'BT030003', 'ADDRESS': '臺北市北投區公館路198號3樓(自修室上方)', 'LAT': '25.127735', 'LNG': '121.50735', '_id': 10}, {'HOTSPOT_TYPE': 'Taipei Free免費無線上網熱點(室內)', 'HOTSPOT_NAME': '清江分館', 'STATUS': '0', 'AREA': '圖書館', 'AP_ID': 'BT030004', 'ADDRESS': '臺北市北投區公館路198號3樓(筆電區上方)', 'LAT': '25.127733', 'LNG': '121.50735', '_id': 11}, {'HOTSPOT_TYPE': 'Taipei Free免費無線上網熱點(室內)', 'HOTSPOT_NAME': '永明民眾閱覽室', 'STATUS': '0', 'AREA': '閱覽室', 'AP_ID': 'BT030005', 'ADDRESS': '臺北市北投區石牌路二段115號7樓(兒童圖書區正前方第2塊石膏板)', 'LAT': '25.118068', 'LNG': '121.517176', '_id': 12}, {'HOTSPOT_TYPE': 'Taipei Free免費無線上網熱點(室內)', 'HOTSPOT_NAME': '永明民眾閱覽室', 'STATUS': '0', 'AREA': '閱覽室', 'AP_ID': 'BT030006', 'ADDRESS': '臺北市北投區石牌路二段115號8樓(座位區第一張桌子上方)', 'LAT': '25.118068', 'LNG': '121.517178', '_id': 13}, {'HOTSPOT_TYPE': 'Taipei Free免費無線上網熱點(室內)', 'HOTSPOT_NAME': '吉利分館', 'STATUS': '0', 'AREA': '圖書館', 'AP_ID': 'BT030007', 'ADDRESS': '臺北市北投區立農街一段366號5樓(自修室正中央天花板上)', 'LAT': '25.119306', 'LNG': '121.508385', '_id': 14}, {'HOTSPOT_TYPE': 'Taipei Free免費無線上網熱點(室內)', 'HOTSPOT_NAME': '吉利分館', 'STATUS': '0', 'AREA': '圖書館', 'AP_ID': 'BT030009', 'ADDRESS': '臺北市北投區立農街一段366號7樓(參考區及期刊閱報區正中央天花板上)', 'LAT': '25.119306', 'LNG': '121.508387', '_id': 15}, {'HOTSPOT_TYPE': 'Taipei Free免費無線上網熱點(室內)', 'HOTSPOT_NAME': '吉利分館', 'STATUS': '0', 'AREA': '圖書館', 'AP_ID': 'BT030010', 'ADDRESS': '臺北市北投區立農街一段366號8樓(圖書區正中央天花板上)', 'LAT': '25.119306', 'LNG': '121.508383', '_id': 16}, {'HOTSPOT_TYPE': 'Taipei Free免費無線上網熱點(室內)', 'HOTSPOT_NAME': '北投分館', 'STATUS': '0', 'AREA': '圖書館', 'AP_ID': 'BT030011', 'ADDRESS': '臺北市北投區光明路251號1樓【中文圖書區中間位置天花板內】', 'LAT': '25.136298', 'LNG': '121.506296', '_id': 17}, {'HOTSPOT_TYPE': 'Taipei Free免費無線上網熱點(室內)', 'HOTSPOT_NAME': '北投分館', 'STATUS': '0', 'AREA': '圖書館', 'AP_ID': 'BT030012', 'ADDRESS': '臺北市北投區光明路251號1樓【閱報區中間位置天花板內】', 'LAT': '25.136298', 'LNG': '121.506298', '_id': 18}, {'HOTSPOT_TYPE': 'Taipei Free免費無線上網熱點(室內)', 'HOTSPOT_NAME': '北投分館', 'STATUS': '0', 'AREA': '圖書館', 'AP_ID': 'BT030013', 'ADDRESS': '臺北市北投區光明路251號2樓【多功能討論室門前天花板內】', 'LAT': '25.136298', 'LNG': '121.506294', '_id': 19}, {'HOTSPOT_TYPE': 'Taipei Free免費無線上網熱點(室內)', 'HOTSPOT_NAME': '北投分館', 'STATUS': '0', 'AREA': '圖書館', 'AP_ID': 'BT030014', 'ADDRESS': '臺北市北投區光明路251號B1【閱讀區中間位置天花板內】', 'LAT': '25.136298', 'LNG': '121.506292', '_id': 20}, {'HOTSPOT_TYPE': 'Taipei Free免費無線上網熱點(室內)', 'HOTSPOT_NAME': '石牌分館', 'STATUS': '0', 'AREA': '圖書館', 'AP_ID': 'BT030015', 'ADDRESS': '臺北市北投區明德路208巷5號3樓【自修室中間上方處)】', 'LAT': '25.113177', 'LNG': '121.52266', '_id': 21}, {'HOTSPOT_TYPE': 'Taipei Free免費無線上網熱點(室內)', 'HOTSPOT_NAME': '石牌分館', 'STATUS': '0', 'AREA': '圖書館', 'AP_ID': 'BT030016', 'ADDRESS': '臺北市北投區明德路208巷5號4樓【期刊區與綜合服務區上方處(維修孔)】', 'LAT': '25.113177', 'LNG': '121.52268', '_id': 22}, {'HOTSPOT_TYPE': 'Taipei Free免費無線上網熱點(室內)', 'HOTSPOT_NAME': '石牌分館', 'STATUS': '0', 'AREA': '圖書館', 'AP_ID': 'BT030017', 'ADDRESS': '臺北市北投區明德路208巷5號9樓(青少年中文圖書區(高中區)', 'LAT': '25.113177', 'LNG': '121.52264', '_id': 23}, {'HOTSPOT_TYPE': 'Taipei Free免費無線上網熱點(室內)', 'HOTSPOT_NAME': '石牌分館', 'STATUS': '0', 'AREA': '圖書館', 'AP_ID': 'BT030018', 'ADDRESS': '臺北市北投區明德路208巷5號6樓【開架閱覽室中間處(維修孔)】', 'LAT': '25.113177', 'LNG': '121.52262', '_id': 24}, {'HOTSPOT_TYPE': 'Taipei Free免費無線上網熱點(室內)', 'HOTSPOT_NAME': '石牌分館', 'STATUS': '0', 'AREA': '圖書館', 'AP_ID': 'BT030019', 'ADDRESS': '臺北市北投區明德路208巷5號7樓【外文書籍區上方(維修孔)】', 'LAT': '25.113175', 'LNG': '121.52266', '_id': 25}, {'HOTSPOT_TYPE': 'Taipei Free免費無線上網熱點(室內)', 'HOTSPOT_NAME': '石牌分館', 'STATUS': '0', 'AREA': '圖書館', 'AP_ID': 'BT030020', 'ADDRESS': '臺北市北投區明德路208巷5號8樓【參考資料區靠窗戶邊上方(維修孔)】', 'LAT': '25.113173', 'LNG': '121.52266', '_id': 26}, {'HOTSPOT_TYPE': 'Taipei Free免費無線上網熱點(室內)', 'HOTSPOT_NAME': '稻香分館', 'STATUS': '0', 'AREA': '圖書館', 'AP_ID': 'BT030021', 'ADDRESS': '臺北市北投區稻香路81號3樓(一般圖書區右方14號櫃前天花板)', 'LAT': '25.140952', 'LNG': '121.489538', '_id': 27}, {'HOTSPOT_TYPE': 'Taipei Free免費無線上網熱點(室內)', 'HOTSPOT_NAME': '稻香分館', 'STATUS': '0', 'AREA': '圖書館', 'AP_ID': 'BT030022', 'ADDRESS': '臺北市北投區稻香路81號4樓(自修室門口進去約1米半處天花板，自修室入口處)', 'LAT': '25.140952', 'LNG': '121.489534', '_id': 28}, {'HOTSPOT_TYPE': 'Taipei Free免費無線上網熱點(室內)', 'HOTSPOT_NAME': '吉利分館', 'STATUS': '0', 'AREA': '圖書館', 'AP_ID': 'BT030023', 'ADDRESS': '臺北市北投區立農街一段366號6樓(櫃台前方)', 'LAT': '25.11926', 'LNG': '121.50842', '_id': 29}, {'HOTSPOT_TYPE': 'Taipei Free免費無線上網熱點(室內)', 'HOTSPOT_NAME': '關渡醫院', 'STATUS': '0', 'AREA': '關渡醫院', 'AP_ID': 'BT040001', 'ADDRESS': '臺北市北投區知行路225巷12號(1F領藥櫃台內天花板)', 'LAT': '25.12042', 'LNG': '121.4663', '_id': 30}, {'HOTSPOT_TYPE': 'Taipei Free免費無線上網熱點(室內)', 'HOTSPOT_NAME': '關渡醫院', 'STATUS': '0', 'AREA': '關渡醫院', 'AP_ID': 'BT040002', 'ADDRESS': '臺北市北投區知行路225巷12號(1F急診大廳中央天花板)', 'LAT': '25.12045', 'LNG': '121.4664', '_id': 31}, {'HOTSPOT_TYPE': 'Taipei Free免費無線上網熱點(室內)', 'HOTSPOT_NAME': '關渡醫院', 'STATUS': '0', 'AREA': '關渡醫院', 'AP_ID': 'BT040003', 'ADDRESS': '臺北市北投區知行路225巷12號(1F等候大廳中央天花板)', 'LAT': '25.12049', 'LNG': '121.4664', '_id': 32}, {'HOTSPOT_TYPE': 'Taipei Free免費無線上網熱點(室內)', 'HOTSPOT_NAME': '關渡醫院', 'STATUS': '0', 'AREA': '關渡醫院', 'AP_ID': 'BT040004', 'ADDRESS': '臺北市北投區知行路225巷12號(1FX光掛號台前天花板)', 'LAT': '25.1204', 'LNG': '121.4663', '_id': 33}, {'HOTSPOT_TYPE': 'Taipei Free免費無線上網熱點(室內)', 'HOTSPOT_NAME': '關渡醫院', 'STATUS': '0', 'AREA': '關渡醫院', 'AP_ID': 'BT040005', 'ADDRESS': '臺北市北投區知行路225巷12號(2F隔離病房護理站前天花板)', 'LAT': '25.12052', 'LNG': '121.4663', '_id': 34}, {'HOTSPOT_TYPE': 'Taipei Free免費無線上網熱點(室內)', 'HOTSPOT_NAME': '關渡醫院', 'STATUS': '0', 'AREA': '關渡醫院', 'AP_ID': 'BT040006', 'ADDRESS': '臺北市北投區知行路225巷12號(2F206門診前上方天花板)', 'LAT': '25.12038', 'LNG': '121.4662', '_id': 35}, {'HOTSPOT_TYPE': 'Taipei Free免費無線上網熱點(室內)', 'HOTSPOT_NAME': '關渡醫院', 'STATUS': '0', 'AREA': '關渡醫院', 'AP_ID': 'BT040007', 'ADDRESS': '臺北市北投區知行路225巷12號(2F腎臟科辦公室前天花板)', 'LAT': '25.12056', 'LNG': '121.4662', '_id': 36}, {'HOTSPOT_TYPE': 'Taipei Free免費無線上網熱點(室內)', 'HOTSPOT_NAME': '關渡醫院', 'STATUS': '0', 'AREA': '關渡醫院', 'AP_ID': 'BT040008', 'ADDRESS': '臺北市北投區知行路225巷12號(3F門診等候區中央天花板)', 'LAT': '25.12056', 'LNG': '121.4661', '_id': 37}, {'HOTSPOT_TYPE': 'Taipei Free免費無線上網熱點(室內)', 'HOTSPOT_NAME': '關渡醫院', 'STATUS': '0', 'AREA': '關渡醫院', 'AP_ID': 'BT040009', 'ADDRESS': '臺北市北投區知行路225巷12號(3F復健科內天花板)', 'LAT': '25.12031', 'LNG': '121.4661', '_id': 38}, {'HOTSPOT_TYPE': 'Taipei Free免費無線上網熱點(室內)', 'HOTSPOT_NAME': '捷運北投會館', 'STATUS': '0', 'AREA': '為民服務單位', 'AP_ID': 'BT050013', 'ADDRESS': '臺北市北投區大業路527巷88號(1F房間編號116號前上方天花板)', 'LAT': '25.1347', 'LNG': '121.4836', '_id': 39}, {'HOTSPOT_TYPE': 'Taipei Free免費無線上網熱點(室內)', 'HOTSPOT_NAME': '捷運北投會館', 'STATUS': '0', 'AREA': '為民服務單位', 'AP_ID': 'BT050018', 'ADDRESS': '臺北市北投區大業路527巷88號(B2櫃檯前上方)', 'LAT': '25.13492', 'LNG': '121.4837', '_id': 40}, {'HOTSPOT_TYPE': 'Taipei Free免費無線上網熱點(室內)', 'HOTSPOT_NAME': '捷運北投會館', 'STATUS': '0', 'AREA': '為民服務單位', 'AP_ID': 'BT050047', 'ADDRESS': '臺北市北投區大業路527巷88號B1F(OK便利商店前)', 'LAT': '25.135798', 'LNG': '121.483955', '_id': 41}, {'HOTSPOT_TYPE': 'Taipei Free免費無線上網熱點(室內)', 'HOTSPOT_NAME': '北投垃圾焚化廠', 'STATUS': '0', 'AREA': '垃圾焚化廠', 'AP_ID': 'BT180002', 'ADDRESS': '臺北市北投區洲美街271號(2FK書中心)', 'LAT': '25.107804', 'LNG': '121.500386', '_id': 42}, {'HOTSPOT_TYPE': 'Taipei Free免費無線上網熱點(室內)', 'HOTSPOT_NAME': '北投垃圾焚化廠', 'STATUS': '0', 'AREA': '垃圾焚化廠', 'AP_ID': 'BT180003', 'ADDRESS': '臺北市北投區洲美街271號(2F閱覽室樓梯口正上方)', 'LAT': '25.107804', 'LNG': '121.500384', '_id': 43}, {'HOTSPOT_TYPE': 'Taipei Free免費無線上網熱點(室內)', 'HOTSPOT_NAME': '關渡水岸公園自行車租借站', 'STATUS': '0', 'AREA': '自行車租借站', 'AP_ID': 'BT220002', 'ADDRESS': '臺北市北投區知行路，關渡宮北側，關渡碼頭旁(租借站內櫃台桌上)', 'LAT': '25.116998', 'LNG': '121.463461', '_id': 44}, {'HOTSPOT_TYPE': 'Taipei Free免費無線上網熱點(室內)', 'HOTSPOT_NAME': '北投分處', 'STATUS': '0', 'AREA': '稅捐稽徵處', 'AP_ID': 'BT220009', 'ADDRESS': '臺北市北投區新市街30號3樓(北投分處辦公區後方櫃上)', 'LAT': '25.132679', 'LNG': '121.502693', '_id': 45}, {'HOTSPOT_TYPE': 'Taipei Free免費無線上網熱點(室內)', 'HOTSPOT_NAME': '浩然敬老院-致中樓', 'STATUS': '0', 'AREA': '為民服務單位', 'AP_ID': 'BT220025', 'ADDRESS': '臺北市北投區知行路75號(1F陶藝教室內)', 'LAT': '25.118366', 'LNG': '121.467736', '_id': 46}, {'HOTSPOT_TYPE': 'Taipei Free免費無線上網熱點(室內)', 'HOTSPOT_NAME': '陽明山臻愛樓', 'STATUS': '0', 'AREA': '殯葬管理處', 'AP_ID': 'BT220039', 'ADDRESS': '臺北市北投區泉源路220號(陽明山臻愛樓一樓中央天花板上)', 'LAT': '25.14203', 'LNG': '121.527475', '_id': 47}, {'HOTSPOT_TYPE': 'Taipei Free免費無線上網熱點(室內)', 'HOTSPOT_NAME': '捷運石牌站轉乘停車場', 'STATUS': '0', 'AREA': '捷運停車場', 'AP_ID': 'BT240004', 'ADDRESS': '臺北市北投區石牌路一段200號(收費票亭牆上)', 'LAT': '25.11641', 'LNG': '121.5142', '_id': 48}, {'HOTSPOT_TYPE': 'Taipei Free免費無線上網熱點(室內)', 'HOTSPOT_NAME': '捷運北投站轉乘停車場', 'STATUS': '0', 'AREA': '捷運停車場', 'AP_ID': 'BT240005', 'ADDRESS': '臺北市北投區光明路1號(收費票亭牆上)', 'LAT': '25.13053', 'LNG': '121.4996', '_id': 49}, {'HOTSPOT_TYPE': 'Taipei Free免費無線上網熱點(室內)', 'HOTSPOT_NAME': '北投文化區民活動中心', 'STATUS': '0', 'AREA': '區民活動中心', 'AP_ID': 'BT300001', 'ADDRESS': '臺北市北投區文化三路3號4,5樓(中央天花板上)', 'LAT': '25.136692', 'LNG': '121.496231', '_id': 50}, {'HOTSPOT_TYPE': 'Taipei Free免費無線上網熱點(室內)', 'HOTSPOT_NAME': '北投關渡區民活動中心', 'STATUS': '0', 'AREA': '區民活動中心', 'AP_ID': 'BT300002', 'ADDRESS': '臺北市北投區大度路3段301巷1號(進去右側上方天花板上)', 'LAT': '25.12311', 'LNG': '121.466321', '_id': 51}, {'HOTSPOT_TYPE': 'Taipei Free免費無線上網熱點(室內)', 'HOTSPOT_NAME': '大安區行政中心', 'STATUS': '0', 'AREA': '區行政中心', 'AP_ID': 'DA020001', 'ADDRESS': '臺北市大安區新生南路二段86號1樓(9號服務台上方)', 'LAT': '25.026421', 'LNG': '121.534511', '_id': 52}, {'HOTSPOT_TYPE': 'Taipei Free免費無線上網熱點(室內)', 'HOTSPOT_NAME': '大安區行政中心', 'STATUS': '0', 'AREA': '區行政中心', 'AP_ID': 'DA020002', 'ADDRESS': '臺北市大安區新生南路二段86號2樓(電梯出來喇叭與電燈中間)', 'LAT': '25.026421', 'LNG': '121.534513', '_id': 53}, {'HOTSPOT_TYPE': 'Taipei Free免費無線上網熱點(室內)', 'HOTSPOT_NAME': '大安區行政中心', 'STATUS': '0', 'AREA': '區行政中心', 'AP_ID': 'DA020003', 'ADDRESS': '臺北市大安區新生南路二段86號3樓(門口進入圓型座位區上方)', 'LAT': '25.026421', 'LNG': '121.534515', '_id': 54}, {'HOTSPOT_TYPE': 'Taipei Free免費無線上網熱點(室內)', 'HOTSPOT_NAME': '大安區行政中心', 'STATUS': '0', 'AREA': '區行政中心', 'AP_ID': 'DA020004', 'ADDRESS': '臺北市大安區新生南路二段86號8樓(進門民眾休息區第一排座位上方)', 'LAT': '25.026421', 'LNG': '121.534517', '_id': 55}, {'HOTSPOT_TYPE': 'Taipei Free免費無線上網熱點(室內)', 'HOTSPOT_NAME': '大安區行政中心', 'STATUS': '0', 'AREA': '區行政中心', 'AP_ID': 'DA020005', 'ADDRESS': '臺北市大安區新生南路二段86號9樓(門口進入右邊第一個通風口旁)', 'LAT': '25.026421', 'LNG': '121.534519', '_id': 56}, {'HOTSPOT_TYPE': 'Taipei Free免費無線上網熱點(室內)', 'HOTSPOT_NAME': '龍安民眾閱覽室', 'STATUS': '0', 'AREA': '閱覽室', 'AP_ID': 'DA030001', 'ADDRESS': '臺北市大安區永康街60號2樓(期刊區上方)', 'LAT': '25.028559', 'LNG': '121.529601', '_id': 57}, {'HOTSPOT_TYPE': 'Taipei Free免費無線上網熱點(室內)', 'HOTSPOT_NAME': '龍安民眾閱覽室', 'STATUS': '0', 'AREA': '閱覽室', 'AP_ID': 'DA030002', 'ADDRESS': '臺北市大安區永康街60號3樓(自修室中央上方處)', 'LAT': '25.028559', 'LNG': '121.529603', '_id': 58}, {'HOTSPOT_TYPE': 'Taipei Free免費無線上網熱點(室內)', 'HOTSPOT_NAME': '道藩分館', 'STATUS': '0', 'AREA': '圖書館', 'AP_ID': 'DA030003', 'ADDRESS': '臺北市大安區辛亥路三段11號3樓(閱覽區後方靠書庫區上方天花板)', 'LAT': '25.021577', 'LNG': '121.544049', '_id': 59}, {'HOTSPOT_TYPE': 'Taipei Free免費無線上網熱點(室內)', 'HOTSPOT_NAME': '道藩分館', 'STATUS': '0', 'AREA': '圖書館', 'AP_ID': 'DA030004', 'ADDRESS': '臺北市大安區辛亥路三段11號3樓(綜合服務台前方資訊檢索區吊牌旁)', 'LAT': '25.021577', 'LNG': '121.544048', '_id': 60}, {'HOTSPOT_TYPE': 'Taipei Free免費無線上網熱點(室內)', 'HOTSPOT_NAME': '大安分館', 'STATUS': '0', 'AREA': '圖書館', 'AP_ID': 'DA030007', 'ADDRESS': '臺北市大安區辛亥路三段223號5樓(自修室之中心位置)', 'LAT': '25.016021', 'LNG': '121.550787', '_id': 61}, {'HOTSPOT_TYPE': 'Taipei Free免費無線上網熱點(室內)', 'HOTSPOT_NAME': '成功民眾閱覽室', 'STATUS': '0', 'AREA': '閱覽室', 'AP_ID': 'DA030009', 'ADDRESS': '臺北市大安區和平東路二段311巷29號4樓(參考資料書櫃4A上方)', 'LAT': '25.025442', 'LNG': '121.545211', '_id': 62}, {'HOTSPOT_TYPE': 'Taipei Free免費無線上網熱點(室內)', 'HOTSPOT_NAME': '延吉民眾閱覽室', 'STATUS': '0', 'AREA': '閱覽室', 'AP_ID': 'DA030010', 'ADDRESS': '臺北市大安區延吉街236巷17號3樓(過期報紙區、書庫區與網路查詢區之橫樑上)', 'LAT': '25.036117', 'LNG': '121.555025', '_id': 63}, {'HOTSPOT_TYPE': 'Taipei Free免費無線上網熱點(室內)', 'HOTSPOT_NAME': '延吉民眾閱覽室', 'STATUS': '0', 'AREA': '閱覽室', 'AP_ID': 'DA030011', 'ADDRESS': '臺北市大安區延吉街236巷17號4樓(自修區由大門入口右前方之樑上)', 'LAT': '25.036117', 'LNG': '121.555028', '_id': 64}, {'HOTSPOT_TYPE': 'Taipei Free免費無線上網熱點(室內)', 'HOTSPOT_NAME': '總館', 'STATUS': '0', 'AREA': '圖書館', 'AP_ID': 'DA030012', 'ADDRESS': '臺北市大安區建國南路二段125號10樓(會議室(一)門口與通往館史室、貴賓室之走道轉角處上方)', 'LAT': '25.029152', 'LNG': '121.538368', '_id': 65}, {'HOTSPOT_TYPE': 'Taipei Free免費無線上網熱點(室內)', 'HOTSPOT_NAME': '總館', 'STATUS': '0', 'AREA': '圖書館', 'AP_ID': 'DA030013', 'ADDRESS': '臺北市大安區建國南路二段125號11樓(往研習教室之走道轉角處上方位置)', 'LAT': '25.029152', 'LNG': '121.538367', '_id': 66}, {'HOTSPOT_TYPE': 'Taipei Free免費無線上網熱點(室內)', 'HOTSPOT_NAME': '總館', 'STATUS': '0', 'AREA': '圖書館', 'AP_ID': 'DA030014', 'ADDRESS': '臺北市大安區建國南路二段125號1樓(大門入口處右前方之樑柱上方位置)', 'LAT': '25.029152', 'LNG': '121.538366', '_id': 67}, {'HOTSPOT_TYPE': 'Taipei Free免費無線上網熱點(室內)', 'HOTSPOT_NAME': '總館', 'STATUS': '0', 'AREA': '圖書館', 'AP_ID': 'DA030015', 'ADDRESS': '臺北市大安區建國南路二段125號2樓(期刊室內後方往盥洗室之樑柱上)', 'LAT': '25.029151', 'LNG': '121.538369', '_id': 68}, {'HOTSPOT_TYPE': 'Taipei Free免費無線上網熱點(室內)', 'HOTSPOT_NAME': '總館', 'STATUS': '0', 'AREA': '圖書館', 'AP_ID': 'DA030016', 'ADDRESS': '臺北市大安區建國南路二段125號3樓(諮詢服務課內之自修區後方之樑柱上)', 'LAT': '25.029153', 'LNG': '121.538369', '_id': 69}, {'HOTSPOT_TYPE': 'Taipei Free免費無線上網熱點(室內)', 'HOTSPOT_NAME': '總館', 'STATUS': '0', 'AREA': '圖書館', 'AP_ID': 'DA030017', 'ADDRESS': '臺北市大安區建國南路二段125號4樓(閱覽室(一)內之自修區後方之樑柱上)', 'LAT': '25.029154', 'LNG': '121.538369', '_id': 70}, {'HOTSPOT_TYPE': 'Taipei Free免費無線上網熱點(室內)', 'HOTSPOT_NAME': '總館', 'STATUS': '0', 'AREA': '圖書館', 'AP_ID': 'DA030018', 'ADDRESS': '臺北市大安區建國南路二段125號5樓(閱覽室(二)內之自修區後方之樑柱上)', 'LAT': '25.029155', 'LNG': '121.538369', '_id': 71}, {'HOTSPOT_TYPE': 'Taipei Free免費無線上網熱點(室內)', 'HOTSPOT_NAME': '總館', 'STATUS': '0', 'AREA': '圖書館', 'AP_ID': 'DA030019', 'ADDRESS': '臺北市大安區建國南路二段125號6樓(閱覽室(三)內之自修區後方之樑柱上)', 'LAT': '25.029158', 'LNG': '121.538369', '_id': 72}, {'HOTSPOT_TYPE': 'Taipei Free免費無線上網熱點(室內)', 'HOTSPOT_NAME': '總館', 'STATUS': '0', 'AREA': '圖書館', 'AP_ID': 'DA030020', 'ADDRESS': '臺北市大安區建國南路二段125號9樓(原住民資料區中央上方)', 'LAT': '25.029158', 'LNG': '121.538368', '_id': 73}, {'HOTSPOT_TYPE': 'Taipei Free免費無線上網熱點(室內)', 'HOTSPOT_NAME': '總館', 'STATUS': '0', 'AREA': '圖書館', 'AP_ID': 'DA030021', 'ADDRESS': '臺北市大安區建國南路二段125號B1(兒童圖書區內指示牌前方造景樑柱上)', 'LAT': '25.029158', 'LNG': '121.538367', '_id': 74}, {'HOTSPOT_TYPE': 'Taipei Free免費無線上網熱點(室內)', 'HOTSPOT_NAME': '總館', 'STATUS': '0', 'AREA': '圖書館', 'AP_ID': 'DA030022', 'ADDRESS': '臺北市大安區建國南路二段125號B2(服務檯後方之天花板上)', 'LAT': '25.029154', 'LNG': '121.538367', '_id': 75}, {'HOTSPOT_TYPE': 'Taipei Free免費無線上網熱點(室內)', 'HOTSPOT_NAME': '總館', 'STATUS': '0', 'AREA': '圖書館', 'AP_ID': 'DA030023', 'ADDRESS': '臺北市大安區建國南路二段125號(8F資訊視聽走道造型橫木上)', 'LAT': '25.029152', 'LNG': '121.538369', '_id': 76}, {'HOTSPOT_TYPE': 'Taipei Free免費無線上網熱點(室內)', 'HOTSPOT_NAME': '大安分館', 'STATUS': '0', 'AREA': '圖書館', 'AP_ID': 'DA030024', 'ADDRESS': '臺北市大安區辛亥路三段223號5樓(筆電區上方)', 'LAT': '25.016029', 'LNG': '121.550788', '_id': 77}, {'HOTSPOT_TYPE': 'Taipei Free免費無線上網熱點(室內)', 'HOTSPOT_NAME': '仁愛院區', 'STATUS': '0', 'AREA': '仁愛院區', 'AP_ID': 'DA040001', 'ADDRESS': '臺北市大安區仁愛路四段10號(南棟大樓1樓(大門口中間【牙科】))', 'LAT': '25.037513', 'LNG': '121.545219', '_id': 78}, {'HOTSPOT_TYPE': 'Taipei Free免費無線上網熱點(室內)', 'HOTSPOT_NAME': '仁愛院區', 'STATUS': '0', 'AREA': '仁愛院區', 'AP_ID': 'DA040005', 'ADDRESS': '臺北市大安區仁愛路四段10號10樓(東側1025病房前上方)', 'LAT': '25.037513', 'LNG': '121.545211', '_id': 79}, {'HOTSPOT_TYPE': 'Taipei Free免費無線上網熱點(室內)', 'HOTSPOT_NAME': '仁愛院區', 'STATUS': '0', 'AREA': '仁愛院區', 'AP_ID': 'DA040006', 'ADDRESS': '臺北市大安區仁愛路四段10號10樓(東側餐飲區中間上方)', 'LAT': '25.037512', 'LNG': '121.545211', '_id': 80}, {'HOTSPOT_TYPE': 'Taipei Free免費無線上網熱點(室內)', 'HOTSPOT_NAME': '仁愛院區', 'STATUS': '0', 'AREA': '仁愛院區', 'AP_ID': 'DA040007', 'ADDRESS': '臺北市大安區仁愛路四段10號10樓(東側骨質密度檢查室前上方)', 'LAT': '25.037514', 'LNG': '121.545219', '_id': 81}, {'HOTSPOT_TYPE': 'Taipei Free免費無線上網熱點(室內)', 'HOTSPOT_NAME': '仁愛院區', 'STATUS': '0', 'AREA': '仁愛院區', 'AP_ID': 'DA040013', 'ADDRESS': '臺北市大安區仁愛路四段10號1樓(5號批價櫃台裡上方)', 'LAT': '25.037421', 'LNG': '121.544785', '_id': 82}, {'HOTSPOT_TYPE': 'Taipei Free免費無線上網熱點(室內)', 'HOTSPOT_NAME': '仁愛院區', 'STATUS': '0', 'AREA': '仁愛院區', 'AP_ID': 'DA040014', 'ADDRESS': '臺北市大安區仁愛路四段10號1樓(電梯往西側方向之急診室櫃台)', 'LAT': '25.037421', 'LNG': '121.544783', '_id': 83}, {'HOTSPOT_TYPE': 'Taipei Free免費無線上網熱點(室內)', 'HOTSPOT_NAME': '仁愛院區', 'STATUS': '0', 'AREA': '仁愛院區', 'AP_ID': 'DA040015', 'ADDRESS': '臺北市大安區仁愛路四段10號1樓(復建科內實習學生室前上方)', 'LAT': '25.037421', 'LNG': '121.544781', '_id': 84}, {'HOTSPOT_TYPE': 'Taipei Free免費無線上網熱點(室內)', 'HOTSPOT_NAME': '仁愛院區', 'STATUS': '0', 'AREA': '仁愛院區', 'AP_ID': 'DA040016', 'ADDRESS': '臺北市大安區仁愛路四段10號1樓(電梯靠近大門之電話亭前靠電梯天花板上方)', 'LAT': '25.037421', 'LNG': '121.544789', '_id': 85}, {'HOTSPOT_TYPE': 'Taipei Free免費無線上網熱點(室內)', 'HOTSPOT_NAME': '仁愛院區', 'STATUS': '0', 'AREA': '仁愛院區', 'AP_ID': 'DA040017', 'ADDRESS': '臺北市大安區仁愛路四段10號2樓(手扶電梯上來柱子左側上方)', 'LAT': '25.037422', 'LNG': '121.544789', '_id': 86}, {'HOTSPOT_TYPE': 'Taipei Free免費無線上網熱點(室內)', 'HOTSPOT_NAME': '仁愛院區', 'STATUS': '0', 'AREA': '仁愛院區', 'AP_ID': 'DA040018', 'ADDRESS': '臺北市大安區仁愛路四段10號2樓(高齡身心科32診上方)', 'LAT': '25.037423', 'LNG': '121.544787', '_id': 87}, {'HOTSPOT_TYPE': 'Taipei Free免費無線上網熱點(室內)', 'HOTSPOT_NAME': '仁愛院區', 'STATUS': '0', 'AREA': '仁愛院區', 'AP_ID': 'DA040019', 'ADDRESS': '臺北市大安區仁愛路四段10號2樓(雷射美容醫學門診前上方)', 'LAT': '25.037425', 'LNG': '121.544787', '_id': 88}, {'HOTSPOT_TYPE': 'Taipei Free免費無線上網熱點(室內)', 'HOTSPOT_NAME': '仁愛院區', 'STATUS': '0', 'AREA': '仁愛院區', 'AP_ID': 'DA040020', 'ADDRESS': '臺北市大安區仁愛路四段10號2樓(胸腔內科16診前座位區上方)', 'LAT': '25.037425', 'LNG': '121.544783', '_id': 89}, {'HOTSPOT_TYPE': 'Taipei Free免費無線上網熱點(室內)', 'HOTSPOT_NAME': '仁愛院區', 'STATUS': '0', 'AREA': '仁愛院區', 'AP_ID': 'DA040021', 'ADDRESS': '臺北市大安區仁愛路四段10號2樓(神經內科3診前座位區上方)', 'LAT': '25.037429', 'LNG': '121.544787', '_id': 90}, {'HOTSPOT_TYPE': 'Taipei Free免費無線上網熱點(室內)', 'HOTSPOT_NAME': '仁愛院區', 'STATUS': '0', 'AREA': '仁愛院區', 'AP_ID': 'DA040022', 'ADDRESS': '臺北市大安區仁愛路四段10號2樓(電梯往東側之耳鼻喉科內座位區上方)', 'LAT': '25.037323', 'LNG': '121.545171', '_id': 91}, {'HOTSPOT_TYPE': 'Taipei Free免費無線上網熱點(室內)', 'HOTSPOT_NAME': '仁愛院區', 'STATUS': '0', 'AREA': '仁愛院區', 'AP_ID': 'DA040023', 'ADDRESS': '臺北市大安區仁愛路四段10號2樓(電梯往東側之眼科候診內第一診療室門口前)', 'LAT': '25.037323', 'LNG': '121.545173', '_id': 92}, {'HOTSPOT_TYPE': 'Taipei Free免費無線上網熱點(室內)', 'HOTSPOT_NAME': '仁愛院區', 'STATUS': '0', 'AREA': '仁愛院區', 'AP_ID': 'DA040024', 'ADDRESS': '臺北市大安區仁愛路四段10號2樓(外科2診前座位區中間上方)', 'LAT': '25.037323', 'LNG': '121.545175', '_id': 93}, {'HOTSPOT_TYPE': 'Taipei Free免費無線上網熱點(室內)', 'HOTSPOT_NAME': '仁愛院區', 'STATUS': '0', 'AREA': '仁愛院區', 'AP_ID': 'DA040026', 'ADDRESS': '臺北市大安區仁愛路四段10號3樓(東側電梯右邊座位區上方)', 'LAT': '25.037323', 'LNG': '121.545177', '_id': 94}, {'HOTSPOT_TYPE': 'Taipei Free免費無線上網熱點(室內)', 'HOTSPOT_NAME': '仁愛院區', 'STATUS': '0', 'AREA': '仁愛院區', 'AP_ID': 'DA040027', 'ADDRESS': '臺北市大安區仁愛路四段10號5樓(5西540病房前上方)', 'LAT': '25.037323', 'LNG': '121.545179', '_id': 95}, {'HOTSPOT_TYPE': 'Taipei Free免費無線上網熱點(室內)', 'HOTSPOT_NAME': '仁愛院區', 'STATUS': '0', 'AREA': '仁愛院區', 'AP_ID': 'DA040028', 'ADDRESS': '臺北市大安區仁愛路四段10號5樓(往西側護理站櫃台前)', 'LAT': '25.037325', 'LNG': '121.545171', '_id': 96}, {'HOTSPOT_TYPE': 'Taipei Free免費無線上網熱點(室內)', 'HOTSPOT_NAME': '仁愛院區', 'STATUS': '0', 'AREA': '仁愛院區', 'AP_ID': 'DA040029', 'ADDRESS': '臺北市大安區仁愛路四段10號6樓(護理站旁天花板)', 'LAT': '25.037327', 'LNG': '121.545171', '_id': 97}, {'HOTSPOT_TYPE': 'Taipei Free免費無線上網熱點(室內)', 'HOTSPOT_NAME': '仁愛院區', 'STATUS': '0', 'AREA': '仁愛院區', 'AP_ID': 'DA040030', 'ADDRESS': '臺北市大安區仁愛路四段10號6樓(630病房旁天花板)', 'LAT': '25.037329', 'LNG': '121.545171', '_id': 98}, {'HOTSPOT_TYPE': 'Taipei Free免費無線上網熱點(室內)', 'HOTSPOT_NAME': '仁愛院區', 'STATUS': '0', 'AREA': '仁愛院區', 'AP_ID': 'DA040031', 'ADDRESS': '臺北市大安區仁愛路四段10號6樓(6東共同檢查室暨會談室前上方)', 'LAT': '25.037321', 'LNG': '121.545171', '_id': 99}, {'HOTSPOT_TYPE': 'Taipei Free免費無線上網熱點(室內)', 'HOTSPOT_NAME': '仁愛院區', 'STATUS': '0', 'AREA': '仁愛院區', 'AP_ID': 'DA040032', 'ADDRESS': '臺北市大安區仁愛路四段10號6樓(6東627病房與護理站間上方)', 'LAT': '25.037371', 'LNG': '121.545431', '_id': 100}, {'HOTSPOT_TYPE': 'Taipei Free免費無線上網熱點(室內)', 'HOTSPOT_NAME': '仁愛院區', 'STATUS': '0', 'AREA': '仁愛院區', 'AP_ID': 'DA040033', 'ADDRESS': '臺北市大安區仁愛路四段10號6樓(往東側大門口進去之護理站前偏605病房上方)', 'LAT': '25.037371', 'LNG': '121.545433', '_id': 101}, {'HOTSPOT_TYPE': 'Taipei Free免費無線上網熱點(室內)', 'HOTSPOT_NAME': '仁愛院區', 'STATUS': '0', 'AREA': '仁愛院區', 'AP_ID': 'DA040035', 'ADDRESS': '臺北市大安區仁愛路四段10號7樓(往西側大門口進去之護理站右邊走廊中央走道、736病房前)', 'LAT': '25.037371', 'LNG': '121.545435', '_id': 102}, {'HOTSPOT_TYPE': 'Taipei Free免費無線上網熱點(室內)', 'HOTSPOT_NAME': '仁愛院區', 'STATUS': '0', 'AREA': '仁愛院區', 'AP_ID': 'DA040037', 'ADDRESS': '臺北市大安區仁愛路四段10號7樓(往西側大門護理站前)', 'LAT': '25.037371', 'LNG': '121.545437', '_id': 103}, {'HOTSPOT_TYPE': 'Taipei Free免費無線上網熱點(室內)', 'HOTSPOT_NAME': '仁愛院區', 'STATUS': '0', 'AREA': '仁愛院區', 'AP_ID': 'DA040038', 'ADDRESS': '臺北市大安區仁愛路四段10號7樓(往東側大門進入護理站左邊走廊之血管檢查室)', 'LAT': '25.037371', 'LNG': '121.545438', '_id': 104}, {'HOTSPOT_TYPE': 'Taipei Free免費無線上網熱點(室內)', 'HOTSPOT_NAME': '仁愛院區', 'STATUS': '0', 'AREA': '仁愛院區', 'AP_ID': 'DA040039', 'ADDRESS': '臺北市大安區仁愛路四段10號7樓(東側725病房前上方)', 'LAT': '25.037372', 'LNG': '121.545431', '_id': 105}, {'HOTSPOT_TYPE': 'Taipei Free免費無線上網熱點(室內)', 'HOTSPOT_NAME': '仁愛院區', 'STATUS': '0', 'AREA': '仁愛院區', 'AP_ID': 'DA040040', 'ADDRESS': '臺北市大安區仁愛路四段10號7樓(往東側大門進入護理站前)', 'LAT': '25.037375', 'LNG': '121.545431', '_id': 106}, {'HOTSPOT_TYPE': 'Taipei Free免費無線上網熱點(室內)', 'HOTSPOT_NAME': '仁愛院區', 'STATUS': '0', 'AREA': '仁愛院區', 'AP_ID': 'DA040044', 'ADDRESS': '臺北市大安區仁愛路四段10號8樓(往東側大門進入護理站前中間上方)', 'LAT': '25.037222', 'LNG': '121.545564', '_id': 107}, {'HOTSPOT_TYPE': 'Taipei Free免費無線上網熱點(室內)', 'HOTSPOT_NAME': '仁愛院區', 'STATUS': '0', 'AREA': '仁愛院區', 'AP_ID': 'DA040046', 'ADDRESS': '臺北市大安區仁愛路四段10號9樓(9西916病房前天花板)', 'LAT': '25.037222', 'LNG': '121.545568', '_id': 108}, {'HOTSPOT_TYPE': 'Taipei Free免費無線上網熱點(室內)', 'HOTSPOT_NAME': '仁愛院區', 'STATUS': '0', 'AREA': '仁愛院區', 'AP_ID': 'DA040047', 'ADDRESS': '臺北市大安區仁愛路四段10號9樓(東側913病房與e/c室間上方)', 'LAT': '25.037222', 'LNG': '121.545562', '_id': 109}, {'HOTSPOT_TYPE': 'Taipei Free免費無線上網熱點(室內)', 'HOTSPOT_NAME': '仁愛院區', 'STATUS': '0', 'AREA': '仁愛院區', 'AP_ID': 'DA040048', 'ADDRESS': '臺北市大安區仁愛路四段10號9樓(往東側大門進入護理站左邊走廊之937病房)', 'LAT': '25.037222', 'LNG': '121.545561', '_id': 110}, {'HOTSPOT_TYPE': 'Taipei Free免費無線上網熱點(室內)', 'HOTSPOT_NAME': '仁愛院區', 'STATUS': '0', 'AREA': '仁愛院區', 'AP_ID': 'DA040049', 'ADDRESS': '臺北市大安區仁愛路四段10號9樓(東側護理站前)', 'LAT': '25.037224', 'LNG': '121.545564', '_id': 111}, {'HOTSPOT_TYPE': 'Taipei Free免費無線上網熱點(室內)', 'HOTSPOT_NAME': '仁愛院區', 'STATUS': '0', 'AREA': '仁愛院區', 'AP_ID': 'DA040050', 'ADDRESS': '臺北市大安區仁愛路四段10號9樓(9西948病房前上方)', 'LAT': '25.037226', 'LNG': '121.545564', '_id': 112}, {'HOTSPOT_TYPE': 'Taipei Free免費無線上網熱點(室內)', 'HOTSPOT_NAME': '仁愛院區', 'STATUS': '0', 'AREA': '仁愛院區', 'AP_ID': 'DA040053', 'ADDRESS': '臺北市大安區仁愛路四段10號4樓(馨悅03號病房門口上方天花板內)', 'LAT': '25.037207', 'LNG': '121.545125', '_id': 113}, {'HOTSPOT_TYPE': 'Taipei Free免費無線上網熱點(室內)', 'HOTSPOT_NAME': '仁愛院區', 'STATUS': '0', 'AREA': '仁愛院區', 'AP_ID': 'DA040054', 'ADDRESS': '臺北市大安區仁愛路四段10號4樓(412房門口上方天花板內)', 'LAT': '25.037207', 'LNG': '121.545127', '_id': 114}, {'HOTSPOT_TYPE': 'Taipei Free免費無線上網熱點(室內)', 'HOTSPOT_NAME': '仁愛院區', 'STATUS': '0', 'AREA': '仁愛院區', 'AP_ID': 'DA040055', 'ADDRESS': '臺北市大安區仁愛路四段10號4樓(420房門口上方天花板內)', 'LAT': '25.037207', 'LNG': '121.545129', '_id': 115}, {'HOTSPOT_TYPE': 'Taipei Free免費無線上網熱點(室內)', 'HOTSPOT_NAME': '仁愛院區', 'STATUS': '0', 'AREA': '仁愛院區', 'AP_ID': 'DA040056', 'ADDRESS': '臺北市大安區仁愛路四段10號4樓(428病房前上方天花板內)', 'LAT': '25.037205', 'LNG': '121.545123', '_id': 116}, {'HOTSPOT_TYPE': 'Taipei Free免費無線上網熱點(室內)', 'HOTSPOT_NAME': '仁愛院區', 'STATUS': '0', 'AREA': '仁愛院區', 'AP_ID': 'DA040057', 'ADDRESS': '臺北市大安區仁愛路四段10號4樓(452房門口上方天花板內)', 'LAT': '25.037512', 'LNG': '121.545224', '_id': 117}, {'HOTSPOT_TYPE': 'Taipei Free免費無線上網熱點(室內)', 'HOTSPOT_NAME': '永康夜市', 'STATUS': '0', 'AREA': '觀光夜市', 'AP_ID': 'DA080001', 'ADDRESS': '臺北市大安區永康街43號(OMNI，門市外側邊外牆)', 'LAT': '25.030427', 'LNG': '121.529595', '_id': 118}, {'HOTSPOT_TYPE': 'Taipei Free免費無線上網熱點(室內)', 'HOTSPOT_NAME': '大安地政事務所', 'STATUS': '0', 'AREA': '地政事務所', 'AP_ID': 'DA180001', 'ADDRESS': '臺北市大安區信義路四段335巷6號(入口左上方)', 'LAT': '25.033828', 'LNG': '121.556438', '_id': 119}, {'HOTSPOT_TYPE': 'Taipei Free免費無線上網熱點(室內)', 'HOTSPOT_NAME': '大安地政事務所', 'STATUS': '0', 'AREA': '地政事務所', 'AP_ID': 'DA180002', 'ADDRESS': '臺北市大安區信義路四段335巷6號(民眾休息區)', 'LAT': '25.033828', 'LNG': '121.556436', '_id': 120}, {'HOTSPOT_TYPE': 'Taipei Free免費無線上網熱點(室內)', 'HOTSPOT_NAME': '自來水事業處客服中心', 'STATUS': '0', 'AREA': '自來水事業處', 'AP_ID': 'DA220001', 'ADDRESS': '臺北市大安區長興街131號1樓(服務台內鐵櫃旁)', 'LAT': '25.014249', 'LNG': '121.547894', '_id': 121}, {'HOTSPOT_TYPE': 'Taipei Free免費無線上網熱點(室內)', 'HOTSPOT_NAME': '第二殯儀館', 'STATUS': '0', 'AREA': '殯葬管理處', 'AP_ID': 'DA220005', 'ADDRESS': '臺北市大安區辛亥路三段330號(2F咖啡吧檯內)', 'LAT': '25.013753', 'LNG': '121.5530397', '_id': 122}, {'HOTSPOT_TYPE': 'Taipei Free免費無線上網熱點(室內)', 'HOTSPOT_NAME': '大安錦安區民活動中心', 'STATUS': '0', 'AREA': '區民活動中心', 'AP_ID': 'DA220006', 'ADDRESS': '臺北市大安區永康街60號4樓(活動中心中央天花板)', 'LAT': '25.028557', 'LNG': '121.529601', '_id': 123}, {'HOTSPOT_TYPE': 'Taipei Free免費無線上網熱點(室內)', 'HOTSPOT_NAME': '大安錦安區民活動中心', 'STATUS': '0', 'AREA': '區民活動中心', 'AP_ID': 'DA220007', 'ADDRESS': '臺北市大安區和平東路一段121號B2(門口進入教室中央天花板)', 'LAT': '25.026943', 'LNG': '121.527267', '_id': 124}, {'HOTSPOT_TYPE': 'Taipei Free免費無線上網熱點(室內)', 'HOTSPOT_NAME': '大安錦安二區民活動中心', 'STATUS': '0', 'AREA': '區民活動中心', 'AP_ID': 'DA220008', 'ADDRESS': '臺北市大安區和平東路一段121號B2(門口進入左側房間中央天花板)', 'LAT': '25.028558', 'LNG': '121.529601', '_id': 125}, {'HOTSPOT_TYPE': 'Taipei Free免費無線上網熱點(室內)', 'HOTSPOT_NAME': '客委會-客家文化會館', 'STATUS': '0', 'AREA': '文化場館', 'AP_ID': 'DA220014', 'ADDRESS': '臺北市大安區信義路三段157巷11號(4樓教室)', 'LAT': '25.034527', 'LNG': '121.543058', '_id': 126}, {'HOTSPOT_TYPE': 'Taipei Free免費無線上網熱點(室內)', 'HOTSPOT_NAME': '第二殯儀館', 'STATUS': '0', 'AREA': '殯葬管理處', 'AP_ID': 'DA220018', 'ADDRESS': '臺北市大安區辛亥路三段330號(火葬場內櫃檯旁天花板)', 'LAT': '25.013756', 'LNG': '121.553031', '_id': 127}, {'HOTSPOT_TYPE': 'Taipei Free免費無線上網熱點(室內)', 'HOTSPOT_NAME': '群英里社區關懷據點', 'STATUS': '0', 'AREA': '為民服務單位', 'AP_ID': 'DA220023', 'ADDRESS': '臺北市大安區四維路198巷30弄4號(房間上方)', 'LAT': '25.027335', 'LNG': '121.545999', '_id': 128}, {'HOTSPOT_TYPE': 'Taipei Free免費無線上網熱點(室內)', 'HOTSPOT_NAME': '群英里社區關懷據點', 'STATUS': '0', 'AREA': '為民服務單位', 'AP_ID': 'DA220024', 'ADDRESS': '臺北市大安區四維路198巷30弄8號(房間上方)', 'LAT': '25.026522', 'LNG': '121.546022', '_id': 129}, {'HOTSPOT_TYPE': 'Taipei Free免費無線上網熱點(室內)', 'HOTSPOT_NAME': '第二殯儀館(景仰樓)', 'STATUS': '0', 'AREA': '殯葬管理處', 'AP_ID': 'DA220025', 'ADDRESS': '臺北市大安區辛亥路三段330號1樓(聯合服務中心旁機櫃上方)', 'LAT': '25.013756', 'LNG': '121.553031', '_id': 130}, {'HOTSPOT_TYPE': 'Taipei Free免費無線上網熱點(室內)', 'HOTSPOT_NAME': '第二殯儀館(景仰樓)', 'STATUS': '0', 'AREA': '殯葬管理處', 'AP_ID': 'DA220026', 'ADDRESS': '臺北市大安區辛亥路三段330號1樓(第二廳電子輓聯上方)', 'LAT': '25.013756', 'LNG': '121.553031', '_id': 131}, {'HOTSPOT_TYPE': 'Taipei Free免費無線上網熱點(室內)', 'HOTSPOT_NAME': '第二殯儀館(景仰樓)', 'STATUS': '0', 'AREA': '殯葬管理處', 'AP_ID': 'DA220027', 'ADDRESS': '臺北市大安區辛亥路三段330號2樓(第五廳電子輓聯上方)', 'LAT': '25.013756', 'LNG': '121.55303', '_id': 132}, {'HOTSPOT_TYPE': 'Taipei Free免費無線上網熱點(室內)', 'HOTSPOT_NAME': '第二殯儀館(景仰樓)', 'STATUS': '0', 'AREA': '殯葬管理處', 'AP_ID': 'DA220028', 'ADDRESS': '臺北市大安區辛亥路三段330號3樓(第十聽電子輓聯上方)', 'LAT': '25.013756', 'LNG': '121.553031', '_id': 133}, {'HOTSPOT_TYPE': 'Taipei Free免費無線上網熱點(室內)', 'HOTSPOT_NAME': '博嘉區民活動中心', 'STATUS': '0', 'AREA': '區民活動中心', 'AP_ID': 'DA220029', 'ADDRESS': '臺北市文山區木柵路四段157-1號1樓', 'LAT': '24.99974', 'LNG': '121.575449', '_id': 134}, {'HOTSPOT_TYPE': 'Taipei Free免費無線上網熱點(室內)', 'HOTSPOT_NAME': '成功市場', 'STATUS': '0', 'AREA': '市集', 'AP_ID': 'DA230005', 'ADDRESS': '臺北市大安區四維路192巷(臨時棚攤A003攤位前)', 'LAT': '25.026911', 'LNG': '121.54766', '_id': 135}, {'HOTSPOT_TYPE': 'Taipei Free免費無線上網熱點(室內)', 'HOTSPOT_NAME': '成功市場', 'STATUS': '0', 'AREA': '市集', 'AP_ID': 'DA230006', 'ADDRESS': '臺北市大安區四維路192巷(臨時棚攤020攤位前)', 'LAT': '25.026923', 'LNG': '121.54727', '_id': 136}, {'HOTSPOT_TYPE': 'Taipei Free免費無線上網熱點(室內)', 'HOTSPOT_NAME': '成功市場', 'STATUS': '0', 'AREA': '市集', 'AP_ID': 'DA230007', 'ADDRESS': '臺北市大安區四維路192巷(臨時棚攤B003攤位前)', 'LAT': '25.026931', 'LNG': '121.547', '_id': 137}, {'HOTSPOT_TYPE': 'Taipei Free免費無線上網熱點(室內)', 'HOTSPOT_NAME': '成功市場', 'STATUS': '0', 'AREA': '市集', 'AP_ID': 'DA230008', 'ADDRESS': '臺北市大安區四維路192巷(臨時棚攤土地公前)', 'LAT': '25.026871', 'LNG': '121.54719', '_id': 138}, {'HOTSPOT_TYPE': 'Taipei Free免費無線上網熱點(室內)', 'HOTSPOT_NAME': '成功市場', 'STATUS': '0', 'AREA': '市集', 'AP_ID': 'DA230009', 'ADDRESS': '臺北市大安區四維路192巷(臨時棚攤104攤位前)', 'LAT': '25.027008', 'LNG': '121.54735', '_id': 139}, {'HOTSPOT_TYPE': 'Taipei Free免費無線上網熱點(室內)', 'HOTSPOT_NAME': '成功市場', 'STATUS': '0', 'AREA': '市集', 'AP_ID': 'DA230010', 'ADDRESS': '臺北市大安區四維路192巷(臨時棚攤31攤位前)', 'LAT': '25.026943', 'LNG': '121.5477', '_id': 140}, {'HOTSPOT_TYPE': 'Taipei Free免費無線上網熱點(室內)', 'HOTSPOT_NAME': '大安光信區民活動中心', 'STATUS': '0', 'AREA': '區民活動中心', 'AP_ID': 'DA300001', 'ADDRESS': '臺北市大安區延吉街236巷17號2樓', 'LAT': '25.036117', 'LNG': '121.555021', '_id': 141}, {'HOTSPOT_TYPE': 'Taipei Free免費無線上網熱點(室內)', 'HOTSPOT_NAME': '大安成功區民活動中心', 'STATUS': '0', 'AREA': '區民活動中心', 'AP_ID': 'DA300002', 'ADDRESS': '臺北市大安區四維路198巷30弄9號(天花板上方)', 'LAT': '25.026305', 'LNG': '121.546098', '_id': 142}, {'HOTSPOT_TYPE': 'Taipei Free免費無線上網熱點(室內)', 'HOTSPOT_NAME': '大安辛亥區民活動中心', 'STATUS': '0', 'AREA': '區民活動中心', 'AP_ID': 'DA300003', 'ADDRESS': '臺北市大安區辛亥路一段臨141號(進門樑柱上方)', 'LAT': '25.021308', 'LNG': '121.53171', '_id': 143}, {'HOTSPOT_TYPE': 'Taipei Free免費無線上網熱點(室內)', 'HOTSPOT_NAME': '大安青峰區民活動中心', 'STATUS': '0', 'AREA': '區民活動中心', 'AP_ID': 'DA300004', 'ADDRESS': '臺北市大安區辛亥路三段223號3樓(舞台中央前五格天花板上)', 'LAT': '25.016023', 'LNG': '121.550788', '_id': 144}, {'HOTSPOT_TYPE': 'Taipei Free免費無線上網熱點(室內)', 'HOTSPOT_NAME': '大安建南區民活動中心', 'STATUS': '0', 'AREA': '區民活動中心', 'AP_ID': 'DA300005', 'ADDRESS': '臺北市大安區信義路三段134巷82號2樓(門口左側第二個窗戶上)', 'LAT': '25.029434', 'LNG': '121.53923', '_id': 145}, {'HOTSPOT_TYPE': 'Taipei Free免費無線上網熱點(室內)', 'HOTSPOT_NAME': '大安通安區民活動中心', 'STATUS': '0', 'AREA': '區民活動中心', 'AP_ID': 'DA300006', 'ADDRESS': '臺北市大安區通安街98號(中央天花板)', 'LAT': '25.029907', 'LNG': '121.553083', '_id': 146}, {'HOTSPOT_TYPE': 'Taipei Free免費無線上網熱點(室內)', 'HOTSPOT_NAME': '大安瑞安區民活動中心', 'STATUS': '0', 'AREA': '區民活動中心', 'AP_ID': 'DA300007', 'ADDRESS': '臺北市大安區瑞安街71巷2號3樓(中央天花板上)', 'LAT': '25.028037', 'LNG': '121.541409', '_id': 147}, {'HOTSPOT_TYPE': 'Taipei Free免費無線上網熱點(室內)', 'HOTSPOT_NAME': '大同區行政中心', 'STATUS': '0', 'AREA': '區行政中心', 'AP_ID': 'DT020001', 'ADDRESS': '臺北市大同區昌吉街57號3樓(戶政事務所12櫃檯前走道與中間大門間，臨柱子處)', 'LAT': '25.06606', 'LNG': '121.515119', '_id': 148}, {'HOTSPOT_TYPE': 'Taipei Free免費無線上網熱點(室內)', 'HOTSPOT_NAME': '大同區行政中心', 'STATUS': '0', 'AREA': '區行政中心', 'AP_ID': 'DT020002', 'ADDRESS': '臺北市大同區昌吉街57號3樓(稅捐稽徵處第一、第二、第三股之等候區沙發正上方)', 'LAT': '25.06606', 'LNG': '121.515117', '_id': 149}, {'HOTSPOT_TYPE': 'Taipei Free免費無線上網熱點(室內)', 'HOTSPOT_NAME': '', 'STATUS': '0', 'AREA': '', 'AP_ID': 'WH160005', 'ADDRESS': '臺北市萬華區西園路一段145號B2(龍山寺文史館24號店鋪)', 'LAT': '25.036045', 'LNG': '121.500095', '_id': 534}, {'HOTSPOT_TYPE': 'Taipei Free免費無線上網熱點(室內)', 'HOTSPOT_NAME': '大同區行政中心', 'STATUS': '0', 'AREA': '區行政中心', 'AP_ID': 'DT020003', 'ADDRESS': '臺北市大同區昌吉街57號4樓(區公所內原住民櫃檯與調解委員會之間中心位置沙發上方)', 'LAT': '25.06606', 'LNG': '121.515115', '_id': 150}, {'HOTSPOT_TYPE': 'Taipei Free免費無線上網熱點(室內)', 'HOTSPOT_NAME': '蘭州民眾閱覽室', 'STATUS': '0', 'AREA': '閱覽室', 'AP_ID': 'DT020004', 'ADDRESS': '臺北市大同區昌吉街57號4樓(蘭州民眾閱覽室內進大門閱覽區第一根、第二根柱子之間中心位置)', 'LAT': '25.06606', 'LNG': '121.515113', '_id': 151}, {'HOTSPOT_TYPE': 'Taipei Free免費無線上網熱點(室內)', 'HOTSPOT_NAME': '建成分館', 'STATUS': '0', 'AREA': '圖書館', 'AP_ID': 'DT030001', 'ADDRESS': '臺北市大同區民生西路198號4樓(多功能活動室旁天方板)', 'LAT': '25.057033', 'LNG': '121.516824', '_id': 152}, {'HOTSPOT_TYPE': 'Taipei Free免費無線上網熱點(室內)', 'HOTSPOT_NAME': '建成分館', 'STATUS': '0', 'AREA': '圖書館', 'AP_ID': 'DT030002', 'ADDRESS': '臺北市大同區民生西路198號4樓(資訊檢索區上方)', 'LAT': '25.057033', 'LNG': '121.516822', '_id': 153}, {'HOTSPOT_TYPE': 'Taipei Free免費無線上網熱點(室內)', 'HOTSPOT_NAME': '建成分館', 'STATUS': '0', 'AREA': '圖書館', 'AP_ID': 'DT030003', 'ADDRESS': '臺北市大同區民生西路198號4樓(筆電區上方)', 'LAT': '25.057033', 'LNG': '121.516828', '_id': 154}, {'HOTSPOT_TYPE': 'Taipei Free免費無線上網熱點(室內)', 'HOTSPOT_NAME': '延平分館', 'STATUS': '0', 'AREA': '圖書館', 'AP_ID': 'DT030004', 'ADDRESS': '臺北市大同區保安街47號4樓(門口進入左邊算起第八盞燈上方偵煙器旁天花板)', 'LAT': '25.059169', 'LNG': '121.512092', '_id': 155}, {'HOTSPOT_TYPE': 'Taipei Free免費無線上網熱點(室內)', 'HOTSPOT_NAME': '延平分館', 'STATUS': '0', 'AREA': '圖書館', 'AP_ID': 'DT030005', 'ADDRESS': '臺北市大同區保安街47號5樓(門口進入中間監視器往左數第6塊天花板)', 'LAT': '25.059169', 'LNG': '121.512094', '_id': 156}, {'HOTSPOT_TYPE': 'Taipei Free免費無線上網熱點(室內)', 'HOTSPOT_NAME': '延平分館', 'STATUS': '0', 'AREA': '圖書館', 'AP_ID': 'DT030006', 'ADDRESS': '臺北市大同區保安街47號6樓(門口進入圖書區牌子旁天花板)', 'LAT': '25.059169', 'LNG': '121.512096', '_id': 157}, {'HOTSPOT_TYPE': 'Taipei Free免費無線上網熱點(室內)', 'HOTSPOT_NAME': '延平分館', 'STATUS': '0', 'AREA': '圖書館', 'AP_ID': 'DT030007', 'ADDRESS': '臺北市大同區保安街47號7樓(電梯口圖書區牌子旁天花板)', 'LAT': '25.059169', 'LNG': '121.512098', '_id': 158}, {'HOTSPOT_TYPE': 'Taipei Free免費無線上網熱點(室內)', 'HOTSPOT_NAME': '延平分館', 'STATUS': '0', 'AREA': '圖書館', 'AP_ID': 'DT030008', 'ADDRESS': '臺北市大同區保安街47號9樓(參考資料區牌子電燈與排風孔旁天花板)', 'LAT': '25.059167', 'LNG': '121.512092', '_id': 159}, {'HOTSPOT_TYPE': 'Taipei Free免費無線上網熱點(室內)', 'HOTSPOT_NAME': '大同分館', 'STATUS': '0', 'AREA': '圖書館', 'AP_ID': 'DT030009', 'ADDRESS': '臺北市大同區重慶北路三段318號(B1視聽室中央天花板)', 'LAT': '25.074304', 'LNG': '121.513555', '_id': 160}, {'HOTSPOT_TYPE': 'Taipei Free免費無線上網熱點(室內)', 'HOTSPOT_NAME': '大同分館', 'STATUS': '0', 'AREA': '圖書館', 'AP_ID': 'DT030010', 'ADDRESS': '臺北市大同區重慶北路三段318號1樓(綜合閱覽室內聽障資料內上方)', 'LAT': '25.074304', 'LNG': '121.513557', '_id': 161}, {'HOTSPOT_TYPE': 'Taipei Free免費無線上網熱點(室內)', 'HOTSPOT_NAME': '大同分館', 'STATUS': '0', 'AREA': '圖書館', 'AP_ID': 'DT030011', 'ADDRESS': '臺北市大同區重慶北路三段318號B1(筆電區上方天花板)', 'LAT': '25.074304', 'LNG': '121.513553', '_id': 162}, {'HOTSPOT_TYPE': 'Taipei Free免費無線上網熱點(室內)', 'HOTSPOT_NAME': '大同分館', 'STATUS': '0', 'AREA': '圖書館', 'AP_ID': 'DT030012', 'ADDRESS': '臺北市大同區重慶北路三段318號B1(自修室直走至內側右後門和最後一根柱子中間位置)', 'LAT': '25.074304', 'LNG': '121.513551', '_id': 163}, {'HOTSPOT_TYPE': 'Taipei Free免費無線上網熱點(室內)', 'HOTSPOT_NAME': '大同分館', 'STATUS': '0', 'AREA': '圖書館', 'AP_ID': 'DT030013', 'ADDRESS': '臺北市大同區重慶北路三段318號B1(樂齡學習中心中央天花板)', 'LAT': '25.074304', 'LNG': '121.513559', '_id': 164}, {'HOTSPOT_TYPE': 'Taipei Free免費無線上網熱點(室內)', 'HOTSPOT_NAME': '中興院區', 'STATUS': '0', 'AREA': '中興院區', 'AP_ID': 'DT040001', 'ADDRESS': '臺北市大同區鄭州路145號10樓(10A1007病房門口上方)', 'LAT': '25.05097', 'LNG': '121.509321', '_id': 165}, {'HOTSPOT_TYPE': 'Taipei Free免費無線上網熱點(室內)', 'HOTSPOT_NAME': '中興院區', 'STATUS': '0', 'AREA': '中興院區', 'AP_ID': 'DT040007', 'ADDRESS': '臺北市大同區鄭州路145號10樓(10C1056病房門口上方)', 'LAT': '25.05097', 'LNG': '121.509323', '_id': 166}, {'HOTSPOT_TYPE': 'Taipei Free免費無線上網熱點(室內)', 'HOTSPOT_NAME': '中興院區', 'STATUS': '0', 'AREA': '中興院區', 'AP_ID': 'DT040008', 'ADDRESS': '臺北市大同區鄭州路145號10樓(10C1070病房門口上方)', 'LAT': '25.05097', 'LNG': '121.509325', '_id': 167}, {'HOTSPOT_TYPE': 'Taipei Free免費無線上網熱點(室內)', 'HOTSPOT_NAME': '中興院區', 'STATUS': '0', 'AREA': '中興院區', 'AP_ID': 'DT040009', 'ADDRESS': '臺北市大同區鄭州路145號10樓(10C護理站內辦公桌正上方)', 'LAT': '25.05097', 'LNG': '121.509327', '_id': 168}, {'HOTSPOT_TYPE': 'Taipei Free免費無線上網熱點(室內)', 'HOTSPOT_NAME': '中興院區', 'STATUS': '0', 'AREA': '中興院區', 'AP_ID': 'DT040010', 'ADDRESS': '臺北市大同區鄭州路145號10樓(客梯外走道)', 'LAT': '25.05099', 'LNG': '121.509321', '_id': 169}, {'HOTSPOT_TYPE': 'Taipei Free免費無線上網熱點(室內)', 'HOTSPOT_NAME': '中興院區', 'STATUS': '0', 'AREA': '中興院區', 'AP_ID': 'DT040011', 'ADDRESS': '臺北市大同區鄭州路145號1樓(放射診斷科)', 'LAT': '25.051672', 'LNG': '121.508941', '_id': 170}, {'HOTSPOT_TYPE': 'Taipei Free免費無線上網熱點(室內)', 'HOTSPOT_NAME': '中興院區', 'STATUS': '0', 'AREA': '中興院區', 'AP_ID': 'DT040012', 'ADDRESS': '臺北市大同區鄭州路145號1樓(門診藥局外走道上方)', 'LAT': '25.051672', 'LNG': '121.508943', '_id': 171}, {'HOTSPOT_TYPE': 'Taipei Free免費無線上網熱點(室內)', 'HOTSPOT_NAME': '中興院區', 'STATUS': '0', 'AREA': '中興院區', 'AP_ID': 'DT040013', 'ADDRESS': '臺北市大同區鄭州路145號1樓(急診室x光室前上方)', 'LAT': '25.051672', 'LNG': '121.508945', '_id': 172}, {'HOTSPOT_TYPE': 'Taipei Free免費無線上網熱點(室內)', 'HOTSPOT_NAME': '中興院區', 'STATUS': '0', 'AREA': '中興院區', 'AP_ID': 'DT040014', 'ADDRESS': '臺北市大同區鄭州路145號1樓(急診室入口左方)', 'LAT': '25.051672', 'LNG': '121.508947', '_id': 173}, {'HOTSPOT_TYPE': 'Taipei Free免費無線上網熱點(室內)', 'HOTSPOT_NAME': '中興院區', 'STATUS': '0', 'AREA': '中興院區', 'AP_ID': 'DT040015', 'ADDRESS': '臺北市大同區鄭州路145號1樓(超音波室內)', 'LAT': '25.051672', 'LNG': '121.508949', '_id': 174}, {'HOTSPOT_TYPE': 'Taipei Free免費無線上網熱點(室內)', 'HOTSPOT_NAME': '中興院區', 'STATUS': '0', 'AREA': '中興院區', 'AP_ID': 'DT040017', 'ADDRESS': '臺北市大同區鄭州路145號1樓(iscoffee門口上方)', 'LAT': '25.051706', 'LNG': '121.509164', '_id': 175}, {'HOTSPOT_TYPE': 'Taipei Free免費無線上網熱點(室內)', 'HOTSPOT_NAME': '中興院區', 'STATUS': '0', 'AREA': '中興院區', 'AP_ID': 'DT040018', 'ADDRESS': '臺北市大同區鄭州路145號2樓(小兒科兒童遊戲間前方)', 'LAT': '25.051706', 'LNG': '121.509166', '_id': 176}, {'HOTSPOT_TYPE': 'Taipei Free免費無線上網熱點(室內)', 'HOTSPOT_NAME': '中興院區', 'STATUS': '0', 'AREA': '中興院區', 'AP_ID': 'DT040019', 'ADDRESS': '臺北市大同區鄭州路145號2樓(中醫科疼痛中心外走道上方)', 'LAT': '25.051706', 'LNG': '121.509168', '_id': 177}, {'HOTSPOT_TYPE': 'Taipei Free免費無線上網熱點(室內)', 'HOTSPOT_NAME': '中興院區', 'STATUS': '0', 'AREA': '中興院區', 'AP_ID': 'DT040020', 'ADDRESS': '臺北市大同區鄭州路145號2樓(內科走道)', 'LAT': '25.051708', 'LNG': '121.509162', '_id': 178}, {'HOTSPOT_TYPE': 'Taipei Free免費無線上網熱點(室內)', 'HOTSPOT_NAME': '中興院區', 'STATUS': '0', 'AREA': '中興院區', 'AP_ID': 'DT040021', 'ADDRESS': '臺北市大同區鄭州路145號2樓(外科走道)', 'LAT': '25.051724', 'LNG': '121.509408', '_id': 179}, {'HOTSPOT_TYPE': 'Taipei Free免費無線上網熱點(室內)', 'HOTSPOT_NAME': '中興院區', 'STATUS': '0', 'AREA': '中興院區', 'AP_ID': 'DT040022', 'ADDRESS': '臺北市大同區鄭州路145號2樓(88診流感疫苗注射室)', 'LAT': '25.051724', 'LNG': '121.509406', '_id': 180}, {'HOTSPOT_TYPE': 'Taipei Free免費無線上網熱點(室內)', 'HOTSPOT_NAME': '中興院區', 'STATUS': '0', 'AREA': '中興院區', 'AP_ID': 'DT040024', 'ADDRESS': '臺北市大同區鄭州路145號2樓(泌尿科研究室前方)', 'LAT': '25.051724', 'LNG': '121.509404', '_id': 181}, {'HOTSPOT_TYPE': 'Taipei Free免費無線上網熱點(室內)', 'HOTSPOT_NAME': '中興院區', 'STATUS': '0', 'AREA': '中興院區', 'AP_ID': 'DT040025', 'ADDRESS': '臺北市大同區鄭州路145號2樓(家庭醫學科體檢室前方)', 'LAT': '25.051724', 'LNG': '121.509402', '_id': 182}, {'HOTSPOT_TYPE': 'Taipei Free免費無線上網熱點(室內)', 'HOTSPOT_NAME': '中興院區', 'STATUS': '0', 'AREA': '中興院區', 'AP_ID': 'DT040026', 'ADDRESS': '臺北市大同區鄭州路145號2樓(婦產科超音波室門口上方)', 'LAT': '25.051728', 'LNG': '121.509408', '_id': 183}, {'HOTSPOT_TYPE': 'Taipei Free免費無線上網熱點(室內)', 'HOTSPOT_NAME': '中興院區', 'STATUS': '0', 'AREA': '中興院區', 'AP_ID': 'DT040027', 'ADDRESS': '臺北市大同區鄭州路145號2樓(掛號批價處前方)', 'LAT': '25.051656', 'LNG': '121.509521', '_id': 184}, {'HOTSPOT_TYPE': 'Taipei Free免費無線上網熱點(室內)', 'HOTSPOT_NAME': '中興院區', 'STATUS': '0', 'AREA': '中興院區', 'AP_ID': 'DT040028', 'ADDRESS': '臺北市大同區鄭州路145號2樓(眼科外走道)', 'LAT': '25.051656', 'LNG': '121.509523', '_id': 185}, {'HOTSPOT_TYPE': 'Taipei Free免費無線上網熱點(室內)', 'HOTSPOT_NAME': '中興院區', 'STATUS': '0', 'AREA': '中興院區', 'AP_ID': 'DT040029', 'ADDRESS': '臺北市大同區鄭州路145號2樓(精神科外走道會議室上方)', 'LAT': '25.051656', 'LNG': '121.509525', '_id': 186}, {'HOTSPOT_TYPE': 'Taipei Free免費無線上網熱點(室內)', 'HOTSPOT_NAME': '中興院區', 'STATUS': '0', 'AREA': '中興院區', 'AP_ID': 'DT040030', 'ADDRESS': '臺北市大同區鄭州路145號3樓(職能治療室前方)', 'LAT': '25.051656', 'LNG': '121.509527', '_id': 187}, {'HOTSPOT_TYPE': 'Taipei Free免費無線上網熱點(室內)', 'HOTSPOT_NAME': '中興院區', 'STATUS': '0', 'AREA': '中興院區', 'AP_ID': 'DT040031', 'ADDRESS': '臺北市大同區鄭州路145號3樓(復健科掛號室走道上方)', 'LAT': '25.051658', 'LNG': '121.509521', '_id': 188}, {'HOTSPOT_TYPE': 'Taipei Free免費無線上網熱點(室內)', 'HOTSPOT_NAME': '中興院區', 'STATUS': '0', 'AREA': '中興院區', 'AP_ID': 'DT040032', 'ADDRESS': '臺北市大同區鄭州路145號3樓(圖書室門口上方)', 'LAT': '25.051527', 'LNG': '121.509418', '_id': 189}, {'HOTSPOT_TYPE': 'Taipei Free免費無線上網熱點(室內)', 'HOTSPOT_NAME': '中興院區', 'STATUS': '0', 'AREA': '中興院區', 'AP_ID': 'DT040033', 'ADDRESS': '臺北市大同區鄭州路145號5樓(家屬等候區上方)', 'LAT': '25.051527', 'LNG': '121.509416', '_id': 190}, {'HOTSPOT_TYPE': 'Taipei Free免費無線上網熱點(室內)', 'HOTSPOT_NAME': '中興院區', 'STATUS': '0', 'AREA': '中興院區', 'AP_ID': 'DT040034', 'ADDRESS': '臺北市大同區鄭州路145號6樓(6A608病房門口上方)', 'LAT': '25.051527', 'LNG': '121.509414', '_id': 191}, {'HOTSPOT_TYPE': 'Taipei Free免費無線上網熱點(室內)', 'HOTSPOT_NAME': '中興院區', 'STATUS': '0', 'AREA': '中興院區', 'AP_ID': 'DT040035', 'ADDRESS': '臺北市大同區鄭州路145號6樓(6A622病房門口上方)', 'LAT': '25.051527', 'LNG': '121.509412', '_id': 192}, {'HOTSPOT_TYPE': 'Taipei Free免費無線上網熱點(室內)', 'HOTSPOT_NAME': '中興院區', 'STATUS': '0', 'AREA': '中興院區', 'AP_ID': 'DT040036', 'ADDRESS': '臺北市大同區鄭州路145號6樓(6A護理站內辦公桌正上方)', 'LAT': '25.051525', 'LNG': '121.509418', '_id': 193}, {'HOTSPOT_TYPE': 'Taipei Free免費無線上網熱點(室內)', 'HOTSPOT_NAME': '中興院區', 'STATUS': '0', 'AREA': '中興院區', 'AP_ID': 'DT040037', 'ADDRESS': '臺北市大同區鄭州路145號6樓(6B630病房門口上方)', 'LAT': '25.051554', 'LNG': '121.509071', '_id': 194}, {'HOTSPOT_TYPE': 'Taipei Free免費無線上網熱點(室內)', 'HOTSPOT_NAME': '中興院區', 'STATUS': '0', 'AREA': '中興院區', 'AP_ID': 'DT040038', 'ADDRESS': '臺北市大同區鄭州路145號6樓(嬰兒室外走道)', 'LAT': '25.051554', 'LNG': '121.509073', '_id': 195}, {'HOTSPOT_TYPE': 'Taipei Free免費無線上網熱點(室內)', 'HOTSPOT_NAME': '中興院區', 'STATUS': '0', 'AREA': '中興院區', 'AP_ID': 'DT040039', 'ADDRESS': '臺北市大同區鄭州路145號7樓(7A709病房門口上方)', 'LAT': '25.051554', 'LNG': '121.509075', '_id': 196}, {'HOTSPOT_TYPE': 'Taipei Free免費無線上網熱點(室內)', 'HOTSPOT_NAME': '中興院區', 'STATUS': '0', 'AREA': '中興院區', 'AP_ID': 'DT040042', 'ADDRESS': '臺北市大同區鄭州路145號7樓(7B726病房門口上方)', 'LAT': '25.051554', 'LNG': '121.509077', '_id': 197}, {'HOTSPOT_TYPE': 'Taipei Free免費無線上網熱點(室內)', 'HOTSPOT_NAME': '中興院區', 'STATUS': '0', 'AREA': '中興院區', 'AP_ID': 'DT040043', 'ADDRESS': '臺北市大同區鄭州路145號7樓(7B738病房門口上方)', 'LAT': '25.051554', 'LNG': '121.509079', '_id': 198}, {'HOTSPOT_TYPE': 'Taipei Free免費無線上網熱點(室內)', 'HOTSPOT_NAME': '中興院區', 'STATUS': '0', 'AREA': '中興院區', 'AP_ID': 'DT040044', 'ADDRESS': '臺北市大同區鄭州路145號7樓(7B護理站內辦公桌正上方)', 'LAT': '25.051556', 'LNG': '121.509071', '_id': 199}, {'HOTSPOT_TYPE': 'Taipei Free免費無線上網熱點(室內)', 'HOTSPOT_NAME': '中興院區', 'STATUS': '0', 'AREA': '中興院區', 'AP_ID': 'DT040045', 'ADDRESS': '臺北市大同區鄭州路145號7樓(7C756病房門口上方)', 'LAT': '25.051498', 'LNG': '121.509645', '_id': 200}, {'HOTSPOT_TYPE': 'Taipei Free免費無線上網熱點(室內)', 'HOTSPOT_NAME': '中興院區', 'STATUS': '0', 'AREA': '中興院區', 'AP_ID': 'DT040046', 'ADDRESS': '臺北市大同區鄭州路145號7樓(7C770病房門口上方)', 'LAT': '25.051498', 'LNG': '121.509643', '_id': 201}, {'HOTSPOT_TYPE': 'Taipei Free免費無線上網熱點(室內)', 'HOTSPOT_NAME': '中興院區', 'STATUS': '0', 'AREA': '中興院區', 'AP_ID': 'DT040047', 'ADDRESS': '臺北市大同區鄭州路145號7樓(7C護理站內辦公桌正上方)', 'LAT': '25.051498', 'LNG': '121.509641', '_id': 202}, {'HOTSPOT_TYPE': 'Taipei Free免費無線上網熱點(室內)', 'HOTSPOT_NAME': '中興院區', 'STATUS': '0', 'AREA': '中興院區', 'AP_ID': 'DT040048', 'ADDRESS': '臺北市大同區鄭州路145號7樓(客梯外走道)', 'LAT': '25.051498', 'LNG': '121.509647', '_id': 203}, {'HOTSPOT_TYPE': 'Taipei Free免費無線上網熱點(室內)', 'HOTSPOT_NAME': '中興院區', 'STATUS': '0', 'AREA': '中興院區', 'AP_ID': 'DT040052', 'ADDRESS': '臺北市大同區鄭州路145號8樓(8B880病房門口上方)', 'LAT': '25.051496', 'LNG': '121.509645', '_id': 204}, {'HOTSPOT_TYPE': 'Taipei Free免費無線上網熱點(室內)', 'HOTSPOT_NAME': '中興院區', 'STATUS': '0', 'AREA': '中興院區', 'AP_ID': 'DT040055', 'ADDRESS': '臺北市大同區鄭州路145號8樓(8C856病房門口上方)', 'LAT': '25.051494', 'LNG': '121.509645', '_id': 205}, {'HOTSPOT_TYPE': 'Taipei Free免費無線上網熱點(室內)', 'HOTSPOT_NAME': '中興院區', 'STATUS': '0', 'AREA': '中興院區', 'AP_ID': 'DT040056', 'ADDRESS': '臺北市大同區鄭州路145號8樓(8C870病房門口上方)', 'LAT': '25.051423', 'LNG': '121.509358', '_id': 206}, {'HOTSPOT_TYPE': 'Taipei Free免費無線上網熱點(室內)', 'HOTSPOT_NAME': '中興院區', 'STATUS': '0', 'AREA': '中興院區', 'AP_ID': 'DT040058', 'ADDRESS': '臺北市大同區鄭州路145號8樓(客梯外走道)', 'LAT': '25.051423', 'LNG': '121.509356', '_id': 207}, {'HOTSPOT_TYPE': 'Taipei Free免費無線上網熱點(室內)', 'HOTSPOT_NAME': '中興院區', 'STATUS': '0', 'AREA': '中興院區', 'AP_ID': 'DT040059', 'ADDRESS': '臺北市大同區鄭州路145號9樓(9B926病房門口上方)', 'LAT': '25.051423', 'LNG': '121.509354', '_id': 208}, {'HOTSPOT_TYPE': 'Taipei Free免費無線上網熱點(室內)', 'HOTSPOT_NAME': '中興院區', 'STATUS': '0', 'AREA': '中興院區', 'AP_ID': 'DT040060', 'ADDRESS': '臺北市大同區鄭州路145號9樓(9A病房區入口上方)', 'LAT': '25.051423', 'LNG': '121.509352', '_id': 209}, {'HOTSPOT_TYPE': 'Taipei Free免費無線上網熱點(室內)', 'HOTSPOT_NAME': '中興院區', 'STATUS': '0', 'AREA': '中興院區', 'AP_ID': 'DT040066', 'ADDRESS': '臺北市大同區鄭州路145號B1(美食街內逃生出口左邊店家內上方)', 'LAT': '25.051427', 'LNG': '121.509358', '_id': 210}, {'HOTSPOT_TYPE': 'Taipei Free免費無線上網熱點(室內)', 'HOTSPOT_NAME': '中興院區', 'STATUS': '0', 'AREA': '中興院區', 'AP_ID': 'DT040067', 'ADDRESS': '臺北市大同區鄭州路145號B1(美食街門口上方)', 'LAT': '25.051411', 'LNG': '121.509107', '_id': 211}, {'HOTSPOT_TYPE': 'Taipei Free免費無線上網熱點(室內)', 'HOTSPOT_NAME': '台北捷運大街(台北車站至雙連)', 'STATUS': '0', 'AREA': '地下街', 'AP_ID': 'DT050019', 'ADDRESS': '臺北市中山區長安西路52之1號(A2店鋪旁，電梯正前方第2塊天花板上)', 'LAT': '25.048293', 'LNG': '121.518094', '_id': 212}, {'HOTSPOT_TYPE': 'Taipei Free免費無線上網熱點(室內)', 'HOTSPOT_NAME': '台北捷運大街(台北車站至雙連)', 'STATUS': '0', 'AREA': '地下街', 'AP_ID': 'DT050021', 'ADDRESS': '臺北市中山區長安西路52之1號(台北車站M1出口與台北地下街Y2出口交界處)', 'LAT': '25.048369', 'LNG': '121.518018', '_id': 213}, {'HOTSPOT_TYPE': 'Taipei Free免費無線上網熱點(室內)', 'HOTSPOT_NAME': '台北捷運大街(台北車站至雙連)', 'STATUS': '0', 'AREA': '地下街', 'AP_ID': 'DT050022', 'ADDRESS': '臺北市中山區長安西路52之1號(中山地下街往捷運淡水線電扶梯前上方)', 'LAT': '25.052609', 'LNG': '121.520392', '_id': 214}, {'HOTSPOT_TYPE': 'Taipei Free免費無線上網熱點(室內)', 'HOTSPOT_NAME': '大同運動中心', 'STATUS': '0', 'AREA': '運動中心', 'AP_ID': 'DT130001', 'ADDRESS': '臺北市大同區大龍街51號(1F丹堤咖啡前上方天花板)', 'LAT': '25.065229', 'LNG': '121.516431', '_id': 215}, {'HOTSPOT_TYPE': 'Taipei Free免費無線上網熱點(室內)', 'HOTSPOT_NAME': '大同運動中心', 'STATUS': '0', 'AREA': '運動中心', 'AP_ID': 'DT130002', 'ADDRESS': '臺北市大同區大龍街51號(1F廁所外上方天花板)', 'LAT': '25.065229', 'LNG': '121.516433', '_id': 216}, {'HOTSPOT_TYPE': 'Taipei Free免費無線上網熱點(室內)', 'HOTSPOT_NAME': '大同運動中心', 'STATUS': '0', 'AREA': '運動中心', 'AP_ID': 'DT130003', 'ADDRESS': '臺北市大同區大龍街51號(1F櫃臺上方天花板)', 'LAT': '25.065229', 'LNG': '121.516435', '_id': 217}, {'HOTSPOT_TYPE': 'Taipei Free免費無線上網熱點(室內)', 'HOTSPOT_NAME': '大同運動中心', 'STATUS': '0', 'AREA': '運動中心', 'AP_ID': 'DT130004', 'ADDRESS': '臺北市大同區大龍街51號(2F貴賓休息室內門口上方天花板)', 'LAT': '25.065229', 'LNG': '121.516437', '_id': 218}, {'HOTSPOT_TYPE': 'Taipei Free免費無線上網熱點(室內)', 'HOTSPOT_NAME': '大同運動中心', 'STATUS': '0', 'AREA': '運動中心', 'AP_ID': 'DT130007', 'ADDRESS': '臺北市大同區大龍街51號(3F健身房外天花板)', 'LAT': '25.065229', 'LNG': '121.516439', '_id': 219}, {'HOTSPOT_TYPE': 'Taipei Free免費無線上網熱點(室內)', 'HOTSPOT_NAME': '大同運動中心', 'STATUS': '0', 'AREA': '運動中心', 'AP_ID': 'DT130009', 'ADDRESS': '臺北市大同區大龍街51號(4F舞蹈教室左側天花板空調口旁)', 'LAT': '25.065227', 'LNG': '121.516431', '_id': 220}, {'HOTSPOT_TYPE': 'Taipei Free免費無線上網熱點(室內)', 'HOTSPOT_NAME': '大同運動中心', 'STATUS': '0', 'AREA': '運動中心', 'AP_ID': 'DT130010', 'ADDRESS': '臺北市大同區大龍街51號(4F舞蹈教室右側天花板空調口旁)', 'LAT': '25.065225', 'LNG': '121.516431', '_id': 221}, {'HOTSPOT_TYPE': 'Taipei Free免費無線上網熱點(室內)', 'HOTSPOT_NAME': '大同運動中心', 'STATUS': '0', 'AREA': '運動中心', 'AP_ID': 'DT130011', 'ADDRESS': '臺北市大同區大龍街51號(5F服務臺上方天花板)', 'LAT': '25.065223', 'LNG': '121.516431', '_id': 222}, {'HOTSPOT_TYPE': 'Taipei Free免費無線上網熱點(室內)', 'HOTSPOT_NAME': '大同運動中心', 'STATUS': '0', 'AREA': '運動中心', 'AP_ID': 'DT130012', 'ADDRESS': '臺北市大同區大龍街51號(5F販賣部前)', 'LAT': '25.065221', 'LNG': '121.516431', '_id': 223}, {'HOTSPOT_TYPE': 'Taipei Free免費無線上網熱點(室內)', 'HOTSPOT_NAME': '大同運動中心', 'STATUS': '0', 'AREA': '運動中心', 'AP_ID': 'DT130013', 'ADDRESS': '臺北市大同區大龍街51號(B1家長休息室中間天花板)', 'LAT': '25.065222', 'LNG': '121.516431', '_id': 224}, {'HOTSPOT_TYPE': 'Taipei Free免費無線上網熱點(室內)', 'HOTSPOT_NAME': '大同運動中心', 'STATUS': '0', 'AREA': '運動中心', 'AP_ID': 'DT130014', 'ADDRESS': '臺北市大同區大龍街51號(B2櫃臺上方天花板)', 'LAT': '25.065228', 'LNG': '121.516431', '_id': 225}, {'HOTSPOT_TYPE': 'Taipei Free免費無線上網熱點(室內)', 'HOTSPOT_NAME': '臺北市立社會教育館-大稻埕戲苑', 'STATUS': '0', 'AREA': '文化場館', 'AP_ID': 'DT220003', 'ADDRESS': '臺北市大同區迪化街一段21號8樓(服務台後方往廣場天花板)', 'LAT': '25.054812', 'LNG': '121.510535', '_id': 226}, {'HOTSPOT_TYPE': 'Taipei Free免費無線上網熱點(室內)', 'HOTSPOT_NAME': '衛生下水道工程處', 'STATUS': '0', 'AREA': '其他', 'AP_ID': 'DT220004', 'ADDRESS': '臺北市大同區酒泉街235號(1F中庭電纜後面)', 'LAT': '25.072468', 'LNG': '121.510631', '_id': 227}, {'HOTSPOT_TYPE': 'Taipei Free免費無線上網熱點(室內)', 'HOTSPOT_NAME': '永樂市場', 'STATUS': '0', 'AREA': '市集', 'AP_ID': 'DT230002', 'ADDRESS': '臺北市大同區迪化街一段21號(攤位編號:1401)', 'LAT': '25.054818', 'LNG': '121.510531', '_id': 228}, {'HOTSPOT_TYPE': 'Taipei Free免費無線上網熱點(室內)', 'HOTSPOT_NAME': '永樂市場', 'STATUS': '0', 'AREA': '市集', 'AP_ID': 'DT230003', 'ADDRESS': '臺北市大同區迪化街一段21號(攤位編號:1008)', 'LAT': '25.054818', 'LNG': '121.510539', '_id': 229}, {'HOTSPOT_TYPE': 'Taipei Free免費無線上網熱點(室內)', 'HOTSPOT_NAME': '永樂市場', 'STATUS': '0', 'AREA': '市集', 'AP_ID': 'DT230004', 'ADDRESS': '臺北市大同區迪化街一段21號(攤位編號:1025)', 'LAT': '25.054818', 'LNG': '121.510532', '_id': 230}, {'HOTSPOT_TYPE': 'Taipei Free免費無線上網熱點(室內)', 'HOTSPOT_NAME': '永樂市場', 'STATUS': '0', 'AREA': '市集', 'AP_ID': 'DT230005', 'ADDRESS': '臺北市大同區迪化街一段21號(攤位編號:1018)', 'LAT': '25.054812', 'LNG': '121.510531', '_id': 231}, {'HOTSPOT_TYPE': 'Taipei Free免費無線上網熱點(室內)', 'HOTSPOT_NAME': '蘭州市場', 'STATUS': '0', 'AREA': '市集', 'AP_ID': 'DT230006', 'ADDRESS': '臺北市大同區昌吉街55號1樓(60號攤販走道)', 'LAT': '25.066047', 'LNG': '121.515635', '_id': 232}, {'HOTSPOT_TYPE': 'Taipei Free免費無線上網熱點(室內)', 'HOTSPOT_NAME': '蘭州市場', 'STATUS': '0', 'AREA': '市集', 'AP_ID': 'DT230007', 'ADDRESS': '臺北市大同區昌吉街55號1樓(105號攤販走道上方)', 'LAT': '25.066083', 'LNG': '121.515537', '_id': 233}, {'HOTSPOT_TYPE': 'Taipei Free免費無線上網熱點(室內)', 'HOTSPOT_NAME': '蘭州市場', 'STATUS': '0', 'AREA': '市集', 'AP_ID': 'DT230008', 'ADDRESS': '臺北市大同區昌吉街55號1樓(139攤販走道上方)', 'LAT': '25.066154', 'LNG': '121.515633', '_id': 234}, {'HOTSPOT_TYPE': 'Taipei Free免費無線上網熱點(室內)', 'HOTSPOT_NAME': '蘭州市場', 'STATUS': '0', 'AREA': '市集', 'AP_ID': 'DT230009', 'ADDRESS': '臺北市大同區昌吉街55號1樓(115號攤販走道上方)', 'LAT': '25.066123', 'LNG': '121.515438', '_id': 235}, {'HOTSPOT_TYPE': 'Taipei Free免費無線上網熱點(室內)', 'HOTSPOT_NAME': '蘭州市場', 'STATUS': '0', 'AREA': '市集', 'AP_ID': 'DT230010', 'ADDRESS': '臺北市大同區昌吉街55號1樓(191號攤販走道上)', 'LAT': '25.066172', 'LNG': '121.515381', '_id': 236}, {'HOTSPOT_TYPE': 'Taipei Free免費無線上網熱點(室內)', 'HOTSPOT_NAME': '大同玉泉區民活動中心', 'STATUS': '0', 'AREA': '區民活動中心', 'AP_ID': 'DT300001', 'ADDRESS': '臺北市大同區環河北路一段96號2樓(中央天花板)', 'LAT': '25.057513', 'LNG': '121.508582', '_id': 237}, {'HOTSPOT_TYPE': 'Taipei Free免費無線上網熱點(室內)', 'HOTSPOT_NAME': '大同延平區民活動中心', 'STATUS': '0', 'AREA': '區民活動中心', 'AP_ID': 'DT300003', 'ADDRESS': '臺北市大同區保安街47之1號3樓(天花板上)', 'LAT': '25.059224', 'LNG': '121.512054', '_id': 238}, {'HOTSPOT_TYPE': 'Taipei Free免費無線上網熱點(室內)', 'HOTSPOT_NAME': '大同臺北橋區民活動中心', 'STATUS': '0', 'AREA': '區民活動中心', 'AP_ID': 'DT300004', 'ADDRESS': '臺北市大同區迪化街一段374號2樓(門口右側通風排管上方)', 'LAT': '25.063104', 'LNG': '121.509291', '_id': 239}, {'HOTSPOT_TYPE': 'Taipei Free免費無線上網熱點(室內)', 'HOTSPOT_NAME': '大同慶昌區民活動中心', 'STATUS': '0', 'AREA': '區民活動中心', 'AP_ID': 'DT300005', 'ADDRESS': '臺北市大同區敦煌路151-1號(逃生號誌旁)', 'LAT': '25.076599', 'LNG': '121.51169', '_id': 240}, {'HOTSPOT_TYPE': 'Taipei Free免費無線上網熱點(室內)', 'HOTSPOT_NAME': '大同雙連區民活動中心', 'STATUS': '0', 'AREA': '區民活動中心', 'AP_ID': 'DT300006', 'ADDRESS': '臺北市大同區萬全街42號1樓(教室內左側天花板上)', 'LAT': '25.058616', 'LNG': '121.520012', '_id': 241}, {'HOTSPOT_TYPE': 'Taipei Free免費無線上網熱點(室內)', 'HOTSPOT_NAME': '大同保生區民活動中心', 'STATUS': '0', 'AREA': '區民活動中心', 'AP_ID': 'DT300007', 'ADDRESS': '臺北市大同區重慶北路三段313巷25號1樓(通道上方天花板)', 'LAT': '25.074123', 'LNG': '121.514877', '_id': 242}, {'HOTSPOT_TYPE': 'Taipei Free免費無線上網熱點(室內)', 'HOTSPOT_NAME': '大同國慶區民活動中心', 'STATUS': '0', 'AREA': '區民活動中心', 'AP_ID': 'DT300008', 'ADDRESS': '臺北市大同區重慶北路三段76號4樓(中央天花板上)', 'LAT': '25.066126', 'LNG': '121.51346', '_id': 243}, {'HOTSPOT_TYPE': 'Taipei Free免費無線上網熱點(室內)', 'HOTSPOT_NAME': '南港區行政中心', 'STATUS': '0', 'AREA': '區行政中心', 'AP_ID': 'NG020001', 'ADDRESS': '臺北市南港區南港路一段360號1樓(衛教室電子號碼牌上方第4塊偵煙器旁天花板)', 'LAT': '25.054514', 'LNG': '121.606783', '_id': 244}, {'HOTSPOT_TYPE': 'Taipei Free免費無線上網熱點(室內)', 'HOTSPOT_NAME': '南港區行政中心', 'STATUS': '0', 'AREA': '區行政中心', 'AP_ID': 'NG020002', 'ADDRESS': '臺北市南港區南港路一段360號2樓(警衛櫃檯前上方天花板)', 'LAT': '25.054514', 'LNG': '121.606785', '_id': 245}, {'HOTSPOT_TYPE': 'Taipei Free免費無線上網熱點(室內)', 'HOTSPOT_NAME': '南港區行政中心', 'STATUS': '0', 'AREA': '區行政中心', 'AP_ID': 'NG020004', 'ADDRESS': '臺北市南港區南港路一段360號4樓(民眾上網桌上方偵煙器旁天花板)', 'LAT': '25.054514', 'LNG': '121.606789', '_id': 246}, {'HOTSPOT_TYPE': 'Taipei Free免費無線上網熱點(室內)', 'HOTSPOT_NAME': '南港區健康服務中心', 'STATUS': '0', 'AREA': '健康服務中心', 'AP_ID': 'NG020006', 'ADDRESS': '臺北市南港區南港路一段360號7樓(進門第2盞燈後一格天花板)', 'LAT': '25.054516', 'LNG': '121.606781', '_id': 247}, {'HOTSPOT_TYPE': 'Taipei Free免費無線上網熱點(室內)', 'HOTSPOT_NAME': '南港區行政中心', 'STATUS': '0', 'AREA': '區行政中心', 'AP_ID': 'NG020007', 'ADDRESS': '臺北市南港區南港路一段360號8樓(民眾等候區TV前桌子上方天花板)', 'LAT': '25.054518', 'LNG': '121.606781', '_id': 248}, {'HOTSPOT_TYPE': 'Taipei Free免費無線上網熱點(室內)', 'HOTSPOT_NAME': '南港區行政中心', 'STATUS': '0', 'AREA': '區行政中心', 'AP_ID': 'NG020008', 'ADDRESS': '臺北市南港區南港路一段360號9樓(民眾等待區中央喇叭旁天花板)', 'LAT': '25.054511', 'LNG': '121.606789', '_id': 249}, {'HOTSPOT_TYPE': 'Taipei Free免費無線上網熱點(室內)', 'HOTSPOT_NAME': '龍華民眾閱覽室', 'STATUS': '0', 'AREA': '閱覽室', 'AP_ID': 'NG030001', 'ADDRESS': '臺北市南港區東新街63巷8號(信義樓2F筆電區走道)', 'LAT': '25.045021', 'LNG': '121.587729', '_id': 250}, {'HOTSPOT_TYPE': 'Taipei Free免費無線上網熱點(室內)', 'HOTSPOT_NAME': '忠孝院區', 'STATUS': '0', 'AREA': '忠孝院區', 'AP_ID': 'NG040014', 'ADDRESS': '臺北市南港區同德路87號2樓(骨科候診區上方)', 'LAT': '25.046567', 'LNG': '121.585865', '_id': 268}, {'HOTSPOT_TYPE': 'Taipei Free免費無線上網熱點(室內)', 'HOTSPOT_NAME': '南港分館', 'STATUS': '0', 'AREA': '圖書館', 'AP_ID': 'NG030002', 'ADDRESS': '臺北市南港區南港路一段287巷4弄10號2樓(門口進入上方兩盞電燈中間天花板)', 'LAT': '25.053795', 'LNG': '121.607951', '_id': 251}, {'HOTSPOT_TYPE': 'Taipei Free免費無線上網熱點(室內)', 'HOTSPOT_NAME': '南港分館', 'STATUS': '0', 'AREA': '圖書館', 'AP_ID': 'NG030003', 'ADDRESS': '臺北市南港區南港路一段287巷4弄10號3樓(9號書櫃及10號書櫃中間天花板)', 'LAT': '25.053795', 'LNG': '121.607955', '_id': 252}, {'HOTSPOT_TYPE': 'Taipei Free免費無線上網熱點(室內)', 'HOTSPOT_NAME': '南港分館', 'STATUS': '0', 'AREA': '圖書館', 'AP_ID': 'NG030004', 'ADDRESS': '臺北市南港區南港路一段287巷4弄10號B1(自修室中間柱子緊急照明燈旁天花板)', 'LAT': '25.053795', 'LNG': '121.607957', '_id': 253}, {'HOTSPOT_TYPE': 'Taipei Free免費無線上網熱點(室內)', 'HOTSPOT_NAME': '舊莊分館', 'STATUS': '0', 'AREA': '圖書館', 'AP_ID': 'NG030005', 'ADDRESS': '臺北市南港區舊莊街一段91巷11號2樓綜合服務台', 'LAT': '25.041328', 'LNG': '121.619438', '_id': 254}, {'HOTSPOT_TYPE': 'Taipei Free免費無線上網熱點(室內)', 'HOTSPOT_NAME': '舊莊分館', 'STATUS': '0', 'AREA': '圖書館', 'AP_ID': 'NG030006', 'ADDRESS': '臺北市南港區舊莊街一段91巷11號3樓外文圖書區', 'LAT': '25.041328', 'LNG': '121.619436', '_id': 255}, {'HOTSPOT_TYPE': 'Taipei Free免費無線上網熱點(室內)', 'HOTSPOT_NAME': '舊莊分館', 'STATUS': '0', 'AREA': '圖書館', 'AP_ID': 'NG030007', 'ADDRESS': '臺北市南港區舊莊街一段91巷11號4樓(視聽資料區)', 'LAT': '25.041328', 'LNG': '121.619434', '_id': 256}, {'HOTSPOT_TYPE': 'Taipei Free免費無線上網熱點(室內)', 'HOTSPOT_NAME': '舊莊分館', 'STATUS': '0', 'AREA': '圖書館', 'AP_ID': 'NG030008', 'ADDRESS': '臺北市南港區舊莊街一段91巷11號5樓(自修室)', 'LAT': '25.041326', 'LNG': '121.619438', '_id': 257}, {'HOTSPOT_TYPE': 'Taipei Free免費無線上網熱點(室內)', 'HOTSPOT_NAME': '龍華民眾閱覽室', 'STATUS': '0', 'AREA': '圖書館', 'AP_ID': 'NG030009', 'ADDRESS': '臺北市南港區東新街63巷8號(1樓服務台前方天花板)', 'LAT': '25.047591', 'LNG': '121.587003', '_id': 258}, {'HOTSPOT_TYPE': 'Taipei Free免費無線上網熱點(室內)', 'HOTSPOT_NAME': '龍華民眾閱覽室', 'STATUS': '0', 'AREA': '圖書館', 'AP_ID': 'NG030010', 'ADDRESS': '臺北市南港區東新街63巷8號(B1自修室)', 'LAT': '25.047586', 'LNG': '121.586987', '_id': 259}, {'HOTSPOT_TYPE': 'Taipei Free免費無線上網熱點(室內)', 'HOTSPOT_NAME': '忠孝院區', 'STATUS': '0', 'AREA': '忠孝院區', 'AP_ID': 'NG040003', 'ADDRESS': '臺北市南港區同德路87號10樓(大禮堂內左前方座位之上方位置)', 'LAT': '25.046533', 'LNG': '121.586073', '_id': 260}, {'HOTSPOT_TYPE': 'Taipei Free免費無線上網熱點(室內)', 'HOTSPOT_NAME': '忠孝院區', 'STATUS': '0', 'AREA': '忠孝院區', 'AP_ID': 'NG040004', 'ADDRESS': '臺北市南港區同德路87號10樓(大禮堂後門外上方)', 'LAT': '25.046533', 'LNG': '121.586071', '_id': 261}, {'HOTSPOT_TYPE': 'Taipei Free免費無線上網熱點(室內)', 'HOTSPOT_NAME': '忠孝院區', 'STATUS': '0', 'AREA': '忠孝院區', 'AP_ID': 'NG040007', 'ADDRESS': '臺北市南港區同德路87號10樓(護理站右側走廊上方)', 'LAT': '25.046533', 'LNG': '121.586079', '_id': 262}, {'HOTSPOT_TYPE': 'Taipei Free免費無線上網熱點(室內)', 'HOTSPOT_NAME': '忠孝院區', 'STATUS': '0', 'AREA': '忠孝院區', 'AP_ID': 'NG040008', 'ADDRESS': '臺北市南港區同德路87號10樓(1003號病房旁上方)', 'LAT': '25.046531', 'LNG': '121.586075', '_id': 263}, {'HOTSPOT_TYPE': 'Taipei Free免費無線上網熱點(室內)', 'HOTSPOT_NAME': '忠孝院區', 'STATUS': '0', 'AREA': '忠孝院區', 'AP_ID': 'NG040010', 'ADDRESS': '臺北市南港區同德路87號10樓(臨床技能教室走廊底部討論室內門口上方)', 'LAT': '25.046537', 'LNG': '121.586075', '_id': 264}, {'HOTSPOT_TYPE': 'Taipei Free免費無線上網熱點(室內)', 'HOTSPOT_NAME': '忠孝院區', 'STATUS': '0', 'AREA': '忠孝院區', 'AP_ID': 'NG040011', 'ADDRESS': '臺北市南港區同德路87號1樓(放射線診斷科登記處前上方)', 'LAT': '25.046539', 'LNG': '121.586075', '_id': 265}, {'HOTSPOT_TYPE': 'Taipei Free免費無線上網熱點(室內)', 'HOTSPOT_NAME': '忠孝院區', 'STATUS': '0', 'AREA': '忠孝院區', 'AP_ID': 'NG040012', 'ADDRESS': '臺北市南港區同德路87號5樓(526號病房前上方)', 'LAT': '25.046567', 'LNG': '121.585863', '_id': 266}, {'HOTSPOT_TYPE': 'Taipei Free免費無線上網熱點(室內)', 'HOTSPOT_NAME': '忠孝院區', 'STATUS': '0', 'AREA': '忠孝院區', 'AP_ID': 'NG040013', 'ADDRESS': '臺北市南港區同德路87號2樓(新陳代謝科門口前上方)', 'LAT': '25.046567', 'LNG': '121.585861', '_id': 267}, {'HOTSPOT_TYPE': 'Taipei Free免費無線上網熱點(室內)', 'HOTSPOT_NAME': '忠孝院區', 'STATUS': '0', 'AREA': '忠孝院區', 'AP_ID': 'NG040015', 'ADDRESS': '臺北市南港區同德路87號2樓(牙科櫃檯前左邊上方)', 'LAT': '25.046567', 'LNG': '121.585867', '_id': 269}, {'HOTSPOT_TYPE': 'Taipei Free免費無線上網熱點(室內)', 'HOTSPOT_NAME': '忠孝院區', 'STATUS': '0', 'AREA': '忠孝院區', 'AP_ID': 'NG040016', 'ADDRESS': '臺北市南港區同德路87號2樓(皮膚科候診區上方)', 'LAT': '25.046567', 'LNG': '121.585869', '_id': 270}, {'HOTSPOT_TYPE': 'Taipei Free免費無線上網熱點(室內)', 'HOTSPOT_NAME': '忠孝院區', 'STATUS': '0', 'AREA': '忠孝院區', 'AP_ID': 'NG040017', 'ADDRESS': '臺北市南港區同德路87號2樓(耳鼻喉科候診區中心位置)', 'LAT': '25.046569', 'LNG': '121.585863', '_id': 271}, {'HOTSPOT_TYPE': 'Taipei Free免費無線上網熱點(室內)', 'HOTSPOT_NAME': '忠孝院區', 'STATUS': '0', 'AREA': '忠孝院區', 'AP_ID': 'NG040018', 'ADDRESS': '臺北市南港區同德路87號2樓(批價及掛號櫃檯之中心位置)', 'LAT': '25.046565', 'LNG': '121.585863', '_id': 272}, {'HOTSPOT_TYPE': 'Taipei Free免費無線上網熱點(室內)', 'HOTSPOT_NAME': '忠孝院區', 'STATUS': '0', 'AREA': '忠孝院區', 'AP_ID': 'NG040019', 'ADDRESS': '臺北市南港區同德路87號2樓(小兒科門診門口上方)', 'LAT': '25.046563', 'LNG': '121.585863', '_id': 273}, {'HOTSPOT_TYPE': 'Taipei Free免費無線上網熱點(室內)', 'HOTSPOT_NAME': '忠孝院區', 'STATUS': '0', 'AREA': '忠孝院區', 'AP_ID': 'NG040020', 'ADDRESS': '臺北市南港區同德路87號3樓(西側透析中心門口招牌前與休息室門口之中心位置)', 'LAT': '25.046561', 'LNG': '121.585863', '_id': 274}, {'HOTSPOT_TYPE': 'Taipei Free免費無線上網熱點(室內)', 'HOTSPOT_NAME': '忠孝院區', 'STATUS': '0', 'AREA': '忠孝院區', 'AP_ID': 'NG040022', 'ADDRESS': '臺北市南港區同德路87號1樓(心電圖室前方座位區上方)', 'LAT': '25.046708', 'LNG': '121.586298', '_id': 275}, {'HOTSPOT_TYPE': 'Taipei Free免費無線上網熱點(室內)', 'HOTSPOT_NAME': '忠孝院區', 'STATUS': '0', 'AREA': '忠孝院區', 'AP_ID': 'NG040023', 'ADDRESS': '臺北市南港區同德路87號5樓(泌尿科之走廊中心位置)', 'LAT': '25.046708', 'LNG': '121.586296', '_id': 276}, {'HOTSPOT_TYPE': 'Taipei Free免費無線上網熱點(室內)', 'HOTSPOT_NAME': '忠孝院區', 'STATUS': '0', 'AREA': '忠孝院區', 'AP_ID': 'NG040024', 'ADDRESS': '臺北市南港區同德路87號5樓(產房候診區大門口)', 'LAT': '25.046708', 'LNG': '121.586294', '_id': 277}, {'HOTSPOT_TYPE': 'Taipei Free免費無線上網熱點(室內)', 'HOTSPOT_NAME': '忠孝院區', 'STATUS': '0', 'AREA': '忠孝院區', 'AP_ID': 'NG040050', 'ADDRESS': '臺北市南港區同德路87號9樓(910病房間之中心位置)', 'LAT': '25.046542', 'LNG': '121.586451', '_id': 278}, {'HOTSPOT_TYPE': 'Taipei Free免費無線上網熱點(室內)', 'HOTSPOT_NAME': '忠孝院區', 'STATUS': '0', 'AREA': '忠孝院區', 'AP_ID': 'NG040052', 'ADDRESS': '臺北市南港區同德路87號9樓(926病房門口)', 'LAT': '25.046544', 'LNG': '121.586457', '_id': 279}, {'HOTSPOT_TYPE': 'Taipei Free免費無線上網熱點(室內)', 'HOTSPOT_NAME': '忠孝院區', 'STATUS': '0', 'AREA': '忠孝院區', 'AP_ID': 'NG040053', 'ADDRESS': '臺北市南港區同德路87號9樓(內科辦公室間休憩區之中心位置)', 'LAT': '25.046546', 'LNG': '121.586457', '_id': 280}, {'HOTSPOT_TYPE': 'Taipei Free免費無線上網熱點(室內)', 'HOTSPOT_NAME': '忠孝院區', 'STATUS': '0', 'AREA': '忠孝院區', 'AP_ID': 'NG040055', 'ADDRESS': '臺北市南港區同德路87號9樓(護理站與日光室間之中心位置)', 'LAT': '25.046548', 'LNG': '121.586457', '_id': 281}, {'HOTSPOT_TYPE': 'Taipei Free免費無線上網熱點(室內)', 'HOTSPOT_NAME': '忠孝院區', 'STATUS': '0', 'AREA': '忠孝院區', 'AP_ID': 'NG040056', 'ADDRESS': '臺北市南港區同德路87號B1(職能治療室前走道天花板上)', 'LAT': '25.046382', 'LNG': '121.585894', '_id': 282}, {'HOTSPOT_TYPE': 'Taipei Free免費無線上網熱點(室內)', 'HOTSPOT_NAME': '忠孝院區', 'STATUS': '0', 'AREA': '忠孝院區', 'AP_ID': 'NG040057', 'ADDRESS': '臺北市南港區同德路87號B1(精神科休息區中央沙發天花板上)', 'LAT': '25.046382', 'LNG': '121.585896', '_id': 283}, {'HOTSPOT_TYPE': 'Taipei Free免費無線上網熱點(室內)', 'HOTSPOT_NAME': '忠孝院區', 'STATUS': '0', 'AREA': '忠孝院區', 'AP_ID': 'NG040058', 'ADDRESS': '臺北市南港區同德路87號B1(電梯門前右側往理髮室前門口天花板上)', 'LAT': '25.046382', 'LNG': '121.585898', '_id': 284}, {'HOTSPOT_TYPE': 'Taipei Free免費無線上網熱點(室內)', 'HOTSPOT_NAME': '忠孝院區', 'STATUS': '0', 'AREA': '忠孝院區', 'AP_ID': 'NG040059', 'ADDRESS': '臺北市南港區同德路87號B1(中醫科候診區大圓柱天花板上)', 'LAT': '25.046382', 'LNG': '121.585892', '_id': 285}, {'HOTSPOT_TYPE': 'Taipei Free免費無線上網熱點(室內)', 'HOTSPOT_NAME': '南港運動中心', 'STATUS': '0', 'AREA': '運動中心', 'AP_ID': 'NG130001', 'ADDRESS': '臺北市南港區玉成街69號(1樓咖啡廳旁上面)', 'LAT': '25.048938', 'LNG': '121.58184', '_id': 286}, {'HOTSPOT_TYPE': 'Taipei Free免費無線上網熱點(室內)', 'HOTSPOT_NAME': '南港運動中心', 'STATUS': '0', 'AREA': '運動中心', 'AP_ID': 'NG130002', 'ADDRESS': '臺北市南港區玉成街69號(1樓游泳池入口、更衣室前上面)', 'LAT': '25.048938', 'LNG': '121.58182', '_id': 287}, {'HOTSPOT_TYPE': 'Taipei Free免費無線上網熱點(室內)', 'HOTSPOT_NAME': '南港運動中心', 'STATUS': '0', 'AREA': '運動中心', 'AP_ID': 'NG130003', 'ADDRESS': '臺北市南港區玉成街69號(1樓電梯前)', 'LAT': '25.048938', 'LNG': '121.58186', '_id': 288}, {'HOTSPOT_TYPE': 'Taipei Free免費無線上網熱點(室內)', 'HOTSPOT_NAME': '南港運動中心', 'STATUS': '0', 'AREA': '運動中心', 'AP_ID': 'NG130004', 'ADDRESS': '臺北市南港區玉成街69號(1樓閱讀室門口上面)', 'LAT': '25.048938', 'LNG': '121.58188', '_id': 289}, {'HOTSPOT_TYPE': 'Taipei Free免費無線上網熱點(室內)', 'HOTSPOT_NAME': '南港運動中心', 'STATUS': '0', 'AREA': '運動中心', 'AP_ID': 'NG130005', 'ADDRESS': '臺北市南港區玉成街69號(1樓閱讀室後上面)', 'LAT': '25.048936', 'LNG': '121.58184', '_id': 290}, {'HOTSPOT_TYPE': 'Taipei Free免費無線上網熱點(室內)', 'HOTSPOT_NAME': '南港運動中心', 'STATUS': '0', 'AREA': '運動中心', 'AP_ID': 'NG130006', 'ADDRESS': '臺北市南港區玉成街69號(2樓男沖水間前)', 'LAT': '25.048934', 'LNG': '121.58184', '_id': 291}, {'HOTSPOT_TYPE': 'Taipei Free免費無線上網熱點(室內)', 'HOTSPOT_NAME': '南港運動中心', 'STATUS': '0', 'AREA': '運動中心', 'AP_ID': 'NG130007', 'ADDRESS': '臺北市南港區玉成街69號(2樓廁所前上方)', 'LAT': '25.048932', 'LNG': '121.58184', '_id': 292}, {'HOTSPOT_TYPE': 'Taipei Free免費無線上網熱點(室內)', 'HOTSPOT_NAME': '南港運動中心', 'STATUS': '0', 'AREA': '運動中心', 'AP_ID': 'NG130008', 'ADDRESS': '臺北市南港區玉成街69號(2樓電梯口上方)', 'LAT': '25.048931', 'LNG': '121.58184', '_id': 293}, {'HOTSPOT_TYPE': 'Taipei Free免費無線上網熱點(室內)', 'HOTSPOT_NAME': '南港運動中心', 'STATUS': '0', 'AREA': '運動中心', 'AP_ID': 'NG130011', 'ADDRESS': '臺北市南港區玉成街69號(3樓電梯前右側天花板)', 'LAT': '25.048792', 'LNG': '121.581843', '_id': 294}, {'HOTSPOT_TYPE': 'Taipei Free免費無線上網熱點(室內)', 'HOTSPOT_NAME': '南港運動中心', 'STATUS': '0', 'AREA': '運動中心', 'AP_ID': 'NG130013', 'ADDRESS': '臺北市南港區玉成街69號(3樓籃球場樓梯口上方)', 'LAT': '25.048792', 'LNG': '121.581847', '_id': 295}, {'HOTSPOT_TYPE': 'Taipei Free免費無線上網熱點(室內)', 'HOTSPOT_NAME': '南港運動中心', 'STATUS': '0', 'AREA': '運動中心', 'AP_ID': 'NG130014', 'ADDRESS': '臺北市南港區玉成街69號(5樓逃生門旁儲藏室前上方)', 'LAT': '25.048794', 'LNG': '121.581841', '_id': 296}, {'HOTSPOT_TYPE': 'Taipei Free免費無線上網熱點(室內)', 'HOTSPOT_NAME': '南港運動中心', 'STATUS': '0', 'AREA': '運動中心', 'AP_ID': 'NG130018', 'ADDRESS': '臺北市南港區玉成街69號(6樓樓梯口上方)', 'LAT': '25.048791', 'LNG': '121.581841', '_id': 297}, {'HOTSPOT_TYPE': 'Taipei Free免費無線上網熱點(室內)', 'HOTSPOT_NAME': '南港分處', 'STATUS': '0', 'AREA': '稅捐稽徵處', 'AP_ID': 'NG220005', 'ADDRESS': '臺北市南港區南港路一段360號3樓(大門左側電腦區正上方天花板)', 'LAT': '25.054514', 'LNG': '121.606781', '_id': 298}, {'HOTSPOT_TYPE': 'Taipei Free免費無線上網熱點(室內)', 'HOTSPOT_NAME': '成德市場', 'STATUS': '0', 'AREA': '市集', 'AP_ID': 'NG230001', 'ADDRESS': '臺北市南港區同德路100號(121店舖旁上方)', 'LAT': '25.045945', 'LNG': '121.586713', '_id': 299}, {'HOTSPOT_TYPE': 'Taipei Free免費無線上網熱點(室內)', 'HOTSPOT_NAME': '成德市場', 'STATUS': '0', 'AREA': '市集', 'AP_ID': 'NG230002', 'ADDRESS': '臺北市南港區同德路100號(自治會門口前上方)', 'LAT': '25.045949', 'LNG': '121.586713', '_id': 300}, {'HOTSPOT_TYPE': 'Taipei Free免費無線上網熱點(室內)', 'HOTSPOT_NAME': '成德市場', 'STATUS': '0', 'AREA': '市集', 'AP_ID': 'NG230005', 'ADDRESS': '臺北市南港區同德路100號(129攤位前)', 'LAT': '25.046125', 'LNG': '121.586782', '_id': 301}, {'HOTSPOT_TYPE': 'Taipei Free免費無線上網熱點(室內)', 'HOTSPOT_NAME': '成德市場', 'STATUS': '0', 'AREA': '市集', 'AP_ID': 'NG230006', 'ADDRESS': '臺北市南港區同德路100號(75攤位前)', 'LAT': '25.046123', 'LNG': '121.586782', '_id': 302}, {'HOTSPOT_TYPE': 'Taipei Free免費無線上網熱點(室內)', 'HOTSPOT_NAME': '南港九如區民活動中心', 'STATUS': '0', 'AREA': '區民活動中心', 'AP_ID': 'NG300001', 'ADDRESS': '臺北市南港區研究院路三段68巷9號2樓', 'LAT': '25.035242', 'LNG': '121.614332', '_id': 303}, {'HOTSPOT_TYPE': 'Taipei Free免費無線上網熱點(室內)', 'HOTSPOT_NAME': '南港三重區民活動中心', 'STATUS': '0', 'AREA': '區民活動中心', 'AP_ID': 'NG300002', 'ADDRESS': '臺北市南港區興東街1號2樓(冷氣機上面)', 'LAT': '25.055596', 'LNG': '121.613082', '_id': 304}, {'HOTSPOT_TYPE': 'Taipei Free免費無線上網熱點(室內)', 'HOTSPOT_NAME': '南港中研區民活動中心', 'STATUS': '0', 'AREA': '區民活動中心', 'AP_ID': 'NG300003', 'ADDRESS': '臺北市南港區研究院路二段70巷12號2樓', 'LAT': '25.045417', 'LNG': '121.614487', '_id': 305}, {'HOTSPOT_TYPE': 'Taipei Free免費無線上網熱點(室內)', 'HOTSPOT_NAME': '南港仁福區民活動中心', 'STATUS': '0', 'AREA': '區民活動中心', 'AP_ID': 'NG300004', 'ADDRESS': '臺北市南港區區福德街443號1樓(里長辦公室門口右邊牆上)', 'LAT': '25.040003', 'LNG': '121.590631', '_id': 306}, {'HOTSPOT_TYPE': 'Taipei Free免費無線上網熱點(室內)', 'HOTSPOT_NAME': '南港成德區民活動中心', 'STATUS': '0', 'AREA': '區民活動中心', 'AP_ID': 'NG300005', 'ADDRESS': '臺北市南港區同德路100號3樓', 'LAT': '25.045949', 'LNG': '121.586711', '_id': 307}, {'HOTSPOT_TYPE': 'Taipei Free免費無線上網熱點(室內)', 'HOTSPOT_NAME': '南港西新區民活動中心', 'STATUS': '0', 'AREA': '區民活動中心', 'AP_ID': 'NG300006', 'ADDRESS': '臺北市南港區成功路一段99號(中央天花板)', 'LAT': '25.05786', 'LNG': '121.592731', '_id': 308}, {'HOTSPOT_TYPE': 'Taipei Free免費無線上網熱點(室內)', 'HOTSPOT_NAME': '南港東新區民活動中心', 'STATUS': '0', 'AREA': '區民活動中心', 'AP_ID': 'NG300007', 'ADDRESS': '臺北市南港區東明街99號(中央天花板)', 'LAT': '25.054538', 'LNG': '121.600061', '_id': 309}, {'HOTSPOT_TYPE': 'Taipei Free免費無線上網熱點(室內)', 'HOTSPOT_NAME': '南港舊莊區民活動中心', 'STATUS': '0', 'AREA': '區民活動中心', 'AP_ID': 'NG300008', 'ADDRESS': '臺北市南港區南港區舊莊街一段91巷11號(中央天花板)', 'LAT': '25.041324', 'LNG': '121.619438', '_id': 310}, {'HOTSPOT_TYPE': 'Taipei Free免費無線上網熱點(室內)', 'HOTSPOT_NAME': '南港南港區民活動中心', 'STATUS': '0', 'AREA': '區民活動中心', 'AP_ID': 'NG300010', 'ADDRESS': '臺北市南港區市民大道八段367號2樓(入口左方櫃子上)', 'LAT': '25.053732', 'LNG': '121.60796', '_id': 311}, {'HOTSPOT_TYPE': 'Taipei Free免費無線上網熱點(室內)', 'HOTSPOT_NAME': '內湖分館', 'STATUS': '0', 'AREA': '圖書館', 'AP_ID': 'NH020006', 'ADDRESS': '臺北市內湖區民權東路六段99號6樓(自修室進門上方透明天花板右邊)', 'LAT': '25.069233', 'LNG': '121.589099', '_id': 312}, {'HOTSPOT_TYPE': 'Taipei Free免費無線上網熱點(室內)', 'HOTSPOT_NAME': '內湖分館', 'STATUS': '0', 'AREA': '圖書館', 'AP_ID': 'NH020007', 'ADDRESS': '臺北市內湖區民權東路六段99號6樓(參考室與閱覽室門口天花板)', 'LAT': '25.069235', 'LNG': '121.589099', '_id': 313}, {'HOTSPOT_TYPE': 'Taipei Free免費無線上網熱點(室內)', 'HOTSPOT_NAME': '內湖分館', 'STATUS': '0', 'AREA': '圖書館', 'AP_ID': 'NH020008', 'ADDRESS': '臺北市內湖區民權東路六段99號6樓(期刊室進門上方透明天花板後一塊)', 'LAT': '25.069237', 'LNG': '121.589099', '_id': 314}, {'HOTSPOT_TYPE': 'Taipei Free免費無線上網熱點(室內)', 'HOTSPOT_NAME': '東湖分館', 'STATUS': '0', 'AREA': '圖書館', 'AP_ID': 'NH030001', 'ADDRESS': '臺北市內湖區五分街6號1樓(服務臺後方櫃子)', 'LAT': '25.067415', 'LNG': '121.61261', '_id': 315}, {'HOTSPOT_TYPE': 'Taipei Free免費無線上網熱點(室內)', 'HOTSPOT_NAME': '東湖分館', 'STATUS': '0', 'AREA': '圖書館', 'AP_ID': 'NH030002', 'ADDRESS': '臺北市內湖區五分街6號2樓(兒童期刊區牌子旁牆壁上)', 'LAT': '25.067415', 'LNG': '121.61263', '_id': 316}, {'HOTSPOT_TYPE': 'Taipei Free免費無線上網熱點(室內)', 'HOTSPOT_NAME': '東湖分館', 'STATUS': '0', 'AREA': '圖書館', 'AP_ID': 'NH030003', 'ADDRESS': '臺北市內湖區五分街6號3樓(圖書室進入左轉第一支柱子上方)', 'LAT': '25.067415', 'LNG': '121.61265', '_id': 317}, {'HOTSPOT_TYPE': 'Taipei Free免費無線上網熱點(室內)', 'HOTSPOT_NAME': '東湖分館', 'STATUS': '0', 'AREA': '圖書館', 'AP_ID': 'NH030004', 'ADDRESS': '臺北市內湖區五分街6號4樓(視聽室進入左轉到底泠氣機上方)', 'LAT': '25.067415', 'LNG': '121.61267', '_id': 318}, {'HOTSPOT_TYPE': 'Taipei Free免費無線上網熱點(室內)', 'HOTSPOT_NAME': '東湖分館', 'STATUS': '0', 'AREA': '圖書館', 'AP_ID': 'NH030005', 'ADDRESS': '臺北市內湖區五分街6號B1(自修室中央排風管)', 'LAT': '25.067415', 'LNG': '121.61269', '_id': 319}, {'HOTSPOT_TYPE': 'Taipei Free免費無線上網熱點(室內)', 'HOTSPOT_NAME': '西湖分館', 'STATUS': '0', 'AREA': '圖書館', 'AP_ID': 'NH030006', 'ADDRESS': '臺北市內湖區內湖路一段594號1樓(期刊合訂本區牌子旁天花板)', 'LAT': '25.078962', 'LNG': '121.577459', '_id': 320}, {'HOTSPOT_TYPE': 'Taipei Free免費無線上網熱點(室內)', 'HOTSPOT_NAME': '李科永分館', 'STATUS': '0', 'AREA': '圖書館', 'AP_ID': 'SL030013', 'ADDRESS': '臺北市士林區中正路15號(B1自修室天花板)', 'LAT': '25.090853', 'LNG': '121.517375', '_id': 369}, {'HOTSPOT_TYPE': 'Taipei Free免費無線上網熱點(室內)', 'HOTSPOT_NAME': '西湖分館', 'STATUS': '0', 'AREA': '圖書館', 'AP_ID': 'NH030007', 'ADDRESS': '臺北市內湖區內湖路一段594號2樓(宗教類與語文類架子中間天花板)', 'LAT': '25.078962', 'LNG': '121.577457', '_id': 321}, {'HOTSPOT_TYPE': 'Taipei Free免費無線上網熱點(室內)', 'HOTSPOT_NAME': '西湖分館', 'STATUS': '0', 'AREA': '圖書館', 'AP_ID': 'NH030008', 'ADDRESS': '臺北市內湖區內湖路一段594號3樓(視聽資料閱覽區牌孑旁天花板)', 'LAT': '25.078962', 'LNG': '121.577455', '_id': 322}, {'HOTSPOT_TYPE': 'Taipei Free免費無線上網熱點(室內)', 'HOTSPOT_NAME': '西湖分館', 'STATUS': '0', 'AREA': '圖書館', 'AP_ID': 'NH030009', 'ADDRESS': '臺北市內湖區內湖路一段594號4樓(舞台左邊安全門上方天花板)', 'LAT': '25.078962', 'LNG': '121.577453', '_id': 323}, {'HOTSPOT_TYPE': 'Taipei Free免費無線上網熱點(室內)', 'HOTSPOT_NAME': '西湖分館', 'STATUS': '0', 'AREA': '圖書館', 'AP_ID': 'NH030010', 'ADDRESS': '臺北市內湖區內湖路一段594號B1(進入第5支柱子橫梁右側內牆上)', 'LAT': '25.078962', 'LNG': '121.577451', '_id': 324}, {'HOTSPOT_TYPE': 'Taipei Free免費無線上網熱點(室內)', 'HOTSPOT_NAME': '西中分館', 'STATUS': '0', 'AREA': '圖書館', 'AP_ID': 'NH030011', 'ADDRESS': '臺北市內湖區內湖路一段285巷66號(1樓兒童閱覽室上方)', 'LAT': '25.083662', 'LNG': '121.562205', '_id': 325}, {'HOTSPOT_TYPE': 'Taipei Free免費無線上網熱點(室內)', 'HOTSPOT_NAME': '西中分館', 'STATUS': '0', 'AREA': '圖書館', 'AP_ID': 'NH030012', 'ADDRESS': '臺北市內湖區內湖路一段285巷66號(1樓自修室上方)', 'LAT': '25.083662', 'LNG': '121.562203', '_id': 326}, {'HOTSPOT_TYPE': 'Taipei Free免費無線上網熱點(室內)', 'HOTSPOT_NAME': '西中分館', 'STATUS': '0', 'AREA': '圖書館', 'AP_ID': 'NH030013', 'ADDRESS': '臺北市內湖區內湖路一段285巷66號(2樓報紙閱覽區上方)', 'LAT': '25.083662', 'LNG': '121.562201', '_id': 327}, {'HOTSPOT_TYPE': 'Taipei Free免費無線上網熱點(室內)', 'HOTSPOT_NAME': '西中分館', 'STATUS': '0', 'AREA': '圖書館', 'AP_ID': 'NH030014', 'ADDRESS': '臺北市內湖區內湖路一段285巷66號(2樓會議室上方)', 'LAT': '25.083662', 'LNG': '121.562207', '_id': 328}, {'HOTSPOT_TYPE': 'Taipei Free免費無線上網熱點(室內)', 'HOTSPOT_NAME': '養護隊第二分隊', 'STATUS': '0', 'AREA': '新建工程處', 'AP_ID': 'NH220004', 'ADDRESS': '臺北市內湖區民權東路六段臨8-1號(新工處二分隊右側辦公室，消防警報器上方)', 'LAT': '25.066178', 'LNG': '121.577506', '_id': 329}, {'HOTSPOT_TYPE': 'Taipei Free免費無線上網熱點(室內)', 'HOTSPOT_NAME': '內湖分處', 'STATUS': '0', 'AREA': '稅捐稽徵處', 'AP_ID': 'NH220015', 'ADDRESS': '臺北市內湖區民權東路六段99號2樓(辦公桌上方)', 'LAT': '25.069232', 'LNG': '121.589097', '_id': 330}, {'HOTSPOT_TYPE': 'Taipei Free免費無線上網熱點(室內)', 'HOTSPOT_NAME': '西湖市場', 'STATUS': '0', 'AREA': '市集', 'AP_ID': 'NH230002', 'ADDRESS': '臺北市內湖區內湖路一段283號(1F龜山島海產店(33攤位)', 'LAT': '25.082551', 'LNG': '121.566582', '_id': 331}, {'HOTSPOT_TYPE': 'Taipei Free免費無線上網熱點(室內)', 'HOTSPOT_NAME': '西湖市場', 'STATUS': '0', 'AREA': '市集', 'AP_ID': 'NH230003', 'ADDRESS': '臺北市內湖區內湖路一段283號(2F煲仔肉飯前(67攤位))', 'LAT': '25.082551', 'LNG': '121.566584', '_id': 332}, {'HOTSPOT_TYPE': 'Taipei Free免費無線上網熱點(室內)', 'HOTSPOT_NAME': '西湖市場', 'STATUS': '0', 'AREA': '市集', 'AP_ID': 'NH230004', 'ADDRESS': '臺北市內湖區內湖路一段283號(2F嘉義魯肉飯(69攤位))', 'LAT': '25.082551', 'LNG': '121.566586', '_id': 333}, {'HOTSPOT_TYPE': 'Taipei Free免費無線上網熱點(室內)', 'HOTSPOT_NAME': '捷運站文德轉乘停車場', 'STATUS': '0', 'AREA': '捷運停車場', 'AP_ID': 'NH240002', 'ADDRESS': '臺北市內湖區文德路216號(面對1F停車場控制室左側)', 'LAT': '25.078378', 'LNG': '121.58486', '_id': 334}, {'HOTSPOT_TYPE': 'Taipei Free免費無線上網熱點(室內)', 'HOTSPOT_NAME': '內湖清白區民活動中心', 'STATUS': '0', 'AREA': '區民活動中心', 'AP_ID': 'NH300001', 'ADDRESS': '臺北市內湖區星雲街161巷3號1樓(活動中心內天花板上)', 'LAT': '25.081149', 'LNG': '121.596101', '_id': 335}, {'HOTSPOT_TYPE': 'Taipei Free免費無線上網熱點(室內)', 'HOTSPOT_NAME': '內湖行善區民活動中心', 'STATUS': '0', 'AREA': '區民活動中心', 'AP_ID': 'NH300002', 'ADDRESS': '臺北市內湖區行善路25巷13號2樓', 'LAT': '25.056124', 'LNG': '121.576167', '_id': 336}, {'HOTSPOT_TYPE': 'Taipei Free免費無線上網熱點(室內)', 'HOTSPOT_NAME': '昆明院區', 'STATUS': '0', 'AREA': '昆明院區', 'AP_ID': 'WH040003', 'ADDRESS': '臺北市萬華區昆明街100號2樓(28診門口上方)', 'LAT': '25.044324', 'LNG': '121.50494', '_id': 513}, {'HOTSPOT_TYPE': 'Taipei Free免費無線上網熱點(室內)', 'HOTSPOT_NAME': '內湖金龍區民活動中心', 'STATUS': '0', 'AREA': '區民活動中心', 'AP_ID': 'NH300003', 'ADDRESS': '臺北市內湖區金龍路136-1號2樓', 'LAT': '25.08575', 'LNG': '121.590039', '_id': 337}, {'HOTSPOT_TYPE': 'Taipei Free免費無線上網熱點(室內)', 'HOTSPOT_NAME': '內湖港墘區民活動中心', 'STATUS': '0', 'AREA': '區民活動中心', 'AP_ID': 'NH300004', 'ADDRESS': '臺北市內湖區內湖路一段552號(天花板上)', 'LAT': '25.079187', 'LNG': '121.577266', '_id': 338}, {'HOTSPOT_TYPE': 'Taipei Free免費無線上網熱點(室內)', 'HOTSPOT_NAME': '內湖湖興區民活動中心', 'STATUS': '0', 'AREA': '區民活動中心', 'AP_ID': 'NH300005', 'ADDRESS': '臺北市內湖區成功路二段320巷19號3樓', 'LAT': '25.067663', 'LNG': '121.589995', '_id': 339}, {'HOTSPOT_TYPE': 'Taipei Free免費無線上網熱點(室內)', 'HOTSPOT_NAME': '內湖紫星區民活動中心', 'STATUS': '0', 'AREA': '區民活動中心', 'AP_ID': 'NH300006', 'ADDRESS': '臺北市內湖區康寧路一段20號', 'LAT': '25.080457', 'LNG': '121.591484', '_id': 340}, {'HOTSPOT_TYPE': 'Taipei Free免費無線上網熱點(室內)', 'HOTSPOT_NAME': '內湖週美區民活動中心', 'STATUS': '0', 'AREA': '區民活動中心', 'AP_ID': 'NH300007', 'ADDRESS': '臺北市內湖區新明路324號3樓(冷氣上方)', 'LAT': '25.055262', 'LNG': '121.581645', '_id': 341}, {'HOTSPOT_TYPE': 'Taipei Free免費無線上網熱點(室內)', 'HOTSPOT_NAME': '內湖五分區民活動中心', 'STATUS': '0', 'AREA': '區民活動中心', 'AP_ID': 'NH300009', 'ADDRESS': '臺北市內湖區五分街6號5樓(中央天花板)', 'LAT': '25.067414', 'LNG': '121.61261', '_id': 342}, {'HOTSPOT_TYPE': 'Taipei Free免費無線上網熱點(室內)', 'HOTSPOT_NAME': '內湖西湖區民活動中心', 'STATUS': '0', 'AREA': '區民活動中心', 'AP_ID': 'NH300010', 'ADDRESS': '臺北市內湖區內湖路一段285號7樓(中央天花板上)', 'LAT': '25.082139', 'LNG': '121.567218', '_id': 343}, {'HOTSPOT_TYPE': 'Taipei Free免費無線上網熱點(室內)', 'HOTSPOT_NAME': '內湖港華區民活動中心', 'STATUS': '0', 'AREA': '區民活動中心', 'AP_ID': 'NH300011', 'ADDRESS': '臺北市內湖區環山路二段68巷14號1、2樓(左側電風扇上方)', 'LAT': '25.086724', 'LNG': '121.57507', '_id': 344}, {'HOTSPOT_TYPE': 'Taipei Free免費無線上網熱點(室內)', 'HOTSPOT_NAME': '內湖陽光區民活動中心', 'STATUS': '0', 'AREA': '區民活動中心', 'AP_ID': 'NH300012', 'ADDRESS': '臺北市內湖區文德路66巷38弄14號(中央天花板上)', 'LAT': '25.077403', 'LNG': '121.581093', '_id': 345}, {'HOTSPOT_TYPE': 'Taipei Free免費無線上網熱點(室內)', 'HOTSPOT_NAME': '內湖碧山區民活動中心', 'STATUS': '0', 'AREA': '區民活動中心', 'AP_ID': 'NH300013', 'ADDRESS': '臺北市內湖區內湖路三段60巷6-8號地下室(中央天花板上)', 'LAT': '25.086551', 'LNG': '121.592065', '_id': 346}, {'HOTSPOT_TYPE': 'Taipei Free免費無線上網熱點(室內)', 'HOTSPOT_NAME': '內湖樂康區民活動中心', 'STATUS': '0', 'AREA': '區民活動中心', 'AP_ID': 'NH300014', 'ADDRESS': '臺北市內湖區康樂街150號6樓之1(舞台後方音響下)', 'LAT': '25.072435', 'LNG': '121.619185', '_id': 347}, {'HOTSPOT_TYPE': 'Taipei Free免費無線上網熱點(室內)', 'HOTSPOT_NAME': '先嗇宮站', 'STATUS': '0', 'AREA': '捷運站', 'AP_ID': 'SC050011', 'ADDRESS': '新北市三重區重新路五段515號B1(AP位置:一月台前端告示牌前上方)', 'LAT': '25.04658', 'LNG': '121.47125', '_id': 348}, {'HOTSPOT_TYPE': 'Taipei Free免費無線上網熱點(室內)', 'HOTSPOT_NAME': '士林區健康服務中心', 'STATUS': '0', 'AREA': '健康服務中心', 'AP_ID': 'SL020001', 'ADDRESS': '臺北市士林區中正路439號1樓(面對門診(一)左側天花板)', 'LAT': '25.092762', 'LNG': '121.519559', '_id': 349}, {'HOTSPOT_TYPE': 'Taipei Free免費無線上網熱點(室內)', 'HOTSPOT_NAME': '士林區行政中心', 'STATUS': '0', 'AREA': '區行政中心', 'AP_ID': 'SL020002', 'ADDRESS': '臺北市士林區中正路439號3樓(第24號櫃台前天花板上)', 'LAT': '25.092762', 'LNG': '121.519557', '_id': 350}, {'HOTSPOT_TYPE': 'Taipei Free免費無線上網熱點(室內)', 'HOTSPOT_NAME': '士林區行政中心', 'STATUS': '0', 'AREA': '區行政中心', 'AP_ID': 'SL020003', 'ADDRESS': '臺北市士林區中正路439號3樓(進門口處，第三塊天花板上)', 'LAT': '25.092762', 'LNG': '121.519555', '_id': 351}, {'HOTSPOT_TYPE': 'Taipei Free免費無線上網熱點(室內)', 'HOTSPOT_NAME': '士林區行政中心', 'STATUS': '0', 'AREA': '區行政中心', 'AP_ID': 'SL020004', 'ADDRESS': '臺北市士林區中正路439號4樓(進門口處第五塊天花板上)', 'LAT': '25.092746', 'LNG': '121.519691', '_id': 352}, {'HOTSPOT_TYPE': 'Taipei Free免費無線上網熱點(室內)', 'HOTSPOT_NAME': '士林區行政中心', 'STATUS': '0', 'AREA': '區行政中心', 'AP_ID': 'SL020005', 'ADDRESS': '臺北市士林區中正路439號5樓(健康測量區前方監視器旁天花板上)', 'LAT': '25.092746', 'LNG': '121.519693', '_id': 353}, {'HOTSPOT_TYPE': 'Taipei Free免費無線上網熱點(室內)', 'HOTSPOT_NAME': '士林區行政中心', 'STATUS': '0', 'AREA': '區行政中心', 'AP_ID': 'SL020006', 'ADDRESS': '臺北市士林區中正路439號5樓(進門口處第二塊天花板上)', 'LAT': '25.092746', 'LNG': '121.519695', '_id': 354}, {'HOTSPOT_TYPE': 'Taipei Free免費無線上網熱點(室內)', 'HOTSPOT_NAME': '士林區行政中心', 'STATUS': '0', 'AREA': '區行政中心', 'AP_ID': 'SL020007', 'ADDRESS': '臺北市士林區中正路439號6樓(測量諮詢櫃台前日光燈組內)', 'LAT': '25.092746', 'LNG': '121.519697', '_id': 355}, {'HOTSPOT_TYPE': 'Taipei Free免費無線上網熱點(室內)', 'HOTSPOT_NAME': '士林區行政中心', 'STATUS': '0', 'AREA': '區行政中心', 'AP_ID': 'SL020008', 'ADDRESS': '臺北市士林區中正路439號7樓(行政課門口天花板上)', 'LAT': '25.092746', 'LNG': '121.519698', '_id': 356}, {'HOTSPOT_TYPE': 'Taipei Free免費無線上網熱點(室內)', 'HOTSPOT_NAME': '士林區行政中心', 'STATUS': '0', 'AREA': '區行政中心', 'AP_ID': 'SL020009', 'ADDRESS': '臺北市士林區中正路439號8樓(進門走道第四塊天花板上)', 'LAT': '25.092806', 'LNG': '121.519817', '_id': 357}, {'HOTSPOT_TYPE': 'Taipei Free免費無線上網熱點(室內)', 'HOTSPOT_NAME': '士林區行政中心', 'STATUS': '0', 'AREA': '區行政中心', 'AP_ID': 'SL020010', 'ADDRESS': '臺北市士林區中正路439號9樓(人文課右方柱子前第四塊天花板)', 'LAT': '25.092806', 'LNG': '121.519815', '_id': 358}, {'HOTSPOT_TYPE': 'Taipei Free免費無線上網熱點(室內)', 'HOTSPOT_NAME': '士林區行政中心', 'STATUS': '0', 'AREA': '區行政中心', 'AP_ID': 'SL020011', 'ADDRESS': '臺北市士林區中正路439號9樓(第3號、4號兵役課櫃台前天花板上)', 'LAT': '25.092806', 'LNG': '121.519813', '_id': 359}, {'HOTSPOT_TYPE': 'Taipei Free免費無線上網熱點(室內)', 'HOTSPOT_NAME': '天母分館', 'STATUS': '0', 'AREA': '圖書館', 'AP_ID': 'SL030001', 'ADDRESS': '臺北市士林區中山北路七段154巷6號3樓(筆電區中央後方書架上方)', 'LAT': '25.123421', 'LNG': '121.532946', '_id': 360}, {'HOTSPOT_TYPE': 'Taipei Free免費無線上網熱點(室內)', 'HOTSPOT_NAME': '天母分館', 'STATUS': '0', 'AREA': '圖書館', 'AP_ID': 'SL030002', 'ADDRESS': '臺北市士林區中山北路七段154巷6號4樓(自修區7號桌上方)', 'LAT': '25.123421', 'LNG': '121.532948', '_id': 361}, {'HOTSPOT_TYPE': 'Taipei Free免費無線上網熱點(室內)', 'HOTSPOT_NAME': '葫蘆堵分館', 'STATUS': '0', 'AREA': '圖書館', 'AP_ID': 'SL030003', 'ADDRESS': '臺北市士林區延平北路五段136巷1號4樓(門口進入第2支柱子往右數第6塊天花板)', 'LAT': '25.082193', 'LNG': '121.510873', '_id': 362}, {'HOTSPOT_TYPE': 'Taipei Free免費無線上網熱點(室內)', 'HOTSPOT_NAME': '葫蘆堵分館', 'STATUS': '0', 'AREA': '圖書館', 'AP_ID': 'SL030004', 'ADDRESS': '臺北市士林區延平北路五段136巷1號5樓(服務台與樓梯中間天花板)', 'LAT': '25.082193', 'LNG': '121.510875', '_id': 363}, {'HOTSPOT_TYPE': 'Taipei Free免費無線上網熱點(室內)', 'HOTSPOT_NAME': '葫蘆堵分館', 'STATUS': '0', 'AREA': '圖書館', 'AP_ID': 'SL030005', 'ADDRESS': '臺北市士林區延平北路五段136巷1號6樓(報紙閱覽區2月份報紙架上方天花板)', 'LAT': '25.082193', 'LNG': '121.510877', '_id': 364}, {'HOTSPOT_TYPE': 'Taipei Free免費無線上網熱點(室內)', 'HOTSPOT_NAME': '葫蘆堵分館', 'STATUS': '0', 'AREA': '圖書館', 'AP_ID': 'SL030006', 'ADDRESS': '臺北市士林區延平北路五段136巷1號7樓(座位區柱子前方天花板上)', 'LAT': '25.082193', 'LNG': '121.510879', '_id': 365}, {'HOTSPOT_TYPE': 'Taipei Free免費無線上網熱點(室內)', 'HOTSPOT_NAME': '葫蘆堵分館', 'STATUS': '0', 'AREA': '圖書館', 'AP_ID': 'SL030007', 'ADDRESS': '臺北市士林區延平北路五段136巷1號8樓(樓梯上來中間右邊柱子往左數第3塊天花板)', 'LAT': '25.082193', 'LNG': '121.510871', '_id': 366}, {'HOTSPOT_TYPE': 'Taipei Free免費無線上網熱點(室內)', 'HOTSPOT_NAME': '李科永分館', 'STATUS': '0', 'AREA': '圖書館', 'AP_ID': 'SL030011', 'ADDRESS': '臺北市士林區中正路15號(1F閱覽室天花板)', 'LAT': '25.090853', 'LNG': '121.517371', '_id': 367}, {'HOTSPOT_TYPE': 'Taipei Free免費無線上網熱點(室內)', 'HOTSPOT_NAME': '李科永分館', 'STATUS': '0', 'AREA': '圖書館', 'AP_ID': 'SL030012', 'ADDRESS': '臺北市士林區中正路15號(B1兒童閱覽室內天花板)', 'LAT': '25.090853', 'LNG': '121.517373', '_id': 368}, {'HOTSPOT_TYPE': 'Taipei Free免費無線上網熱點(室內)', 'HOTSPOT_NAME': '李科永分館', 'STATUS': '0', 'AREA': '圖書館', 'AP_ID': 'SL030014', 'ADDRESS': '臺北市士林區中正路15號(B2參考文獻區天花板)', 'LAT': '25.090853', 'LNG': '121.517377', '_id': 370}, {'HOTSPOT_TYPE': 'Taipei Free免費無線上網熱點(室內)', 'HOTSPOT_NAME': '百齡智慧圖書館', 'STATUS': '0', 'AREA': '圖書館', 'AP_ID': 'SL030015', 'ADDRESS': '臺北市士林區福港街205號(1F圖書館門口外天花板上)', 'LAT': '25.086207', 'LNG': '121.51785', '_id': 371}, {'HOTSPOT_TYPE': 'Taipei Free免費無線上網熱點(室內)', 'HOTSPOT_NAME': '陽明院區', 'STATUS': '0', 'AREA': '陽明院區', 'AP_ID': 'SL040002', 'ADDRESS': '臺北市士林區雨聲街105號健檢大樓1樓(候檢室旁櫃臺上方位置)', 'LAT': '25.105322', 'LNG': '121.531821', '_id': 372}, {'HOTSPOT_TYPE': 'Taipei Free免費無線上網熱點(室內)', 'HOTSPOT_NAME': '陽明院區', 'STATUS': '0', 'AREA': '陽明院區', 'AP_ID': 'SL040005', 'ADDRESS': '臺北市士林區雨聲街105號醫療1樓(電腦斷層掃描報告室前上方)', 'LAT': '25.105237', 'LNG': '121.531807', '_id': 373}, {'HOTSPOT_TYPE': 'Taipei Free免費無線上網熱點(室內)', 'HOTSPOT_NAME': '陽明院區', 'STATUS': '0', 'AREA': '陽明院區', 'AP_ID': 'SL040007', 'ADDRESS': '臺北市士林區雨聲街105號醫療1樓(放射科檢查室走道之中心位置)', 'LAT': '25.105422', 'LNG': '121.531881', '_id': 374}, {'HOTSPOT_TYPE': 'Taipei Free免費無線上網熱點(室內)', 'HOTSPOT_NAME': '陽明院區', 'STATUS': '0', 'AREA': '陽明院區', 'AP_ID': 'SL040008', 'ADDRESS': '臺北市士林區雨聲街105號醫療1樓(急診室志工服務臺前上方)', 'LAT': '25.105449', 'LNG': '121.531782', '_id': 375}, {'HOTSPOT_TYPE': 'Taipei Free免費無線上網熱點(室內)', 'HOTSPOT_NAME': '陽明院區', 'STATUS': '0', 'AREA': '陽明院區', 'AP_ID': 'SL040009', 'ADDRESS': '臺北市士林區雨聲街105號醫療1樓(急診室外科值班室門口正前方之上方位置)', 'LAT': '25.105451', 'LNG': '121.531682', '_id': 376}, {'HOTSPOT_TYPE': 'Taipei Free免費無線上網熱點(室內)', 'HOTSPOT_NAME': '陽明院區', 'STATUS': '0', 'AREA': '陽明院區', 'AP_ID': 'SL040010', 'ADDRESS': '臺北市士林區雨聲街105號醫療1樓(急診室藥局前方)', 'LAT': '25.105417', 'LNG': '121.531621', '_id': 377}, {'HOTSPOT_TYPE': 'Taipei Free免費無線上網熱點(室內)', 'HOTSPOT_NAME': '陽明院區', 'STATUS': '0', 'AREA': '陽明院區', 'AP_ID': 'SL040011', 'ADDRESS': '臺北市士林區雨聲街105號醫療1樓(大門口進去後上方)', 'LAT': '25.105497', 'LNG': '121.531648', '_id': 378}, {'HOTSPOT_TYPE': 'Taipei Free免費無線上網熱點(室內)', 'HOTSPOT_NAME': '陽明院區', 'STATUS': '0', 'AREA': '陽明院區', 'AP_ID': 'SL040013', 'ADDRESS': '臺北市士林區雨聲街105號醫療1樓(2號批價櫃台前上方)', 'LAT': '25.105492', 'LNG': '121.531719', '_id': 379}, {'HOTSPOT_TYPE': 'Taipei Free免費無線上網熱點(室內)', 'HOTSPOT_NAME': '陽明院區', 'STATUS': '0', 'AREA': '陽明院區', 'AP_ID': 'SL040014', 'ADDRESS': '臺北市士林區雨聲街105號醫療2樓(電梯等候區之上方位置)', 'LAT': '25.105252', 'LNG': '121.531887', '_id': 380}, {'HOTSPOT_TYPE': 'Taipei Free免費無線上網熱點(室內)', 'HOTSPOT_NAME': '陽明院區', 'STATUS': '0', 'AREA': '陽明院區', 'AP_ID': 'SL040015', 'ADDRESS': '臺北市士林區雨聲街105號醫療2樓(耳鼻喉科候診區上方)', 'LAT': '25.105393', 'LNG': '121.532012', '_id': 381}, {'HOTSPOT_TYPE': 'Taipei Free免費無線上網熱點(室內)', 'HOTSPOT_NAME': '陽明院區', 'STATUS': '0', 'AREA': '陽明院區', 'AP_ID': 'SL040017', 'ADDRESS': '臺北市士林區雨聲街105號醫療2樓(美容醫學中心前電視上方)', 'LAT': '25.105185', 'LNG': '121.532056', '_id': 382}, {'HOTSPOT_TYPE': 'Taipei Free免費無線上網熱點(室內)', 'HOTSPOT_NAME': '陽明院區', 'STATUS': '0', 'AREA': '陽明院區', 'AP_ID': 'SL040018', 'ADDRESS': '臺北市士林區雨聲街105號醫療2樓(小兒科3診前大維修孔上方)', 'LAT': '25.105191', 'LNG': '121.532087', '_id': 383}, {'HOTSPOT_TYPE': 'Taipei Free免費無線上網熱點(室內)', 'HOTSPOT_NAME': '陽明院區', 'STATUS': '0', 'AREA': '陽明院區', 'AP_ID': 'SL040019', 'ADDRESS': '臺北市士林區雨聲街105號醫療2樓(牙科門診等候區上方)', 'LAT': '25.105099', 'LNG': '121.531831', '_id': 384}, {'HOTSPOT_TYPE': 'Taipei Free免費無線上網熱點(室內)', 'HOTSPOT_NAME': '陽明院區', 'STATUS': '0', 'AREA': '陽明院區', 'AP_ID': 'SL040020', 'ADDRESS': '臺北市士林區雨聲街105號醫療2樓(中醫53診室外)', 'LAT': '25.105011', 'LNG': '121.531641', '_id': 385}, {'HOTSPOT_TYPE': 'Taipei Free免費無線上網熱點(室內)', 'HOTSPOT_NAME': '陽明院區', 'STATUS': '0', 'AREA': '陽明院區', 'AP_ID': 'SL040021', 'ADDRESS': '臺北市士林區雨聲街105號醫療3樓(麻醉恢復室外上方)', 'LAT': '25.104987', 'LNG': '121.531688', '_id': 386}, {'HOTSPOT_TYPE': 'Taipei Free免費無線上網熱點(室內)', 'HOTSPOT_NAME': '陽明院區', 'STATUS': '0', 'AREA': '陽明院區', 'AP_ID': 'SL040022', 'ADDRESS': '臺北市士林區雨聲街105號醫療3樓(加護中心內上方)', 'LAT': '25.104938', 'LNG': '121.531571', '_id': 387}, {'HOTSPOT_TYPE': 'Taipei Free免費無線上網熱點(室內)', 'HOTSPOT_NAME': '陽明院區', 'STATUS': '0', 'AREA': '陽明院區', 'AP_ID': 'SL040023', 'ADDRESS': '臺北市士林區雨聲街105號醫療3樓(心理治療室外上方)', 'LAT': '25.104961', 'LNG': '121.531485', '_id': 388}, {'HOTSPOT_TYPE': 'Taipei Free免費無線上網熱點(室內)', 'HOTSPOT_NAME': '陽明院區', 'STATUS': '0', 'AREA': '陽明院區', 'AP_ID': 'SL040024', 'ADDRESS': '臺北市士林區雨聲街105號醫療5樓(A區產科病房走道，臨A510、507病房門口)', 'LAT': '25.104843', 'LNG': '121.531414', '_id': 389}, {'HOTSPOT_TYPE': 'Taipei Free免費無線上網熱點(室內)', 'HOTSPOT_NAME': '陽明院區', 'STATUS': '0', 'AREA': '陽明院區', 'AP_ID': 'SL040025', 'ADDRESS': '臺北市士林區雨聲街105號醫療5樓(A區產科病房走道，臨A517、513病房門口)', 'LAT': '25.104832', 'LNG': '121.531454', '_id': 390}, {'HOTSPOT_TYPE': 'Taipei Free免費無線上網熱點(室內)', 'HOTSPOT_NAME': '陽明院區', 'STATUS': '0', 'AREA': '陽明院區', 'AP_ID': 'SL040026', 'ADDRESS': '臺北市士林區雨聲街105號醫療5樓(A區護理站走道，臨A501、A519病房)', 'LAT': '25.104829', 'LNG': '121.531535', '_id': 391}, {'HOTSPOT_TYPE': 'Taipei Free免費無線上網熱點(室內)', 'HOTSPOT_NAME': '陽明院區', 'STATUS': '0', 'AREA': '陽明院區', 'AP_ID': 'SL040031', 'ADDRESS': '臺北市士林區雨聲街105號醫療5樓(C區小兒科病房走道上方，臨C531病房門口)', 'LAT': '25.104814', 'LNG': '121.531587', '_id': 392}, {'HOTSPOT_TYPE': 'Taipei Free免費無線上網熱點(室內)', 'HOTSPOT_NAME': '陽明院區', 'STATUS': '0', 'AREA': '陽明院區', 'AP_ID': 'SL040032', 'ADDRESS': '臺北市士林區雨聲街105號醫療5樓(C區521病房前上方)', 'LAT': '25.104806', 'LNG': '121.531666', '_id': 393}, {'HOTSPOT_TYPE': 'Taipei Free免費無線上網熱點(室內)', 'HOTSPOT_NAME': '陽明院區', 'STATUS': '0', 'AREA': '陽明院區', 'AP_ID': 'SL040033', 'ADDRESS': '臺北市士林區雨聲街105號醫療5樓(C區資訊室門口前方與電梯等候區中心位置)', 'LAT': '25.104859', 'LNG': '121.531709', '_id': 394}, {'HOTSPOT_TYPE': 'Taipei Free免費無線上網熱點(室內)', 'HOTSPOT_NAME': '陽明院區', 'STATUS': '0', 'AREA': '陽明院區', 'AP_ID': 'SL040036', 'ADDRESS': '臺北市士林區雨聲街105號醫療6樓(A區6A護理站前方走道，A620病房門口)', 'LAT': '25.104933', 'LNG': '121.531756', '_id': 395}, {'HOTSPOT_TYPE': 'Taipei Free免費無線上網熱點(室內)', 'HOTSPOT_NAME': '陽明院區', 'STATUS': '0', 'AREA': '陽明院區', 'AP_ID': 'SL040037', 'ADDRESS': '臺北市士林區雨聲街105號醫療6樓(A區骨科病房走道，臨A608、A611病房門口)', 'LAT': '25.104971', 'LNG': '121.531765', '_id': 396}, {'HOTSPOT_TYPE': 'Taipei Free免費無線上網熱點(室內)', 'HOTSPOT_NAME': '陽明院區', 'STATUS': '0', 'AREA': '陽明院區', 'AP_ID': 'SL040038', 'ADDRESS': '臺北市士林區雨聲街105號醫療6樓(A區骨科病房走道，臨A615、A618病房門口)', 'LAT': '25.105045', 'LNG': '121.531807', '_id': 397}, {'HOTSPOT_TYPE': 'Taipei Free免費無線上網熱點(室內)', 'HOTSPOT_NAME': '陽明院區', 'STATUS': '0', 'AREA': '陽明院區', 'AP_ID': 'SL040039', 'ADDRESS': '臺北市士林區雨聲街105號醫療6樓(B區6B護理站前方走道，B650病房門口休息區)', 'LAT': '25.105028', 'LNG': '121.531858', '_id': 398}, {'HOTSPOT_TYPE': 'Taipei Free免費無線上網熱點(室內)', 'HOTSPOT_NAME': '陽明院區', 'STATUS': '0', 'AREA': '陽明院區', 'AP_ID': 'SL040040', 'ADDRESS': '臺北市士林區雨聲街105號醫療6樓(C區大會議室內之中心位置，臨投影機)', 'LAT': '25.105024', 'LNG': '121.531904', '_id': 399}, {'HOTSPOT_TYPE': 'Taipei Free免費無線上網熱點(室內)', 'HOTSPOT_NAME': '陽明院區', 'STATUS': '0', 'AREA': '陽明院區', 'AP_ID': 'SL040045', 'ADDRESS': '臺北市士林區雨聲街105號醫療7樓(A區護理站左側走道末端上方，臨A718、A715病房門口)', 'LAT': '25.105051', 'LNG': '121.532043', '_id': 400}, {'HOTSPOT_TYPE': 'Taipei Free免費無線上網熱點(室內)', 'HOTSPOT_NAME': '陽明院區', 'STATUS': '0', 'AREA': '陽明院區', 'AP_ID': 'SL040046', 'ADDRESS': '臺北市士林區雨聲街105號醫療7樓(B區護理站右側走道末端上方，臨儀器室門口)', 'LAT': '25.105041', 'LNG': '121.532174', '_id': 401}, {'HOTSPOT_TYPE': 'Taipei Free免費無線上網熱點(室內)', 'HOTSPOT_NAME': '陽明院區', 'STATUS': '0', 'AREA': '陽明院區', 'AP_ID': 'SL040052', 'ADDRESS': '臺北市士林區雨聲街105號醫療7樓(C區護理站前方走道上方位置，臨C755病房門口)', 'LAT': '25.104991', 'LNG': '121.532171', '_id': 402}, {'HOTSPOT_TYPE': 'Taipei Free免費無線上網熱點(室內)', 'HOTSPOT_NAME': '陽明院區', 'STATUS': '0', 'AREA': '陽明院區', 'AP_ID': 'SL040056', 'ADDRESS': '臺北市士林區雨聲街105號醫療8樓(A區護理站前方走道上方位置，臨A821、A802病房門口)', 'LAT': '25.105039', 'LNG': '121.532047', '_id': 403}, {'HOTSPOT_TYPE': 'Taipei Free免費無線上網熱點(室內)', 'HOTSPOT_NAME': '陽明院區', 'STATUS': '0', 'AREA': '陽明院區', 'AP_ID': 'SL040062', 'ADDRESS': '臺北市士林區雨聲街105號醫療8樓(C區護理站前方走道上方位置，臨C853病房)', 'LAT': '25.105045', 'LNG': '121.532236', '_id': 404}, {'HOTSPOT_TYPE': 'Taipei Free免費無線上網熱點(室內)', 'HOTSPOT_NAME': '陽明院區', 'STATUS': '0', 'AREA': '陽明院區', 'AP_ID': 'SL040063', 'ADDRESS': '臺北市士林區雨聲街105號醫療9樓(大禮堂內中心位置，臨投影機)', 'LAT': '25.105091', 'LNG': '121.532276', '_id': 405}, {'HOTSPOT_TYPE': 'Taipei Free免費無線上網熱點(室內)', 'HOTSPOT_NAME': '陽明院區', 'STATUS': '0', 'AREA': '陽明院區', 'AP_ID': 'SL040064', 'ADDRESS': '臺北市士林區雨聲街105號醫療9樓(往禮堂走道小兒科門牌前上方)', 'LAT': '25.105098', 'LNG': '121.532331', '_id': 406}, {'HOTSPOT_TYPE': 'Taipei Free免費無線上網熱點(室內)', 'HOTSPOT_NAME': '陽明院區', 'STATUS': '0', 'AREA': '陽明院區', 'AP_ID': 'SL040068', 'ADDRESS': '臺北市士林區雨聲街105號醫療9樓(B區護理站前方走道上方位置，臨B939病房門口)', 'LAT': '25.105139', 'LNG': '121.532359', '_id': 407}, {'HOTSPOT_TYPE': 'Taipei Free免費無線上網熱點(室內)', 'HOTSPOT_NAME': '陽明院區', 'STATUS': '0', 'AREA': '陽明院區', 'AP_ID': 'SL040071', 'ADDRESS': '臺北市士林區雨聲街105號醫療9樓(C區護理站前方走道上方位置，臨C953肝炎帶原者室)', 'LAT': '25.105018', 'LNG': '121.532311', '_id': 408}, {'HOTSPOT_TYPE': 'Taipei Free免費無線上網熱點(室內)', 'HOTSPOT_NAME': '陽明院區', 'STATUS': '0', 'AREA': '陽明院區', 'AP_ID': 'SL040072', 'ADDRESS': '臺北市士林區雨聲街105號醫療9樓(病床專用電梯右側休息區上方)', 'LAT': '25.105002', 'LNG': '121.532126', '_id': 409}, {'HOTSPOT_TYPE': 'Taipei Free免費無線上網熱點(室內)', 'HOTSPOT_NAME': '陽明院區', 'STATUS': '0', 'AREA': '陽明院區', 'AP_ID': 'SL040073', 'ADDRESS': '臺北市士林區雨聲街105號醫療B1(餐廳內中間上方)', 'LAT': '25.105033', 'LNG': '121.531909', '_id': 410}, {'HOTSPOT_TYPE': 'Taipei Free免費無線上網熱點(室內)', 'HOTSPOT_NAME': '陽明院區', 'STATUS': '0', 'AREA': '陽明院區', 'AP_ID': 'SL040074', 'ADDRESS': '臺北市士林區雨聲街105號醫療B1(理髮部門口上方)', 'LAT': '25.105146', 'LNG': '121.531964', '_id': 411}, {'HOTSPOT_TYPE': 'Taipei Free免費無線上網熱點(室內)', 'HOTSPOT_NAME': '士林夜市', 'STATUS': '0', 'AREA': '觀光夜市', 'AP_ID': 'SL080001', 'ADDRESS': '臺北市士林區基河路101號B1美食街(53號攤位前走道天花板)', 'LAT': '25.087867', 'LNG': '121.524105', '_id': 412}, {'HOTSPOT_TYPE': 'Taipei Free免費無線上網熱點(室內)', 'HOTSPOT_NAME': '士林夜市', 'STATUS': '0', 'AREA': '觀光夜市', 'AP_ID': 'SL080002', 'ADDRESS': '臺北市士林區基河路101號B1美食街(34號攤位前走道天花板)', 'LAT': '25.087867', 'LNG': '121.524107', '_id': 413}, {'HOTSPOT_TYPE': 'Taipei Free免費無線上網熱點(室內)', 'HOTSPOT_NAME': '士林夜市', 'STATUS': '0', 'AREA': '觀光夜市', 'AP_ID': 'SL080003', 'ADDRESS': '臺北市士林區基河路101號B1美食街(20號攤位左側走道天花板)', 'LAT': '25.087867', 'LNG': '121.524109', '_id': 414}, {'HOTSPOT_TYPE': 'Taipei Free免費無線上網熱點(室內)', 'HOTSPOT_NAME': '士林夜市', 'STATUS': '0', 'AREA': '觀光夜市', 'AP_ID': 'SL080004', 'ADDRESS': '臺北市士林區基河路101號B1美食街(86號攤位右側走道天花板)', 'LAT': '25.087867', 'LNG': '121.524103', '_id': 415}, {'HOTSPOT_TYPE': 'Taipei Free免費無線上網熱點(室內)', 'HOTSPOT_NAME': '錢穆故居', 'STATUS': '0', 'AREA': '文化場館', 'AP_ID': 'SL160003', 'ADDRESS': '臺北市士林區臨溪路72號-(人文茶館攝影機旁)', 'LAT': '25.094285', 'LNG': '121.546317', '_id': 416}, {'HOTSPOT_TYPE': 'Taipei Free免費無線上網熱點(室內)', 'HOTSPOT_NAME': '士林稅捐處', 'STATUS': '0', 'AREA': '稅捐稽徵處', 'AP_ID': 'SL180001', 'ADDRESS': '臺北市士林區美崙街41號(2F右側辦公區中間走道天花板上)', 'LAT': '25.097062', 'LNG': '121.522821', '_id': 417}, {'HOTSPOT_TYPE': 'Taipei Free免費無線上網熱點(室內)', 'HOTSPOT_NAME': '士林稅捐處', 'STATUS': '0', 'AREA': '稅捐稽徵處', 'AP_ID': 'SL180002', 'ADDRESS': '臺北市士林區美崙街41號(2F左側辦公區中間走道天花板上)', 'LAT': '25.097068', 'LNG': '121.522821', '_id': 418}, {'HOTSPOT_TYPE': 'Taipei Free免費無線上網熱點(室外)', 'HOTSPOT_NAME': '主要街道', 'STATUS': '0', 'AREA': '戶外熱點', 'AP_ID': '289Y900317', 'ADDRESS': '台北市北投區公館路33號', 'LAT': '25.133074', 'LNG': '121.50317', '_id': 1092}, {'HOTSPOT_TYPE': 'Taipei Free免費無線上網熱點(室內)', 'HOTSPOT_NAME': '天文科學教育館', 'STATUS': '0', 'AREA': '天文科學教育館', 'AP_ID': 'SL220007', 'ADDRESS': '臺北市士林區基河路363號(1樓服務台右側上方)', 'LAT': '25.095829', 'LNG': '121.518297', '_id': 419}, {'HOTSPOT_TYPE': 'Taipei Free免費無線上網熱點(室內)', 'HOTSPOT_NAME': '天文科學教育館', 'STATUS': '0', 'AREA': '天文科學教育館', 'AP_ID': 'SL220008', 'ADDRESS': '臺北市士林區基河路363號(1樓服務台左側上方)', 'LAT': '25.095829', 'LNG': '121.518295', '_id': 420}, {'HOTSPOT_TYPE': 'Taipei Free免費無線上網熱點(室內)', 'HOTSPOT_NAME': '天文科學教育館', 'STATUS': '0', 'AREA': '天文科學教育館', 'AP_ID': 'SL220012', 'ADDRESS': '臺北市士林區基河路363號(2F用餐區天花板上方)', 'LAT': '25.095829', 'LNG': '121.518291', '_id': 421}, {'HOTSPOT_TYPE': 'Taipei Free免費無線上網熱點(室內)', 'HOTSPOT_NAME': '陽明教養院-永福院區', 'STATUS': '0', 'AREA': '為民服務單位', 'AP_ID': 'SL220037', 'ADDRESS': '臺北市士林區莊頂路2號(1F護理站前方天花板)', 'LAT': '25.110602', 'LNG': '121.549215', '_id': 422}, {'HOTSPOT_TYPE': 'Taipei Free免費無線上網熱點(室內)', 'HOTSPOT_NAME': '陽明教養院-華岡院區', 'STATUS': '0', 'AREA': '為民服務單位', 'AP_ID': 'SL220043', 'ADDRESS': '臺北市士林區凱旋路61巷4弄9號(1F大廳)', 'LAT': '25.135196', 'LNG': '121.541206', '_id': 423}, {'HOTSPOT_TYPE': 'Taipei Free免費無線上網熱點(室內)', 'HOTSPOT_NAME': '至善老人養護中心', 'STATUS': '0', 'AREA': '為民服務單位', 'AP_ID': 'SL220051', 'ADDRESS': '臺北市士林區仰德大道二段2巷50號(服務台)', 'LAT': '25.101946', 'LNG': '121.543182', '_id': 424}, {'HOTSPOT_TYPE': 'Taipei Free免費無線上網熱點(室內)', 'HOTSPOT_NAME': '臺北市婦女館', 'STATUS': '0', 'AREA': '為民服務單位', 'AP_ID': 'SL220054', 'ADDRESS': '臺北市萬華區艋舺大道101號3樓(服務台旁座位區上方)', 'LAT': '25.033461', 'LNG': '121.501346', '_id': 425}, {'HOTSPOT_TYPE': 'Taipei Free免費無線上網熱點(室內)', 'HOTSPOT_NAME': '臺北市婦女館', 'STATUS': '0', 'AREA': '為民服務單位', 'AP_ID': 'SL220055', 'ADDRESS': '臺北市萬華區艋舺大道101號3樓(教室門口上方)', 'LAT': '25.033446', 'LNG': '121.501272', '_id': 426}, {'HOTSPOT_TYPE': 'Taipei Free免費無線上網熱點(室內)', 'HOTSPOT_NAME': '捷運芝山站轉乘停車場', 'STATUS': '0', 'AREA': '捷運停車場', 'AP_ID': 'SL240002', 'ADDRESS': '臺北市士林區福華路22號前停車場(收費票亭牆上冷氣左側)', 'LAT': '25.101282', 'LNG': '121.523216', '_id': 427}, {'HOTSPOT_TYPE': 'Taipei Free免費無線上網熱點(室內)', 'HOTSPOT_NAME': '捷運芝山站轉乘停車場', 'STATUS': '0', 'AREA': '捷運停車場', 'AP_ID': 'SL240003', 'ADDRESS': '臺北市士林區福國路70號(收費票亭牆上冷氣右側)', 'LAT': '25.1038', 'LNG': '121.5224', '_id': 428}, {'HOTSPOT_TYPE': 'Taipei Free免費無線上網熱點(室內)', 'HOTSPOT_NAME': '蘭雅公園地下停車場', 'STATUS': '0', 'AREA': '公有停車場', 'AP_ID': 'SL240017', 'ADDRESS': '臺北市士林區德行東路129巷31號B1F(管理室右方)', 'LAT': '25.107624', 'LNG': '121.532155', '_id': 429}, {'HOTSPOT_TYPE': 'Taipei Free免費無線上網熱點(室內)', 'HOTSPOT_NAME': '士林仰德區民活動中心', 'STATUS': '0', 'AREA': '區民活動中心', 'AP_ID': 'SL300001', 'ADDRESS': '臺北市士林區德行西路30號(辦公室左側牆上)', 'LAT': '25.104658', 'LNG': '121.521983', '_id': 430}, {'HOTSPOT_TYPE': 'Taipei Free免費無線上網熱點(室內)', 'HOTSPOT_NAME': '士林芝山岩區民活動中心', 'STATUS': '0', 'AREA': '區民活動中心', 'AP_ID': 'SL300002', 'ADDRESS': '臺北市士林區雨聲街68號(天花板上)', 'LAT': '25.103448', 'LNG': '121.528598', '_id': 431}, {'HOTSPOT_TYPE': 'Taipei Free免費無線上網熱點(室內)', 'HOTSPOT_NAME': '士林葫蘆堵區民活動中心', 'STATUS': '0', 'AREA': '區民活動中心', 'AP_ID': 'SL300003', 'ADDRESS': '臺北市士林區延平北路五段136巷1號', 'LAT': '25.082195', 'LNG': '121.510873', '_id': 432}, {'HOTSPOT_TYPE': 'Taipei Free免費無線上網熱點(室內)', 'HOTSPOT_NAME': '士林福中區民活動中心', 'STATUS': '0', 'AREA': '區民活動中心', 'AP_ID': 'SL300004', 'ADDRESS': '臺北市士林區福港街151號9樓閱覽室(天花板上)', 'LAT': '25.08728', 'LNG': '121.517957', '_id': 433}, {'HOTSPOT_TYPE': 'Taipei Free免費無線上網熱點(室內)', 'HOTSPOT_NAME': '士林福佳區民活動中心', 'STATUS': '0', 'AREA': '區民活動中心', 'AP_ID': 'SL300005', 'ADDRESS': '臺北市士林區美崙街190號(進門左邊天花板上)', 'LAT': '25.097155', 'LNG': '121.517473', '_id': 434}, {'HOTSPOT_TYPE': 'Taipei Free免費無線上網熱點(室內)', 'HOTSPOT_NAME': '士林福林區民活動中心', 'STATUS': '0', 'AREA': '區民活動中心', 'AP_ID': 'SL300006', 'ADDRESS': '臺北市士林區中正路187巷26-1號(中央天花板上)', 'LAT': '25.094702', 'LNG': '121.527387', '_id': 435}, {'HOTSPOT_TYPE': 'Taipei Free免費無線上網熱點(室內)', 'HOTSPOT_NAME': '士林福安區民活動中心', 'STATUS': '0', 'AREA': '區民活動中心', 'AP_ID': 'SL300007', 'ADDRESS': '臺北市士林區延平北路七段114號2樓(中央天花板)', 'LAT': '25.097353', 'LNG': '121.494464', '_id': 436}, {'HOTSPOT_TYPE': 'Taipei Free免費無線上網熱點(室內)', 'HOTSPOT_NAME': '士林中洲區民活動中心', 'STATUS': '0', 'AREA': '區民活動中心', 'AP_ID': 'SL300008', 'ADDRESS': '臺北市士林區延平北路九段80號1樓(中央天花板)', 'LAT': '25.106337', 'LNG': '121.474814', '_id': 437}, {'HOTSPOT_TYPE': 'Taipei Free免費無線上網熱點(室內)', 'HOTSPOT_NAME': '松山區行政中心', 'STATUS': '0', 'AREA': '區行政中心', 'AP_ID': 'SS020001', 'ADDRESS': '臺北市松山區八德路四段692號10樓(簡報室門口左側臨牆角臨調解委員會牆壁邊)', 'LAT': '25.049843', 'LNG': '121.577243', '_id': 438}, {'HOTSPOT_TYPE': 'Taipei Free免費無線上網熱點(室內)', 'HOTSPOT_NAME': '松山區行政中心', 'STATUS': '0', 'AREA': '區行政中心', 'AP_ID': 'SS020002', 'ADDRESS': '臺北市松山區八德路四段692號1樓(大廳服務台之右側電梯間與左側防災監控室門口之中心位置)', 'LAT': '25.049843', 'LNG': '121.577241', '_id': 439}, {'HOTSPOT_TYPE': 'Taipei Free免費無線上網熱點(室內)', 'HOTSPOT_NAME': '松山區行政中心', 'STATUS': '0', 'AREA': '區行政中心', 'AP_ID': 'SS020003', 'ADDRESS': '臺北市松山區八德路四段692號1樓(聯合醫院松山門診部掛號室與物理治療室門口之中心位置)', 'LAT': '25.049843', 'LNG': '121.577245', '_id': 440}, {'HOTSPOT_TYPE': 'Taipei Free免費無線上網熱點(室內)', 'HOTSPOT_NAME': '松山區行政中心', 'STATUS': '0', 'AREA': '區行政中心', 'AP_ID': 'SS020004', 'ADDRESS': '臺北市松山區八德路四段692號3樓(衛生局東區聯合稽查分隊正門口與電子跑馬燈之間中心位置，臨服務臺)', 'LAT': '25.049843', 'LNG': '121.577247', '_id': 441}, {'HOTSPOT_TYPE': 'Taipei Free免費無線上網熱點(室內)', 'HOTSPOT_NAME': '松山區行政中心', 'STATUS': '0', 'AREA': '區行政中心', 'AP_ID': 'SS020005', 'ADDRESS': '臺北市松山區八德路四段692號4樓(服務臺上方天花板)', 'LAT': '25.049843', 'LNG': '121.577249', '_id': 442}, {'HOTSPOT_TYPE': 'Taipei Free免費無線上網熱點(室內)', 'HOTSPOT_NAME': '松山區行政中心', 'STATUS': '0', 'AREA': '區行政中心', 'AP_ID': 'SS020006', 'ADDRESS': '臺北市松山區八德路四段692號5樓(戶政事務所座位區上方)', 'LAT': '25.049841', 'LNG': '121.577243', '_id': 443}, {'HOTSPOT_TYPE': 'Taipei Free免費無線上網熱點(室內)', 'HOTSPOT_NAME': '松山區健康服務中心', 'STATUS': '0', 'AREA': '健康服務中心', 'AP_ID': 'SS020007', 'ADDRESS': '臺北市松山區八德路四段692號6樓(總收發室門口正前方天花板)', 'LAT': '25.049845', 'LNG': '121.577243', '_id': 444}, {'HOTSPOT_TYPE': 'Taipei Free免費無線上網熱點(室內)', 'HOTSPOT_NAME': '松山區行政中心', 'STATUS': '0', 'AREA': '區行政中心', 'AP_ID': 'SS020008', 'ADDRESS': '臺北市松山區八德路四段692號7樓(電梯口前方服務台右側第二片天花板處)', 'LAT': '25.049847', 'LNG': '121.577243', '_id': 445}, {'HOTSPOT_TYPE': 'Taipei Free免費無線上網熱點(室內)', 'HOTSPOT_NAME': '松山區行政中心', 'STATUS': '0', 'AREA': '區行政中心', 'AP_ID': 'SS020009', 'ADDRESS': '臺北市松山區八德路四段692號8樓(電梯口前方座位區之中心位置)', 'LAT': '25.049849', 'LNG': '121.577243', '_id': 446}, {'HOTSPOT_TYPE': 'Taipei Free免費無線上網熱點(室內)', 'HOTSPOT_NAME': '松山區行政中心', 'STATUS': '0', 'AREA': '區行政中心', 'AP_ID': 'SS020010', 'ADDRESS': '臺北市松山區八德路四段692號9樓(電梯口前門廳之兩支妝飾柱子之間中心位置)', 'LAT': '25.049849', 'LNG': '121.577245', '_id': 447}, {'HOTSPOT_TYPE': 'Taipei Free免費無線上網熱點(室內)', 'HOTSPOT_NAME': '松山分館', 'STATUS': '0', 'AREA': '圖書館', 'AP_ID': 'SS030001', 'ADDRESS': '臺北市松山區八德路四段688號5樓(自修室中間天花板上)', 'LAT': '25.049834', 'LNG': '121.576847', '_id': 448}, {'HOTSPOT_TYPE': 'Taipei Free免費無線上網熱點(室內)', 'HOTSPOT_NAME': '松山分館', 'STATUS': '0', 'AREA': '圖書館', 'AP_ID': 'SS030002', 'ADDRESS': '臺北市松山區八德路四段688號6樓(兩間期刊室中間天花板上)', 'LAT': '25.049834', 'LNG': '121.576845', '_id': 449}, {'HOTSPOT_TYPE': 'Taipei Free免費無線上網熱點(室內)', 'HOTSPOT_NAME': '松山分館', 'STATUS': '0', 'AREA': '圖書館', 'AP_ID': 'SS030003', 'ADDRESS': '臺北市松山區八德路四段688號7樓(服務台前方3米處天花板上)', 'LAT': '25.049834', 'LNG': '121.576843', '_id': 450}, {'HOTSPOT_TYPE': 'Taipei Free免費無線上網熱點(室內)', 'HOTSPOT_NAME': '松山分館', 'STATUS': '0', 'AREA': '圖書館', 'AP_ID': 'SS030004', 'ADDRESS': '臺北市松山區八德路四段688號8樓(兒童閱覽室牌子上方天花板)', 'LAT': '25.049834', 'LNG': '121.576849', '_id': 451}, {'HOTSPOT_TYPE': 'Taipei Free免費無線上網熱點(室內)', 'HOTSPOT_NAME': '三民分館', 'STATUS': '0', 'AREA': '圖書館', 'AP_ID': 'SS030005', 'ADDRESS': '臺北市松山區民生東路五段163-1號5樓(閱覽室中心位置上方)', 'LAT': '25.059274', 'LNG': '121.562837', '_id': 452}, {'HOTSPOT_TYPE': 'Taipei Free免費無線上網熱點(室內)', 'HOTSPOT_NAME': '三民分館', 'STATUS': '0', 'AREA': '圖書館', 'AP_ID': 'SS030006', 'ADDRESS': '臺北市松山區民生東路五段163-1號6樓(自修室中心位置上方)', 'LAT': '25.059274', 'LNG': '121.562835', '_id': 453}, {'HOTSPOT_TYPE': 'Taipei Free免費無線上網熱點(室內)', 'HOTSPOT_NAME': '中崙分館', 'STATUS': '0', 'AREA': '圖書館', 'AP_ID': 'SS030007', 'ADDRESS': '臺北市松山區長安東路二段229號10樓(參考資料區)', 'LAT': '25.048378', 'LNG': '121.545896', '_id': 454}, {'HOTSPOT_TYPE': 'Taipei Free免費無線上網熱點(室內)', 'HOTSPOT_NAME': '中崙分館', 'STATUS': '0', 'AREA': '圖書館', 'AP_ID': 'SS030008', 'ADDRESS': '臺北市松山區長安東路二段229號8樓(兒童閱覽區)', 'LAT': '25.048378', 'LNG': '121.545898', '_id': 455}, {'HOTSPOT_TYPE': 'Taipei Free免費無線上網熱點(室內)', 'HOTSPOT_NAME': '中崙分館', 'STATUS': '0', 'AREA': '圖書館', 'AP_ID': 'SS030009', 'ADDRESS': '臺北市松山區長安東路二段229號9樓(漫畫參考資料區)', 'LAT': '25.048372', 'LNG': '121.545896', '_id': 456}, {'HOTSPOT_TYPE': 'Taipei Free免費無線上網熱點(室內)', 'HOTSPOT_NAME': '啟明分館', 'STATUS': '0', 'AREA': '圖書館', 'AP_ID': 'SS030010', 'ADDRESS': '臺北市松山區敦化北路155巷76號1樓（親子共讀區天花板內)', 'LAT': '25.054349', 'LNG': '121.551818', '_id': 457}, {'HOTSPOT_TYPE': 'Taipei Free免費無線上網熱點(室內)', 'HOTSPOT_NAME': '啟明分館', 'STATUS': '0', 'AREA': '圖書館', 'AP_ID': 'SS030011', 'ADDRESS': '臺北市松山區敦化北路155巷76號2樓（電梯出口上方天花板內)', 'LAT': '25.054349', 'LNG': '121.551812', '_id': 458}, {'HOTSPOT_TYPE': 'Taipei Free免費無線上網熱點(室內)', 'HOTSPOT_NAME': '三民分館', 'STATUS': '0', 'AREA': '圖書館', 'AP_ID': 'SS030016', 'ADDRESS': '臺北市松山區民生東路五段163-1號6樓(閱覽區中央)', 'LAT': '25.059274', 'LNG': '121.562833', '_id': 459}, {'HOTSPOT_TYPE': 'Taipei Free免費無線上網熱點(室內)', 'HOTSPOT_NAME': '松山機場智慧圖書館', 'STATUS': '0', 'AREA': '圖書館', 'AP_ID': 'SS030017', 'ADDRESS': '臺北市松山區敦化北路338號(捷運松山機場站3號入口B1連通道)', 'LAT': '25.063721', 'LNG': '121.549642', '_id': 460}, {'HOTSPOT_TYPE': 'Taipei Free免費無線上網熱點(室內)', 'HOTSPOT_NAME': '饒河街夜市', 'STATUS': '0', 'AREA': '觀光夜市', 'AP_ID': 'SS080002', 'ADDRESS': '臺北市松山區八德路四段769號(騎樓吸頂)', 'LAT': '25.050094', 'LNG': '121.577661', '_id': 461}, {'HOTSPOT_TYPE': 'Taipei Free免費無線上網熱點(室內)', 'HOTSPOT_NAME': '松山運動中心', 'STATUS': '0', 'AREA': '運動中心', 'AP_ID': 'SS130001', 'ADDRESS': '臺北市松山區敦化北路1號(走廊置物櫃上方天花板內)', 'LAT': '25.048607', 'LNG': '121.550231', '_id': 462}, {'HOTSPOT_TYPE': 'Taipei Free免費無線上網熱點(室內)', 'HOTSPOT_NAME': '松山運動中心', 'STATUS': '0', 'AREA': '運動中心', 'AP_ID': 'SS130002', 'ADDRESS': '臺北市松山區敦化北路1號(泳衣賣場上面天花板內)', 'LAT': '25.048607', 'LNG': '121.550235', '_id': 463}, {'HOTSPOT_TYPE': 'Taipei Free免費無線上網熱點(室內)', 'HOTSPOT_NAME': '松山運動中心', 'STATUS': '0', 'AREA': '運動中心', 'AP_ID': 'SS130003', 'ADDRESS': '臺北市松山區敦化北路1號(社區教室天花板內)', 'LAT': '25.048603', 'LNG': '121.550231', '_id': 464}, {'HOTSPOT_TYPE': 'Taipei Free免費無線上網熱點(室內)', 'HOTSPOT_NAME': '松山運動中心', 'STATUS': '0', 'AREA': '運動中心', 'AP_ID': 'SS130004', 'ADDRESS': '臺北市松山區敦化北路1號(健身房書櫃上方)', 'LAT': '25.048609', 'LNG': '121.550231', '_id': 465}, {'HOTSPOT_TYPE': 'Taipei Free免費無線上網熱點(室內)', 'HOTSPOT_NAME': '昆明院區', 'STATUS': '0', 'AREA': '昆明院區', 'AP_ID': 'WH040004', 'ADDRESS': '臺北市萬華區昆明街100號2樓(25診門口上方)', 'LAT': '25.044324', 'LNG': '121.50496', '_id': 514}, {'HOTSPOT_TYPE': 'Taipei Free免費無線上網熱點(室內)', 'HOTSPOT_NAME': '臺北市立社會教育館', 'STATUS': '0', 'AREA': '文化場館', 'AP_ID': 'SS220007', 'ADDRESS': '臺北市松山區八德路三段25號(1F棋奕區上方)', 'LAT': '25.048423', 'LNG': '121.552249', '_id': 466}, {'HOTSPOT_TYPE': 'Taipei Free免費無線上網熱點(室內)', 'HOTSPOT_NAME': '臺北市立社會教育館', 'STATUS': '0', 'AREA': '文化場館', 'AP_ID': 'SS220008', 'ADDRESS': '臺北市松山區八德路三段25號(1F閱讀區上方)', 'LAT': '25.048464', 'LNG': '121.552277', '_id': 467}, {'HOTSPOT_TYPE': 'Taipei Free免費無線上網熱點(室內)', 'HOTSPOT_NAME': '臺北市立社會教育館', 'STATUS': '0', 'AREA': '文化場館', 'AP_ID': 'SS220010', 'ADDRESS': '臺北市松山區八德路三段25號(B1停車場卸貨區)', 'LAT': '25.048418', 'LNG': '121.552249', '_id': 468}, {'HOTSPOT_TYPE': 'Taipei Free免費無線上網熱點(室內)', 'HOTSPOT_NAME': '臺北市立社會教育館-城市舞台', 'STATUS': '0', 'AREA': '文化場館', 'AP_ID': 'SS220011', 'ADDRESS': '臺北市松山區八德路三段25號(B1城市舞台後面樓梯口上方)', 'LAT': '25.048421', 'LNG': '121.551382', '_id': 469}, {'HOTSPOT_TYPE': 'Taipei Free免費無線上網熱點(室內)', 'HOTSPOT_NAME': '臺北市立社會教育館-城市舞台', 'STATUS': '0', 'AREA': '文化場館', 'AP_ID': 'SS220014', 'ADDRESS': '臺北市松山區八德路三段25號(B1舞台服務台前上方)', 'LAT': '25.048429', 'LNG': '121.551505', '_id': 470}, {'HOTSPOT_TYPE': 'Taipei Free免費無線上網熱點(室內)', 'HOTSPOT_NAME': '臺北體育館', 'STATUS': '0', 'AREA': '其他', 'AP_ID': 'SS220017', 'ADDRESS': '臺北市松山區南京東路四段10號(櫃檯旁左側)', 'LAT': '25.051292', 'LNG': '121.552094', '_id': 471}, {'HOTSPOT_TYPE': 'Taipei Free免費無線上網熱點(室內)', 'HOTSPOT_NAME': '台北民生重建中心', 'STATUS': '0', 'AREA': '其他', 'AP_ID': 'SS220022', 'ADDRESS': '臺北市松山區民生東路五段163-1號7樓(重建中心門口天花板上)', 'LAT': '25.059272', 'LNG': '121.562837', '_id': 472}, {'HOTSPOT_TYPE': 'Taipei Free免費無線上網熱點(室內)', 'HOTSPOT_NAME': '松山老人服務中心', 'STATUS': '0', 'AREA': '為民服務單位', 'AP_ID': 'SS260001', 'ADDRESS': '臺北市松山區民生東路五段163-1號9樓(教室內天花板上)', 'LAT': '25.059325', 'LNG': '121.562861', '_id': 473}, {'HOTSPOT_TYPE': 'Taipei Free免費無線上網熱點(室內)', 'HOTSPOT_NAME': '松山三民區民活動中心', 'STATUS': '0', 'AREA': '區民活動中心', 'AP_ID': 'SS300001', 'ADDRESS': '臺北市松山區民生東路五段163-1號8樓(天花板上)', 'LAT': '25.059274', 'LNG': '121.562831', '_id': 474}, {'HOTSPOT_TYPE': 'Taipei Free免費無線上網熱點(室內)', 'HOTSPOT_NAME': '松山民有區民活動中心', 'STATUS': '0', 'AREA': '區民活動中心', 'AP_ID': 'SS300002', 'ADDRESS': '臺北市松山區民權東路三段140巷15號5樓(閱覽室外逃生梯旁天花板)', 'LAT': '25.060364', 'LNG': '121.5471', '_id': 475}, {'HOTSPOT_TYPE': 'Taipei Free免費無線上網熱點(室內)', 'HOTSPOT_NAME': '松山安平區民活動中心', 'STATUS': '0', 'AREA': '區民活動中心', 'AP_ID': 'SS300003', 'ADDRESS': '臺北市松山區南京東路五段291巷44弄23號之1(天花板上)', 'LAT': '25.053451', 'LNG': '121.565586', '_id': 476}, {'HOTSPOT_TYPE': 'Taipei Free免費無線上網熱點(室內)', 'HOTSPOT_NAME': '松山復建區民活動中心', 'STATUS': '0', 'AREA': '區民活動中心', 'AP_ID': 'SS300004', 'ADDRESS': '臺北市松山區八德路三段158巷7弄20號(天花板上)', 'LAT': '25.047734', 'LNG': '121.555756', '_id': 477}, {'HOTSPOT_TYPE': 'Taipei Free免費無線上網熱點(室內)', 'HOTSPOT_NAME': '松山復盛區民活動中心', 'STATUS': '0', 'AREA': '區民活動中心', 'AP_ID': 'SS300005', 'ADDRESS': '臺北市松山區市民大道五段99號(天花板上)', 'LAT': '25.047741', 'LNG': '121.561338', '_id': 478}, {'HOTSPOT_TYPE': 'Taipei Free免費無線上網熱點(室內)', 'HOTSPOT_NAME': '松山敦化區民活動中心', 'STATUS': '0', 'AREA': '區民活動中心', 'AP_ID': 'SS300006', 'ADDRESS': '臺北市松山區八德路三段12巷52弄2之1號(下樓梯後左側牆壁上)', 'LAT': '25.046309', 'LNG': '121.55038', '_id': 479}, {'HOTSPOT_TYPE': 'Taipei Free免費無線上網熱點(室內)', 'HOTSPOT_NAME': '松山新聚區民活動中心', 'STATUS': '0', 'AREA': '區民活動中心', 'AP_ID': 'SS300007', 'ADDRESS': '臺北市松山區南京東路五段374號(天花板上)', 'LAT': '25.051131', 'LNG': '121.569439', '_id': 480}, {'HOTSPOT_TYPE': 'Taipei Free免費無線上網熱點(室內)', 'HOTSPOT_NAME': '松山鵬程區民活動中心', 'STATUS': '0', 'AREA': '區民活動中心', 'AP_ID': 'SS300008', 'ADDRESS': '臺北市松山區健康路399號3樓(天花板上)', 'LAT': '25.054639', 'LNG': '121.568808', '_id': 481}, {'HOTSPOT_TYPE': 'Taipei Free免費無線上網熱點(室內)', 'HOTSPOT_NAME': '松山中正區民活動中心', 'STATUS': '0', 'AREA': '區民活動中心', 'AP_ID': 'SS300009', 'ADDRESS': '臺北市松山區長安東路2段229號11樓(中央天花板上)', 'LAT': '25.048374', 'LNG': '121.545896', '_id': 482}, {'HOTSPOT_TYPE': 'Taipei Free免費無線上網熱點(室內)', 'HOTSPOT_NAME': '松山自強區民活動中心', 'STATUS': '0', 'AREA': '區民活動中心', 'AP_ID': 'SS300010', 'ADDRESS': '臺北市松山區三民路35巷9號(大門旁上方天花板)', 'LAT': '25.05558', 'LNG': '121.563625', '_id': 483}, {'HOTSPOT_TYPE': 'Taipei Free免費無線上網熱點(室內)', 'HOTSPOT_NAME': '松山松基區民活動中心', 'STATUS': '0', 'AREA': '區民活動中心', 'AP_ID': 'SS300011', 'ADDRESS': '臺北市松山區長春路339巷2號地下1樓(大禮堂內機櫃上方)', 'LAT': '25.054457', 'LNG': '121.546327', '_id': 484}, {'HOTSPOT_TYPE': 'Taipei Free免費無線上網熱點(室內)', 'HOTSPOT_NAME': '松山龍田區民活動中心', 'STATUS': '0', 'AREA': '區民活動中心', 'AP_ID': 'SS300012', 'ADDRESS': '臺北市松山區光復北路230巷21號地下1樓(大門左方天花板上)', 'LAT': '25.049513', 'LNG': '121.558', '_id': 485}, {'HOTSPOT_TYPE': 'Taipei Free免費無線上網熱點(室內)', 'HOTSPOT_NAME': '捷運永寧站轉乘停車場', 'STATUS': '0', 'AREA': '捷運停車場', 'AP_ID': 'TC240001', 'ADDRESS': '新北市土城區中央路三段105號1F(收費票亭牆上)', 'LAT': '24.96609', 'LNG': '121.4358', '_id': 486}, {'HOTSPOT_TYPE': 'Taipei Free免費無線上網熱點(室內)', 'HOTSPOT_NAME': '萬華區行政中心', 'STATUS': '0', 'AREA': '區行政中心', 'AP_ID': 'WH020001', 'ADDRESS': '臺北市萬華區和平西路三段120號10樓(進門右邊電燈與排風孔之夾角天花板)', 'LAT': '25.035002', 'LNG': '121.499888', '_id': 487}, {'HOTSPOT_TYPE': 'Taipei Free免費無線上網熱點(室內)', 'HOTSPOT_NAME': '萬華區行政中心', 'STATUS': '0', 'AREA': '區行政中心', 'AP_ID': 'WH020002', 'ADDRESS': '臺北市萬華區和平西路三段120號11樓(進門右邊上方排風孔之斜角天花板)', 'LAT': '25.035002', 'LNG': '121.499886', '_id': 488}, {'HOTSPOT_TYPE': 'Taipei Free免費無線上網熱點(室內)', 'HOTSPOT_NAME': '萬華區行政中心', 'STATUS': '0', 'AREA': '區行政中心', 'AP_ID': 'WH020003', 'ADDRESS': '臺北市萬華區和平西路三段120號12樓(進門上方電燈右邊天花板)', 'LAT': '25.035002', 'LNG': '121.499884', '_id': 489}, {'HOTSPOT_TYPE': 'Taipei Free免費無線上網熱點(室內)', 'HOTSPOT_NAME': '萬華區行政中心', 'STATUS': '0', 'AREA': '區行政中心', 'AP_ID': 'WH020004', 'ADDRESS': '臺北市萬華區和平西路三段120號4樓(民眾辦事處18號19號中央天花板)', 'LAT': '25.035002', 'LNG': '121.499882', '_id': 490}, {'HOTSPOT_TYPE': 'Taipei Free免費無線上網熱點(室內)', 'HOTSPOT_NAME': '萬華區行政中心', 'STATUS': '0', 'AREA': '區行政中心', 'AP_ID': 'WH020005', 'ADDRESS': '臺北市萬華區和平西路三段120號5樓(進門排風孔旁)', 'LAT': '25.035002', 'LNG': '121.499889', '_id': 491}, {'HOTSPOT_TYPE': 'Taipei Free免費無線上網熱點(室內)', 'HOTSPOT_NAME': '萬華區行政中心', 'STATUS': '0', 'AREA': '區行政中心', 'AP_ID': 'WH020006', 'ADDRESS': '臺北市萬華區和平西路三段120號6樓(進門上方第2個出風孔旁)', 'LAT': '25.035003', 'LNG': '121.499888', '_id': 492}, {'HOTSPOT_TYPE': 'Taipei Free免費無線上網熱點(室內)', 'HOTSPOT_NAME': '萬華區行政中心', 'STATUS': '0', 'AREA': '區行政中心', 'AP_ID': 'WH020007', 'ADDRESS': '臺北市萬華區和平西路三段120號7樓(門口進入正前方天花板)', 'LAT': '25.035004', 'LNG': '121.499888', '_id': 493}, {'HOTSPOT_TYPE': 'Taipei Free免費無線上網熱點(室內)', 'HOTSPOT_NAME': '萬華區行政中心', 'STATUS': '0', 'AREA': '區行政中心', 'AP_ID': 'WH020008', 'ADDRESS': '臺北市萬華區和平西路三段120號8樓(領件櫃檯7號靠近門口進去第一個柱子攝影機上方天花板)', 'LAT': '25.035005', 'LNG': '121.499888', '_id': 494}, {'HOTSPOT_TYPE': 'Taipei Free免費無線上網熱點(室內)', 'HOTSPOT_NAME': '萬華區行政中心', 'STATUS': '0', 'AREA': '區行政中心', 'AP_ID': 'WH020009', 'ADDRESS': '臺北市萬華區和平西路三段120號9樓(進門處上方天花板)', 'LAT': '25.035006', 'LNG': '121.499888', '_id': 495}, {'HOTSPOT_TYPE': 'Taipei Free免費無線上網熱點(室內)', 'HOTSPOT_NAME': '', 'STATUS': '0', 'AREA': '', 'AP_ID': 'WH160004', 'ADDRESS': '臺北市萬華區西園路一段145號B2(服務中心側邊13號店鋪)', 'LAT': '25.03606', 'LNG': '121.499869', '_id': 533}, {'HOTSPOT_TYPE': 'Taipei Free免費無線上網熱點(室內)', 'HOTSPOT_NAME': '萬華區行政中心', 'STATUS': '0', 'AREA': '區行政中心', 'AP_ID': 'WH020010', 'ADDRESS': '臺北市萬華區和平西路三段120號(B2停車管理室)', 'LAT': '25.03497', 'LNG': '121.499951', '_id': 496}, {'HOTSPOT_TYPE': 'Taipei Free免費無線上網熱點(室內)', 'HOTSPOT_NAME': '萬華區行政中心', 'STATUS': '0', 'AREA': '區行政中心', 'AP_ID': 'WH020011', 'ADDRESS': '臺北市萬華區和平西路三段120號(1樓服務台)', 'LAT': '25.034971', 'LNG': '121.49983', '_id': 497}, {'HOTSPOT_TYPE': 'Taipei Free免費無線上網熱點(室內)', 'HOTSPOT_NAME': '東園分館', 'STATUS': '0', 'AREA': '圖書館', 'AP_ID': 'WH030001', 'ADDRESS': '臺北市萬華區東園街199號1樓(1樓落地窗旁柱上)', 'LAT': '25.022661', 'LNG': '121.498138', '_id': 498}, {'HOTSPOT_TYPE': 'Taipei Free免費無線上網熱點(室內)', 'HOTSPOT_NAME': '東園分館', 'STATUS': '0', 'AREA': '圖書館', 'AP_ID': 'WH030002', 'ADDRESS': '臺北市萬華區東園街199號2樓(一般圖書區旁天花板上)', 'LAT': '25.022663', 'LNG': '121.498111', '_id': 499}, {'HOTSPOT_TYPE': 'Taipei Free免費無線上網熱點(室內)', 'HOTSPOT_NAME': '東園分館', 'STATUS': '0', 'AREA': '圖書館', 'AP_ID': 'WH030003', 'ADDRESS': '臺北市萬華區東園街199號3樓(一般圖書館區的入口上方電扇旁)', 'LAT': '25.022663', 'LNG': '121.498112', '_id': 500}, {'HOTSPOT_TYPE': 'Taipei Free免費無線上網熱點(室內)', 'HOTSPOT_NAME': '東園分館', 'STATUS': '0', 'AREA': '圖書館', 'AP_ID': 'WH030004', 'ADDRESS': '臺北市萬華區東園街199號4樓(自修室天花板上)', 'LAT': '25.022662', 'LNG': '121.498111', '_id': 501}, {'HOTSPOT_TYPE': 'Taipei Free免費無線上網熱點(室內)', 'HOTSPOT_NAME': '萬華分館', 'STATUS': '0', 'AREA': '圖書館', 'AP_ID': 'WH030005', 'ADDRESS': '臺北市萬華區東園街19號5樓(報紙區天花板上)', 'LAT': '25.027922', 'LNG': '121.495703', '_id': 502}, {'HOTSPOT_TYPE': 'Taipei Free免費無線上網熱點(室內)', 'HOTSPOT_NAME': '萬華分館', 'STATUS': '0', 'AREA': '圖書館', 'AP_ID': 'WH030006', 'ADDRESS': '臺北市萬華區東園街19號6樓(圖書展示區招牌前及服務台前天花板上)', 'LAT': '25.027922', 'LNG': '121.495707', '_id': 503}, {'HOTSPOT_TYPE': 'Taipei Free免費無線上網熱點(室內)', 'HOTSPOT_NAME': '龍山分館', 'STATUS': '0', 'AREA': '圖書館', 'AP_ID': 'WH030007', 'ADDRESS': '臺北市萬華區桂林路65巷6號1F兒童閱覽區', 'LAT': '25.038547', 'LNG': '121.50238', '_id': 504}, {'HOTSPOT_TYPE': 'Taipei Free免費無線上網熱點(室內)', 'HOTSPOT_NAME': '龍山分館', 'STATUS': '0', 'AREA': '圖書館', 'AP_ID': 'WH030008', 'ADDRESS': '臺北市萬華區桂林路65巷6號2樓(期刊區內面對大門口左側天花板上)', 'LAT': '25.038547', 'LNG': '121.50236', '_id': 505}, {'HOTSPOT_TYPE': 'Taipei Free免費無線上網熱點(室內)', 'HOTSPOT_NAME': '龍山分館', 'STATUS': '0', 'AREA': '圖書館', 'AP_ID': 'WH030009', 'ADDRESS': '臺北市萬華區桂林路65巷6號3樓(自修室內面對大門口左側天花板上)', 'LAT': '25.038545', 'LNG': '121.50238', '_id': 506}, {'HOTSPOT_TYPE': 'Taipei Free免費無線上網熱點(室內)', 'HOTSPOT_NAME': '西園分館', 'STATUS': '0', 'AREA': '圖書館', 'AP_ID': 'WH030010', 'ADDRESS': '臺北市萬華區興寧街6號3樓(自修室正中央天花板上)', 'LAT': '25.032201', 'LNG': '121.50173', '_id': 507}, {'HOTSPOT_TYPE': 'Taipei Free免費無線上網熱點(室內)', 'HOTSPOT_NAME': '西園分館', 'STATUS': '0', 'AREA': '圖書館', 'AP_ID': 'WH030011', 'ADDRESS': '臺北市萬華區興寧街6號4樓(電腦區上方天花板上)', 'LAT': '25.032201', 'LNG': '121.50175', '_id': 508}, {'HOTSPOT_TYPE': 'Taipei Free免費無線上網熱點(室內)', 'HOTSPOT_NAME': '西園分館', 'STATUS': '0', 'AREA': '圖書館', 'AP_ID': 'WH030012', 'ADDRESS': '臺北市萬華區興寧街6號5樓(兒童閱覽區前天花板上)', 'LAT': '25.032201', 'LNG': '121.50178', '_id': 509}, {'HOTSPOT_TYPE': 'Taipei Free免費無線上網熱點(室內)', 'HOTSPOT_NAME': '西園分館', 'STATUS': '0', 'AREA': '圖書館', 'AP_ID': 'WH030013', 'ADDRESS': '臺北市萬華區興寧街6號6樓(宗教類，科學類應用科學區前天花板上)', 'LAT': '25.032201', 'LNG': '121.50179', '_id': 510}, {'HOTSPOT_TYPE': 'Taipei Free免費無線上網熱點(室內)', 'HOTSPOT_NAME': '柳鄉民眾閱覽室', 'STATUS': '0', 'AREA': '閱覽室', 'AP_ID': 'WH030014', 'ADDRESS': '臺北市萬華區環河南路二段102號4樓(兒童室門口正前方，閱覽區【座位區】中心位置，臨火警警示鈴)', 'LAT': '25.036889', 'LNG': '121.495455', '_id': 511}, {'HOTSPOT_TYPE': 'Taipei Free免費無線上網熱點(室內)', 'HOTSPOT_NAME': '昆明院區', 'STATUS': '0', 'AREA': '昆明院區', 'AP_ID': 'WH040001', 'ADDRESS': '臺北市萬華區昆明街100號1樓(中婦科內診外)', 'LAT': '25.044324', 'LNG': '121.50492', '_id': 512}, {'HOTSPOT_TYPE': 'Taipei Free免費無線上網熱點(室內)', 'HOTSPOT_NAME': '昆明院區', 'STATUS': '0', 'AREA': '昆明院區', 'AP_ID': 'WH040005', 'ADDRESS': '臺北市萬華區昆明街100號3樓(候診區三掛牌上方)', 'LAT': '25.044324', 'LNG': '121.50498', '_id': 515}, {'HOTSPOT_TYPE': 'Taipei Free免費無線上網熱點(室內)', 'HOTSPOT_NAME': '昆明院區', 'STATUS': '0', 'AREA': '昆明院區', 'AP_ID': 'WH040006', 'ADDRESS': '臺北市萬華區昆明街100號3樓(茶水間外)', 'LAT': '25.044324', 'LNG': '121.50491', '_id': 516}, {'HOTSPOT_TYPE': 'Taipei Free免費無線上網熱點(室內)', 'HOTSPOT_NAME': '昆明院區', 'STATUS': '0', 'AREA': '昆明院區', 'AP_ID': 'WH040007', 'ADDRESS': '臺北市萬華區昆明街100號4樓(美沙冬靠近電梯處)', 'LAT': '25.044326', 'LNG': '121.50492', '_id': 517}, {'HOTSPOT_TYPE': 'Taipei Free免費無線上網熱點(室內)', 'HOTSPOT_NAME': '昆明院區', 'STATUS': '0', 'AREA': '昆明院區', 'AP_ID': 'WH040009', 'ADDRESS': '臺北市萬華區昆明街100號5樓(會議室門口上方)', 'LAT': '25.044328', 'LNG': '121.50492', '_id': 518}, {'HOTSPOT_TYPE': 'Taipei Free免費無線上網熱點(室內)', 'HOTSPOT_NAME': '昆明院區', 'STATUS': '0', 'AREA': '昆明院區', 'AP_ID': 'WH040012', 'ADDRESS': '臺北市萬華區昆明街100號6樓(營業衛生股外上方)', 'LAT': '25.044322', 'LNG': '121.50493', '_id': 519}, {'HOTSPOT_TYPE': 'Taipei Free免費無線上網熱點(室內)', 'HOTSPOT_NAME': '昆明院區', 'STATUS': '0', 'AREA': '昆明院區', 'AP_ID': 'WH040014', 'ADDRESS': '臺北市萬華區昆明街100號7樓(結核病防治組外上方)', 'LAT': '25.044328', 'LNG': '121.50493', '_id': 520}, {'HOTSPOT_TYPE': 'Taipei Free免費無線上網熱點(室內)', 'HOTSPOT_NAME': '昆明院區', 'STATUS': '0', 'AREA': '昆明院區', 'AP_ID': 'WH040016', 'ADDRESS': '臺北市萬華區昆明街100號8樓(多功能教室)', 'LAT': '25.044326', 'LNG': '121.50493', '_id': 521}, {'HOTSPOT_TYPE': 'Taipei Free免費無線上網熱點(室內)', 'HOTSPOT_NAME': '昆明院區', 'STATUS': '0', 'AREA': '昆明院區', 'AP_ID': 'WH040017', 'ADDRESS': '臺北市萬華區昆明街100號9樓(院長室門口)', 'LAT': '25.044324', 'LNG': '121.50493', '_id': 522}, {'HOTSPOT_TYPE': 'Taipei Free免費無線上網熱點(室內)', 'HOTSPOT_NAME': '華西街夜市', 'STATUS': '0', 'AREA': '觀光夜市', 'AP_ID': 'WH060082', 'ADDRESS': '臺北市萬華區華西街夜市106攤位上方', 'LAT': '25.03846', 'LNG': '121.4984', '_id': 523}, {'HOTSPOT_TYPE': 'Taipei Free免費無線上網熱點(室內)', 'HOTSPOT_NAME': '青年公園太陽圖書館暨節能展示館', 'STATUS': '0', 'AREA': '圖書館', 'AP_ID': 'WH100005', 'ADDRESS': '臺北市萬華區青年路65號1樓(閱覽檯上方)', 'LAT': '25.024936', 'LNG': '121.503738', '_id': 524}, {'HOTSPOT_TYPE': 'Taipei Free免費無線上網熱點(室內)', 'HOTSPOT_NAME': '萬華運動中心', 'STATUS': '0', 'AREA': '運動中心', 'AP_ID': 'WH130015', 'ADDRESS': '臺北市萬華區西寧南路6之1號(1F櫃台前方)', 'LAT': '25.047348', 'LNG': '121.507087', '_id': 525}, {'HOTSPOT_TYPE': 'Taipei Free免費無線上網熱點(室內)', 'HOTSPOT_NAME': '萬華運動中心', 'STATUS': '0', 'AREA': '運動中心', 'AP_ID': 'WH130016', 'ADDRESS': '臺北市萬華區西寧南路6之1號(1F社區教室前方)', 'LAT': '25.047324', 'LNG': '121.506958', '_id': 526}, {'HOTSPOT_TYPE': 'Taipei Free免費無線上網熱點(室內)', 'HOTSPOT_NAME': '萬華運動中心', 'STATUS': '0', 'AREA': '運動中心', 'AP_ID': 'WH130017', 'ADDRESS': '臺北市萬華區西寧南路6之1號(2F高爾夫球訓練區櫃台旁)', 'LAT': '25.047312', 'LNG': '121.506821', '_id': 527}, {'HOTSPOT_TYPE': 'Taipei Free免費無線上網熱點(室內)', 'HOTSPOT_NAME': '萬華運動中心', 'STATUS': '0', 'AREA': '運動中心', 'AP_ID': 'WH130018', 'ADDRESS': '臺北市萬華區西寧南路6之1號(2F高爾夫球訓練區後方)', 'LAT': '25.047398', 'LNG': '121.506809', '_id': 528}, {'HOTSPOT_TYPE': 'Taipei Free免費無線上網熱點(室內)', 'HOTSPOT_NAME': '萬華運動中心', 'STATUS': '0', 'AREA': '運動中心', 'AP_ID': 'WH130019', 'ADDRESS': '臺北市萬華區西寧南路6之1號(3F健身房櫃台旁)', 'LAT': '25.047466', 'LNG': '121.506804', '_id': 529}, {'HOTSPOT_TYPE': 'Taipei Free免費無線上網熱點(室內)', 'HOTSPOT_NAME': '萬華運動中心', 'STATUS': '0', 'AREA': '運動中心', 'AP_ID': 'WH130020', 'ADDRESS': '臺北市萬華區西寧南路6之1號(3F健身房重訓區)', 'LAT': '25.04744', 'LNG': '121.507034', '_id': 530}, {'HOTSPOT_TYPE': 'Taipei Free免費無線上網熱點(室內)', 'HOTSPOT_NAME': '萬華運動中心', 'STATUS': '0', 'AREA': '運動中心', 'AP_ID': 'WH130021', 'ADDRESS': '臺北市萬華區西寧南路6之1號(4F攀岩場座位區)', 'LAT': '25.047473', 'LNG': '121.507081', '_id': 531}, {'HOTSPOT_TYPE': 'Taipei Free免費無線上網熱點(室內)', 'HOTSPOT_NAME': '萬華運動中心', 'STATUS': '0', 'AREA': '運動中心', 'AP_ID': 'WH130022', 'ADDRESS': '臺北市萬華區西寧南路6之1號(7F室內座位區)', 'LAT': '25.04739', 'LNG': '121.506785', '_id': 532}, {'HOTSPOT_TYPE': 'Taipei Free免費無線上網熱點(室內)', 'HOTSPOT_NAME': '', 'STATUS': '0', 'AREA': '', 'AP_ID': 'WH160006', 'ADDRESS': '臺北市萬華區西園路一段145號B2(萬華堂工藝講堂3號店鋪)', 'LAT': '25.035937', 'LNG': '121.499838', '_id': 535}, {'HOTSPOT_TYPE': 'Taipei Free免費無線上網熱點(室內)', 'HOTSPOT_NAME': '艋舺就業服務處', 'STATUS': '0', 'AREA': '其他', 'AP_ID': 'WH220014', 'ADDRESS': '臺北市萬華區艋舺大道101號3樓(書寫區上方)', 'LAT': '25.033425', 'LNG': '121.501335', '_id': 536}, {'HOTSPOT_TYPE': 'Taipei Free免費無線上網熱點(室內)', 'HOTSPOT_NAME': '龍山商場', 'STATUS': '0', 'AREA': '市集', 'AP_ID': 'WH230007', 'ADDRESS': '臺北市萬華區和平西路三段120號(1樓美食街右側)', 'LAT': '25.034979', 'LNG': '121.499882', '_id': 537}, {'HOTSPOT_TYPE': 'Taipei Free免費無線上網熱點(室內)', 'HOTSPOT_NAME': '龍山商場', 'STATUS': '0', 'AREA': '市集', 'AP_ID': 'WH230008', 'ADDRESS': '臺北市萬華區和平西路三段120號(1樓美食街左側)', 'LAT': '25.034951', 'LNG': '121.499877', '_id': 538}, {'HOTSPOT_TYPE': 'Taipei Free免費無線上網熱點(室內)', 'HOTSPOT_NAME': '萬華昆明區民活動中心', 'STATUS': '0', 'AREA': '區民活動中心', 'AP_ID': 'WH300001', 'ADDRESS': '臺北市萬華區昆明街284號1樓(舞台前方天花板上)', 'LAT': '25.0386', 'LNG': '121.503872', '_id': 539}, {'HOTSPOT_TYPE': 'Taipei Free免費無線上網熱點(室內)', 'HOTSPOT_NAME': '萬華長順區民活動中心', 'STATUS': '0', 'AREA': '區民活動中心', 'AP_ID': 'WH300002', 'ADDRESS': '臺北市萬華區長順街臨127號(舞台前上方天花板)', 'LAT': '25.031249', 'LNG': '121.491062', '_id': 540}, {'HOTSPOT_TYPE': 'Taipei Free免費無線上網熱點(室內)', 'HOTSPOT_NAME': '萬華柳鄉區民活動中心', 'STATUS': '0', 'AREA': '區民活動中心', 'AP_ID': 'WH300003', 'ADDRESS': '臺北市萬華區環河南路二段102號3樓(中央天花板)', 'LAT': '25.036889', 'LNG': '121.495453', '_id': 541}, {'HOTSPOT_TYPE': 'Taipei Free免費無線上網熱點(室內)', 'HOTSPOT_NAME': '萬華新富區民活動中心', 'STATUS': '0', 'AREA': '區民活動中心', 'AP_ID': 'WH300004', 'ADDRESS': '臺北市萬華區廣州街152巷10號1樓(進門左手邊小房間牆壁上)', 'LAT': '25.036189', 'LNG': '121.500523', '_id': 542}, {'HOTSPOT_TYPE': 'Taipei Free免費無線上網熱點(室內)', 'HOTSPOT_NAME': '萬華萬青區民活動中心', 'STATUS': '0', 'AREA': '區民活動中心', 'AP_ID': 'WH300005', 'ADDRESS': '臺北市萬華區萬大路411號2樓(教室1中央花板)', 'LAT': '25.021822', 'LNG': '121.49906', '_id': 543}, {'HOTSPOT_TYPE': 'Taipei Free免費無線上網熱點(室內)', 'HOTSPOT_NAME': '萬華萬華區民活動中心', 'STATUS': '0', 'AREA': '區民活動中心', 'AP_ID': 'WH300006', 'ADDRESS': '臺北市萬華區東園街19號2樓(舞台前方天花板)', 'LAT': '25.027922', 'LNG': '121.495705', '_id': 544}, {'HOTSPOT_TYPE': 'Taipei Free免費無線上網熱點(室內)', 'HOTSPOT_NAME': '萬華萬華第一區民活動中心', 'STATUS': '0', 'AREA': '區民活動中心', 'AP_ID': 'WH300007', 'ADDRESS': '臺北市萬華區萬大路614之1號(萬大第一)中央天花板', 'LAT': '25.029031', 'LNG': '121.500967', '_id': 545}, {'HOTSPOT_TYPE': 'Taipei Free免費無線上網熱點(室內)', 'HOTSPOT_NAME': '萬華萬華第二區民活動中心', 'STATUS': '0', 'AREA': '區民活動中心', 'AP_ID': 'WH300008', 'ADDRESS': '臺北市萬華區萬大路臨600之1(萬大第二)第二個入口上方', 'LAT': '25.02476', 'LNG': '121.500168', '_id': 546}, {'HOTSPOT_TYPE': 'Taipei Free免費無線上網熱點(室內)', 'HOTSPOT_NAME': '萬華雙園區民活動中心', 'STATUS': '0', 'AREA': '區民活動中心', 'AP_ID': 'WH300009', 'ADDRESS': '臺北市萬華區西園路二段9號1樓(舞台旁電視櫃上方)', 'LAT': '25.032339', 'LNG': '121.498206', '_id': 547}, {'HOTSPOT_TYPE': 'Taipei Free免費無線上網熱點(室內)', 'HOTSPOT_NAME': '萬華光復區民活動中心', 'STATUS': '0', 'AREA': '區民活動中心', 'AP_ID': 'WH300010', 'ADDRESS': '臺北市萬華區西園路二路370之1號(冷氣機旁佈告欄上方)', 'LAT': '25.03068', 'LNG': '121.496953', '_id': 548}, {'HOTSPOT_TYPE': 'Taipei Free免費無線上網熱點(室內)', 'HOTSPOT_NAME': '萬華和德區民活動中心', 'STATUS': '0', 'AREA': '區民活動中心', 'AP_ID': 'WH300011', 'ADDRESS': '臺北市萬華區西園路二段路372之10號(辦公室旁公告欄上)', 'LAT': '25.025298', 'LNG': '121.49111', '_id': 549}, {'HOTSPOT_TYPE': 'Taipei Free免費無線上網熱點(室內)', 'HOTSPOT_NAME': '萬華頂碩區民活動中心', 'STATUS': '0', 'AREA': '區民活動中心', 'AP_ID': 'WH300013', 'ADDRESS': '臺北市萬華區興寧街2號3樓(入口旁天花板上)', 'LAT': '25.03228', 'LNG': '121.502218', '_id': 550}, {'HOTSPOT_TYPE': 'Taipei Free免費無線上網熱點(室內)', 'HOTSPOT_NAME': '萬華菜園區民活動中心', 'STATUS': '0', 'AREA': '區民活動中心', 'AP_ID': 'WH300014', 'ADDRESS': '臺北市萬華區環河南路一段臨280之3號(門口右側天花板上)', 'LAT': '25.034411', 'LNG': '121.493723', '_id': 551}, {'HOTSPOT_TYPE': 'Taipei Free免費無線上網熱點(室內)', 'HOTSPOT_NAME': '萬華福星區民活動中心', 'STATUS': '0', 'AREA': '區民活動中心', 'AP_ID': 'WH300015', 'ADDRESS': '臺北市萬華區西寧南路14-3號2樓(弧形中央台上方)', 'LAT': '25.046766', 'LNG': '121.506958', '_id': 552}, {'HOTSPOT_TYPE': 'Taipei Free免費無線上網熱點(室內)', 'HOTSPOT_NAME': '萬華青山區民活動中心', 'STATUS': '0', 'AREA': '區民活動中心', 'AP_ID': 'WH300016', 'ADDRESS': '臺北市萬華區環河南路二段臨5之1號(舞台前上方)', 'LAT': '25.034411', 'LNG': '121.493729', '_id': 553}, {'HOTSPOT_TYPE': 'Taipei Free免費無線上網熱點(室內)', 'HOTSPOT_NAME': '承德區民活動中心', 'STATUS': '0', 'AREA': '區民活動中心', 'AP_ID': 'WH300017', 'ADDRESS': '臺北市士林區承德路四段5之1號(中央天花板)', 'LAT': '25.079161', 'LNG': '121.521861', '_id': 554}, {'HOTSPOT_TYPE': 'Taipei Free免費無線上網熱點(室內)', 'HOTSPOT_NAME': '富福區民活動中心', 'STATUS': '0', 'AREA': '區民活動中心', 'AP_ID': 'WH300018', 'ADDRESS': '臺北市萬華區康定路319號(東側入口3樓活動中心中央天花板)', 'LAT': '25.033428', 'LNG': '121.500938', '_id': 555}, {'HOTSPOT_TYPE': 'Taipei Free免費無線上網熱點(室內)', 'HOTSPOT_NAME': '力行分館', 'STATUS': '0', 'AREA': '圖書館', 'AP_ID': 'WS030001', 'ADDRESS': '臺北市文山區一壽街22號5樓(報紙閱覽室靠牆中間柱子右邊第3塊天花板)', 'LAT': '24.979578', 'LNG': '121.556498', '_id': 556}, {'HOTSPOT_TYPE': 'Taipei Free免費無線上網熱點(室內)', 'HOTSPOT_NAME': '力行分館', 'STATUS': '0', 'AREA': '圖書館', 'AP_ID': 'WS030002', 'ADDRESS': '臺北市文山區一壽街22號6樓(圓形樓梯上來左邊排柱子第1與第2支柱子中間天花板)', 'LAT': '24.979578', 'LNG': '121.556496', '_id': 557}, {'HOTSPOT_TYPE': 'Taipei Free免費無線上網熱點(室內)', 'HOTSPOT_NAME': '力行分館', 'STATUS': '0', 'AREA': '圖書館', 'AP_ID': 'WS030003', 'ADDRESS': '臺北市文山區一壽街22號7樓(9號美術櫃上方兩盞燈中間天花板)', 'LAT': '24.979576', 'LNG': '121.556498', '_id': 558}, {'HOTSPOT_TYPE': 'Taipei Free免費無線上網熱點(室內)', 'HOTSPOT_NAME': '力行分館', 'STATUS': '0', 'AREA': '圖書館', 'AP_ID': 'WS030004', 'ADDRESS': '臺北市文山區一壽街22號8樓(自修室進入第1支柱子與第2支柱子中間靠右2塊天花板)', 'LAT': '24.979579', 'LNG': '121.556498', '_id': 559}, {'HOTSPOT_TYPE': 'Taipei Free免費無線上網熱點(室內)', 'HOTSPOT_NAME': '永建分館', 'STATUS': '0', 'AREA': '圖書館', 'AP_ID': 'WS030005', 'ADDRESS': '臺北市文山區木柵路一段177號3樓(自修室門口進入左轉第3盞燈與第4盞燈中間天花板)', 'LAT': '24.987718', 'LNG': '121.550996', '_id': 560}, {'HOTSPOT_TYPE': 'Taipei Free免費無線上網熱點(室內)', 'HOTSPOT_NAME': '永建分館', 'STATUS': '0', 'AREA': '圖書館', 'AP_ID': 'WS030006', 'ADDRESS': '臺北市文山區木柵路一段177號4樓(門口進入第一支柱子與冷氣機上方天花板)', 'LAT': '24.987716', 'LNG': '121.550996', '_id': 561}, {'HOTSPOT_TYPE': 'Taipei Free免費無線上網熱點(室內)', 'HOTSPOT_NAME': '木柵分館', 'STATUS': '0', 'AREA': '圖書館', 'AP_ID': 'WS030007', 'ADDRESS': '臺北市文山區保儀路13巷3號3樓(第四排書架中間走道日光燈架上)', 'LAT': '24.988513', 'LNG': '121.56915', '_id': 562}, {'HOTSPOT_TYPE': 'Taipei Free免費無線上網熱點(室內)', 'HOTSPOT_NAME': '木柵分館', 'STATUS': '0', 'AREA': '圖書館', 'AP_ID': 'WS030008', 'ADDRESS': '臺北市文山區保儀路13巷3號3樓(館藏特色區圓形造型台面櫃檯上)', 'LAT': '24.988513', 'LNG': '121.56914', '_id': 563}, {'HOTSPOT_TYPE': 'Taipei Free免費無線上網熱點(室內)', 'HOTSPOT_NAME': '景新分館', 'STATUS': '0', 'AREA': '圖書館', 'AP_ID': 'WS030010', 'ADDRESS': '臺北市文山區景後街151號5樓(門口進入直走到底轉角處電燈旁)', 'LAT': '24.990152', 'LNG': '121.542032', '_id': 564}, {'HOTSPOT_TYPE': 'Taipei Free免費無線上網熱點(室內)', 'HOTSPOT_NAME': '景新分館', 'STATUS': '0', 'AREA': '圖書館', 'AP_ID': 'WS030011', 'ADDRESS': '臺北市文山區景後街151號6樓(兒童閱覽區圓型柱子往前數第5塊天花板)', 'LAT': '24.990152', 'LNG': '121.542033', '_id': 565}, {'HOTSPOT_TYPE': 'Taipei Free免費無線上網熱點(室內)', 'HOTSPOT_NAME': '景新分館', 'STATUS': '0', 'AREA': '圖書館', 'AP_ID': 'WS030012', 'ADDRESS': '臺北市文山區景後街151號7樓(電腦區維修孔上方)', 'LAT': '24.990154', 'LNG': '121.542032', '_id': 566}, {'HOTSPOT_TYPE': 'Taipei Free免費無線上網熱點(室內)', 'HOTSPOT_NAME': '景新分館', 'STATUS': '0', 'AREA': '圖書館', 'AP_ID': 'WS030013', 'ADDRESS': '臺北市文山區景後街151號8樓(陽台旁樓梯上來右手邊長形沙發上方天花板)', 'LAT': '24.990156', 'LNG': '121.542032', '_id': 567}, {'HOTSPOT_TYPE': 'Taipei Free免費無線上網熱點(室內)', 'HOTSPOT_NAME': '景新分館', 'STATUS': '0', 'AREA': '圖書館', 'AP_ID': 'WS030014', 'ADDRESS': '臺北市文山區景後街151號9樓(陽台旁樓梯上來右側走道避難指示燈旁天花板)', 'LAT': '24.990152', 'LNG': '121.542036', '_id': 568}, {'HOTSPOT_TYPE': 'Taipei Free免費無線上網熱點(室內)', 'HOTSPOT_NAME': '萬芳民眾閱覽室', 'STATUS': '0', 'AREA': '閱覽室', 'AP_ID': 'WS030015', 'ADDRESS': '臺北市文山區萬美街一段25號1樓(服務台上方天花板)', 'LAT': '25.002215', 'LNG': '121.569178', '_id': 569}, {'HOTSPOT_TYPE': 'Taipei Free免費無線上網熱點(室內)', 'HOTSPOT_NAME': '萬芳民眾閱覽室', 'STATUS': '0', 'AREA': '閱覽室', 'AP_ID': 'WS030016', 'ADDRESS': '臺北市文山區萬美街一段25號2樓(樓梯上來左前方第一支柱往右數第五塊天花板)', 'LAT': '25.002215', 'LNG': '121.569177', '_id': 570}, {'HOTSPOT_TYPE': 'Taipei Free免費無線上網熱點(室內)', 'HOTSPOT_NAME': '萬興分館', 'STATUS': '0', 'AREA': '圖書館', 'AP_ID': 'WS030017', 'ADDRESS': '臺北市文山區萬壽路27號4樓(門口進入直走第一台影印機右邊上方電燈與出風孔中間天花板)', 'LAT': '24.988685', 'LNG': '121.576501', '_id': 571}, {'HOTSPOT_TYPE': 'Taipei Free免費無線上網熱點(室內)', 'HOTSPOT_NAME': '萬興分館', 'STATUS': '0', 'AREA': '圖書館', 'AP_ID': 'WS030018', 'ADDRESS': '臺北市文山區萬壽路27號5樓(門口進入自修室走道第2個門口上方中間天花板)', 'LAT': '24.988685', 'LNG': '121.576503', '_id': 572}, {'HOTSPOT_TYPE': 'Taipei Free免費無線上網熱點(室內)', 'HOTSPOT_NAME': '文山分館', 'STATUS': '0', 'AREA': '圖書館', 'AP_ID': 'WS030019', 'ADDRESS': '臺北市文山區興隆路二段160號7樓(資料參考區牌子旁天花板)(兒童參考資料區)', 'LAT': '25.001586', 'LNG': '121.55142', '_id': 573}, {'HOTSPOT_TYPE': 'Taipei Free免費無線上網熱點(室內)', 'HOTSPOT_NAME': '文山分館', 'STATUS': '0', 'AREA': '圖書館', 'AP_ID': 'WS030020', 'ADDRESS': '臺北市文山區興隆路二段160號7樓(影印機與線上查調機中間天花板)', 'LAT': '25.001586', 'LNG': '121.55143', '_id': 574}, {'HOTSPOT_TYPE': 'Taipei Free免費無線上網熱點(室內)', 'HOTSPOT_NAME': '文山分館', 'STATUS': '0', 'AREA': '圖書館', 'AP_ID': 'WS030021', 'ADDRESS': '臺北市文山區興隆路二段160號8樓(門口進入直走左手邊柱子喇叭往右數第4塊天花板)', 'LAT': '25.001586', 'LNG': '121.55144', '_id': 575}, {'HOTSPOT_TYPE': 'Taipei Free免費無線上網熱點(室內)', 'HOTSPOT_NAME': '文山分館', 'STATUS': '0', 'AREA': '圖書館', 'AP_ID': 'WS030022', 'ADDRESS': '臺北市文山區興隆路二段160號9樓(電梯出來門口進入左轉中間兩支柱子中間天花板)', 'LAT': '25.001587', 'LNG': '121.55142', '_id': 576}, {'HOTSPOT_TYPE': 'Taipei Free免費無線上網熱點(室內)', 'HOTSPOT_NAME': '文山分館', 'STATUS': '0', 'AREA': '圖書館', 'AP_ID': 'WS030023', 'ADDRESS': '臺北市文山區興隆路二段160號9樓(機房門口直看過去中間兩支柱子中間天花板)', 'LAT': '25.001585', 'LNG': '121.55142', '_id': 577}, {'HOTSPOT_TYPE': 'Taipei Free免費無線上網熱點(室內)', 'HOTSPOT_NAME': '安康民眾閱覽室', 'STATUS': '0', 'AREA': '閱覽室', 'AP_ID': 'WS030024', 'ADDRESS': '臺北市文山區興隆路四段105巷1號4樓(門口進入展覽書區牌子旁天花板傳輸)', 'LAT': '24.987728', 'LNG': '121.5608', '_id': 578}, {'HOTSPOT_TYPE': 'Taipei Free免費無線上網熱點(室內)', 'HOTSPOT_NAME': '景美分館', 'STATUS': '0', 'AREA': '圖書館', 'AP_ID': 'WS030025', 'ADDRESS': '臺北市文山區羅斯福路五段176巷50號2樓(進入圓型柱子旁天花板)', 'LAT': '25.003607', 'LNG': '121.536373', '_id': 579}, {'HOTSPOT_TYPE': 'Taipei Free免費無線上網熱點(室內)', 'HOTSPOT_NAME': '景美分館', 'STATUS': '0', 'AREA': '圖書館', 'AP_ID': 'WS030026', 'ADDRESS': '臺北市文山區羅斯福路五段176巷50號3樓(另一端安全門右側牆面上時鐘數過來第3塊天花板)', 'LAT': '25.003607', 'LNG': '121.536375', '_id': 580}, {'HOTSPOT_TYPE': 'Taipei Free免費無線上網熱點(室內)', 'HOTSPOT_NAME': '景美分館', 'STATUS': '0', 'AREA': '圖書館', 'AP_ID': 'WS030027', 'ADDRESS': '臺北市文山區羅斯福路五段176巷50號4樓(自修室中間靠泠氣機之柱子旁天花板)', 'LAT': '25.003606', 'LNG': '121.536373', '_id': 581}, {'HOTSPOT_TYPE': 'Taipei Free免費無線上網熱點(室內)', 'HOTSPOT_NAME': '景新分館', 'STATUS': '0', 'AREA': '圖書館', 'AP_ID': 'WS030028', 'ADDRESS': '臺北市文山區景後街151號10樓會議室投影機後方天花板', 'LAT': '24.990152', 'LNG': '121.542034', '_id': 582}, {'HOTSPOT_TYPE': 'Taipei Free免費無線上網熱點(室內)', 'HOTSPOT_NAME': '景新分館', 'STATUS': '0', 'AREA': '圖書館', 'AP_ID': 'WS030029', 'ADDRESS': '臺北市文山區景後街151號(1樓樂齡中心)', 'LAT': '24.990153', 'LNG': '121.542031', '_id': 583}, {'HOTSPOT_TYPE': 'Taipei Free免費無線上網熱點(室內)', 'HOTSPOT_NAME': '萬芳醫院', 'STATUS': '0', 'AREA': '萬芳醫院', 'AP_ID': 'WS040001', 'ADDRESS': '臺北市文山區興隆路三段111號1樓(手扶梯前大廳上方)', 'LAT': '24.999793', 'LNG': '121.558223', '_id': 584}, {'HOTSPOT_TYPE': 'Taipei Free免費無線上網熱點(室內)', 'HOTSPOT_NAME': '萬芳醫院', 'STATUS': '0', 'AREA': '萬芳醫院', 'AP_ID': 'WS040002', 'ADDRESS': '臺北市文山區興隆路三段111號1樓(復健科櫃台前上方)', 'LAT': '25.000138', 'LNG': '121.558291', '_id': 585}, {'HOTSPOT_TYPE': 'Taipei Free免費無線上網熱點(室內)', 'HOTSPOT_NAME': '萬芳醫院', 'STATUS': '0', 'AREA': '萬芳醫院', 'AP_ID': 'WS040003', 'ADDRESS': '臺北市文山區興隆路三段111號2樓(中醫科門診前上方)', 'LAT': '25.000014', 'LNG': '121.558141', '_id': 586}, {'HOTSPOT_TYPE': 'Taipei Free免費無線上網熱點(室內)', 'HOTSPOT_NAME': '萬芳醫院', 'STATUS': '0', 'AREA': '萬芳醫院', 'AP_ID': 'WS040004', 'ADDRESS': '臺北市文山區興隆路三段111號2樓(眼科前方走道上方)', 'LAT': '24.999803', 'LNG': '121.558032', '_id': 587}, {'HOTSPOT_TYPE': 'Taipei Free免費無線上網熱點(室內)', 'HOTSPOT_NAME': '文山運動中心', 'STATUS': '0', 'AREA': '運動中心', 'AP_ID': 'WS130001', 'ADDRESS': '臺北市文山區興隆路三段222號(1F大門外右側上方)', 'LAT': '24.997017', 'LNG': '121.559673', '_id': 588}, {'HOTSPOT_TYPE': 'Taipei Free免費無線上網熱點(室內)', 'HOTSPOT_NAME': '文山運動中心', 'STATUS': '0', 'AREA': '運動中心', 'AP_ID': 'WS130002', 'ADDRESS': '臺北市文山區興隆路三段222號(1F兒童遊樂區前)', 'LAT': '24.997017', 'LNG': '121.559672', '_id': 589}, {'HOTSPOT_TYPE': 'Taipei Free免費無線上網熱點(室內)', 'HOTSPOT_NAME': '文山運動中心', 'STATUS': '0', 'AREA': '運動中心', 'AP_ID': 'WS130003', 'ADDRESS': '臺北市文山區興隆路三段222號(1F櫃檯旁)', 'LAT': '24.997017', 'LNG': '121.559671', '_id': 590}, {'HOTSPOT_TYPE': 'Taipei Free免費無線上網熱點(室內)', 'HOTSPOT_NAME': '文山運動中心', 'STATUS': '0', 'AREA': '運動中心', 'AP_ID': 'WS130004', 'ADDRESS': '臺北市文山區興隆路三段222號(2F健身房前)', 'LAT': '24.997017', 'LNG': '121.559674', '_id': 591}, {'HOTSPOT_TYPE': 'Taipei Free免費無線上網熱點(室內)', 'HOTSPOT_NAME': '文山運動中心', 'STATUS': '0', 'AREA': '運動中心', 'AP_ID': 'WS130005', 'ADDRESS': '臺北市文山區興隆路三段222號(2F櫃檯前)', 'LAT': '24.997017', 'LNG': '121.559675', '_id': 592}, {'HOTSPOT_TYPE': 'Taipei Free免費無線上網熱點(室內)', 'HOTSPOT_NAME': '文山運動中心', 'STATUS': '0', 'AREA': '運動中心', 'AP_ID': 'WS130006', 'ADDRESS': '臺北市文山區興隆路三段222號(3F櫃檯前)', 'LAT': '24.997019', 'LNG': '121.559676', '_id': 593}, {'HOTSPOT_TYPE': 'Taipei Free免費無線上網熱點(室內)', 'HOTSPOT_NAME': '文山運動中心', 'STATUS': '0', 'AREA': '運動中心', 'AP_ID': 'WS130008', 'ADDRESS': '臺北市文山區興隆路三段222號(4F辦公室旁)', 'LAT': '24.997016', 'LNG': '121.559673', '_id': 594}, {'HOTSPOT_TYPE': 'Taipei Free免費無線上網熱點(室內)', 'HOTSPOT_NAME': '文山運動中心', 'STATUS': '0', 'AREA': '運動中心', 'AP_ID': 'WS130009', 'ADDRESS': '臺北市文山區興隆路三段222號(5F教練室前)', 'LAT': '24.997018', 'LNG': '121.559673', '_id': 595}, {'HOTSPOT_TYPE': 'Taipei Free免費無線上網熱點(室內)', 'HOTSPOT_NAME': '文山運動中心', 'STATUS': '0', 'AREA': '運動中心', 'AP_ID': 'WS130010', 'ADDRESS': '臺北市文山區興隆路三段222號(5F舞蹈教室前)', 'LAT': '24.997015', 'LNG': '121.559673', '_id': 596}, {'HOTSPOT_TYPE': 'Taipei Free免費無線上網熱點(室內)', 'HOTSPOT_NAME': '文山運動中心', 'STATUS': '0', 'AREA': '運動中心', 'AP_ID': 'WS130011', 'ADDRESS': '臺北市文山區興隆路三段222號(6F電梯前)', 'LAT': '24.997016', 'LNG': '121.559672', '_id': 597}, {'HOTSPOT_TYPE': 'Taipei Free免費無線上網熱點(室內)', 'HOTSPOT_NAME': '文山運動中心', 'STATUS': '0', 'AREA': '運動中心', 'AP_ID': 'WS130012', 'ADDRESS': '臺北市文山區興隆路三段222號(6F觀看區旁)', 'LAT': '24.997014', 'LNG': '121.559675', '_id': 598}, {'HOTSPOT_TYPE': 'Taipei Free免費無線上網熱點(室內)', 'HOTSPOT_NAME': '文山運動中心', 'STATUS': '0', 'AREA': '運動中心', 'AP_ID': 'WS130014', 'ADDRESS': '臺北市文山區興隆路三段222號(B1出電梯安全門上方)', 'LAT': '24.997014', 'LNG': '121.559673', '_id': 599}, {'HOTSPOT_TYPE': 'Taipei Free免費無線上網熱點(室內)', 'HOTSPOT_NAME': '古亭地政事務所', 'STATUS': '0', 'AREA': '地政事務所', 'AP_ID': 'WS180001', 'ADDRESS': '臺北市文山區萬隆街47-12號3樓(3F服務臺上方)', 'LAT': '25.000651', 'LNG': '121.536124', '_id': 600}, {'HOTSPOT_TYPE': 'Taipei Free免費無線上網熱點(室內)', 'HOTSPOT_NAME': '古亭地政事務所', 'STATUS': '0', 'AREA': '地政事務所', 'AP_ID': 'WS180002', 'ADDRESS': '臺北市文山區萬隆街47-12號3樓(3F服務臺正對面電視上方)', 'LAT': '25.000651', 'LNG': '121.536122', '_id': 601}, {'HOTSPOT_TYPE': 'Taipei Free免費無線上網熱點(室內)', 'HOTSPOT_NAME': '景美戶政事務所', 'STATUS': '0', 'AREA': '其他', 'AP_ID': 'WS180007', 'ADDRESS': '臺北市文山區興隆路二段160號三樓(服務台前方跑馬燈)', 'LAT': '24.99222', 'LNG': '121.5402', '_id': 602}, {'HOTSPOT_TYPE': 'Taipei Free免費無線上網熱點(室內)', 'HOTSPOT_NAME': '臺北市立社會教育館-文化劇場', 'STATUS': '0', 'AREA': '文化場館', 'AP_ID': 'WS220011', 'ADDRESS': '臺北市文山區景文街32號(5F行政辦公室)', 'LAT': '24.991812', 'LNG': '121.541329', '_id': 603}, {'HOTSPOT_TYPE': 'Taipei Free免費無線上網熱點(室內)', 'HOTSPOT_NAME': '富德靈骨塔', 'STATUS': '0', 'AREA': '殯葬管理處', 'AP_ID': 'WS220023', 'ADDRESS': '臺北市文山區木柵路五段190號(靈骨塔入門口左側的服務中心天花板上)', 'LAT': '24.998895', 'LNG': '121.59446', '_id': 604}, {'HOTSPOT_TYPE': 'Taipei Free免費無線上網熱點(室內)', 'HOTSPOT_NAME': '老人自費安養中心', 'STATUS': '0', 'AREA': '為民服務單位', 'AP_ID': 'WS220024', 'ADDRESS': '臺北市文山區興隆路四段109巷30弄6號(服務台前方冷氣上方天花板)', 'LAT': '24.986284', 'LNG': '121.56247', '_id': 605}, {'HOTSPOT_TYPE': 'Taipei Free免費無線上網熱點(室內)', 'HOTSPOT_NAME': '老人自費安養中心', 'STATUS': '0', 'AREA': '為民服務單位', 'AP_ID': 'WS220025', 'ADDRESS': '臺北市文山區興隆路四段109巷30弄6號(活動中心左側門口內天花板上方)', 'LAT': '24.986238', 'LNG': '121.562496', '_id': 606}, {'HOTSPOT_TYPE': 'Taipei Free免費無線上網熱點(室內)', 'HOTSPOT_NAME': '木柵市場', 'STATUS': '0', 'AREA': '市集', 'AP_ID': 'WS230001', 'ADDRESS': '臺北市文山區保儀路一段13巷3號(1F大門上方屋簷)', 'LAT': '24.986439', 'LNG': '121.567976', '_id': 607}, {'HOTSPOT_TYPE': 'Taipei Free免費無線上網熱點(室內)', 'HOTSPOT_NAME': '興隆市場', 'STATUS': '0', 'AREA': '市集', 'AP_ID': 'WS230002', 'ADDRESS': '臺北市文山區興隆路二段97號(38與43前方走道上方)', 'LAT': '24.99982', 'LNG': '121.54733', '_id': 608}, {'HOTSPOT_TYPE': 'Taipei Free免費無線上網熱點(室內)', 'HOTSPOT_NAME': '興隆市場', 'STATUS': '0', 'AREA': '市集', 'AP_ID': 'WS230003', 'ADDRESS': '臺北市文山區興隆路二段97號(51與52前方走道上方)', 'LAT': '24.99982', 'LNG': '121.54734', '_id': 609}, {'HOTSPOT_TYPE': 'Taipei Free免費無線上網熱點(室內)', 'HOTSPOT_NAME': '興隆市場', 'STATUS': '0', 'AREA': '市集', 'AP_ID': 'WS230004', 'ADDRESS': '臺北市文山區興隆路二段97號(55與56前方走道上方)', 'LAT': '24.99982', 'LNG': '121.54735', '_id': 610}, {'HOTSPOT_TYPE': 'Taipei Free免費無線上網熱點(室內)', 'HOTSPOT_NAME': '興隆市場', 'STATUS': '0', 'AREA': '市集', 'AP_ID': 'WS230005', 'ADDRESS': '臺北市文山區興隆路二段97號(17與70前方走道上方)', 'LAT': '24.99982', 'LNG': '121.54732', '_id': 611}, {'HOTSPOT_TYPE': 'Taipei Free免費無線上網熱點(室內)', 'HOTSPOT_NAME': '木柵市場', 'STATUS': '0', 'AREA': '市集', 'AP_ID': 'WS230006', 'ADDRESS': '臺北市文山區保儀路一段13巷3號(1樓44攤位左邊上方)', 'LAT': '24.986603', 'LNG': '121.56814', '_id': 612}, {'HOTSPOT_TYPE': 'Taipei Free免費無線上網熱點(室內)', 'HOTSPOT_NAME': '木柵市場', 'STATUS': '0', 'AREA': '市集', 'AP_ID': 'WS230007', 'ADDRESS': '臺北市文山區保儀路一段13巷3號(1樓57攤位前走道上方)', 'LAT': '24.986603', 'LNG': '121.56816', '_id': 613}, {'HOTSPOT_TYPE': 'Taipei Free免費無線上網熱點(室內)', 'HOTSPOT_NAME': '木柵市場', 'STATUS': '0', 'AREA': '市集', 'AP_ID': 'WS230008', 'ADDRESS': '臺北市文山區保儀路一段13巷3號(2樓149攤位左邊上方)', 'LAT': '24.986605', 'LNG': '121.56814', '_id': 614}, {'HOTSPOT_TYPE': 'Taipei Free免費無線上網熱點(室內)', 'HOTSPOT_NAME': '木柵市場', 'STATUS': '0', 'AREA': '市集', 'AP_ID': 'WS230009', 'ADDRESS': '臺北市文山區保儀路一段13巷3號(2樓148攤位左邊上方)', 'LAT': '24.986607', 'LNG': '121.56814', '_id': 615}, {'HOTSPOT_TYPE': 'Taipei Free免費無線上網熱點(室內)', 'HOTSPOT_NAME': '木新市場', 'STATUS': '0', 'AREA': '市集', 'AP_ID': 'WS230011', 'ADDRESS': '臺北市文山區木新路3段310巷4號(攤位編號:52)', 'LAT': '24.981536', 'LNG': '121.556966', '_id': 616}, {'HOTSPOT_TYPE': 'Taipei Free免費無線上網熱點(室內)', 'HOTSPOT_NAME': '木新市場', 'STATUS': '0', 'AREA': '市集', 'AP_ID': 'WS230012', 'ADDRESS': '臺北市文山區木新路3段310巷4號(攤位編號:92)', 'LAT': '24.981532', 'LNG': '121.556968', '_id': 617}, {'HOTSPOT_TYPE': 'Taipei Free免費無線上網熱點(室內)', 'HOTSPOT_NAME': '木新市場', 'STATUS': '0', 'AREA': '市集', 'AP_ID': 'WS230013', 'ADDRESS': '臺北市文山區木新路3段310巷4號(攤位編號:112)', 'LAT': '24.98153', 'LNG': '121.55696', '_id': 618}, {'HOTSPOT_TYPE': 'Taipei Free免費無線上網熱點(室內)', 'HOTSPOT_NAME': '貓熊館', 'STATUS': '0', 'AREA': '動物園', 'AP_ID': 'WS290007', 'ADDRESS': '臺北市文山區新光路二段30號(二樓賣場門口上方)', 'LAT': '24.997265', 'LNG': '121.583161', '_id': 619}, {'HOTSPOT_TYPE': 'Taipei Free免費無線上網熱點(室內)', 'HOTSPOT_NAME': '文山萬芳區民活動中心', 'STATUS': '0', 'AREA': '區民活動中心', 'AP_ID': 'WS300001', 'ADDRESS': '臺北市文山區萬美街一段51號3樓', 'LAT': '25.002263', 'LNG': '121.568186', '_id': 620}, {'HOTSPOT_TYPE': 'Taipei Free免費無線上網熱點(室內)', 'HOTSPOT_NAME': '文山萬福區民活動中心', 'STATUS': '0', 'AREA': '區民活動中心', 'AP_ID': 'WS300002', 'ADDRESS': '臺北市文山區萬隆街47之12號地下室(舞台前方天花板)', 'LAT': '25.00064', 'LNG': '121.537017', '_id': 621}, {'HOTSPOT_TYPE': 'Taipei Free免費無線上網熱點(室內)', 'HOTSPOT_NAME': '文山興豐區民活動中心', 'STATUS': '0', 'AREA': '區民活動中心', 'AP_ID': 'WS300004', 'ADDRESS': '臺北市文山區興隆路二段95巷8號8樓(教室一門口前方走廊上)', 'LAT': '25.00002', 'LNG': '121.546894', '_id': 622}, {'HOTSPOT_TYPE': 'Taipei Free免費無線上網熱點(室內)', 'HOTSPOT_NAME': '文山木新區民活動中心', 'STATUS': '0', 'AREA': '區民活動中心', 'AP_ID': 'WS300005', 'ADDRESS': '臺北市文山區木新路三段310巷4號2樓之1(門口上方天花板上)', 'LAT': '24.981472', 'LNG': '121.556986', '_id': 623}, {'HOTSPOT_TYPE': 'Taipei Free免費無線上網熱點(室內)', 'HOTSPOT_NAME': '文山忠順區民活動中心', 'STATUS': '0', 'AREA': '區民活動中心', 'AP_ID': 'WS300006', 'ADDRESS': '臺北市文山區忠順街二段22號2樓(門口前方天花板)', 'LAT': '24.984658', 'LNG': '121.563096', '_id': 624}, {'HOTSPOT_TYPE': 'Taipei Free免費無線上網熱點(室內)', 'HOTSPOT_NAME': '文山景行區民活動中心', 'STATUS': '0', 'AREA': '區民活動中心', 'AP_ID': 'WS300007', 'ADDRESS': '臺北市文山區羅斯福路六段393號6-9樓(中央天花板上)', 'LAT': '24.992127', 'LNG': '121.540601', '_id': 625}, {'HOTSPOT_TYPE': 'Taipei Free免費無線上網熱點(室內)', 'HOTSPOT_NAME': '文山樟腳區民活動中心', 'STATUS': '0', 'AREA': '區民活動中心', 'AP_ID': 'WS300008', 'ADDRESS': '臺北市文山區恆光街45號8樓(冷氣機上方)', 'LAT': '24.98242', 'LNG': '121.567309', '_id': 626}, {'HOTSPOT_TYPE': 'Taipei Free免費無線上網熱點(室內)', 'HOTSPOT_NAME': '臺北市政府大樓', 'STATUS': '0', 'AREA': '市府大樓', 'AP_ID': 'XY010006', 'ADDRESS': '臺北市信義區市府路1號(台北市政府大樓1樓)', 'LAT': '25.037547', 'LNG': '121.564386', '_id': 627}, {'HOTSPOT_TYPE': 'Taipei Free免費無線上網熱點(室內)', 'HOTSPOT_NAME': '臺北市政府大樓', 'STATUS': '0', 'AREA': '市府大樓', 'AP_ID': 'XY010007', 'ADDRESS': '臺北市信義區市府路1號(台北市政府大樓1樓北側)', 'LAT': '25.037545', 'LNG': '121.564384', '_id': 628}, {'HOTSPOT_TYPE': 'Taipei Free免費無線上網熱點(室內)', 'HOTSPOT_NAME': '臺北市政府大樓', 'STATUS': '0', 'AREA': '市府大樓', 'AP_ID': 'XY010008', 'ADDRESS': '臺北市信義區市府路1號(台北市政府大樓1樓東北側)', 'LAT': '25.036817', 'LNG': '121.564324', '_id': 629}, {'HOTSPOT_TYPE': 'Taipei Free免費無線上網熱點(室內)', 'HOTSPOT_NAME': '臺北市政府大樓', 'STATUS': '0', 'AREA': '市府大樓', 'AP_ID': 'XY010009', 'ADDRESS': '臺北市信義區市府路1號(台北市政府大樓1樓南側)', 'LAT': '25.036817', 'LNG': '121.564326', '_id': 630}, {'HOTSPOT_TYPE': 'Taipei Free免費無線上網熱點(室內)', 'HOTSPOT_NAME': '臺北市政府大樓', 'STATUS': '0', 'AREA': '市府大樓', 'AP_ID': 'XY010010', 'ADDRESS': '臺北市信義區市府路1號(台北市政府大樓1樓無線上網體驗區)', 'LAT': '25.036819', 'LNG': '121.564324', '_id': 631}, {'HOTSPOT_TYPE': 'Taipei Free免費無線上網熱點(室內)', 'HOTSPOT_NAME': '臺北市政府大樓', 'STATUS': '0', 'AREA': '市府大樓', 'AP_ID': 'XY010011', 'ADDRESS': '臺北市信義區市府路1號(2樓親子劇場入口大廳)', 'LAT': '25.037881', 'LNG': '121.564377', '_id': 632}, {'HOTSPOT_TYPE': 'Taipei Free免費無線上網熱點(室外)', 'HOTSPOT_NAME': '公共電話亭', 'STATUS': '0', 'AREA': '公共電話亭', 'AP_ID': '223Y904348', 'ADDRESS': '台北市中正區許昌街2號1樓', 'LAT': '25.045532', 'LNG': '121.51717', '_id': 1132}, {'HOTSPOT_TYPE': 'Taipei Free免費無線上網熱點(室內)', 'HOTSPOT_NAME': '臺北市政府大樓', 'STATUS': '0', 'AREA': '市府大樓', 'AP_ID': 'XY010012', 'ADDRESS': '臺北市信義區市府路1號(台北市政府大樓2樓南區)', 'LAT': '25.037881', 'LNG': '121.564379', '_id': 633}, {'HOTSPOT_TYPE': 'Taipei Free免費無線上網熱點(室內)', 'HOTSPOT_NAME': '臺北市政府大樓', 'STATUS': '0', 'AREA': '市府大樓', 'AP_ID': 'XY010013', 'ADDRESS': '臺北市信義區市府路1號(台北市政府大樓B1走廊)', 'LAT': '25.037881', 'LNG': '121.564375', '_id': 634}, {'HOTSPOT_TYPE': 'Taipei Free免費無線上網熱點(室內)', 'HOTSPOT_NAME': '臺北市政府大樓', 'STATUS': '0', 'AREA': '市府大樓', 'AP_ID': 'XY010014', 'ADDRESS': '臺北市信義區市府路1號(台北市政府大樓B2商家走廊北側)', 'LAT': '25.037881', 'LNG': '121.564371', '_id': 635}, {'HOTSPOT_TYPE': 'Taipei Free免費無線上網熱點(室內)', 'HOTSPOT_NAME': '臺北市政府大樓', 'STATUS': '0', 'AREA': '市府大樓', 'AP_ID': 'XY010015', 'ADDRESS': '臺北市信義區市府路1號(台北市政府大樓B2商家走廊南側)', 'LAT': '25.037885', 'LNG': '121.564377', '_id': 636}, {'HOTSPOT_TYPE': 'Taipei Free免費無線上網熱點(室內)', 'HOTSPOT_NAME': '臺北市政府大樓', 'STATUS': '0', 'AREA': '市府大樓', 'AP_ID': 'XY010016', 'ADDRESS': '臺北市信義區市府路1號(四樓記者室前走道)', 'LAT': '25.038149', 'LNG': '121.564391', '_id': 637}, {'HOTSPOT_TYPE': 'Taipei Free免費無線上網熱點(室內)', 'HOTSPOT_NAME': '信義區行政中心', 'STATUS': '0', 'AREA': '區行政中心', 'AP_ID': 'XY020001', 'ADDRESS': '臺北市信義區信義路五段15號1樓(院區討論室前方四格天花板上方)', 'LAT': '25.03312', 'LNG': '121.566864', '_id': 638}, {'HOTSPOT_TYPE': 'Taipei Free免費無線上網熱點(室內)', 'HOTSPOT_NAME': '信義區行政中心', 'STATUS': '0', 'AREA': '區行政中心', 'AP_ID': 'XY020002', 'ADDRESS': '臺北市信義區信義路五段15號1樓(電梯外面走道中間天花板)', 'LAT': '25.03312', 'LNG': '121.566866', '_id': 639}, {'HOTSPOT_TYPE': 'Taipei Free免費無線上網熱點(室內)', 'HOTSPOT_NAME': '信義區行政中心', 'STATUS': '0', 'AREA': '區行政中心', 'AP_ID': 'XY020003', 'ADDRESS': '臺北市信義區信義路五段15號2樓(進門約3米處喇叭旁)', 'LAT': '25.03312', 'LNG': '121.566868', '_id': 640}, {'HOTSPOT_TYPE': 'Taipei Free免費無線上網熱點(室內)', 'HOTSPOT_NAME': '信義區行政中心', 'STATUS': '0', 'AREA': '區行政中心', 'AP_ID': 'XY020004', 'ADDRESS': '臺北市信義區信義路五段15號3樓(進門約3米處喇叭旁)', 'LAT': '25.03312', 'LNG': '121.566869', '_id': 641}, {'HOTSPOT_TYPE': 'Taipei Free免費無線上網熱點(室內)', 'HOTSPOT_NAME': '信義區行政中心', 'STATUS': '0', 'AREA': '區行政中心', 'AP_ID': 'XY020005', 'ADDRESS': '臺北市信義區信義路五段15號5樓(票號區柱子喇叭旁)', 'LAT': '25.03312', 'LNG': '121.566863', '_id': 642}, {'HOTSPOT_TYPE': 'Taipei Free免費無線上網熱點(室內)', 'HOTSPOT_NAME': '信義區行政中心', 'STATUS': '0', 'AREA': '區行政中心', 'AP_ID': 'XY020006', 'ADDRESS': '臺北市信義區信義路五段15號6樓(愛心義工辦公桌旁天花板)', 'LAT': '25.03312', 'LNG': '121.566862', '_id': 643}, {'HOTSPOT_TYPE': 'Taipei Free免費無線上網熱點(室內)', 'HOTSPOT_NAME': '信義區行政中心', 'STATUS': '0', 'AREA': '區行政中心', 'AP_ID': 'XY020007', 'ADDRESS': '臺北市信義區信義路五段15號7樓(門口進入屏風旁天花板)', 'LAT': '25.03314', 'LNG': '121.566864', '_id': 644}, {'HOTSPOT_TYPE': 'Taipei Free免費無線上網熱點(室內)', 'HOTSPOT_NAME': '信義區健康服務中心', 'STATUS': '0', 'AREA': '健康服務中心', 'AP_ID': 'XY020008', 'ADDRESS': '臺北市信義區信義路五段15號8樓(梯廳至健康中心走道天花板內)', 'LAT': '25.03315', 'LNG': '121.566864', '_id': 645}, {'HOTSPOT_TYPE': 'Taipei Free免費無線上網熱點(室內)', 'HOTSPOT_NAME': '信義區行政中心', 'STATUS': '0', 'AREA': '區行政中心', 'AP_ID': 'XY020009', 'ADDRESS': '臺北市信義區信義路五段15號9樓(辦公區內)', 'LAT': '25.03316', 'LNG': '121.566864', '_id': 646}, {'HOTSPOT_TYPE': 'Taipei Free免費無線上網熱點(室內)', 'HOTSPOT_NAME': '信義區行政中心', 'STATUS': '0', 'AREA': '區行政中心', 'AP_ID': 'XY020010', 'ADDRESS': '臺北市信義區信義路五段15號B1(面對商店門口右邊天花板通風處旁)', 'LAT': '25.03317', 'LNG': '121.566864', '_id': 647}, {'HOTSPOT_TYPE': 'Taipei Free免費無線上網熱點(室內)', 'HOTSPOT_NAME': '三興分館', 'STATUS': '0', 'AREA': '圖書館', 'AP_ID': 'XY030001', 'ADDRESS': '臺北市信義區吳興街156巷6號4樓兒童閱讀區', 'LAT': '25.029062', 'LNG': '121.561168', '_id': 648}, {'HOTSPOT_TYPE': 'Taipei Free免費無線上網熱點(室內)', 'HOTSPOT_NAME': '三興分館', 'STATUS': '0', 'AREA': '圖書館', 'AP_ID': 'XY030002', 'ADDRESS': '臺北市信義區吳興街156巷6號5樓(閱覽室中心位置，閱覽區牌子前方)', 'LAT': '25.029062', 'LNG': '121.561165', '_id': 649}, {'HOTSPOT_TYPE': 'Taipei Free免費無線上網熱點(室內)', 'HOTSPOT_NAME': '永春分館', 'STATUS': '0', 'AREA': '圖書館', 'AP_ID': 'XY030003', 'ADDRESS': '臺北市信義區松山路294號3樓(筆電區上方天花板)', 'LAT': '25.043069', 'LNG': '121.577577', '_id': 650}, {'HOTSPOT_TYPE': 'Taipei Free免費無線上網熱點(室內)', 'HOTSPOT_NAME': '永春分館', 'STATUS': '0', 'AREA': '圖書館', 'AP_ID': 'XY030004', 'ADDRESS': '臺北市信義區松山路294號4樓(多功能活動室)', 'LAT': '25.043069', 'LNG': '121.577575', '_id': 651}, {'HOTSPOT_TYPE': 'Taipei Free免費無線上網熱點(室內)', 'HOTSPOT_NAME': '永春分館', 'STATUS': '0', 'AREA': '圖書館', 'AP_ID': 'XY030005', 'ADDRESS': '臺北市信義區松山路294號3樓(櫃台前圓柱上方)', 'LAT': '25.043069', 'LNG': '121.577573', '_id': 652}, {'HOTSPOT_TYPE': 'Taipei Free免費無線上網熱點(室內)', 'HOTSPOT_NAME': '六合分館', 'STATUS': '0', 'AREA': '圖書館', 'AP_ID': 'XY030006', 'ADDRESS': '臺北市信義區松仁路240巷19號3樓自修室', 'LAT': '25.024522', 'LNG': '121.568874', '_id': 653}, {'HOTSPOT_TYPE': 'Taipei Free免費無線上網熱點(室內)', 'HOTSPOT_NAME': '六合分館', 'STATUS': '0', 'AREA': '圖書館', 'AP_ID': 'XY030007', 'ADDRESS': '臺北市信義區松仁路240巷19號5樓哺乳室門口外天花板上方', 'LAT': '25.024522', 'LNG': '121.568873', '_id': 654}, {'HOTSPOT_TYPE': 'Taipei Free免費無線上網熱點(室內)', 'HOTSPOT_NAME': '六合分館', 'STATUS': '0', 'AREA': '圖書館', 'AP_ID': 'XY030008', 'ADDRESS': '臺北市信義區松仁路240巷19號4樓(兒童閱覽區)', 'LAT': '25.024522', 'LNG': '121.568872', '_id': 655}, {'HOTSPOT_TYPE': 'Taipei Free免費無線上網熱點(室內)', 'HOTSPOT_NAME': '永春分館', 'STATUS': '0', 'AREA': '圖書館', 'AP_ID': 'XY030009', 'ADDRESS': '臺北市信義區松山路294號4樓(自修室正中央上方)', 'LAT': '25.043069', 'LNG': '121.577579', '_id': 656}, {'HOTSPOT_TYPE': 'Taipei Free免費無線上網熱點(室內)', 'HOTSPOT_NAME': '福德智慧圖書館', 'STATUS': '0', 'AREA': '圖書館', 'AP_ID': 'XY030010', 'ADDRESS': '臺北市信義區福德街15號2樓(兒童閱覽區沙發後天花板內)', 'LAT': '25.036237', 'LNG': '121.57969', '_id': 657}, {'HOTSPOT_TYPE': 'Taipei Free免費無線上網熱點(室內)', 'HOTSPOT_NAME': '福德智慧圖書館', 'STATUS': '0', 'AREA': '圖書館', 'AP_ID': 'XY030011', 'ADDRESS': '臺北市信義區福德街15號2樓(自修室中央天花板內)', 'LAT': '25.036237', 'LNG': '121.57959', '_id': 658}, {'HOTSPOT_TYPE': 'Taipei Free免費無線上網熱點(室內)', 'HOTSPOT_NAME': '松德院區', 'STATUS': '0', 'AREA': '松德院區', 'AP_ID': 'XY040002', 'ADDRESS': '臺北市信義區松德路309號(第一院區1樓(大門口進入往右邊兒童青少年心理衛生門診27室前方天花板', 'LAT': '25.030509', 'LNG': '121.574895', '_id': 659}, {'HOTSPOT_TYPE': 'Taipei Free免費無線上網熱點(室內)', 'HOTSPOT_NAME': '松德院區', 'STATUS': '0', 'AREA': '松德院區', 'AP_ID': 'XY040003', 'ADDRESS': '臺北市信義區松德路309號(第一院區1樓(大門口進入往左邊方向，位於19診察室))', 'LAT': '25.030508', 'LNG': '121.574896', '_id': 660}, {'HOTSPOT_TYPE': 'Taipei Free免費無線上網熱點(室內)', 'HOTSPOT_NAME': '松德院區', 'STATUS': '0', 'AREA': '松德院區', 'AP_ID': 'XY040004', 'ADDRESS': '臺北市信義區松德路309號(第一院區1樓(大門口進入往左邊方向，位於出/住院領藥區等候區))', 'LAT': '25.0305086', 'LNG': '121.574895', '_id': 661}, {'HOTSPOT_TYPE': 'Taipei Free免費無線上網熱點(室內)', 'HOTSPOT_NAME': '松德院區', 'STATUS': '0', 'AREA': '松德院區', 'AP_ID': 'XY040005', 'ADDRESS': '臺北市信義區松德路309號(第一院區1樓(大門口進入往左邊方向，位於診察11室))', 'LAT': '25.030507', 'LNG': '121.574895', '_id': 662}, {'HOTSPOT_TYPE': 'Taipei Free免費無線上網熱點(室內)', 'HOTSPOT_NAME': '松德院區', 'STATUS': '0', 'AREA': '松德院區', 'AP_ID': 'XY040006', 'ADDRESS': '臺北市信義區松德路309號(第一院區1樓(大門口進入往左邊方向，位於社區護理門口上方))', 'LAT': '25.030503', 'LNG': '121.574895', '_id': 663}, {'HOTSPOT_TYPE': 'Taipei Free免費無線上網熱點(室內)', 'HOTSPOT_NAME': '松德院區', 'STATUS': '0', 'AREA': '松德院區', 'AP_ID': 'XY040007', 'ADDRESS': '臺北市信義區松德路309號(第一院區1樓(大門口進入直走方向，位於初診門口前上方))', 'LAT': '25.030502', 'LNG': '121.574895', '_id': 664}, {'HOTSPOT_TYPE': 'Taipei Free免費無線上網熱點(室內)', 'HOTSPOT_NAME': '松德院區', 'STATUS': '0', 'AREA': '松德院區', 'AP_ID': 'XY040041', 'ADDRESS': '臺北市信義區松德路309號(第二院區1樓(大門口進入，往右邊電梯方向位電梯及洗手間))', 'LAT': '25.030218', 'LNG': '121.574916', '_id': 665}, {'HOTSPOT_TYPE': 'Taipei Free免費無線上網熱點(室內)', 'HOTSPOT_NAME': '松德院區', 'STATUS': '0', 'AREA': '松德院區', 'AP_ID': 'XY040057', 'ADDRESS': '臺北市信義區松德路309號(第二院區7樓(7F701病房旁)', 'LAT': '25.030215', 'LNG': '121.574916', '_id': 666}, {'HOTSPOT_TYPE': 'Taipei Free免費無線上網熱點(室內)', 'HOTSPOT_NAME': '信義運動中心', 'STATUS': '0', 'AREA': '運動中心', 'AP_ID': 'XY130001', 'ADDRESS': '臺北市信義區松勤街100號(1F7-11前上方內)', 'LAT': '25.031868', 'LNG': '121.566679', '_id': 667}, {'HOTSPOT_TYPE': 'Taipei Free免費無線上網熱點(室內)', 'HOTSPOT_NAME': '信義運動中心', 'STATUS': '0', 'AREA': '運動中心', 'AP_ID': 'XY130002', 'ADDRESS': '臺北市信義區松勤街100號(1F服務臺大門口上方內)', 'LAT': '25.031669', 'LNG': '121.566686', '_id': 668}, {'HOTSPOT_TYPE': 'Taipei Free免費無線上網熱點(室內)', 'HOTSPOT_NAME': '信義運動中心', 'STATUS': '0', 'AREA': '運動中心', 'AP_ID': 'XY130003', 'ADDRESS': '臺北市信義區松勤街100號(1F泳衣賣場前上方內)', 'LAT': '25.031669', 'LNG': '121.566684', '_id': 669}, {'HOTSPOT_TYPE': 'Taipei Free免費無線上網熱點(室內)', 'HOTSPOT_NAME': '信義運動中心', 'STATUS': '0', 'AREA': '運動中心', 'AP_ID': 'XY130005', 'ADDRESS': '臺北市信義區松勤街100號(2F社區教室前上內)', 'LAT': '25.031669', 'LNG': '121.566682', '_id': 670}, {'HOTSPOT_TYPE': 'Taipei Free免費無線上網熱點(室內)', 'HOTSPOT_NAME': '信義運動中心', 'STATUS': '0', 'AREA': '運動中心', 'AP_ID': 'XY130006', 'ADDRESS': '臺北市信義區松勤街100號(2F空調機房上內)', 'LAT': '25.031669', 'LNG': '121.566681', '_id': 671}, {'HOTSPOT_TYPE': 'Taipei Free免費無線上網熱點(室內)', 'HOTSPOT_NAME': '信義運動中心', 'STATUS': '0', 'AREA': '運動中心', 'AP_ID': 'XY130007', 'ADDRESS': '臺北市信義區松勤街100號(2F健身房後門上方內)', 'LAT': '25.031669', 'LNG': '121.566689', '_id': 672}, {'HOTSPOT_TYPE': 'Taipei Free免費無線上網熱點(室內)', 'HOTSPOT_NAME': '信義運動中心', 'STATUS': '0', 'AREA': '運動中心', 'AP_ID': 'XY130009', 'ADDRESS': '臺北市信義區松勤街100號(3F桌球室前上)', 'LAT': '25.031665', 'LNG': '121.566686', '_id': 673}, {'HOTSPOT_TYPE': 'Taipei Free免費無線上網熱點(室內)', 'HOTSPOT_NAME': '信義運動中心', 'STATUS': '0', 'AREA': '運動中心', 'AP_ID': 'XY130011', 'ADDRESS': '臺北市信義區松勤街100號(3F電梯口上)', 'LAT': '25.031664', 'LNG': '121.566686', '_id': 674}, {'HOTSPOT_TYPE': 'Taipei Free免費無線上網熱點(室內)', 'HOTSPOT_NAME': '信義運動中心', 'STATUS': '0', 'AREA': '運動中心', 'AP_ID': 'XY130013', 'ADDRESS': '臺北市信義區松勤街100號(5F游泳池)', 'LAT': '25.031668', 'LNG': '121.566686', '_id': 675}, {'HOTSPOT_TYPE': 'Taipei Free免費無線上網熱點(室內)', 'HOTSPOT_NAME': '信義運動中心', 'STATUS': '0', 'AREA': '運動中心', 'AP_ID': 'XY130015', 'ADDRESS': '臺北市信義區松勤街100號(6F籃球/羽球室，後逃生門上)', 'LAT': '25.031667', 'LNG': '121.566686', '_id': 676}, {'HOTSPOT_TYPE': 'Taipei Free免費無線上網熱點(室內)', 'HOTSPOT_NAME': '市府轉運站', 'STATUS': '0', 'AREA': '交通轉運站', 'AP_ID': 'XY140001', 'ADDRESS': '臺北市信義區忠孝東路五段6號(10號月台上方)', 'LAT': '25.040914', 'LNG': '121.565136', '_id': 677}, {'HOTSPOT_TYPE': 'Taipei Free免費無線上網熱點(室內)', 'HOTSPOT_NAME': '市府轉運站', 'STATUS': '0', 'AREA': '交通轉運站', 'AP_ID': 'XY140002', 'ADDRESS': '臺北市信義區忠孝東路五段6號(8號月台上方)', 'LAT': '25.040919', 'LNG': '121.565136', '_id': 678}, {'HOTSPOT_TYPE': 'Taipei Free免費無線上網熱點(室內)', 'HOTSPOT_NAME': '松山地政事務所', 'STATUS': '0', 'AREA': '地政事務所', 'AP_ID': 'XY180001', 'ADDRESS': '臺北市信義區莊敬路391巷11弄2號(1F大廳電視前方天花板內)', 'LAT': '25.028846', 'LNG': '121.566153', '_id': 679}, {'HOTSPOT_TYPE': 'Taipei Free免費無線上網熱點(室內)', 'HOTSPOT_NAME': '松山地政事務所', 'STATUS': '0', 'AREA': '地政事務所', 'AP_ID': 'XY180002', 'ADDRESS': '臺北市信義區莊敬路391巷11弄2號(2F大廳)', 'LAT': '25.028846', 'LNG': '121.566155', '_id': 680}, {'HOTSPOT_TYPE': 'Taipei Free免費無線上網熱點(室內)', 'HOTSPOT_NAME': '地政局土地開發總隊', 'STATUS': '0', 'AREA': '地政事務所', 'AP_ID': 'XY180003', 'ADDRESS': '臺北市信義區莊敬路391巷11弄2號3樓(走廊上方)', 'LAT': '25.028846', 'LNG': '121.566157', '_id': 681}, {'HOTSPOT_TYPE': 'Taipei Free免費無線上網熱點(室內)', 'HOTSPOT_NAME': '臺北市議會', 'STATUS': '0', 'AREA': '臺北市議會', 'AP_ID': 'XY190003', 'ADDRESS': '臺北市信義區仁愛路四段507號1樓(大廳右方樓梯旁)', 'LAT': '25.038457', 'LNG': '121.562179', '_id': 682}, {'HOTSPOT_TYPE': 'Taipei Free免費無線上網熱點(室內)', 'HOTSPOT_NAME': '臺北市議會', 'STATUS': '0', 'AREA': '臺北市議會', 'AP_ID': 'XY190004', 'ADDRESS': '臺北市信義區仁愛路四段507號1樓(交誼廳內)', 'LAT': '25.038457', 'LNG': '121.562177', '_id': 683}, {'HOTSPOT_TYPE': 'Taipei Free免費無線上網熱點(室內)', 'HOTSPOT_NAME': '臺北市議會', 'STATUS': '0', 'AREA': '臺北市議會', 'AP_ID': 'XY190006', 'ADDRESS': '臺北市信義區仁愛路四段507號2樓(財委會會議室(207)內走廊)', 'LAT': '25.038457', 'LNG': '121.562175', '_id': 684}, {'HOTSPOT_TYPE': 'Taipei Free免費無線上網熱點(室內)', 'HOTSPOT_NAME': '臺北市議會', 'STATUS': '0', 'AREA': '臺北市議會', 'AP_ID': 'XY190007', 'ADDRESS': '臺北市信義區仁愛路四段507號3樓(記者席(308)內上方)', 'LAT': '25.038457', 'LNG': '121.562173', '_id': 685}, {'HOTSPOT_TYPE': 'Taipei Free免費無線上網熱點(室內)', 'HOTSPOT_NAME': '臺北市議會', 'STATUS': '0', 'AREA': '臺北市議會', 'AP_ID': 'XY190010', 'ADDRESS': '臺北市信義區仁愛路四段507號6樓(中央休息區)', 'LAT': '25.038455', 'LNG': '121.562179', '_id': 686}, {'HOTSPOT_TYPE': 'Taipei Free免費無線上網熱點(室內)', 'HOTSPOT_NAME': '臺北市議會', 'STATUS': '0', 'AREA': '臺北市議會', 'AP_ID': 'XY190017', 'ADDRESS': '臺北市信義區仁愛路四段507號B1樓(禮堂控制室)', 'LAT': '25.038459', 'LNG': '121.562179', '_id': 687}, {'HOTSPOT_TYPE': 'Taipei Free免費無線上網熱點(室內)', 'HOTSPOT_NAME': '臺北市議會', 'STATUS': '0', 'AREA': '臺北市議會', 'AP_ID': 'XY190026', 'ADDRESS': '臺北市信義區仁愛路四段507號2樓(主席檯的右後上方)', 'LAT': '25.038494', 'LNG': '121.562074', '_id': 688}, {'HOTSPOT_TYPE': 'Taipei Free免費無線上網熱點(室內)', 'HOTSPOT_NAME': '公共運輸處', 'STATUS': '0', 'AREA': '其他', 'AP_ID': 'XY220002', 'ADDRESS': '臺北市信義區松德路300號4樓(入口處左上方)', 'LAT': '25.032013', 'LNG': '121.574279', '_id': 689}, {'HOTSPOT_TYPE': 'Taipei Free免費無線上網熱點(室內)', 'HOTSPOT_NAME': '臺北市政府大樓', 'STATUS': '0', 'AREA': '市府大樓', 'AP_ID': 'XY220005', 'ADDRESS': '臺北市信義區市府路1號(7F中央區走道中間上方)', 'LAT': '25.037494', 'LNG': '121.564851', '_id': 690}, {'HOTSPOT_TYPE': 'Taipei Free免費無線上網熱點(室內)', 'HOTSPOT_NAME': '停車管理工程處服務台', 'STATUS': '0', 'AREA': '其他', 'AP_ID': 'XY220009', 'ADDRESS': '臺北市信義區松德路300號(1F服務臺)', 'LAT': '25.032016', 'LNG': '121.574277', '_id': 691}, {'HOTSPOT_TYPE': 'Taipei Free免費無線上網熱點(室內)', 'HOTSPOT_NAME': '停車管理工程處服務台', 'STATUS': '0', 'AREA': '其他', 'AP_ID': 'XY220010', 'ADDRESS': '臺北市信義區松德路300號(5F企劃科前)', 'LAT': '25.032019', 'LNG': '121.574277', '_id': 692}, {'HOTSPOT_TYPE': 'Taipei Free免費無線上網熱點(室內)', 'HOTSPOT_NAME': '停車管理工程處服務台', 'STATUS': '0', 'AREA': '其他', 'AP_ID': 'XY220011', 'ADDRESS': '臺北市信義區松德路300號(6F土木科前)', 'LAT': '25.032013', 'LNG': '121.574277', '_id': 693}, {'HOTSPOT_TYPE': 'Taipei Free免費無線上網熱點(室內)', 'HOTSPOT_NAME': '停車管理工程處服務台', 'STATUS': '0', 'AREA': '其他', 'AP_ID': 'XY220018', 'ADDRESS': '臺北市信義區松德路300號6樓(營運科停車登記證申辦處)', 'LAT': '25.031916', 'LNG': '121.57417', '_id': 694}, {'HOTSPOT_TYPE': 'Taipei Free免費無線上網熱點(室內)', 'HOTSPOT_NAME': '停車管理工程處服務台', 'STATUS': '0', 'AREA': '其他', 'AP_ID': 'XY220019', 'ADDRESS': '臺北市信義區松德路300號5樓(進入秘書室前方天花板)', 'LAT': '25.031853', 'LNG': '121.574277', '_id': 695}, {'HOTSPOT_TYPE': 'Taipei Free免費無線上網熱點(室內)', 'HOTSPOT_NAME': '永春市場', 'STATUS': '0', 'AREA': '市集', 'AP_ID': 'XY230003', 'ADDRESS': '臺北市信義區松山路294號(1F電梯旁)', 'LAT': '25.043066', 'LNG': '121.577577', '_id': 696}, {'HOTSPOT_TYPE': 'Taipei Free免費無線上網熱點(室內)', 'HOTSPOT_NAME': '永春市場', 'STATUS': '0', 'AREA': '市集', 'AP_ID': 'XY230004', 'ADDRESS': '臺北市信義區松山路294號(後門口)', 'LAT': '25.043064', 'LNG': '121.577577', '_id': 697}, {'HOTSPOT_TYPE': 'Taipei Free免費無線上網熱點(室內)', 'HOTSPOT_NAME': '信義六合里區民活動中心', 'STATUS': '0', 'AREA': '區民活動中心', 'AP_ID': 'XY300001', 'ADDRESS': '臺北市信義區松仁路240巷19號3樓', 'LAT': '25.024521', 'LNG': '121.568873', '_id': 698}, {'HOTSPOT_TYPE': 'Taipei Free免費無線上網熱點(室內)', 'HOTSPOT_NAME': '城中分館', 'STATUS': '0', 'AREA': '圖書館', 'AP_ID': 'ZZ030006', 'ADDRESS': '臺北市中正區濟南路二段46號3樓(兒童閱覽區前方)', 'LAT': '25.040316', 'LNG': '121.530902', '_id': 780}, {'HOTSPOT_TYPE': 'Taipei Free免費無線上網熱點(室內)', 'HOTSPOT_NAME': '信義西村里區民活動中心', 'STATUS': '0', 'AREA': '區民活動中心', 'AP_ID': 'XY300002', 'ADDRESS': '臺北市信義區基隆路一段364巷22號', 'LAT': '25.03501', 'LNG': '121.559205', '_id': 699}, {'HOTSPOT_TYPE': 'Taipei Free免費無線上網熱點(室內)', 'HOTSPOT_NAME': '信義惠安里區民活動中心', 'STATUS': '0', 'AREA': '區民活動中心', 'AP_ID': 'XY300003', 'ADDRESS': '臺北市信義區吳興街506巷21號1樓', 'LAT': '25.022989', 'LNG': '121.568487', '_id': 700}, {'HOTSPOT_TYPE': 'Taipei Free免費無線上網熱點(室內)', 'HOTSPOT_NAME': '信義景勤里區民活動中心', 'STATUS': '0', 'AREA': '區民活動中心', 'AP_ID': 'XY300004', 'ADDRESS': '臺北市信義區吳興街156巷6號6樓', 'LAT': '25.029062', 'LNG': '121.561166', '_id': 701}, {'HOTSPOT_TYPE': 'Taipei Free免費無線上網熱點(室內)', 'HOTSPOT_NAME': '信義黎忠里區民活動中心', 'STATUS': '0', 'AREA': '區民活動中心', 'AP_ID': 'XY300005', 'ADDRESS': '臺北市信義區和平東路三段391巷16號2樓', 'LAT': '25.020185', 'LNG': '121.558089', '_id': 702}, {'HOTSPOT_TYPE': 'Taipei Free免費無線上網熱點(室內)', 'HOTSPOT_NAME': '信義興雅里區民活動中心', 'STATUS': '0', 'AREA': '區民活動中心', 'AP_ID': 'XY300006', 'ADDRESS': '臺北市信義區松隆路36號3樓', 'LAT': '25.043361', 'LNG': '121.567473', '_id': 703}, {'HOTSPOT_TYPE': 'Taipei Free免費無線上網熱點(室內)', 'HOTSPOT_NAME': '信義三張里區民活動中心', 'STATUS': '0', 'AREA': '區民活動中心', 'AP_ID': 'XY300007', 'ADDRESS': '臺北市信義區莊敬路423巷7弄2號1樓(投影機旁天花板)', 'LAT': '25.028688', 'LNG': '121.566612', '_id': 704}, {'HOTSPOT_TYPE': 'Taipei Free免費無線上網熱點(室內)', 'HOTSPOT_NAME': '中山區行政中心', 'STATUS': '0', 'AREA': '區行政中心', 'AP_ID': 'ZS020001', 'ADDRESS': '臺北市中山區松江路367號1樓(市立聯合醫院紛診所櫃檯前走到上方天花板)', 'LAT': '25.064229', 'LNG': '121.533601', '_id': 705}, {'HOTSPOT_TYPE': 'Taipei Free免費無線上網熱點(室內)', 'HOTSPOT_NAME': '中山區行政中心', 'STATUS': '0', 'AREA': '區行政中心', 'AP_ID': 'ZS020002', 'ADDRESS': '臺北市中山區松江路367號1樓(電梯門口中間天花板)', 'LAT': '25.064229', 'LNG': '121.533603', '_id': 706}, {'HOTSPOT_TYPE': 'Taipei Free免費無線上網熱點(室內)', 'HOTSPOT_NAME': '中山區行政中心', 'STATUS': '0', 'AREA': '區行政中心', 'AP_ID': 'ZS020003', 'ADDRESS': '臺北市中山區松江路367號2樓(民眾等待區上方逃生指示燈旁天花板)', 'LAT': '25.064229', 'LNG': '121.533605', '_id': 707}, {'HOTSPOT_TYPE': 'Taipei Free免費無線上網熱點(室內)', 'HOTSPOT_NAME': '中山區行政中心', 'STATUS': '0', 'AREA': '區行政中心', 'AP_ID': 'ZS020004', 'ADDRESS': '臺北市中山區松江路367號3樓(稅捐處門口上方天花板)', 'LAT': '25.064229', 'LNG': '121.533607', '_id': 708}, {'HOTSPOT_TYPE': 'Taipei Free免費無線上網熱點(室內)', 'HOTSPOT_NAME': '中山區行政中心', 'STATUS': '0', 'AREA': '區行政中心', 'AP_ID': 'ZS020005', 'ADDRESS': '臺北市中山區松江路367號5樓(茶水間門口電燈旁天花板)', 'LAT': '25.064229', 'LNG': '121.533609', '_id': 709}, {'HOTSPOT_TYPE': 'Taipei Free免費無線上網熱點(室內)', 'HOTSPOT_NAME': '中山區行政中心', 'STATUS': '0', 'AREA': '區行政中心', 'AP_ID': 'ZS020006', 'ADDRESS': '臺北市中山區松江路367號6樓(調解委員會們前走道的桌子上方天花板)', 'LAT': '25.064227', 'LNG': '121.533601', '_id': 710}, {'HOTSPOT_TYPE': 'Taipei Free免費無線上網熱點(室內)', 'HOTSPOT_NAME': '中山區健康服務中心', 'STATUS': '0', 'AREA': '健康服務中心', 'AP_ID': 'ZS020007', 'ADDRESS': '臺北市中山區松江路367號7樓(電梯口喇叭旁天花板上)', 'LAT': '25.064225', 'LNG': '121.533601', '_id': 711}, {'HOTSPOT_TYPE': 'Taipei Free免費無線上網熱點(室內)', 'HOTSPOT_NAME': '中山分館', 'STATUS': '0', 'AREA': '圖書館', 'AP_ID': 'ZS020008', 'ADDRESS': '臺北市中山區松江路367號8樓(自修室緊急逃生指示燈旁天花板)', 'LAT': '25.064406', 'LNG': '121.533507', '_id': 712}, {'HOTSPOT_TYPE': 'Taipei Free免費無線上網熱點(室內)', 'HOTSPOT_NAME': '中山分館', 'STATUS': '0', 'AREA': '圖書館', 'AP_ID': 'ZS020009', 'ADDRESS': '臺北市中山區松江路367號8樓(圖書館進入前方館藏特色區上方)', 'LAT': '25.064406', 'LNG': '121.533505', '_id': 713}, {'HOTSPOT_TYPE': 'Taipei Free免費無線上網熱點(室內)', 'HOTSPOT_NAME': '大直分館', 'STATUS': '0', 'AREA': '圖書館', 'AP_ID': 'ZS030001', 'ADDRESS': '臺北市中山區大直街25號3樓(近筆電區旁上方天花板)', 'LAT': '25.081886', 'LNG': '121.546759', '_id': 714}, {'HOTSPOT_TYPE': 'Taipei Free免費無線上網熱點(室內)', 'HOTSPOT_NAME': '大直分館', 'STATUS': '0', 'AREA': '圖書館', 'AP_ID': 'ZS030002', 'ADDRESS': '臺北市中山區大直街25號4樓(外文圖書區上方天花板)', 'LAT': '25.081831', 'LNG': '121.546696', '_id': 715}, {'HOTSPOT_TYPE': 'Taipei Free免費無線上網熱點(室內)', 'HOTSPOT_NAME': '大直分館', 'STATUS': '0', 'AREA': '圖書館', 'AP_ID': 'ZS030003', 'ADDRESS': '臺北市中山區大直街25號5樓(自修區之中心位置)', 'LAT': '25.081824', 'LNG': '121.546728', '_id': 716}, {'HOTSPOT_TYPE': 'Taipei Free免費無線上網熱點(室內)', 'HOTSPOT_NAME': '恆安民眾閱覽室', 'STATUS': '0', 'AREA': '閱覽室', 'AP_ID': 'ZS030004', 'ADDRESS': '臺北市中山區民權東路一段71巷19號1樓(電梯口與服務檯之中心位置)', 'LAT': '25.062881', 'LNG': '121.523627', '_id': 717}, {'HOTSPOT_TYPE': 'Taipei Free免費無線上網熱點(室內)', 'HOTSPOT_NAME': '恆安民眾閱覽室', 'STATUS': '0', 'AREA': '閱覽室', 'AP_ID': 'ZS030005', 'ADDRESS': '臺北市中山區民權東路一段71巷19號2樓(辦公室門外之左側牆角上)', 'LAT': '25.062881', 'LNG': '121.523625', '_id': 718}, {'HOTSPOT_TYPE': 'Taipei Free免費無線上網熱點(室內)', 'HOTSPOT_NAME': '恆安民眾閱覽室', 'STATUS': '0', 'AREA': '閱覽室', 'AP_ID': 'ZS030006', 'ADDRESS': '臺北市中山區民權東路一段71巷19號3樓(整理工作室門口左側牆角上)', 'LAT': '25.062881', 'LNG': '121.523623', '_id': 719}, {'HOTSPOT_TYPE': 'Taipei Free免費無線上網熱點(室內)', 'HOTSPOT_NAME': '恆安民眾閱覽室', 'STATUS': '0', 'AREA': '閱覽室', 'AP_ID': 'ZS030007', 'ADDRESS': '臺北市中山區民權東路一段71巷19號5樓(自修室大門口正上方臨緊急出口燈)', 'LAT': '25.062881', 'LNG': '121.523621', '_id': 720}, {'HOTSPOT_TYPE': 'Taipei Free免費無線上網熱點(室內)', 'HOTSPOT_NAME': '長安分館', 'STATUS': '0', 'AREA': '圖書館', 'AP_ID': 'ZS030008', 'ADDRESS': '臺北市中山區長安西路3號4樓(自修室)', 'LAT': '25.05021', 'LNG': '121.520954', '_id': 721}, {'HOTSPOT_TYPE': 'Taipei Free免費無線上網熱點(室內)', 'HOTSPOT_NAME': '長安分館', 'STATUS': '0', 'AREA': '圖書館', 'AP_ID': 'ZS030009', 'ADDRESS': '臺北市中山區長安西路3號4樓(筆電區)', 'LAT': '25.05021', 'LNG': '121.520956', '_id': 722}, {'HOTSPOT_TYPE': 'Taipei Free免費無線上網熱點(室內)', 'HOTSPOT_NAME': '新生公園閱覽室', 'STATUS': '0', 'AREA': '閱覽室', 'AP_ID': 'ZS030010', 'ADDRESS': '臺北市中山區新生北路三段105號(閱覽室中央位置(民族東與松江路中間))', 'LAT': '25.068582', 'LNG': '121.529609', '_id': 723}, {'HOTSPOT_TYPE': 'Taipei Free免費無線上網熱點(室內)', 'HOTSPOT_NAME': '林森中醫院區', 'STATUS': '0', 'AREA': '林森中醫院區', 'AP_ID': 'ZS040002', 'ADDRESS': '臺北市中山區林森北路530號1樓(批價掛號櫃台前天花板維修孔內)', 'LAT': '25.063452', 'LNG': '121.525435', '_id': 724}, {'HOTSPOT_TYPE': 'Taipei Free免費無線上網熱點(室內)', 'HOTSPOT_NAME': '林森中醫院區', 'STATUS': '0', 'AREA': '林森中醫院區', 'AP_ID': 'ZS040003', 'ADDRESS': '臺北市中山區林森北路530號2樓(X光攝影室門前天花板上方)', 'LAT': '25.063564', 'LNG': '121.525444', '_id': 725}, {'HOTSPOT_TYPE': 'Taipei Free免費無線上網熱點(室內)', 'HOTSPOT_NAME': '林森中醫院區', 'STATUS': '0', 'AREA': '林森中醫院區', 'AP_ID': 'ZS040004', 'ADDRESS': '臺北市中山區林森北路530號2樓(中醫藥局前天花板上方)', 'LAT': '25.063555', 'LNG': '121.525478', '_id': 726}, {'HOTSPOT_TYPE': 'Taipei Free免費無線上網熱點(室內)', 'HOTSPOT_NAME': '林森中醫院區', 'STATUS': '0', 'AREA': '林森中醫院區', 'AP_ID': 'ZS040005', 'ADDRESS': '臺北市中山區林森北路530號3樓(電梯前方維修孔)', 'LAT': '25.063503', 'LNG': '121.525431', '_id': 727}, {'HOTSPOT_TYPE': 'Taipei Free免費無線上網熱點(室內)', 'HOTSPOT_NAME': '林森中醫院區', 'STATUS': '0', 'AREA': '林森中醫院區', 'AP_ID': 'ZS040010', 'ADDRESS': '臺北市中山區林森北路530號5樓(大廳前方天花板內)', 'LAT': '25.063592', 'LNG': '121.525467', '_id': 728}, {'HOTSPOT_TYPE': 'Taipei Free免費無線上網熱點(室內)', 'HOTSPOT_NAME': '林森中醫院區', 'STATUS': '0', 'AREA': '林森中醫院區', 'AP_ID': 'ZS040012', 'ADDRESS': '臺北市中山區林森北路530號4樓(電梯前方維修孔)', 'LAT': '25.063509', 'LNG': '121.525434', '_id': 729}, {'HOTSPOT_TYPE': 'Taipei Free免費無線上網熱點(室內)', 'HOTSPOT_NAME': '林森中醫院區', 'STATUS': '0', 'AREA': '林森中醫院區', 'AP_ID': 'ZS040019', 'ADDRESS': '臺北市中山區林森北路530號8樓(會議室中央投影機旁)', 'LAT': '25.063639', 'LNG': '121.525429', '_id': 730}, {'HOTSPOT_TYPE': 'Taipei Free免費無線上網熱點(室內)', 'HOTSPOT_NAME': '林森中醫院區', 'STATUS': '0', 'AREA': '林森中醫院區', 'AP_ID': 'ZS040020', 'ADDRESS': '臺北市中山區林森北路530號6樓(603病房門前天花板上方)', 'LAT': '25.063431', 'LNG': '121.52545', '_id': 731}, {'HOTSPOT_TYPE': 'Taipei Free免費無線上網熱點(室內)', 'HOTSPOT_NAME': '林森中醫院區', 'STATUS': '0', 'AREA': '林森中醫院區', 'AP_ID': 'ZS040021', 'ADDRESS': '臺北市中山區林森北路530號6樓(606病房門前天花板上方)', 'LAT': '25.063465', 'LNG': '121.525446', '_id': 732}, {'HOTSPOT_TYPE': 'Taipei Free免費無線上網熱點(室內)', 'HOTSPOT_NAME': '中山運動中心', 'STATUS': '0', 'AREA': '運動中心', 'AP_ID': 'ZS130001', 'ADDRESS': '臺北市中山區中山北路二段44巷2號(1F大門口外右側天花板內)', 'LAT': '25.05489', 'LNG': '121.521393', '_id': 733}, {'HOTSPOT_TYPE': 'Taipei Free免費無線上網熱點(室內)', 'HOTSPOT_NAME': '中山運動中心', 'STATUS': '0', 'AREA': '運動中心', 'AP_ID': 'ZS130002', 'ADDRESS': '臺北市中山區中山北路二段44巷2號(1F行政室天花板內)', 'LAT': '25.05489', 'LNG': '121.521391', '_id': 734}, {'HOTSPOT_TYPE': 'Taipei Free免費無線上網熱點(室內)', 'HOTSPOT_NAME': '中山運動中心', 'STATUS': '0', 'AREA': '運動中心', 'AP_ID': 'ZS130003', 'ADDRESS': '臺北市中山區中山北路二段44巷2號(2F健身中心前方天花板內)', 'LAT': '25.05489', 'LNG': '121.521395', '_id': 735}, {'HOTSPOT_TYPE': 'Taipei Free免費無線上網熱點(室內)', 'HOTSPOT_NAME': '中山運動中心', 'STATUS': '0', 'AREA': '運動中心', 'AP_ID': 'ZS130004', 'ADDRESS': '臺北市中山區中山北路二段44巷2號(2F健身中心後方天花板內)', 'LAT': '25.05489', 'LNG': '121.521397', '_id': 736}, {'HOTSPOT_TYPE': 'Taipei Free免費無線上網熱點(室內)', 'HOTSPOT_NAME': '中山運動中心', 'STATUS': '0', 'AREA': '運動中心', 'AP_ID': 'ZS130005', 'ADDRESS': '臺北市中山區中山北路二段44巷2號(2F韻律教室天花板內)', 'LAT': '25.05489', 'LNG': '121.521399', '_id': 737}, {'HOTSPOT_TYPE': 'Taipei Free免費無線上網熱點(室內)', 'HOTSPOT_NAME': '中山運動中心', 'STATUS': '0', 'AREA': '運動中心', 'AP_ID': 'ZS130006', 'ADDRESS': '臺北市中山區中山北路二段44巷2號(3F綜合球場進入後右邊中央牆上', 'LAT': '25.05485', 'LNG': '121.521393', '_id': 738}, {'HOTSPOT_TYPE': 'Taipei Free免費無線上網熱點(室內)', 'HOTSPOT_NAME': '中山運動中心', 'STATUS': '0', 'AREA': '運動中心', 'AP_ID': 'ZS130007', 'ADDRESS': '臺北市中山區中山北路二段44巷2號(3F綜合球場進入後左邊中央牆上', 'LAT': '25.05483', 'LNG': '121.521393', '_id': 739}, {'HOTSPOT_TYPE': 'Taipei Free免費無線上網熱點(室內)', 'HOTSPOT_NAME': '中山運動中心', 'STATUS': '0', 'AREA': '運動中心', 'AP_ID': 'ZS130009', 'ADDRESS': '臺北市中山區中山北路二段44巷2號(4F羽球場進入後左邊中央牆上)', 'LAT': '25.05481', 'LNG': '121.521393', '_id': 740}, {'HOTSPOT_TYPE': 'Taipei Free免費無線上網熱點(室內)', 'HOTSPOT_NAME': '臺北之家(光點臺北)', 'STATUS': '0', 'AREA': '文化場館', 'AP_ID': 'ZS160005', 'ADDRESS': '臺北市中山區中山北路二段18號(1樓櫃台後方牆壁上)', 'LAT': '25.05328', 'LNG': '121.5222', '_id': 741}, {'HOTSPOT_TYPE': 'Taipei Free免費無線上網熱點(室內)', 'HOTSPOT_NAME': '中山地政事務所', 'STATUS': '0', 'AREA': '地政事務所', 'AP_ID': 'ZS180001', 'ADDRESS': '臺北市中山區松江路357巷1號(1F大門民眾服務區)', 'LAT': '25.0636', 'LNG': '121.53399', '_id': 742}, {'HOTSPOT_TYPE': 'Taipei Free免費無線上網熱點(室內)', 'HOTSPOT_NAME': '中山地政事務所', 'STATUS': '0', 'AREA': '地政事務所', 'AP_ID': 'ZS180002', 'ADDRESS': '臺北市中山區松江路357巷1號(2F大門民眾服務區)', 'LAT': '25.0636', 'LNG': '121.53395', '_id': 743}, {'HOTSPOT_TYPE': 'Taipei Free免費無線上網熱點(室內)', 'HOTSPOT_NAME': '中山地政事務所', 'STATUS': '0', 'AREA': '地政事務所', 'AP_ID': 'ZS180003', 'ADDRESS': '臺北市中山區松江路357巷1號(5F民眾書寫區)', 'LAT': '25.0636', 'LNG': '121.53397', '_id': 744}, {'HOTSPOT_TYPE': 'Taipei Free免費無線上網熱點(室內)', 'HOTSPOT_NAME': '抽水站總管理中心大樓', 'STATUS': '0', 'AREA': '其他', 'AP_ID': 'ZS220003', 'ADDRESS': '臺北市中山區濱江街3號(走廊上燈具輕鋼架上)', 'LAT': '25.071163', 'LNG': '121.52915', '_id': 745}, {'HOTSPOT_TYPE': 'Taipei Free免費無線上網熱點(室內)', 'HOTSPOT_NAME': '臺北市立美術館', 'STATUS': '0', 'AREA': '文化場館', 'AP_ID': 'ZS220017', 'ADDRESS': '臺北市中山區中山北路三段181號(面1樓服務台右後側上方柱子)', 'LAT': '25.072594', 'LNG': '121.524852', '_id': 746}, {'HOTSPOT_TYPE': 'Taipei Free免費無線上網熱點(室內)', 'HOTSPOT_NAME': '臺北市立美術館', 'STATUS': '0', 'AREA': '文化場館', 'AP_ID': 'ZS220018', 'ADDRESS': '臺北市中山區中山北路三段181號(面1樓服務台左後側上方柱子)', 'LAT': '25.072594', 'LNG': '121.524854', '_id': 747}, {'HOTSPOT_TYPE': 'Taipei Free免費無線上網熱點(室內)', 'HOTSPOT_NAME': '北區營業分處櫃檯', 'STATUS': '0', 'AREA': '自來水事業處', 'AP_ID': 'ZS220023', 'ADDRESS': '臺北市中山區長安西路3號2樓(影印機上方輕鋼架內)', 'LAT': '25.050846', 'LNG': '121.521087', '_id': 748}, {'HOTSPOT_TYPE': 'Taipei Free免費無線上網熱點(室內)', 'HOTSPOT_NAME': '美術公園區夢想館', 'STATUS': '0', 'AREA': '文化場館', 'AP_ID': 'ZS220038', 'ADDRESS': '臺北市中山區濱江街6號(1F販賣機後方)', 'LAT': '25.068584', 'LNG': '121.529627', '_id': 749}, {'HOTSPOT_TYPE': 'Taipei Free免費無線上網熱點(室內)', 'HOTSPOT_NAME': '花博公園爭豔館', 'STATUS': '0', 'AREA': '文化場館', 'AP_ID': 'ZS220042', 'ADDRESS': '臺北市中山區玉門街1號(館內左門A3區旁出口上方)', 'LAT': '25.069112', 'LNG': '121.520705', '_id': 750}, {'HOTSPOT_TYPE': 'Taipei Free免費無線上網熱點(室內)', 'HOTSPOT_NAME': '花博公園爭豔館', 'STATUS': '0', 'AREA': '文化場館', 'AP_ID': 'ZS220043', 'ADDRESS': '臺北市中山區玉門街1號(館內右門A7區旁出口上方)', 'LAT': '25.069112', 'LNG': '121.520709', '_id': 751}, {'HOTSPOT_TYPE': 'Taipei Free免費無線上網熱點(室內)', 'HOTSPOT_NAME': '中南分處', 'STATUS': '0', 'AREA': '稅捐稽徵處', 'AP_ID': 'ZS220047', 'ADDRESS': '臺北市中山區錦州街222號3樓志工服務台前方)', 'LAT': '25.060118', 'LNG': '121.532186', '_id': 752}, {'HOTSPOT_TYPE': 'Taipei Free免費無線上網熱點(室內)', 'HOTSPOT_NAME': '華山市場', 'STATUS': '0', 'AREA': '市集', 'AP_ID': 'ZS230006', 'ADDRESS': '臺北市中正區忠孝東路一段108號(2F機房外)', 'LAT': '25.044194', 'LNG': '121.524834', '_id': 753}, {'HOTSPOT_TYPE': 'Taipei Free免費無線上網熱點(室內)', 'HOTSPOT_NAME': '華山市場', 'STATUS': '0', 'AREA': '市集', 'AP_ID': 'ZS230007', 'ADDRESS': '臺北市中正區忠孝東路一段108號(1F後門口)', 'LAT': '25.044194', 'LNG': '121.524853', '_id': 754}, {'HOTSPOT_TYPE': 'Taipei Free免費無線上網熱點(室內)', 'HOTSPOT_NAME': '中山下埤區民活動中心', 'STATUS': '0', 'AREA': '區民活動中心', 'AP_ID': 'ZS300001', 'ADDRESS': '臺北市中山區龍江路429巷10號(2樓里辦公室內上方)', 'LAT': '25.047635', 'LNG': '121.540291', '_id': 755}, {'HOTSPOT_TYPE': 'Taipei Free免費無線上網熱點(室內)', 'HOTSPOT_NAME': '中山中山區民活動中心', 'STATUS': '0', 'AREA': '區民活動中心', 'AP_ID': 'ZS300002', 'ADDRESS': '臺北市中山區中山北路二段59巷21號2樓之4(A教室門內上方)', 'LAT': '25.055903', 'LNG': '121.524151', '_id': 756}, {'HOTSPOT_TYPE': 'Taipei Free免費無線上網熱點(室內)', 'HOTSPOT_NAME': '中山民安區民活動中心', 'STATUS': '0', 'AREA': '區民活動中心', 'AP_ID': 'ZS300003', 'ADDRESS': '臺北市中山區長安西路3號3樓之1(活動中心內走廊天花板上)', 'LAT': '25.05025', 'LNG': '121.520954', '_id': 757}, {'HOTSPOT_TYPE': 'Taipei Free免費無線上網熱點(室內)', 'HOTSPOT_NAME': '中山朱崙區民活動中心', 'STATUS': '0', 'AREA': '區民活動中心', 'AP_ID': 'ZS300004', 'ADDRESS': '臺北市中山區龍江路15號3樓(319會議室內機櫃上方天花板)', 'LAT': '25.047492', 'LNG': '121.540498', '_id': 758}, {'HOTSPOT_TYPE': 'Taipei Free免費無線上網熱點(室內)', 'HOTSPOT_NAME': '中山朱馥區民活動中心', 'STATUS': '0', 'AREA': '區民活動中心', 'AP_ID': 'ZS300005', 'ADDRESS': '臺北市中山區龍江路168號B1(里辦公室前上方天花板)', 'LAT': '25.055159', 'LNG': '121.540432', '_id': 759}, {'HOTSPOT_TYPE': 'Taipei Free免費無線上網熱點(室內)', 'HOTSPOT_NAME': '中山行孝區民活動中心', 'STATUS': '0', 'AREA': '區民活動中心', 'AP_ID': 'ZS300006', 'ADDRESS': '臺北市中山區民族東路282號4樓(右邊冷氣機上)', 'LAT': '25.0681', 'LNG': '121.535104', '_id': 760}, {'HOTSPOT_TYPE': 'Taipei Free免費無線上網熱點(室內)', 'HOTSPOT_NAME': '中山松花區民活動中心', 'STATUS': '0', 'AREA': '區民活動中心', 'AP_ID': 'ZS300007', 'ADDRESS': '臺北市中山區合江街137號4樓(天花板上)', 'LAT': '25.061645', 'LNG': '121.539362', '_id': 761}, {'HOTSPOT_TYPE': 'Taipei Free免費無線上網熱點(室內)', 'HOTSPOT_NAME': '中山林森區民活動中心', 'STATUS': '0', 'AREA': '區民活動中心', 'AP_ID': 'ZS300008', 'ADDRESS': '臺北市中山區林森北路67巷7號3樓(教室內桌子下)', 'LAT': '25.048643', 'LNG': '121.524894', '_id': 762}, {'HOTSPOT_TYPE': 'Taipei Free免費無線上網熱點(室內)', 'HOTSPOT_NAME': '中山長安區民活動中心', 'STATUS': '0', 'AREA': '區民活動中心', 'AP_ID': 'ZS300009', 'ADDRESS': '臺北市中山區長安西路40巷9號(教室內左側出口窗戶上方)', 'LAT': '25.049385', 'LNG': '121.520349', '_id': 763}, {'HOTSPOT_TYPE': 'Taipei Free免費無線上網熱點(室內)', 'HOTSPOT_NAME': '中山崇實區民活動中心', 'STATUS': '0', 'AREA': '區民活動中心', 'AP_ID': 'ZS300010', 'ADDRESS': '臺北市中山區通北街143號2樓(入口右側天花板上)', 'LAT': '25.084918', 'LNG': '121.538043', '_id': 764}, {'HOTSPOT_TYPE': 'Taipei Free免費無線上網熱點(室內)', 'HOTSPOT_NAME': '中山新庄區民活動中心', 'STATUS': '0', 'AREA': '區民活動中心', 'AP_ID': 'ZS300011', 'ADDRESS': '臺北市中山區新生北路三段50之1號(合氣道教室冷氣機天花板上方)', 'LAT': '25.064993', 'LNG': '121.527289', '_id': 765}, {'HOTSPOT_TYPE': 'Taipei Free免費無線上網熱點(室內)', 'HOTSPOT_NAME': '中山大直一區民活動中心', 'STATUS': '0', 'AREA': '區民活動中心', 'AP_ID': 'ZS300013', 'ADDRESS': '臺北市中山區大直街21巷2號4樓(門口上方)', 'LAT': '25.081665', 'LNG': '121.546886', '_id': 766}, {'HOTSPOT_TYPE': 'Taipei Free免費無線上網熱點(室內)', 'HOTSPOT_NAME': '中山大直二區民活動中心', 'STATUS': '0', 'AREA': '區民活動中心', 'AP_ID': 'ZS300014', 'ADDRESS': '臺北市中山區大直街1號4樓(門口上方天花板)', 'LAT': '25.080345', 'LNG': '121.546969', '_id': 767}, {'HOTSPOT_TYPE': 'Taipei Free免費無線上網熱點(室內)', 'HOTSPOT_NAME': '中山中原區民活動中心', 'STATUS': '0', 'AREA': '區民活動中心', 'AP_ID': 'ZS300015', 'ADDRESS': '臺北市中山區新生北路二段53之3號2樓(中央天花板上)', 'LAT': '25.061319', 'LNG': '121.529478', '_id': 768}, {'HOTSPOT_TYPE': 'Taipei Free免費無線上網熱點(室內)', 'HOTSPOT_NAME': '中山北安區民活動中心', 'STATUS': '0', 'AREA': '區民活動中心', 'AP_ID': 'ZS300016', 'ADDRESS': '臺北市中山區北安路759巷6號(進門後左側櫃子天花板上)', 'LAT': '25.080192', 'LNG': '121.547415', '_id': 769}, {'HOTSPOT_TYPE': 'Taipei Free免費無線上網熱點(室內)', 'HOTSPOT_NAME': '中山行政區民活動中心', 'STATUS': '0', 'AREA': '區民活動中心', 'AP_ID': 'ZS300017', 'ADDRESS': '臺北市中山區松江路367號9樓(活動中心內上方)', 'LAT': '25.064221', 'LNG': '121.533601', '_id': 770}, {'HOTSPOT_TYPE': 'Taipei Free免費無線上網熱點(室內)', 'HOTSPOT_NAME': '中山金泰區民活動中心', 'STATUS': '0', 'AREA': '區民活動中心', 'AP_ID': 'ZS300018', 'ADDRESS': '臺北市中山區敬業三路160號2樓(中央天花板上)', 'LAT': '25.079526', 'LNG': '121.556866', '_id': 771}, {'HOTSPOT_TYPE': 'Taipei Free免費無線上網熱點(室內)', 'HOTSPOT_NAME': '中山長春區民活動中心', 'STATUS': '0', 'AREA': '區民活動中心', 'AP_ID': 'ZS300019', 'ADDRESS': '臺北市中山區長春路299號3樓之1(舞蹈教室冷氣機旁)', 'LAT': '25.054729', 'LNG': '121.542336', '_id': 772}, {'HOTSPOT_TYPE': 'Taipei Free免費無線上網熱點(室內)', 'HOTSPOT_NAME': '中正區行政中心', 'STATUS': '0', 'AREA': '區行政中心', 'AP_ID': 'ZZ020001', 'ADDRESS': '臺北市中正區羅斯福路一段8號10樓(面對電梯右邊算起第2台上方往前第5塊天花板)', 'LAT': '25.032191', 'LNG': '121.518326', '_id': 773}, {'HOTSPOT_TYPE': 'Taipei Free免費無線上網熱點(室內)', 'HOTSPOT_NAME': '中正區行政中心', 'STATUS': '0', 'AREA': '區行政中心', 'AP_ID': 'ZZ020009', 'ADDRESS': '臺北市中正區羅斯福路一段8號6樓(取號碼牌區牌子前第3塊旁的半塊天花板)', 'LAT': '25.032199', 'LNG': '121.518326', '_id': 774}, {'HOTSPOT_TYPE': 'Taipei Free免費無線上網熱點(室內)', 'HOTSPOT_NAME': '王貫英先生紀念圖書館', 'STATUS': '0', 'AREA': '圖書館', 'AP_ID': 'ZZ030001', 'ADDRESS': '臺北市中正區汀州路二段265號2樓(新移民閱覽專櫃上方)', 'LAT': '25.022601', 'LNG': '121.523768', '_id': 775}, {'HOTSPOT_TYPE': 'Taipei Free免費無線上網熱點(室內)', 'HOTSPOT_NAME': '王貫英先生紀念圖書館', 'STATUS': '0', 'AREA': '圖書館', 'AP_ID': 'ZZ030002', 'ADDRESS': '臺北市中正區汀州路二段265號2樓(兒童閱覽區上方)', 'LAT': '25.022602', 'LNG': '121.523768', '_id': 776}, {'HOTSPOT_TYPE': 'Taipei Free免費無線上網熱點(室內)', 'HOTSPOT_NAME': '王貫英先生紀念圖書館', 'STATUS': '0', 'AREA': '圖書館', 'AP_ID': 'ZZ030003', 'ADDRESS': '臺北市中正區汀州路二段265號3樓(自修區)', 'LAT': '25.022603', 'LNG': '121.523768', '_id': 777}, {'HOTSPOT_TYPE': 'Taipei Free免費無線上網熱點(室內)', 'HOTSPOT_NAME': '王貫英先生紀念圖書館', 'STATUS': '0', 'AREA': '圖書館', 'AP_ID': 'ZZ030004', 'ADDRESS': '臺北市中正區汀州路二段265號3樓(筆電區)', 'LAT': '25.022603', 'LNG': '121.5237687', '_id': 778}, {'HOTSPOT_TYPE': 'Taipei Free免費無線上網熱點(室內)', 'HOTSPOT_NAME': '王貫英先生紀念圖書館', 'STATUS': '0', 'AREA': '圖書館', 'AP_ID': 'ZZ030005', 'ADDRESS': '臺北市中正區汀州路二段265號1樓(期刊區入口上方)', 'LAT': '25.022602', 'LNG': '121.5237687', '_id': 779}, {'HOTSPOT_TYPE': 'Taipei Free免費無線上網熱點(室內)', 'HOTSPOT_NAME': '城中分館', 'STATUS': '0', 'AREA': '圖書館', 'AP_ID': 'ZZ030007', 'ADDRESS': '臺北市中正區濟南路二段46號3樓(一般圖書區上方天花板)', 'LAT': '25.040316', 'LNG': '121.530904', '_id': 781}, {'HOTSPOT_TYPE': 'Taipei Free免費無線上網熱點(室內)', 'HOTSPOT_NAME': '古亭智慧圖書館', 'STATUS': '0', 'AREA': '圖書館', 'AP_ID': 'ZZ030008', 'ADDRESS': '臺北市中正區寧波西街286號(入口處)', 'LAT': '25.025532', 'LNG': '121.510434', '_id': 782}, {'HOTSPOT_TYPE': 'Taipei Free免費無線上網熱點(室內)', 'HOTSPOT_NAME': '古亭智慧圖書館', 'STATUS': '0', 'AREA': '圖書館', 'AP_ID': 'ZZ030009', 'ADDRESS': '臺北市中正區寧波西街286號(座位區)', 'LAT': '25.025532', 'LNG': '121.510432', '_id': 783}, {'HOTSPOT_TYPE': 'Taipei Free免費無線上網熱點(室內)', 'HOTSPOT_NAME': '和平院區', 'STATUS': '0', 'AREA': '和平院區', 'AP_ID': 'ZZ040002', 'ADDRESS': '臺北市中正區中華路二段33號A棟10樓(病床電梯往行政辦公室前走道上方)', 'LAT': '25.035601', 'LNG': '121.506886', '_id': 784}, {'HOTSPOT_TYPE': 'Taipei Free免費無線上網熱點(室內)', 'HOTSPOT_NAME': '和平院區', 'STATUS': '0', 'AREA': '和平院區', 'AP_ID': 'ZZ040003', 'ADDRESS': '臺北市中正區中華路二段33號A棟1樓(109健康管理諮詢中心門前走道上方)', 'LAT': '25.035605', 'LNG': '121.506884', '_id': 785}, {'HOTSPOT_TYPE': 'Taipei Free免費無線上網熱點(室內)', 'HOTSPOT_NAME': '和平院區', 'STATUS': '0', 'AREA': '和平院區', 'AP_ID': 'ZZ040004', 'ADDRESS': '臺北市中正區中華路二段33號A棟1樓(前門進入橘色指引看板上方)', 'LAT': '25.035605', 'LNG': '121.506882', '_id': 786}, {'HOTSPOT_TYPE': 'Taipei Free免費無線上網熱點(室內)', 'HOTSPOT_NAME': '和平院區', 'STATUS': '0', 'AREA': '和平院區', 'AP_ID': 'ZZ040005', 'ADDRESS': '臺北市中正區中華路二段33號A棟1樓(122門診門口前走道上方)', 'LAT': '25.035605', 'LNG': '121.506881', '_id': 787}, {'HOTSPOT_TYPE': 'Taipei Free免費無線上網熱點(室內)', 'HOTSPOT_NAME': '和平院區', 'STATUS': '0', 'AREA': '和平院區', 'AP_ID': 'ZZ040006', 'ADDRESS': '臺北市中正區中華路二段33號A棟B1(藥局領藥門口上方)', 'LAT': '25.035351', 'LNG': '121.507301', '_id': 788}, {'HOTSPOT_TYPE': 'Taipei Free免費無線上網熱點(室內)', 'HOTSPOT_NAME': '和平院區', 'STATUS': '0', 'AREA': '和平院區', 'AP_ID': 'ZZ040007', 'ADDRESS': '臺北市中正區中華路二段33號A棟2樓(放射科門診櫃檯前走道上方)', 'LAT': '25.035605', 'LNG': '121.506888', '_id': 789}, {'HOTSPOT_TYPE': 'Taipei Free免費無線上網熱點(室內)', 'HOTSPOT_NAME': '和平院區', 'STATUS': '0', 'AREA': '和平院區', 'AP_ID': 'ZZ040008', 'ADDRESS': '臺北市中正區中華路二段33號A棟2樓(眼科前休息區上方)', 'LAT': '25.035605', 'LNG': '121.506885', '_id': 790}, {'HOTSPOT_TYPE': 'Taipei Free免費無線上網熱點(室內)', 'HOTSPOT_NAME': '和平院區', 'STATUS': '0', 'AREA': '和平院區', 'AP_ID': 'ZZ040009', 'ADDRESS': '臺北市中正區中華路二段33號A棟2樓(體檢門診(一)內上方)', 'LAT': '25.035605', 'LNG': '121.506883', '_id': 791}, {'HOTSPOT_TYPE': 'Taipei Free免費無線上網熱點(室內)', 'HOTSPOT_NAME': '和平院區', 'STATUS': '0', 'AREA': '和平院區', 'AP_ID': 'ZZ040010', 'ADDRESS': '臺北市中正區中華路二段33號A棟3樓(中醫門診休息區走道上方)', 'LAT': '25.035602', 'LNG': '121.506886', '_id': 792}, {'HOTSPOT_TYPE': 'Taipei Free免費無線上網熱點(室內)', 'HOTSPOT_NAME': '和平院區', 'STATUS': '0', 'AREA': '和平院區', 'AP_ID': 'ZZ040011', 'ADDRESS': '臺北市中正區中華路二段33號A棟3樓(耳鼻喉科門診休息區走道上方)', 'LAT': '25.035604', 'LNG': '121.506886', '_id': 793}, {'HOTSPOT_TYPE': 'Taipei Free免費無線上網熱點(室內)', 'HOTSPOT_NAME': '和平院區', 'STATUS': '0', 'AREA': '和平院區', 'AP_ID': 'ZZ040012', 'ADDRESS': '臺北市中正區中華路二段33號A棟3樓(客梯前門口走道上方)', 'LAT': '25.035606', 'LNG': '121.506886', '_id': 794}, {'HOTSPOT_TYPE': 'Taipei Free免費無線上網熱點(室內)', 'HOTSPOT_NAME': '和平院區', 'STATUS': '0', 'AREA': '和平院區', 'AP_ID': 'ZZ040015', 'ADDRESS': '臺北市中正區中華路二段33號A棟5樓(血液透析中心外走道正上方)', 'LAT': '25.035608', 'LNG': '121.506886', '_id': 795}, {'HOTSPOT_TYPE': 'Taipei Free免費無線上網熱點(室內)', 'HOTSPOT_NAME': '和平院區', 'STATUS': '0', 'AREA': '和平院區', 'AP_ID': 'ZZ040017', 'ADDRESS': '臺北市中正區中華路二段33號A棟6樓(A609病房前上方)', 'LAT': '25.035609', 'LNG': '121.506886', '_id': 796}, {'HOTSPOT_TYPE': 'Taipei Free免費無線上網熱點(室內)', 'HOTSPOT_NAME': '和平院區', 'STATUS': '0', 'AREA': '和平院區', 'AP_ID': 'ZZ040018', 'ADDRESS': '臺北市中正區中華路二段33號A棟6樓(日光室旁上方)', 'LAT': '25.035604', 'LNG': '121.506882', '_id': 797}, {'HOTSPOT_TYPE': 'Taipei Free免費無線上網熱點(室內)', 'HOTSPOT_NAME': '和平院區', 'STATUS': '0', 'AREA': '和平院區', 'AP_ID': 'ZZ040019', 'ADDRESS': '臺北市中正區中華路二段33號A棟6樓(A628病房前上方)', 'LAT': '25.035608', 'LNG': '121.506882', '_id': 798}, {'HOTSPOT_TYPE': 'Taipei Free免費無線上網熱點(室內)', 'HOTSPOT_NAME': '和平院區', 'STATUS': '0', 'AREA': '和平院區', 'AP_ID': 'ZZ040020', 'ADDRESS': '臺北市中正區中華路二段33號A棟6樓(護理長辦公室前上方)', 'LAT': '25.035607', 'LNG': '121.506883', '_id': 799}, {'HOTSPOT_TYPE': 'Taipei Free免費無線上網熱點(室內)', 'HOTSPOT_NAME': '和平院區', 'STATUS': '0', 'AREA': '和平院區', 'AP_ID': 'ZZ040021', 'ADDRESS': '臺北市中正區中華路二段33號A棟7樓(護理站前正上方)', 'LAT': '25.035609', 'LNG': '121.506883', '_id': 800}, {'HOTSPOT_TYPE': 'Taipei Free免費無線上網熱點(室內)', 'HOTSPOT_NAME': '和平院區', 'STATUS': '0', 'AREA': '和平院區', 'AP_ID': 'ZZ040022', 'ADDRESS': '臺北市中正區中華路二段33號A棟7樓(A712病房門口正上方AP28)', 'LAT': '25.035608', 'LNG': '121.506883', '_id': 801}, {'HOTSPOT_TYPE': 'Taipei Free免費無線上網熱點(室內)', 'HOTSPOT_NAME': '和平院區', 'STATUS': '0', 'AREA': '和平院區', 'AP_ID': 'ZZ040025', 'ADDRESS': '臺北市中正區中華路二段33號A棟8樓(A805病房門口正上方)', 'LAT': '25.035608', 'LNG': '121.506885', '_id': 802}, {'HOTSPOT_TYPE': 'Taipei Free免費無線上網熱點(室內)', 'HOTSPOT_NAME': '和平院區', 'STATUS': '0', 'AREA': '和平院區', 'AP_ID': 'ZZ040026', 'ADDRESS': '臺北市中正區中華路二段33號A棟8樓(A811病房門口正上方)', 'LAT': '25.035609', 'LNG': '121.506884', '_id': 803}, {'HOTSPOT_TYPE': 'Taipei Free免費無線上網熱點(室內)', 'HOTSPOT_NAME': '和平院區', 'STATUS': '0', 'AREA': '和平院區', 'AP_ID': 'ZZ040027', 'ADDRESS': '臺北市中正區中華路二段33號A棟8樓(A821病房門口正上方)', 'LAT': '25.035609', 'LNG': '121.506887', '_id': 804}, {'HOTSPOT_TYPE': 'Taipei Free免費無線上網熱點(室內)', 'HOTSPOT_NAME': '和平院區', 'STATUS': '0', 'AREA': '和平院區', 'AP_ID': 'ZZ040029', 'ADDRESS': '臺北市中正區中華路二段33號A棟8樓(護理站前正上方)', 'LAT': '25.035603', 'LNG': '121.506887', '_id': 805}, {'HOTSPOT_TYPE': 'Taipei Free免費無線上網熱點(室內)', 'HOTSPOT_NAME': '和平院區', 'STATUS': '0', 'AREA': '和平院區', 'AP_ID': 'ZZ040033', 'ADDRESS': '臺北市中正區中華路二段33號A棟B1(資訊室門外走道上方)', 'LAT': '25.035358', 'LNG': '121.507309', '_id': 806}, {'HOTSPOT_TYPE': 'Taipei Free免費無線上網熱點(室內)', 'HOTSPOT_NAME': '和平院區', 'STATUS': '0', 'AREA': '和平院區', 'AP_ID': 'ZZ040034', 'ADDRESS': '臺北市中正區中華路二段33號B棟1樓(急診觀察診留室門口正上方)', 'LAT': '25.035352', 'LNG': '121.507306', '_id': 807}, {'HOTSPOT_TYPE': 'Taipei Free免費無線上網熱點(室內)', 'HOTSPOT_NAME': '和平院區', 'STATUS': '0', 'AREA': '和平院區', 'AP_ID': 'ZZ040035', 'ADDRESS': '臺北市中正區中華路二段33號B棟1樓(急診室掛號區旁上方)', 'LAT': '25.035352', 'LNG': '121.507301', '_id': 808}, {'HOTSPOT_TYPE': 'Taipei Free免費無線上網熱點(室內)', 'HOTSPOT_NAME': '和平院區', 'STATUS': '0', 'AREA': '和平院區', 'AP_ID': 'ZZ040036', 'ADDRESS': '臺北市中正區中華路二段33號B棟2樓(內科辦公室門口上方)', 'LAT': '25.035352', 'LNG': '121.507302', '_id': 809}, {'HOTSPOT_TYPE': 'Taipei Free免費無線上網熱點(室內)', 'HOTSPOT_NAME': '和平院區', 'STATUS': '0', 'AREA': '和平院區', 'AP_ID': 'ZZ040037', 'ADDRESS': '臺北市中正區中華路二段33號B棟2樓(抽血檢驗處前走道上方)', 'LAT': '25.035352', 'LNG': '121.507307', '_id': 810}, {'HOTSPOT_TYPE': 'Taipei Free免費無線上網熱點(室內)', 'HOTSPOT_NAME': '和平院區', 'STATUS': '0', 'AREA': '和平院區', 'AP_ID': 'ZZ040038', 'ADDRESS': '臺北市中正區中華路二段33號B棟3樓(復健科內走道上方)', 'LAT': '25.035356', 'LNG': '121.507306', '_id': 811}, {'HOTSPOT_TYPE': 'Taipei Free免費無線上網熱點(室內)', 'HOTSPOT_NAME': '和平院區', 'STATUS': '0', 'AREA': '和平院區', 'AP_ID': 'ZZ040043', 'ADDRESS': '臺北市中正區中華路二段33號B棟5樓(呼吸照護中心前走道上方)', 'LAT': '25.035358', 'LNG': '121.507306', '_id': 812}, {'HOTSPOT_TYPE': 'Taipei Free免費無線上網熱點(室內)', 'HOTSPOT_NAME': '和平院區', 'STATUS': '0', 'AREA': '和平院區', 'AP_ID': 'ZZ040044', 'ADDRESS': '臺北市中正區中華路二段33號B棟5樓(家屬休息室內正上方)', 'LAT': '25.035353', 'LNG': '121.507306', '_id': 813}, {'HOTSPOT_TYPE': 'Taipei Free免費無線上網熱點(室內)', 'HOTSPOT_NAME': '和平院區', 'STATUS': '0', 'AREA': '和平院區', 'AP_ID': 'ZZ040045', 'ADDRESS': '臺北市中正區中華路二段33號B棟6樓(605病房門口正上方)', 'LAT': '25.035353', 'LNG': '121.507305', '_id': 814}, {'HOTSPOT_TYPE': 'Taipei Free免費無線上網熱點(室外)', 'HOTSPOT_NAME': '主要街道', 'STATUS': '0', 'AREA': '戶外熱點', 'AP_ID': '289Y900313', 'ADDRESS': '台北市北投區中山路44號', 'LAT': '25.1383', 'LNG': '121.51143', '_id': 1091}, {'HOTSPOT_TYPE': 'Taipei Free免費無線上網熱點(室內)', 'HOTSPOT_NAME': '和平院區', 'STATUS': '0', 'AREA': '和平院區', 'AP_ID': 'ZZ040046', 'ADDRESS': '臺北市中正區中華路二段33號B棟6樓(610病房門口正上方)', 'LAT': '25.035353', 'LNG': '121.507303', '_id': 815}, {'HOTSPOT_TYPE': 'Taipei Free免費無線上網熱點(室內)', 'HOTSPOT_NAME': '和平院區', 'STATUS': '0', 'AREA': '和平院區', 'AP_ID': 'ZZ040047', 'ADDRESS': '臺北市中正區中華路二段33號B棟6樓(620病房門口正上方)', 'LAT': '25.035353', 'LNG': '121.507309', '_id': 816}, {'HOTSPOT_TYPE': 'Taipei Free免費無線上網熱點(室內)', 'HOTSPOT_NAME': '和平院區', 'STATUS': '0', 'AREA': '和平院區', 'AP_ID': 'ZZ040048', 'ADDRESS': '臺北市中正區中華路二段33號B棟6樓(庫房門口正上方)', 'LAT': '25.035352', 'LNG': '121.507309', '_id': 817}, {'HOTSPOT_TYPE': 'Taipei Free免費無線上網熱點(室內)', 'HOTSPOT_NAME': '和平院區', 'STATUS': '0', 'AREA': '和平院區', 'AP_ID': 'ZZ040049', 'ADDRESS': '臺北市中正區中華路二段33號B棟8樓(B805病房門口正上方)', 'LAT': '25.035351', 'LNG': '121.507309', '_id': 818}, {'HOTSPOT_TYPE': 'Taipei Free免費無線上網熱點(室內)', 'HOTSPOT_NAME': '和平院區', 'STATUS': '0', 'AREA': '和平院區', 'AP_ID': 'ZZ040050', 'ADDRESS': '臺北市中正區中華路二段33號B棟8樓(B810病房門口正上方)', 'LAT': '25.035351', 'LNG': '121.507308', '_id': 819}, {'HOTSPOT_TYPE': 'Taipei Free免費無線上網熱點(室內)', 'HOTSPOT_NAME': '和平院區', 'STATUS': '0', 'AREA': '和平院區', 'AP_ID': 'ZZ040051', 'ADDRESS': '臺北市中正區中華路二段33號B棟8樓(B820病房前走道)', 'LAT': '25.035358', 'LNG': '121.507308', '_id': 820}, {'HOTSPOT_TYPE': 'Taipei Free免費無線上網熱點(室內)', 'HOTSPOT_NAME': '和平院區', 'STATUS': '0', 'AREA': '和平院區', 'AP_ID': 'ZZ040052', 'ADDRESS': '臺北市中正區中華路二段33號B棟8樓(庫房前走道上方)', 'LAT': '25.035358', 'LNG': '121.507307', '_id': 821}, {'HOTSPOT_TYPE': 'Taipei Free免費無線上網熱點(室內)', 'HOTSPOT_NAME': '婦幼院區', 'STATUS': '0', 'AREA': '婦幼院區', 'AP_ID': 'ZZ040058', 'ADDRESS': '臺北市中正區福州街12號1F(1號批價櫃抬前2格天花板)', 'LAT': '25.029086', 'LNG': '121.519278', '_id': 822}, {'HOTSPOT_TYPE': 'Taipei Free免費無線上網熱點(室內)', 'HOTSPOT_NAME': '婦幼院區', 'STATUS': '0', 'AREA': '婦幼院區', 'AP_ID': 'ZZ040059', 'ADDRESS': '臺北市中正區福州街12號1F(急診室入口留觀區上方天花板)', 'LAT': '25.029086', 'LNG': '121.519279', '_id': 823}, {'HOTSPOT_TYPE': 'Taipei Free免費無線上網熱點(室內)', 'HOTSPOT_NAME': '婦幼院區', 'STATUS': '0', 'AREA': '婦幼院區', 'AP_ID': 'ZZ040060', 'ADDRESS': '臺北市中正區福州街12號2F(門診檢驗室,3號櫃抬前2格天花板)', 'LAT': '25.029086', 'LNG': '121.519276', '_id': 824}, {'HOTSPOT_TYPE': 'Taipei Free免費無線上網熱點(室內)', 'HOTSPOT_NAME': '婦幼院區', 'STATUS': '0', 'AREA': '婦幼院區', 'AP_ID': 'ZZ040061', 'ADDRESS': '臺北市中正區福州街12號2F(婦產科第4診前第7塊上方天花板)', 'LAT': '25.029086', 'LNG': '121.519275', '_id': 825}, {'HOTSPOT_TYPE': 'Taipei Free免費無線上網熱點(室內)', 'HOTSPOT_NAME': '婦幼院區', 'STATUS': '0', 'AREA': '婦幼院區', 'AP_ID': 'ZZ040062', 'ADDRESS': '臺北市中正區福州街12號3F(編號318會談室前上方天花板', 'LAT': '25.029086', 'LNG': '121.519274', '_id': 826}, {'HOTSPOT_TYPE': 'Taipei Free免費無線上網熱點(室內)', 'HOTSPOT_NAME': '婦幼院區', 'STATUS': '0', 'AREA': '婦幼院區', 'AP_ID': 'ZZ040063', 'ADDRESS': '臺北市中正區福州街12號3F(產房護理站旁上方天花板)', 'LAT': '25.029086', 'LNG': '121.519273', '_id': 827}, {'HOTSPOT_TYPE': 'Taipei Free免費無線上網熱點(室內)', 'HOTSPOT_NAME': '婦幼院區', 'STATUS': '0', 'AREA': '婦幼院區', 'AP_ID': 'ZZ040064', 'ADDRESS': '臺北市中正區福州街12號5F(編號:525護理站附設的意見箱旁上方天花板)', 'LAT': '25.029086', 'LNG': '121.519272', '_id': 828}, {'HOTSPOT_TYPE': 'Taipei Free免費無線上網熱點(室內)', 'HOTSPOT_NAME': '婦幼院區', 'STATUS': '0', 'AREA': '婦幼院區', 'AP_ID': 'ZZ040065', 'ADDRESS': '臺北市中正區福州街12號6F(護理站旁上方天花板(近監視器和PHS強波器旁))', 'LAT': '25.029086', 'LNG': '121.519271', '_id': 829}, {'HOTSPOT_TYPE': 'Taipei Free免費無線上網熱點(室內)', 'HOTSPOT_NAME': '中正運動中心', 'STATUS': '0', 'AREA': '運動中心', 'AP_ID': 'ZZ130002', 'ADDRESS': '臺北市中正區信義路一段1號(1F面向服務台右手邊進去,走道中央)', 'LAT': '25.038221', 'LNG': '121.519306', '_id': 830}, {'HOTSPOT_TYPE': 'Taipei Free免費無線上網熱點(室內)', 'HOTSPOT_NAME': '中正運動中心', 'STATUS': '0', 'AREA': '運動中心', 'AP_ID': 'ZZ130003', 'ADDRESS': '臺北市中正區信義路一段1號(2F休息區及更衣區置物櫃前)', 'LAT': '25.038223', 'LNG': '121.519304', '_id': 831}, {'HOTSPOT_TYPE': 'Taipei Free免費無線上網熱點(室內)', 'HOTSPOT_NAME': '中正運動中心', 'STATUS': '0', 'AREA': '運動中心', 'AP_ID': 'ZZ130004', 'ADDRESS': '臺北市中正區信義路一段1號(2F男廁前)', 'LAT': '25.038223', 'LNG': '121.519302', '_id': 832}, {'HOTSPOT_TYPE': 'Taipei Free免費無線上網熱點(室內)', 'HOTSPOT_NAME': '中正運動中心', 'STATUS': '0', 'AREA': '運動中心', 'AP_ID': 'ZZ130005', 'ADDRESS': '臺北市中正區信義路一段1號(2F電梯口)', 'LAT': '25.038223', 'LNG': '121.519301', '_id': 833}, {'HOTSPOT_TYPE': 'Taipei Free免費無線上網熱點(室內)', 'HOTSPOT_NAME': '中正運動中心', 'STATUS': '0', 'AREA': '運動中心', 'AP_ID': 'ZZ130006', 'ADDRESS': '臺北市中正區信義路一段1號(3F休息區)', 'LAT': '25.038225', 'LNG': '121.519308', '_id': 834}, {'HOTSPOT_TYPE': 'Taipei Free免費無線上網熱點(室內)', 'HOTSPOT_NAME': '中正運動中心', 'STATUS': '0', 'AREA': '運動中心', 'AP_ID': 'ZZ130009', 'ADDRESS': '臺北市中正區信義路一段1號(4F辦公室門前)', 'LAT': '25.038227', 'LNG': '121.519308', '_id': 835}, {'HOTSPOT_TYPE': 'Taipei Free免費無線上網熱點(室內)', 'HOTSPOT_NAME': '中正運動中心', 'STATUS': '0', 'AREA': '運動中心', 'AP_ID': 'ZZ130011', 'ADDRESS': '臺北市中正區信義路一段1號(5F舞蹈教室2門後)', 'LAT': '25.038229', 'LNG': '121.519308', '_id': 836}, {'HOTSPOT_TYPE': 'Taipei Free免費無線上網熱點(室內)', 'HOTSPOT_NAME': '中正運動中心', 'STATUS': '0', 'AREA': '運動中心', 'AP_ID': 'ZZ130012', 'ADDRESS': '臺北市中正區信義路一段1號(5F舞蹈教室門口)', 'LAT': '25.038229', 'LNG': '121.519306', '_id': 837}, {'HOTSPOT_TYPE': 'Taipei Free免費無線上網熱點(室內)', 'HOTSPOT_NAME': '中正運動中心', 'STATUS': '0', 'AREA': '運動中心', 'AP_ID': 'ZZ130014', 'ADDRESS': '臺北市中正區信義路一段1號(6F電梯口)', 'LAT': '25.038229', 'LNG': '121.519304', '_id': 838}, {'HOTSPOT_TYPE': 'Taipei Free免費無線上網熱點(室內)', 'HOTSPOT_NAME': '中正運動中心', 'STATUS': '0', 'AREA': '運動中心', 'AP_ID': 'ZZ130016', 'ADDRESS': '臺北市中正區信義路一段1號(8F電梯口)', 'LAT': '25.038227', 'LNG': '121.519304', '_id': 839}, {'HOTSPOT_TYPE': 'Taipei Free免費無線上網熱點(室內)', 'HOTSPOT_NAME': '臺北轉運站', 'STATUS': '0', 'AREA': '交通轉運站', 'AP_ID': 'ZZ140001', 'ADDRESS': '臺北市大同區市民大道一段209號(1樓服務台旁)', 'LAT': '25.048786', 'LNG': '121.518569', '_id': 840}, {'HOTSPOT_TYPE': 'Taipei Free免費無線上網熱點(室內)', 'HOTSPOT_NAME': '臺北轉運站', 'STATUS': '0', 'AREA': '交通轉運站', 'AP_ID': 'ZZ140002', 'ADDRESS': '臺北市中正區市民大道一段209號(2樓國光座位區上方維修孔)', 'LAT': '25.048786', 'LNG': '121.518565', '_id': 841}, {'HOTSPOT_TYPE': 'Taipei Free免費無線上網熱點(室內)', 'HOTSPOT_NAME': '臺北轉運站', 'STATUS': '0', 'AREA': '交通轉運站', 'AP_ID': 'ZZ140003', 'ADDRESS': '臺北市中正區市民大道一段209號(2樓統聯座位區上方維修孔)', 'LAT': '25.048786', 'LNG': '121.518567', '_id': 842}, {'HOTSPOT_TYPE': 'Taipei Free免費無線上網熱點(室內)', 'HOTSPOT_NAME': '臺北轉運站', 'STATUS': '0', 'AREA': '交通轉運站', 'AP_ID': 'ZZ140004', 'ADDRESS': '臺北市大同區市民大道一段209號(3樓統聯客運高雄)', 'LAT': '25.048786', 'LNG': '121.518561', '_id': 843}, {'HOTSPOT_TYPE': 'Taipei Free免費無線上網熱點(室內)', 'HOTSPOT_NAME': '臺北轉運站', 'STATUS': '0', 'AREA': '交通轉運站', 'AP_ID': 'ZZ140005', 'ADDRESS': '臺北市大同區市民大道一段209號(3樓統聯客運彰化)', 'LAT': '25.048788', 'LNG': '121.518569', '_id': 844}, {'HOTSPOT_TYPE': 'Taipei Free免費無線上網熱點(室內)', 'HOTSPOT_NAME': '臺北轉運站', 'STATUS': '0', 'AREA': '交通轉運站', 'AP_ID': 'ZZ140006', 'ADDRESS': '臺北市大同區市民大道一段209號(4樓和欣客運)', 'LAT': '25.048784', 'LNG': '121.518569', '_id': 845}, {'HOTSPOT_TYPE': 'Taipei Free免費無線上網熱點(室內)', 'HOTSPOT_NAME': '臺北轉運站', 'STATUS': '0', 'AREA': '交通轉運站', 'AP_ID': 'ZZ140007', 'ADDRESS': '臺北市大同區市民大道一段209號(4樓葛瑪蘭客運)', 'LAT': '25.048782', 'LNG': '121.518569', '_id': 846}, {'HOTSPOT_TYPE': 'Taipei Free免費無線上網熱點(室內)', 'HOTSPOT_NAME': '臺北轉運站', 'STATUS': '0', 'AREA': '交通轉運站', 'AP_ID': 'ZZ140008', 'ADDRESS': '臺北市中正區民大道一段209號(1樓售票前)', 'LAT': '25.048802', 'LNG': '121.516416', '_id': 847}, {'HOTSPOT_TYPE': 'Taipei Free免費無線上網熱點(室內)', 'HOTSPOT_NAME': '臺北二二八複合式餐廳', 'STATUS': '0', 'AREA': '文化場館', 'AP_ID': 'ZZ160004', 'ADDRESS': '臺北市中正區凱達格蘭大道3號(南棟入口一樓前上方)', 'LAT': '25.040234', 'LNG': '121.515468', '_id': 848}, {'HOTSPOT_TYPE': 'Taipei Free免費無線上網熱點(室內)', 'HOTSPOT_NAME': '青少年發展中心', 'STATUS': '0', 'AREA': '文化場館', 'AP_ID': 'ZZ160005', 'ADDRESS': '臺北市中正區仁愛路一段17號(一樓大廳靠近怡客咖啡天花板上)', 'LAT': '25.039013', 'LNG': '121.521994', '_id': 849}, {'HOTSPOT_TYPE': 'Taipei Free免費無線上網熱點(室內)', 'HOTSPOT_NAME': '青少年發展中心', 'STATUS': '0', 'AREA': '文化場館', 'AP_ID': 'ZZ160006', 'ADDRESS': '臺北市中正區仁愛路一段17號(三樓圖書室中央天花板上)', 'LAT': '25.039013', 'LNG': '121.521996', '_id': 850}, {'HOTSPOT_TYPE': 'Taipei Free免費無線上網熱點(室內)', 'HOTSPOT_NAME': '青少年發展中心', 'STATUS': '0', 'AREA': '文化場館', 'AP_ID': 'ZZ160007', 'ADDRESS': '臺北市中正區仁愛路一段17號5樓(展場中央天花板)', 'LAT': '25.03901', 'LNG': '121.522013', '_id': 851}, {'HOTSPOT_TYPE': 'Taipei Free免費無線上網熱點(室內)', 'HOTSPOT_NAME': '總處稅捐處', 'STATUS': '0', 'AREA': '稅捐稽徵處', 'AP_ID': 'ZZ180001', 'ADDRESS': '臺北市中正區北平東路7之2號(1F服務中心櫃檯前上方)', 'LAT': '25.046767', 'LNG': '121.52301', '_id': 852}, {'HOTSPOT_TYPE': 'Taipei Free免費無線上網熱點(室內)', 'HOTSPOT_NAME': '總處稅捐處', 'STATUS': '0', 'AREA': '稅捐稽徵處', 'AP_ID': 'ZZ180002', 'ADDRESS': '臺北市中正區北平東路7之2號(2F法務科)', 'LAT': '25.046765', 'LNG': '121.52301', '_id': 853}, {'HOTSPOT_TYPE': 'Taipei Free免費無線上網熱點(室內)', 'HOTSPOT_NAME': '臺北市中山堂管理所', 'STATUS': '0', 'AREA': '文化場館', 'AP_ID': 'ZZ220004', 'ADDRESS': '臺北市中正區延平南路98號(正門口右側服務台旁柱子上方)', 'LAT': '25.043085', 'LNG': '121.510166', '_id': 854}, {'HOTSPOT_TYPE': 'Taipei Free免費無線上網熱點(室內)', 'HOTSPOT_NAME': '西區營業分處櫃檯', 'STATUS': '0', 'AREA': '自來水事業處', 'AP_ID': 'ZZ220015', 'ADDRESS': '臺北市中正區牯嶺街38號1樓(1F大門口天花板)', 'LAT': '25.02972', 'LNG': '121.516491', '_id': 855}, {'HOTSPOT_TYPE': 'Taipei Free免費無線上網熱點(室內)', 'HOTSPOT_NAME': '裁決所', 'STATUS': '0', 'AREA': '其他', 'AP_ID': 'ZZ220022', 'ADDRESS': '臺北市中正區羅斯福路四段92號7樓(服務臺第2個柱子)', 'LAT': '25.013745', 'LNG': '121.535005', '_id': 856}, {'HOTSPOT_TYPE': 'Taipei Free免費無線上網熱點(室內)', 'HOTSPOT_NAME': '裁決所', 'STATUS': '0', 'AREA': '其他', 'AP_ID': 'ZZ220023', 'ADDRESS': '臺北市中正區羅斯福路四段92號7樓(服務臺第4個柱子)', 'LAT': '25.013741', 'LNG': '121.535004', '_id': 857}, {'HOTSPOT_TYPE': 'Taipei Free免費無線上網熱點(室內)', 'HOTSPOT_NAME': '臺北市政府警察局局本部', 'STATUS': '0', 'AREA': '警消機關', 'AP_ID': 'ZZ220026', 'ADDRESS': '臺北市中正區延平南路96號(志工服務台上方天花板)', 'LAT': '25.043911', 'LNG': '121.509769', '_id': 858}, {'HOTSPOT_TYPE': 'Taipei Free免費無線上網熱點(室內)', 'HOTSPOT_NAME': '中正分處', 'STATUS': '0', 'AREA': '稅捐稽徵處', 'AP_ID': 'ZZ220028', 'ADDRESS': '臺北市中正區北平東路7-2號1樓(左側服務台上方)', 'LAT': '25.046767', 'LNG': '121.52301', '_id': 859}, {'HOTSPOT_TYPE': 'Taipei Free免費無線上網熱點(室內)', 'HOTSPOT_NAME': '青少年發展中心', 'STATUS': '0', 'AREA': '文化場館', 'AP_ID': 'ZZ220047', 'ADDRESS': '臺北市中正區仁愛路一段17號2樓(青少年發展中心G樓梯靠電梯上方)', 'LAT': '25.039013', 'LNG': '121.521995', '_id': 860}, {'HOTSPOT_TYPE': 'Taipei Free免費無線上網熱點(室內)', 'HOTSPOT_NAME': '青少年發展中心', 'STATUS': '0', 'AREA': '文化場館', 'AP_ID': 'ZZ220048', 'ADDRESS': '臺北市中正區仁愛路一段17號2樓(青少年發展中心開放輔導區2隔間牆角落上方)', 'LAT': '25.039013', 'LNG': '121.521998', '_id': 861}, {'HOTSPOT_TYPE': 'Taipei Free免費無線上網熱點(室內)', 'HOTSPOT_NAME': '交通警察大隊', 'STATUS': '0', 'AREA': '為民服務單位', 'AP_ID': 'ZZ220051', 'ADDRESS': '臺北市中正區愛國西路26號(1樓聯合服務中心服務台前方天花板)', 'LAT': '25.035408', 'LNG': '121.510986', '_id': 862}, {'HOTSPOT_TYPE': 'Taipei Free免費無線上網熱點(室內)', 'HOTSPOT_NAME': '替代役中心', 'STATUS': '0', 'AREA': '其他', 'AP_ID': 'ZZ220055', 'ADDRESS': '臺北市中正區汀洲路三段8號1樓(服務台前吸頂)', 'LAT': '25.017718', 'LNG': '121.526883', '_id': 863}, {'HOTSPOT_TYPE': 'Taipei Free免費無線上網熱點(室內)', 'HOTSPOT_NAME': '替代役中心', 'STATUS': '0', 'AREA': '其他', 'AP_ID': 'ZZ220056', 'ADDRESS': '臺北市中正區汀洲路三段8號1樓(運動中心-1)', 'LAT': '25.017718', 'LNG': '121.526886', '_id': 864}, {'HOTSPOT_TYPE': 'Taipei Free免費無線上網熱點(室內)', 'HOTSPOT_NAME': '替代役中心', 'STATUS': '0', 'AREA': '其他', 'AP_ID': 'ZZ220057', 'ADDRESS': '臺北市中正區汀洲路三段8號1樓(運動中心-2)', 'LAT': '25.017718', 'LNG': '121.526889', '_id': 865}, {'HOTSPOT_TYPE': 'Taipei Free免費無線上網熱點(室內)', 'HOTSPOT_NAME': '替代役中心', 'STATUS': '0', 'AREA': '其他', 'AP_ID': 'ZZ220058', 'ADDRESS': '臺北市中正區汀洲路三段8號1樓(教室一)', 'LAT': '25.017718', 'LNG': '121.526882', '_id': 866}, {'HOTSPOT_TYPE': 'Taipei Free免費無線上網熱點(室內)', 'HOTSPOT_NAME': '替代役中心', 'STATUS': '0', 'AREA': '其他', 'AP_ID': 'ZZ220059', 'ADDRESS': '臺北市中正區汀洲路三段8號1樓(教室二)', 'LAT': '25.017718', 'LNG': '121.526888', '_id': 867}, {'HOTSPOT_TYPE': 'Taipei Free免費無線上網熱點(室內)', 'HOTSPOT_NAME': '替代役中心', 'STATUS': '0', 'AREA': '其他', 'AP_ID': 'ZZ220060', 'ADDRESS': '臺北市中正區汀洲路三段8號1樓(教室三)', 'LAT': '25.017718', 'LNG': '121.526881', '_id': 868}, {'HOTSPOT_TYPE': 'Taipei Free免費無線上網熱點(室內)', 'HOTSPOT_NAME': '臺北車站旅客服務中心', 'STATUS': '0', 'AREA': '為民服務單位', 'AP_ID': 'ZZ220061', 'ADDRESS': '臺北市中正區北平西路3號(臺北車站1F大廳西南側-旅遊服務中心)', 'LAT': '25.047313', 'LNG': '121.516543', '_id': 869}, {'HOTSPOT_TYPE': 'Taipei Free免費無線上網熱點(室內)', 'HOTSPOT_NAME': '光華數位新天地', 'STATUS': '0', 'AREA': '市集', 'AP_ID': 'ZZ230001', 'ADDRESS': '臺北市中正區市民大道三段8號(服務台桌上電腦旁)', 'LAT': '25.045059', 'LNG': '121.53191', '_id': 870}, {'HOTSPOT_TYPE': 'Taipei Free免費無線上網熱點(室內)', 'HOTSPOT_NAME': '南門市場', 'STATUS': '0', 'AREA': '市集', 'AP_ID': 'ZZ230005', 'ADDRESS': '臺北市中正區羅斯福路一段8號(2樓美食區中央大電視旁)', 'LAT': '25.032382', 'LNG': '121.518031', '_id': 871}, {'HOTSPOT_TYPE': 'Taipei Free免費無線上網熱點(室內)', 'HOTSPOT_NAME': '南門市場', 'STATUS': '0', 'AREA': '市集', 'AP_ID': 'ZZ230006', 'ADDRESS': '臺北市中正區羅斯福路一段8號(2樓商店_222前)', 'LAT': '25.032382', 'LNG': '121.518035', '_id': 872}, {'HOTSPOT_TYPE': 'Taipei Free免費無線上網熱點(室內)', 'HOTSPOT_NAME': '南門市場', 'STATUS': '0', 'AREA': '市集', 'AP_ID': 'ZZ230007', 'ADDRESS': '臺北市中正區羅斯福路一段8號(2樓商店_236、237間前上方)', 'LAT': '25.032382', 'LNG': '121.518037', '_id': 873}, {'HOTSPOT_TYPE': 'Taipei Free免費無線上網熱點(室內)', 'HOTSPOT_NAME': '水源市場', 'STATUS': '0', 'AREA': '市集', 'AP_ID': 'ZZ230012', 'ADDRESS': '臺北市中正區羅斯福路四段92號1F(023與025攤位中央走道上)', 'LAT': '25.013744', 'LNG': '121.535004', '_id': 874}, {'HOTSPOT_TYPE': 'Taipei Free免費無線上網熱點(室內)', 'HOTSPOT_NAME': '水源市場', 'STATUS': '0', 'AREA': '市集', 'AP_ID': 'ZZ230013', 'ADDRESS': '臺北市中正區羅斯福路四段92號1F(048與076攤位中央走道上)', 'LAT': '25.013744', 'LNG': '121.535006', '_id': 875}, {'HOTSPOT_TYPE': 'Taipei Free免費無線上網熱點(室內)', 'HOTSPOT_NAME': '水源市場', 'STATUS': '0', 'AREA': '市集', 'AP_ID': 'ZZ230014', 'ADDRESS': '臺北市中正區羅斯福路四段92號1F(059與098攤位中央走道上)', 'LAT': '25.013743', 'LNG': '121.535006', '_id': 876}, {'HOTSPOT_TYPE': 'Taipei Free免費無線上網熱點(室內)', 'HOTSPOT_NAME': '水源市場', 'STATUS': '0', 'AREA': '市集', 'AP_ID': 'ZZ230015', 'ADDRESS': '臺北市中正區羅斯福路四段92號2F(036與060攤位中央走道上)', 'LAT': '25.013745', 'LNG': '121.535004', '_id': 877}, {'HOTSPOT_TYPE': 'Taipei Free免費無線上網熱點(室內)', 'HOTSPOT_NAME': '水源市場', 'STATUS': '0', 'AREA': '市集', 'AP_ID': 'ZZ230016', 'ADDRESS': '臺北市中正區羅斯福路四段92號2F(050攤位前方走道上)', 'LAT': '25.013746', 'LNG': '121.535004', '_id': 878}, {'HOTSPOT_TYPE': 'Taipei Free免費無線上網熱點(室內)', 'HOTSPOT_NAME': '水源市場', 'STATUS': '0', 'AREA': '市集', 'AP_ID': 'ZZ230017', 'ADDRESS': '臺北市中正區羅斯福路四段92號2F(51攤位中央走道上)', 'LAT': '25.013746', 'LNG': '121.535005', '_id': 879}, {'HOTSPOT_TYPE': 'Taipei Free免費無線上網熱點(室內)', 'HOTSPOT_NAME': '水源市場', 'STATUS': '0', 'AREA': '市集', 'AP_ID': 'ZZ230027', 'ADDRESS': '臺北市中正區羅斯福路四段92號1F(029攤位前中央走道上)', 'LAT': '25.013593', 'LNG': '121.53498', '_id': 880}, {'HOTSPOT_TYPE': 'Taipei Free免費無線上網熱點(室內)', 'HOTSPOT_NAME': '水源市場', 'STATUS': '0', 'AREA': '市集', 'AP_ID': 'ZZ230028', 'ADDRESS': '臺北市中正區羅斯福路四段92號2F(098攤位前中央走道上)', 'LAT': '25.013746', 'LNG': '121.535003', '_id': 881}, {'HOTSPOT_TYPE': 'Taipei Free免費無線上網熱點(室內)', 'HOTSPOT_NAME': '中正中華區民活動中心', 'STATUS': '0', 'AREA': '區民活動中心', 'AP_ID': 'ZZ300001', 'ADDRESS': '臺北市中正區中華路二段291號地下室(柱子上方天花板)', 'LAT': '25.033731', 'LNG': '121.507189', '_id': 882}, {'HOTSPOT_TYPE': 'Taipei Free免費無線上網熱點(室內)', 'HOTSPOT_NAME': '中正水源區民活動中心', 'STATUS': '0', 'AREA': '區民活動中心', 'AP_ID': 'ZZ300002', 'ADDRESS': '臺北市中正區羅斯福路四段92號4樓', 'LAT': '25.013743', 'LNG': '121.535005', '_id': 883}, {'HOTSPOT_TYPE': 'Taipei Free免費無線上網熱點(室內)', 'HOTSPOT_NAME': '中正幸安區民活動中心', 'STATUS': '0', 'AREA': '區民活動中心', 'AP_ID': 'ZZ300004', 'ADDRESS': '臺北市中正區濟南路二段46號3樓(中央天花板)', 'LAT': '25.040316', 'LNG': '121.530906', '_id': 884}, {'HOTSPOT_TYPE': 'Taipei Free免費無線上網熱點(室內)', 'HOTSPOT_NAME': '中正富水區民活動中心', 'STATUS': '0', 'AREA': '區民活動中心', 'AP_ID': 'ZZ300006', 'ADDRESS': '臺北市中正區水源路臨26、28號(左邊音響上方)', 'LAT': '25.02073', 'LNG': '121.52144', '_id': 885}, {'HOTSPOT_TYPE': 'Taipei Free免費無線上網熱點(室內)', 'HOTSPOT_NAME': '中正龍興區民活動中心', 'STATUS': '0', 'AREA': '區民活動中心', 'AP_ID': 'ZZ300007', 'ADDRESS': '臺北市中正區三元街131號4樓(消防箱電源開關箱上)', 'LAT': '25.028125', 'LNG': '121.510961', '_id': 886}, {'HOTSPOT_TYPE': 'Taipei Free免費無線上網熱點(室內)', 'HOTSPOT_NAME': '公共電話亭', 'STATUS': '0', 'AREA': '公共電話亭', 'AP_ID': '223Y909259', 'ADDRESS': '台北市中正區忠孝西路一段66號B1樓', 'LAT': '25.04625', 'LNG': '121.51517', '_id': 887}, {'HOTSPOT_TYPE': 'Taipei Free免費無線上網熱點(室內)', 'HOTSPOT_NAME': '公共電話亭', 'STATUS': '0', 'AREA': '公共電話亭', 'AP_ID': '223Y909260', 'ADDRESS': '台北市中正區忠孝西路一段66號1樓', 'LAT': '25.04623', 'LNG': '121.51517', '_id': 888}, {'HOTSPOT_TYPE': 'Taipei Free免費無線上網熱點(室內)', 'HOTSPOT_NAME': '公共電話亭', 'STATUS': '0', 'AREA': '公共電話亭', 'AP_ID': '223Y909258', 'ADDRESS': '台北市中正區忠孝西路一段66號B1樓', 'LAT': '25.04621', 'LNG': '121.51524', '_id': 889}, {'HOTSPOT_TYPE': 'Taipei Free免費無線上網熱點(室內)', 'HOTSPOT_NAME': '公共電話亭', 'STATUS': '0', 'AREA': '公共電話亭', 'AP_ID': '291Y902236', 'ADDRESS': '新北市新店區北新路一段325號', 'LAT': '24.968367', 'LNG': '121.541504', '_id': 890}, {'HOTSPOT_TYPE': 'Taipei Free免費無線上網熱點(室外)', 'HOTSPOT_NAME': '復興公園', 'STATUS': '0', 'AREA': '公園', 'AP_ID': 'BT200003', 'ADDRESS': '臺北市北投區中和街200號(公廁上)', 'LAT': '25.13899', 'LNG': '121.502379', '_id': 891}, {'HOTSPOT_TYPE': 'Taipei Free免費無線上網熱點(室外)', 'HOTSPOT_NAME': '陽明山花鐘公園', 'STATUS': '0', 'AREA': '公園', 'AP_ID': 'BT200005', 'ADDRESS': '臺北市北投區湖山路二段(陽明山花鐘公園停車場10米路燈)', 'LAT': '25.158631', 'LNG': '121.538827', '_id': 892}, {'HOTSPOT_TYPE': 'Taipei Free免費無線上網熱點(室外)', 'HOTSPOT_NAME': '中庸公園', 'STATUS': '0', 'AREA': '公園', 'AP_ID': 'BT200006', 'ADDRESS': '臺北市北投區雙全街與珠海路交叉路口(涼亭前路燈)', 'LAT': '25.137977', 'LNG': '121.501171', '_id': 893}, {'HOTSPOT_TYPE': 'Taipei Free免費無線上網熱點(室外)', 'HOTSPOT_NAME': '三玉宮', 'STATUS': '0', 'AREA': '智慧公車亭', 'AP_ID': 'BT270001', 'ADDRESS': '臺北市士林區天母東路6-2號(前方候車亭)', 'LAT': '25.118039', 'LNG': '121.531235', '_id': 894}, {'HOTSPOT_TYPE': 'Taipei Free免費無線上網熱點(室外)', 'HOTSPOT_NAME': '北投國小', 'STATUS': '0', 'AREA': '智慧公車亭', 'AP_ID': 'BT270002', 'ADDRESS': '臺北市北投區中央北路一段12號(對面候車亭)', 'LAT': '25.133975', 'LNG': '121.500908', '_id': 895}, {'HOTSPOT_TYPE': 'Taipei Free免費無線上網熱點(室外)', 'HOTSPOT_NAME': '奇岩新村', 'STATUS': '0', 'AREA': '智慧公車亭', 'AP_ID': 'BT270003', 'ADDRESS': '臺北市北投區公館路253號(前方候車亭)', 'LAT': '25.125875', 'LNG': '121.508287', '_id': 896}, {'HOTSPOT_TYPE': 'Taipei Free免費無線上網熱點(室外)', 'HOTSPOT_NAME': '清江國小', 'STATUS': '0', 'AREA': '智慧公車亭', 'AP_ID': 'BT270004', 'ADDRESS': '臺北市北投區公館路220號(大門右方公車亭)', 'LAT': '25.126957', 'LNG': '121.507663', '_id': 897}, {'HOTSPOT_TYPE': 'Taipei Free免費無線上網熱點(室外)', 'HOTSPOT_NAME': '新北投', 'STATUS': '0', 'AREA': '智慧公車亭', 'AP_ID': 'BT270005', 'ADDRESS': '臺北市北投區泉源路2巷3號(對面候車亭)', 'LAT': '25.13816', 'LNG': '121.504384', '_id': 898}, {'HOTSPOT_TYPE': 'Taipei Free免費無線上網熱點(室外)', 'HOTSPOT_NAME': '榮總', 'STATUS': '0', 'AREA': '智慧公車亭', 'AP_ID': 'BT270006', 'ADDRESS': '臺北市北投區石牌路二段201號(北護後門西方50公尺處)', 'LAT': '25.120184', 'LNG': '121.52016', '_id': 899}, {'HOTSPOT_TYPE': 'Taipei Free免費無線上網熱點(室外)', 'HOTSPOT_NAME': '中正高中', 'STATUS': '0', 'AREA': '智慧公車亭', 'AP_ID': 'BT270009', 'ADDRESS': '臺北市北投區文林北路55號(前方候車亭)', 'LAT': '25.105054', 'LNG': '121.517671', '_id': 900}, {'HOTSPOT_TYPE': 'Taipei Free免費無線上網熱點(室外)', 'HOTSPOT_NAME': '北投公園', 'STATUS': '0', 'AREA': '智慧公車亭', 'AP_ID': 'BT270010', 'ADDRESS': '臺北市北投區光明路235號(對面候車亭)', 'LAT': '25.1364', 'LNG': '121.50421', '_id': 901}, {'HOTSPOT_TYPE': 'Taipei Free免費無線上網熱點(室外)', 'HOTSPOT_NAME': '捷運北投站', 'STATUS': '0', 'AREA': '智慧公車亭', 'AP_ID': 'BT270011', 'ADDRESS': '臺北市北投區北投路二段(捷運北投站出口候車亭)', 'LAT': '25.131324', 'LNG': '121.498249', '_id': 902}, {'HOTSPOT_TYPE': 'Taipei Free免費無線上網熱點(室外)', 'HOTSPOT_NAME': '師大夜市商圈', 'STATUS': '0', 'AREA': '觀光夜市', 'AP_ID': 'DA060247', 'ADDRESS': '臺北市大安區師大路87號(前號誌)', 'LAT': '25.023187', 'LNG': '121.528562', '_id': 903}, {'HOTSPOT_TYPE': 'Taipei Free免費無線上網熱點(室外)', 'HOTSPOT_NAME': '臨江夜市', 'STATUS': '0', 'AREA': '觀光夜市', 'AP_ID': 'DA060249', 'ADDRESS': '臺北市大安區通化街73號右側(夜市牌樓上)', 'LAT': '25.030215', 'LNG': '121.554256', '_id': 904}, {'HOTSPOT_TYPE': 'Taipei Free免費無線上網熱點(室外)', 'HOTSPOT_NAME': '大安森林公園', 'STATUS': '0', 'AREA': '公園', 'AP_ID': 'DA200002', 'ADDRESS': '臺北市大安區新生南路二段1號(公園內音樂台上)', 'LAT': '25.044019', 'LNG': '121.533227', '_id': 905}, {'HOTSPOT_TYPE': 'Taipei Free免費無線上網熱點(室外)', 'HOTSPOT_NAME': '建國花市-1', 'STATUS': '0', 'AREA': '市集', 'AP_ID': 'DA230003', 'ADDRESS': '臺北市大安區建國南路高架橋下(信義路至仁愛路)第13號車位', 'LAT': '25.034026', 'LNG': '121.537847', '_id': 906}, {'HOTSPOT_TYPE': 'Taipei Free免費無線上網熱點(室外)', 'HOTSPOT_NAME': '建國花市-2', 'STATUS': '0', 'AREA': '市集', 'AP_ID': 'DA230004', 'ADDRESS': '臺北市大安區建國南路高架橋下(信義路至仁愛路)第63號車位', 'LAT': '25.036359', 'LNG': '121.537911', '_id': 907}, {'HOTSPOT_TYPE': 'Taipei Free免費無線上網熱點(室外)', 'HOTSPOT_NAME': '捷運忠孝新生站北', 'STATUS': '0', 'AREA': '智慧公車亭', 'AP_ID': 'DA270001', 'ADDRESS': '臺北市大安區新生南路一段85號對面候車亭', 'LAT': '25.041919', 'LNG': '121.532952', '_id': 908}, {'HOTSPOT_TYPE': 'Taipei Free免費無線上網熱點(室外)', 'HOTSPOT_NAME': '圓山轉運站', 'STATUS': '0', 'AREA': '交通轉運站', 'AP_ID': 'DT050035', 'ADDRESS': '臺北市大同區庫倫街與玉門街交叉口(東側號誌(臨濟護國禪寺旁))', 'LAT': '25.072', 'LNG': '121.5205', '_id': 909}, {'HOTSPOT_TYPE': 'Taipei Free免費無線上網熱點(室外)', 'HOTSPOT_NAME': '延三夜市商圈', 'STATUS': '0', 'AREA': '觀光夜市', 'AP_ID': 'DT060123', 'ADDRESS': '臺北市大同區民權西路與延平北路二段(西北角號誌)', 'LAT': '25.062671', 'LNG': '121.5113', '_id': 910}, {'HOTSPOT_TYPE': 'Taipei Free免費無線上網熱點(室外)', 'HOTSPOT_NAME': '大龍街夜市商圈', 'STATUS': '0', 'AREA': '觀光夜市', 'AP_ID': 'DT060126', 'ADDRESS': '臺北市大同區酒泉街與大龍街交叉口(東北角號誌)', 'LAT': '25.071983', 'LNG': '121.515888', '_id': 911}, {'HOTSPOT_TYPE': 'Taipei Free免費無線上網熱點(室外)', 'HOTSPOT_NAME': '圓山轉運站', 'STATUS': '0', 'AREA': '交通轉運站', 'AP_ID': 'DT140001', 'ADDRESS': '臺北市大同區庫倫街66號(前方路口號誌上)', 'LAT': '25.07185', 'LNG': '121.52', '_id': 912}, {'HOTSPOT_TYPE': 'Taipei Free免費無線上網熱點(室外)', 'HOTSPOT_NAME': '玉泉公園', 'STATUS': '0', 'AREA': '公園', 'AP_ID': 'DT200001', 'ADDRESS': '臺北市大同區西寧北路28號(游泳池服務中心外牆上)', 'LAT': '25.04993', 'LNG': '121.507', '_id': 913}, {'HOTSPOT_TYPE': 'Taipei Free免費無線上網熱點(室外)', 'HOTSPOT_NAME': '大稻埕公園', 'STATUS': '0', 'AREA': '公園', 'AP_ID': 'DT200003', 'ADDRESS': '臺北市大同區歸綏街243號(西北側停車場人行出入口)', 'LAT': '25.058605', 'LNG': '121.510124', '_id': 914}, {'HOTSPOT_TYPE': 'Taipei Free免費無線上網熱點(室外)', 'HOTSPOT_NAME': '大稻埕公園', 'STATUS': '0', 'AREA': '公園', 'AP_ID': 'DT200004', 'ADDRESS': '臺北市大同區歸綏街243號(東南側停車場出入口)', 'LAT': '25.058363', 'LNG': '121.510518', '_id': 915}, {'HOTSPOT_TYPE': 'Taipei Free免費無線上網熱點(室外)', 'HOTSPOT_NAME': '建國計程車服務站', 'STATUS': '0', 'AREA': '為民服務單位', 'AP_ID': 'DT220005', 'ADDRESS': '臺北市大安區建國南路一段34號(管理員室外牆上)', 'LAT': '25.044161', 'LNG': '121.536225', '_id': 916}, {'HOTSPOT_TYPE': 'Taipei Free免費無線上網熱點(室外)', 'HOTSPOT_NAME': '大稻埕租借站', 'STATUS': '0', 'AREA': '自行車租借站', 'AP_ID': 'DT280001', 'ADDRESS': '臺北市大同區民生西路底，大稻埕疏散門進入，大稻埕碼頭南側(租借站貨櫃屋上方)', 'LAT': '25.05586', 'LNG': '121.5075', '_id': 917}, {'HOTSPOT_TYPE': 'Taipei Free免費無線上網熱點(室外)', 'HOTSPOT_NAME': '玉成公園', 'STATUS': '0', 'AREA': '公園', 'AP_ID': 'NG200001', 'ADDRESS': '臺北市南港區中坡南路55號(管理中心上方)', 'LAT': '25.041824', 'LNG': '121.585276', '_id': 918}, {'HOTSPOT_TYPE': 'Taipei Free免費無線上網熱點(室外)', 'HOTSPOT_NAME': '南港公園', 'STATUS': '0', 'AREA': '公園', 'AP_ID': 'NG200002', 'ADDRESS': '臺北市南港區東新街170之1號(公園內管理中心旁路燈上)', 'LAT': '25.04576', 'LNG': '121.5913', '_id': 919}, {'HOTSPOT_TYPE': 'Taipei Free免費無線上網熱點(室外)', 'HOTSPOT_NAME': '後山埤公園', 'STATUS': '0', 'AREA': '公園', 'AP_ID': 'NG200003', 'ADDRESS': '臺北市南港區東新街170號(南港公園內三號公廁旁路燈上)', 'LAT': '25.04602', 'LNG': '121.5912', '_id': 920}, {'HOTSPOT_TYPE': 'Taipei Free免費無線上網熱點(室外)', 'HOTSPOT_NAME': '玉成公園', 'STATUS': '0', 'AREA': '公園', 'AP_ID': 'NG200008', 'ADDRESS': '臺北市南港區中坡南路55號(第二公廁)', 'LAT': '25.042861', 'LNG': '121.584187', '_id': 921}, {'HOTSPOT_TYPE': 'Taipei Free免費無線上網熱點(室外)', 'HOTSPOT_NAME': '中研院', 'STATUS': '0', 'AREA': '智慧公車亭', 'AP_ID': 'NG270002', 'ADDRESS': '臺北市南港區研究院路二段77號(左側候車亭)', 'LAT': '25.043324', 'LNG': '121.616746', '_id': 922}, {'HOTSPOT_TYPE': 'Taipei Free免費無線上網熱點(室外)', 'HOTSPOT_NAME': '中研新村', 'STATUS': '0', 'AREA': '智慧公車亭', 'AP_ID': 'NG270003', 'ADDRESS': '臺北市南港區研究院路二段78號(對面候車亭)', 'LAT': '25.045506', 'LNG': '121.615114', '_id': 923}, {'HOTSPOT_TYPE': 'Taipei Free免費無線上網熱點(室外)', 'HOTSPOT_NAME': '南港軟體園區北站', 'STATUS': '0', 'AREA': '智慧公車亭', 'AP_ID': 'NG270004', 'ADDRESS': '臺北市南港區三重路19-12號(前方候車亭)', 'LAT': '25.0586', 'LNG': '121.6141', '_id': 924}, {'HOTSPOT_TYPE': 'Taipei Free免費無線上網熱點(室外)', 'HOTSPOT_NAME': '南港軟體園區南站', 'STATUS': '0', 'AREA': '智慧公車亭', 'AP_ID': 'NG270005', 'ADDRESS': '臺北市南港區三重路19-2號(前方候車亭)', 'LAT': '25.056346', 'LNG': '121.613874', '_id': 925}, {'HOTSPOT_TYPE': 'Taipei Free免費無線上網熱點(室外)', 'HOTSPOT_NAME': '松山磚廠', 'STATUS': '0', 'AREA': '智慧公車亭', 'AP_ID': 'NG270006', 'ADDRESS': '臺北市南港區南港路三段252號(前方候車亭)', 'LAT': '25.052755', 'LNG': '121.584909', '_id': 926}, {'HOTSPOT_TYPE': 'Taipei Free免費無線上網熱點(室外)', 'HOTSPOT_NAME': '內湖737夜市', 'STATUS': '0', 'AREA': '觀光夜市', 'AP_ID': 'NH060069', 'ADDRESS': '臺北市內湖區內湖路一段737巷35號(立招上方)', 'LAT': '25.079726', 'LNG': '121.578727', '_id': 927}, {'HOTSPOT_TYPE': 'Taipei Free免費無線上網熱點(室外)', 'HOTSPOT_NAME': '碧湖公園綠地', 'STATUS': '0', 'AREA': '公園', 'AP_ID': 'NH200002', 'ADDRESS': '臺北市內湖區內湖路二段103巷與國立臺灣戲曲學院之間(公園內圖書館上方)', 'LAT': '25.079851', 'LNG': '121.582747', '_id': 928}, {'HOTSPOT_TYPE': 'Taipei Free免費無線上網熱點(室外)', 'HOTSPOT_NAME': '大湖公園', 'STATUS': '0', 'AREA': '公園', 'AP_ID': 'NH200003', 'ADDRESS': '臺北市內湖區成功路五段31號(公廁上)', 'LAT': '25.080493', 'LNG': '121.602988', '_id': 929}, {'HOTSPOT_TYPE': 'Taipei Free免費無線上網熱點(室外)', 'HOTSPOT_NAME': '彩虹河濱公園', 'STATUS': '0', 'AREA': '戶外休憩場所', 'AP_ID': 'NH220016', 'ADDRESS': '臺北市內湖區麥帥二橋旁彩虹河濱公園網球場', 'LAT': '25.06216', 'LNG': '121.571721', '_id': 930}, {'HOTSPOT_TYPE': 'Taipei Free免費無線上網熱點(室外)', 'HOTSPOT_NAME': '內湖焚化廠', 'STATUS': '0', 'AREA': '智慧公車亭', 'AP_ID': 'NH270001', 'ADDRESS': '臺北市內湖區安康路228巷15號(對面候車亭)', 'LAT': '25.062485', 'LNG': '121.603259', '_id': 931}, {'HOTSPOT_TYPE': 'Taipei Free免費無線上網熱點(室外)', 'HOTSPOT_NAME': '南京舊宗路口', 'STATUS': '0', 'AREA': '智慧公車亭', 'AP_ID': 'NH270002', 'ADDRESS': '臺北市內湖區南京東路六段與新明路380巷口(對面候車亭)', 'LAT': '25.055905', 'LNG': '121.579969', '_id': 932}, {'HOTSPOT_TYPE': 'Taipei Free免費無線上網熱點(室外)', 'HOTSPOT_NAME': '美麗華', 'STATUS': '0', 'AREA': '智慧公車亭', 'AP_ID': 'NH270004', 'ADDRESS': '臺北市內湖區內湖路一段1巷1號(前方候車亭)', 'LAT': '25.085321', 'LNG': '121.559057', '_id': 933}, {'HOTSPOT_TYPE': 'Taipei Free免費無線上網熱點(室外)', 'HOTSPOT_NAME': '國防醫學中心', 'STATUS': '0', 'AREA': '智慧公車亭', 'AP_ID': 'NH270005', 'ADDRESS': '臺北市內湖區成功路二段410號(對面候車亭)', 'LAT': '25.07119', 'LNG': '121.59', '_id': 934}, {'HOTSPOT_TYPE': 'Taipei Free免費無線上網熱點(室外)', 'HOTSPOT_NAME': '麗山新村', 'STATUS': '0', 'AREA': '智慧公車亭', 'AP_ID': 'NH270007', 'ADDRESS': '臺北市內湖區環山路二段69號(對面候車亭)', 'LAT': '25.084943', 'LNG': '121.574242', '_id': 935}, {'HOTSPOT_TYPE': 'Taipei Free免費無線上網熱點(室外)', 'HOTSPOT_NAME': '康寧醫院', 'STATUS': '0', 'AREA': '智慧公車亭', 'AP_ID': 'NH270009', 'ADDRESS': '臺北市內湖區成功路五段420巷(巷口候車亭)', 'LAT': '25.075648', 'LNG': '121.607132', '_id': 936}, {'HOTSPOT_TYPE': 'Taipei Free免費無線上網熱點(室外)', 'HOTSPOT_NAME': '文德捷運站公車亭', 'STATUS': '0', 'AREA': '智慧公車亭', 'AP_ID': 'NH270010', 'ADDRESS': '臺北市內湖區文德路214號(2號出口前公車亭)', 'LAT': '25.069161', 'LNG': '121.586396', '_id': 937}, {'HOTSPOT_TYPE': 'Taipei Free免費無線上網熱點(室外)', 'HOTSPOT_NAME': '南京舊宗路口', 'STATUS': '0', 'AREA': '智慧公車亭', 'AP_ID': 'NH270011', 'ADDRESS': '臺北市內湖區南京東路六段151號(前方候車亭)', 'LAT': '25.05615', 'LNG': '121.5792', '_id': 938}, {'HOTSPOT_TYPE': 'Taipei Free免費無線上網熱點(室外)', 'HOTSPOT_NAME': '三民國中', 'STATUS': '0', 'AREA': '智慧公車亭', 'AP_ID': 'NH270013', 'ADDRESS': '臺北市內湖區民權東路六段45號(右側50M(78號對面)候車亭)', 'LAT': '25.06903', 'LNG': '121.585678', '_id': 939}, {'HOTSPOT_TYPE': 'Taipei Free免費無線上網熱點(室外)', 'HOTSPOT_NAME': '士林夜市', 'STATUS': '0', 'AREA': '觀光夜市', 'AP_ID': 'SL060023', 'ADDRESS': '臺北市士林區士林區文林路102號(前號誌)', 'LAT': '25.088009', 'LNG': '121.526299', '_id': 940}, {'HOTSPOT_TYPE': 'Taipei Free免費無線上網熱點(室外)', 'HOTSPOT_NAME': '士林夜市商店街', 'STATUS': '0', 'AREA': '觀光夜市', 'AP_ID': 'SL080005', 'ADDRESS': '臺北市士林區基河路101號1樓(113攤位上方貓道延伸抱桿上)', 'LAT': '25.08809', 'LNG': '121.5242', '_id': 941}, {'HOTSPOT_TYPE': 'Taipei Free免費無線上網熱點(室外)', 'HOTSPOT_NAME': '天母公園綠地', 'STATUS': '0', 'AREA': '公園', 'AP_ID': 'SL200001', 'ADDRESS': '臺北市士林區中山北路七段141巷(公園公廁上方)', 'LAT': '25.1246013', 'LNG': '121.5316113', '_id': 942}, {'HOTSPOT_TYPE': 'Taipei Free免費無線上網熱點(室外)', 'HOTSPOT_NAME': '忠誠公園', 'STATUS': '0', 'AREA': '公園', 'AP_ID': 'SL200002', 'ADDRESS': '臺北市士林區中山北路六段53號前號誌上', 'LAT': '25.103957', 'LNG': '121.524749', '_id': 943}, {'HOTSPOT_TYPE': 'Taipei Free免費無線上網熱點(室外)', 'HOTSPOT_NAME': '志成公園', 'STATUS': '0', 'AREA': '公園', 'AP_ID': 'SL200004', 'ADDRESS': '臺北市士林區中正路與志成街交叉口(號誌燈上)', 'LAT': '25.096433', 'LNG': '121.530386', '_id': 944}, {'HOTSPOT_TYPE': 'Taipei Free免費無線上網熱點(室外)', 'HOTSPOT_NAME': '至善公園', 'STATUS': '0', 'AREA': '公園', 'AP_ID': 'SL200005', 'ADDRESS': '臺北市士林區至善路一段公園入口(公廁上)', 'LAT': '25.098269', 'LNG': '121.537907', '_id': 945}, {'HOTSPOT_TYPE': 'Taipei Free免費無線上網熱點(室外)', 'HOTSPOT_NAME': '原住民公園', 'STATUS': '0', 'AREA': '公園', 'AP_ID': 'SL200006', 'ADDRESS': '臺北市士林區至善路二段270號(對面號誌上)', 'LAT': '25.100506', 'LNG': '121.551084', '_id': 946}, {'HOTSPOT_TYPE': 'Taipei Free免費無線上網熱點(室外)', 'HOTSPOT_NAME': '陽明公園', 'STATUS': '0', 'AREA': '公園', 'AP_ID': 'SL200009', 'ADDRESS': '臺北市北投區湖山路二段26號(旅客服務中心屋頂上)', 'LAT': '25.159198', 'LNG': '121.540104', '_id': 947}, {'HOTSPOT_TYPE': 'Taipei Free免費無線上網熱點(室外)', 'HOTSPOT_NAME': '士林官邸公園', 'STATUS': '0', 'AREA': '公園', 'AP_ID': 'SL200010', 'ADDRESS': '臺北市士林區福林路60號(商品販賣部上方)', 'LAT': '25.094898', 'LNG': '121.530156', '_id': 948}, {'HOTSPOT_TYPE': 'Taipei Free免費無線上網熱點(室外)', 'HOTSPOT_NAME': '雙溪公園', 'STATUS': '0', 'AREA': '公園', 'AP_ID': 'SL200011', 'ADDRESS': '臺北市士林區福林路250號(前號誌)', 'LAT': '25.097771', 'LNG': '121.534489', '_id': 949}, {'HOTSPOT_TYPE': 'Taipei Free免費無線上網熱點(室外)', 'HOTSPOT_NAME': '天母運動公園', 'STATUS': '0', 'AREA': '公園', 'AP_ID': 'SL220034', 'ADDRESS': '臺北市士林區忠誠路二段77號(網球場指向草坪)', 'LAT': '25.113626', 'LNG': '121.533453', '_id': 950}, {'HOTSPOT_TYPE': 'Taipei Free免費無線上網熱點(室外)', 'HOTSPOT_NAME': '三腳渡碼頭', 'STATUS': '0', 'AREA': '戶外休憩場所', 'AP_ID': 'SL220050', 'ADDRESS': '臺北市士林區通河街325巷18號對面(前方劍潭抽水站堤防內柱上)', 'LAT': '25.08183', 'LNG': '121.518242', '_id': 951}, {'HOTSPOT_TYPE': 'Taipei Free免費無線上網熱點(室外)', 'HOTSPOT_NAME': '社子國小', 'STATUS': '0', 'AREA': '智慧公車亭', 'AP_ID': 'SL270002', 'ADDRESS': '臺北市士林區延平北路六段308號(前號誌(打同側候車亭))', 'LAT': '25.08959', 'LNG': '121.5028', '_id': 952}, {'HOTSPOT_TYPE': 'Taipei Free免費無線上網熱點(室外)', 'HOTSPOT_NAME': '故宮博物院', 'STATUS': '0', 'AREA': '智慧公車亭', 'AP_ID': 'SL270003', 'ADDRESS': '臺北市士林區至善路二段150號(對面候車亭)', 'LAT': '25.099373', 'LNG': '121.549441', '_id': 953}, {'HOTSPOT_TYPE': 'Taipei Free免費無線上網熱點(室外)', 'HOTSPOT_NAME': '福林國小(西)', 'STATUS': '0', 'AREA': '智慧公車亭', 'AP_ID': 'SL270008', 'ADDRESS': '臺北市士林區中正路116號(左側候車亭)', 'LAT': '25.09614', 'LNG': '121.5293', '_id': 954}, {'HOTSPOT_TYPE': 'Taipei Free免費無線上網熱點(室外)', 'HOTSPOT_NAME': '福林國小(東)', 'STATUS': '0', 'AREA': '智慧公車亭', 'AP_ID': 'SL270009', 'ADDRESS': '臺北市士林區中正路116號(對面候車亭)', 'LAT': '25.09585', 'LNG': '121.5289', '_id': 955}, {'HOTSPOT_TYPE': 'Taipei Free免費無線上網熱點(室外)', 'HOTSPOT_NAME': '文化大學', 'STATUS': '0', 'AREA': '智慧公車亭', 'AP_ID': 'SL270010', 'ADDRESS': '臺北市士林區格致路57號(前號誌打摩斯漢堡左側候車亭)', 'LAT': '25.137889', 'LNG': '121.546476', '_id': 956}, {'HOTSPOT_TYPE': 'Taipei Free免費無線上網熱點(室外)', 'HOTSPOT_NAME': '忠誠公園', 'STATUS': '0', 'AREA': '智慧公車亭', 'AP_ID': 'SL270016', 'ADDRESS': '臺北市士林區忠誠路一段16巷(對面(忠誠公園候車亭))', 'LAT': '25.103949', 'LNG': '121.525876', '_id': 957}, {'HOTSPOT_TYPE': 'Taipei Free免費無線上網熱點(室外)', 'HOTSPOT_NAME': '蘭雅新城(北)', 'STATUS': '0', 'AREA': '智慧公車亭', 'AP_ID': 'SL270017', 'ADDRESS': '臺北市士林區忠誠路一段157號(前方候車亭)', 'LAT': '25.107261', 'LNG': '121.530208', '_id': 958}, {'HOTSPOT_TYPE': 'Taipei Free免費無線上網熱點(室外)', 'HOTSPOT_NAME': '蘭雅新城(南)', 'STATUS': '0', 'AREA': '智慧公車亭', 'AP_ID': 'SL270018', 'ADDRESS': '臺北市士林區忠誠路一段157號(達美牙醫診所對面候車亭)', 'LAT': '25.107155', 'LNG': '121.529773', '_id': 959}, {'HOTSPOT_TYPE': 'Taipei Free免費無線上網熱點(室外)', 'HOTSPOT_NAME': '蘭雅國中', 'STATUS': '0', 'AREA': '智慧公車亭', 'AP_ID': 'SL270019', 'ADDRESS': '臺北市士林區忠誠路二段41巷口(往南10M候車亭)', 'LAT': '25.10949', 'LNG': '121.530664', '_id': 960}, {'HOTSPOT_TYPE': 'Taipei Free免費無線上網熱點(室外)', 'HOTSPOT_NAME': '天母棒球場', 'STATUS': '0', 'AREA': '智慧公車亭', 'AP_ID': 'SL270020', 'ADDRESS': '臺北市士林區忠誠路二段77號(前方候車亭)', 'LAT': '25.113364', 'LNG': '121.531928', '_id': 961}, {'HOTSPOT_TYPE': 'Taipei Free免費無線上網熱點(室外)', 'HOTSPOT_NAME': '天母棒球場', 'STATUS': '0', 'AREA': '智慧公車亭', 'AP_ID': 'SL270021', 'ADDRESS': '臺北市士林區忠誠路二段134號(前方候車亭)', 'LAT': '25.114281', 'LNG': '121.532239', '_id': 962}, {'HOTSPOT_TYPE': 'Taipei Free免費無線上網熱點(室外)', 'HOTSPOT_NAME': '啟智學校', 'STATUS': '0', 'AREA': '智慧公車亭', 'AP_ID': 'SL270022', 'ADDRESS': '臺北市士林區天母東路8巷19弄(對面候車亭(新三光越天母店對面))', 'LAT': '25.117369', 'LNG': '121.534645', '_id': 963}, {'HOTSPOT_TYPE': 'Taipei Free免費無線上網熱點(室外)', 'HOTSPOT_NAME': '敦中公園', 'STATUS': '0', 'AREA': '公園', 'AP_ID': 'SS060160', 'ADDRESS': '臺北市松山區敦化北路4巷31號邊(敦中公園內路燈)', 'LAT': '25.05009', 'LNG': '121.545342', '_id': 964}, {'HOTSPOT_TYPE': 'Taipei Free免費無線上網熱點(室外)', 'HOTSPOT_NAME': '饒河街夜市', 'STATUS': '0', 'AREA': '觀光夜市', 'AP_ID': 'SS060179', 'ADDRESS': '臺北市松山區八德路四段與饒河街交叉口(牌樓上方)', 'LAT': '25.050912', 'LNG': '121.577524', '_id': 965}, {'HOTSPOT_TYPE': 'Taipei Free免費無線上網熱點(室外)', 'HOTSPOT_NAME': '三民、富民公園', 'STATUS': '0', 'AREA': '公園', 'AP_ID': 'SS200001', 'ADDRESS': '臺北市松山區三民路131號前(中央分隔島號誌燈上)', 'LAT': '25.059929', 'LNG': '121.563241', '_id': 966}, {'HOTSPOT_TYPE': 'Taipei Free免費無線上網熱點(室外)', 'HOTSPOT_NAME': '武昌市場', 'STATUS': '0', 'AREA': '市集', 'AP_ID': 'SS230001', 'ADDRESS': '臺北市松山區南京東路五段59巷27弄30號(屋簷下)', 'LAT': '25.052487', 'LNG': '121.560325', '_id': 967}, {'HOTSPOT_TYPE': 'Taipei Free免費無線上網熱點(室外)', 'HOTSPOT_NAME': '松山機場1', 'STATUS': '0', 'AREA': '智慧公車亭', 'AP_ID': 'SS270001', 'ADDRESS': '臺北市松山區敦化北路340之9號(前方候車亭(松山機場大門前編號1號候車亭))', 'LAT': '25.063677', 'LNG': '121.551881', '_id': 968}, {'HOTSPOT_TYPE': 'Taipei Free免費無線上網熱點(室外)', 'HOTSPOT_NAME': '聯合二村', 'STATUS': '0', 'AREA': '智慧公車亭', 'AP_ID': 'SS270004', 'ADDRESS': '臺北市松山區民生東路五段81號((右前方候車亭)', 'LAT': '25.058725', 'LNG': '121.558826', '_id': 969}, {'HOTSPOT_TYPE': 'Taipei Free免費無線上網熱點(室外)', 'HOTSPOT_NAME': '智慧公車亭\\u3000南京寧安街口', 'STATUS': '0', 'AREA': '智慧公車亭', 'AP_ID': 'SS270008', 'ADDRESS': '臺北市松山區南京東路四段56號(前中央分隔島公車亭，路口西側)', 'LAT': '25.051529', 'LNG': '121.5549', '_id': 970}, {'HOTSPOT_TYPE': 'Taipei Free免費無線上網熱點(室外)', 'HOTSPOT_NAME': '智慧公車亭\\u3000南京寧安街口', 'STATUS': '0', 'AREA': '智慧公車亭', 'AP_ID': 'SS270009', 'ADDRESS': '臺北市松山區南京東路四段134號(前中央分隔島公車亭，路口東側)', 'LAT': '25.051611', 'LNG': '121.55525', '_id': 971}, {'HOTSPOT_TYPE': 'Taipei Free免費無線上網熱點(室外)', 'HOTSPOT_NAME': '智慧公車亭\\u3000南京三民路口', 'STATUS': '0', 'AREA': '智慧公車亭', 'AP_ID': 'SS270010', 'ADDRESS': '臺北市松山區南京東路五段66號(前中央分隔島公車亭，路口西側)', 'LAT': '25.051431', 'LNG': '121.56066', '_id': 972}, {'HOTSPOT_TYPE': 'Taipei Free免費無線上網熱點(室外)', 'HOTSPOT_NAME': '智慧公車亭\\u3000松山車站(八德)', 'STATUS': '0', 'AREA': '智慧公車亭', 'AP_ID': 'SS270012', 'ADDRESS': '臺北市松山區八德路四段758號(左邊空地與捷運松山站四號出口中間)', 'LAT': '25.049825', 'LNG': '121.57836', '_id': 973}, {'HOTSPOT_TYPE': 'Taipei Free免費無線上網熱點(室外)', 'HOTSPOT_NAME': '彩虹橋', 'STATUS': '0', 'AREA': '戶外休憩場所', 'AP_ID': 'SS280001', 'ADDRESS': '臺北市松山區松河街172號對面堤防上(基四閘門上方)', 'LAT': '25.054951', 'LNG': '121.588291', '_id': 974}, {'HOTSPOT_TYPE': 'Taipei Free免費無線上網熱點(室外)', 'HOTSPOT_NAME': '華西街夜市', 'STATUS': '0', 'AREA': '觀光夜市', 'AP_ID': 'WH060081', 'ADDRESS': '臺北市萬華區華西街夜市117攤位上方', 'LAT': '25.03856', 'LNG': '121.4984', '_id': 975}, {'HOTSPOT_TYPE': 'Taipei Free免費無線上網熱點(室外)', 'HOTSPOT_NAME': '南機場市場', 'STATUS': '0', 'AREA': '市集', 'AP_ID': 'WH060084', 'ADDRESS': '臺北市萬華區中華路二段364巷22弄33號(南機場市場入口處)', 'LAT': '25.028368', 'LNG': '121.503808', '_id': 976}, {'HOTSPOT_TYPE': 'Taipei Free免費無線上網熱點(室外)', 'HOTSPOT_NAME': '西昌街夜市', 'STATUS': '0', 'AREA': '觀光夜市', 'AP_ID': 'WH080082', 'ADDRESS': '臺北市萬華區西昌街239號(前路燈)', 'LAT': '25.03707', 'LNG': '121.500674', '_id': 977}, {'HOTSPOT_TYPE': 'Taipei Free免費無線上網熱點(室外)', 'HOTSPOT_NAME': '青年公園', 'STATUS': '0', 'AREA': '公園', 'AP_ID': 'WH200001', 'ADDRESS': '臺北市萬華區水源路199號(1號門進入花鍾左手邊白色建築物前路燈)', 'LAT': '25.022041', 'LNG': '121.506907', '_id': 978}, {'HOTSPOT_TYPE': 'Taipei Free免費無線上網熱點(室外)', 'HOTSPOT_NAME': '艋舺公園', 'STATUS': '0', 'AREA': '公園', 'AP_ID': 'WH200002', 'ADDRESS': '臺北市萬華區廣州街207號對面(捷運龍山寺站停車場四號出口處牆上)', 'LAT': '25.036734', 'LNG': '121.500264', '_id': 979}, {'HOTSPOT_TYPE': 'Taipei Free免費無線上網熱點(室外)', 'HOTSPOT_NAME': '第一果菜批發市場 ', 'STATUS': '0', 'AREA': '市集', 'AP_ID': 'WH230004', 'ADDRESS': '臺北市萬華區萬大路533號(果菜市場56柱子中央走道上方)', 'LAT': '25.01836', 'LNG': '121.4984', '_id': 980}, {'HOTSPOT_TYPE': 'Taipei Free免費無線上網熱點(室外)', 'HOTSPOT_NAME': '第一果菜批發市場', 'STATUS': '0', 'AREA': '市集', 'AP_ID': 'WH230005', 'ADDRESS': '臺北市萬華區萬大路533號(果菜市場0601~0633牌子旁鐵桿近44柱子)', 'LAT': '25.01873', 'LNG': '121.4976', '_id': 981}, {'HOTSPOT_TYPE': 'Taipei Free免費無線上網熱點(室外)', 'HOTSPOT_NAME': '中正新城', 'STATUS': '0', 'AREA': '智慧公車亭', 'AP_ID': 'WH270002', 'ADDRESS': '臺北市萬華區青年路56號(對面候車亭)', 'LAT': '25.025357', 'LNG': '121.502913', '_id': 982}, {'HOTSPOT_TYPE': 'Taipei Free免費無線上網熱點(室外)', 'HOTSPOT_NAME': '光仁國小', 'STATUS': '0', 'AREA': '智慧公車亭', 'AP_ID': 'WH270003', 'ADDRESS': '臺北市萬華區萬大路423巷33號(對面候車亭)', 'LAT': '25.021244', 'LNG': '121.500165', '_id': 983}, {'HOTSPOT_TYPE': 'Taipei Free免費無線上網熱點(室外)', 'HOTSPOT_NAME': '華中租借站', 'STATUS': '0', 'AREA': '自行車租借站', 'AP_ID': 'WH280003', 'ADDRESS': '臺北市萬華區青年路與水源路口(馬場町紀念公園)(租借站貨櫃屋上方)', 'LAT': '25.023056', 'LNG': '121.505278', '_id': 984}, {'HOTSPOT_TYPE': 'Taipei Free免費無線上網熱點(室外)', 'HOTSPOT_NAME': '景華公園', 'STATUS': '0', 'AREA': '公園', 'AP_ID': 'WS200002', 'ADDRESS': '臺北市文山區景華街55號(停車場入口四號門入口上方)', 'LAT': '24.995186', 'LNG': '121.543793', '_id': 985}, {'HOTSPOT_TYPE': 'Taipei Free免費無線上網熱點(室外)', 'HOTSPOT_NAME': '景美運動公園', 'STATUS': '0', 'AREA': '公園', 'AP_ID': 'WS200003', 'ADDRESS': '臺北市文山區景豐街79號(交通警察大隊門口路燈上)', 'LAT': '25.002059', 'LNG': '121.544671', '_id': 986}, {'HOTSPOT_TYPE': 'Taipei Free免費無線上網熱點(室外)', 'HOTSPOT_NAME': '水景公園綠地', 'STATUS': '0', 'AREA': '公園', 'AP_ID': 'WS200004', 'ADDRESS': '臺北市文山區政大二街99巷口(西南角路燈)', 'LAT': '24.988004', 'LNG': '121.582779', '_id': 987}, {'HOTSPOT_TYPE': 'Taipei Free免費無線上網熱點(室外)', 'HOTSPOT_NAME': '公訓中心', 'STATUS': '0', 'AREA': '智慧公車亭', 'AP_ID': 'WS270001', 'ADDRESS': '臺北市文山區萬美街二段21巷與萬美街二段交叉口(右前方候車亭(萬美9號公園前面))', 'LAT': '25.002053', 'LNG': '121.561782', '_id': 988}, {'HOTSPOT_TYPE': 'Taipei Free免費無線上網熱點(室外)', 'HOTSPOT_NAME': '名門社區', 'STATUS': '0', 'AREA': '智慧公車亭', 'AP_ID': 'WS270002', 'ADDRESS': '臺北市文山區和平東路四段83號(對面候車亭)', 'LAT': '24.999032', 'LNG': '121.574158', '_id': 989}, {'HOTSPOT_TYPE': 'Taipei Free免費無線上網熱點(室外)', 'HOTSPOT_NAME': '溝子口', 'STATUS': '0', 'AREA': '智慧公車亭', 'AP_ID': 'WS270003', 'ADDRESS': '臺北市文山區辛亥路六段92號(對面候車亭)', 'LAT': '24.988643', 'LNG': '121.55218', '_id': 990}, {'HOTSPOT_TYPE': 'Taipei Free免費無線上網熱點(室外)', 'HOTSPOT_NAME': '萬芳國小', 'STATUS': '0', 'AREA': '智慧公車亭', 'AP_ID': 'WS270004', 'ADDRESS': '臺北市文山區萬和街1號(旁邊候車亭)', 'LAT': '25.00105', 'LNG': '121.5681', '_id': 991}, {'HOTSPOT_TYPE': 'Taipei Free免費無線上網熱點(室外)', 'HOTSPOT_NAME': '萬美社區', 'STATUS': '0', 'AREA': '智慧公車亭', 'AP_ID': 'WS270006', 'ADDRESS': '臺北市文山區萬美街二段與萬寧街交叉口(11號公園對面候車亭)', 'LAT': '25.003488', 'LNG': '121.562836', '_id': 992}, {'HOTSPOT_TYPE': 'Taipei Free免費無線上網熱點(室外)', 'HOTSPOT_NAME': '萬寧山莊', 'STATUS': '0', 'AREA': '智慧公車亭', 'AP_ID': 'WS270009', 'ADDRESS': '臺北市文山區萬寧街161號(前方候車亭)', 'LAT': '25.004179', 'LNG': '121.570365', '_id': 993}, {'HOTSPOT_TYPE': 'Taipei Free免費無線上網熱點(室外)', 'HOTSPOT_NAME': '萬寧山莊', 'STATUS': '0', 'AREA': '智慧公車亭', 'AP_ID': 'WS270010', 'ADDRESS': '臺北市文山區萬寧街161號(對面候車亭)', 'LAT': '25.004266', 'LNG': '121.570505', '_id': 994}, {'HOTSPOT_TYPE': 'Taipei Free免費無線上網熱點(室外)', 'HOTSPOT_NAME': '貓空纜車站', 'STATUS': '0', 'AREA': '智慧公車亭', 'AP_ID': 'WS270011', 'ADDRESS': '臺北市文山區指南路三段38巷18-2號(對面候車亭)', 'LAT': '24.96848', 'LNG': '121.5878', '_id': 995}, {'HOTSPOT_TYPE': 'Taipei Free免費無線上網熱點(室外)', 'HOTSPOT_NAME': '貓空動物園站(往木柵)', 'STATUS': '0', 'AREA': '智慧公車亭', 'AP_ID': 'WS270012', 'ADDRESS': '臺北市文山區新光路二段28號(左前方候車亭)', 'LAT': '24.99665', 'LNG': '121.5765', '_id': 996}, {'HOTSPOT_TYPE': 'Taipei Free免費無線上網熱點(室外)', 'HOTSPOT_NAME': '貓空動物園站(往深坑)', 'STATUS': '0', 'AREA': '智慧公車亭', 'AP_ID': 'WS270013', 'ADDRESS': '臺北市文山區新光路二段28號(前方候車亭(動物園站))', 'LAT': '24.9972', 'LNG': '121.5777', '_id': 997}]}}\n"
     ]
    }
   ],
   "source": [
    "import requests\n",
    "url = 'http://data.taipei/opendata/datalist/apiAccess?scope=resourceAquire&rid=b087af42-2c54-4dbf-86c8-427d788779e5'\n",
    "response = requests.get(url)\n",
    "data = response.json()\n",
    "print(data)"
   ]
  },
  {
   "cell_type": "markdown",
   "metadata": {},
   "source": [
    "# Python 基礎教學"
   ]
  },
  {
   "cell_type": "code",
   "execution_count": 1,
   "metadata": {},
   "outputs": [
    {
     "name": "stdout",
     "output_type": "stream",
     "text": [
      "The Zen of Python, by Tim Peters\n",
      "\n",
      "Beautiful is better than ugly.\n",
      "Explicit is better than implicit.\n",
      "Simple is better than complex.\n",
      "Complex is better than complicated.\n",
      "Flat is better than nested.\n",
      "Sparse is better than dense.\n",
      "Readability counts.\n",
      "Special cases aren't special enough to break the rules.\n",
      "Although practicality beats purity.\n",
      "Errors should never pass silently.\n",
      "Unless explicitly silenced.\n",
      "In the face of ambiguity, refuse the temptation to guess.\n",
      "There should be one-- and preferably only one --obvious way to do it.\n",
      "Although that way may not be obvious at first unless you're Dutch.\n",
      "Now is better than never.\n",
      "Although never is often better than *right* now.\n",
      "If the implementation is hard to explain, it's a bad idea.\n",
      "If the implementation is easy to explain, it may be a good idea.\n",
      "Namespaces are one honking great idea -- let's do more of those!\n"
     ]
    }
   ],
   "source": [
    "import this"
   ]
  },
  {
   "cell_type": "code",
   "execution_count": 57,
   "metadata": {},
   "outputs": [
    {
     "name": "stdout",
     "output_type": "stream",
     "text": [
      "sys.version_info(major=3, minor=7, micro=1, releaselevel='final', serial=0)\n",
      "3.7.1 (default, Dec 14 2018, 13:28:58) \n",
      "[Clang 4.0.1 (tags/RELEASE_401/final)]\n"
     ]
    }
   ],
   "source": [
    "import sys\n",
    "print(sys.version_info)\n",
    "print(sys.version)"
   ]
  },
  {
   "cell_type": "code",
   "execution_count": 5,
   "metadata": {},
   "outputs": [
    {
     "name": "stdout",
     "output_type": "stream",
     "text": [
      "Hi, my name is Rex\n"
     ]
    }
   ],
   "source": [
    "first_name = 'Rex'\n",
    "print('Hi, my name is', first_name)"
   ]
  },
  {
   "cell_type": "code",
   "execution_count": 6,
   "metadata": {},
   "outputs": [
    {
     "name": "stdout",
     "output_type": "stream",
     "text": [
      "Hi, my name is Rex Wu\n"
     ]
    }
   ],
   "source": [
    "last_name = 'Wu'\n",
    "print('Hi, my name is', first_name,last_name)"
   ]
  },
  {
   "cell_type": "code",
   "execution_count": 7,
   "metadata": {},
   "outputs": [
    {
     "name": "stdout",
     "output_type": "stream",
     "text": [
      "10 12.3 (3+5j) hello python True\n",
      "<class 'int'>\n",
      "<class 'float'>\n",
      "<class 'complex'>\n",
      "<class 'str'>\n",
      "<class 'bool'>\n",
      "None\n",
      "True\n"
     ]
    }
   ],
   "source": [
    "iv = 10\n",
    "fv = 12.3\n",
    "cv = 3 + 5j\n",
    "sv = 'hello python'\n",
    "bv = True\n",
    "nv = None\n",
    "\n",
    "print(iv, fv, cv, sv, bv)\n",
    "print(type(iv))\n",
    "print(type(fv))\n",
    "print(type(cv))\n",
    "print(type(sv))\n",
    "print(type(bv))\n",
    "print(nv)\n",
    "print(isinstance(sv, str))"
   ]
  },
  {
   "cell_type": "code",
   "execution_count": 8,
   "metadata": {},
   "outputs": [
    {
     "name": "stdout",
     "output_type": "stream",
     "text": [
      "cv = (15+5j) sv = hello\n"
     ]
    }
   ],
   "source": [
    "cv = 15 + 5j \n",
    "sv = 'hello'\n",
    "print('cv =',cv,'sv =',sv)"
   ]
  },
  {
   "cell_type": "markdown",
   "metadata": {},
   "source": [
    "### 可變和不可變物件\n",
    "mutable and immutable object\n",
    "\n",
    "注意！\n",
    "對於有學過其他語言的同學,可能會類比到其他語言類似的概念,\n",
    "與其他語言 pass by value (傳值) 和 pass by reference (傳參考)的概念並不同,\n",
    "因為 python中只有物件(object),所以都是由 pass by reference實現,\n",
    "只是物件有分為可改變和不可改變的物件兩種,\n",
    "而其中不可變的物件是為了讓函數(function)的當作變數傳遞時不會出現錯誤,\n",
    "所以不能視為同樣概念來理解.\n",
    "\n",
    "#### 可改變物件：\n",
    "- list\n",
    "- dict\n",
    "- set\n",
    "\n",
    "#### 不可變物件\n",
    "- int\n",
    "- string\n",
    "- float\n",
    "- tuple"
   ]
  },
  {
   "cell_type": "code",
   "execution_count": 9,
   "metadata": {},
   "outputs": [
    {
     "name": "stdout",
     "output_type": "stream",
     "text": [
      "4513833200\n",
      "i id:4513833200\n",
      "j id:4513833200\n",
      "True\n",
      "new i id:4513833200\n",
      "new j id:4513833232\n",
      "False\n"
     ]
    }
   ],
   "source": [
    "i = 101 # 宣告一個變數將 i 便條紙貼到 101 物件\n",
    "j = 101 # 宣告一個變數將 j 便條紙貼到 101 物件\n",
    "print(id(101)) # 印出 101 物件 id，可以想成是記憶體位置        \n",
    "print('i id:' + str(id(i))) # 印出 i 指向的 id，和 101 物件值相同\n",
    "print('j id:' + str(id(j))) # 印出 j 指向的 id，和 101 物件值相同\n",
    "print(i is j) # 因為兩者會貼到同一個物件所以會顯示相等，True\n",
    "j = j + 1 # 若資料改變，會複製一份資料到新的記憶體空間然後資料更新\n",
    "print('new i id:' + str(id(i))) # 印出一樣的 id\n",
    "print('new j id:' + str(id(j))) # 印出新的 id\n",
    "print(i is j) # 兩者指到不同的記憶體位置，False"
   ]
  },
  {
   "cell_type": "markdown",
   "metadata": {},
   "source": [
    "### 測試 boolean 的方面 "
   ]
  },
  {
   "cell_type": "code",
   "execution_count": 10,
   "metadata": {},
   "outputs": [
    {
     "name": "stdout",
     "output_type": "stream",
     "text": [
      "bv id:4513426704\n",
      "bv2 id:4513426704\n",
      "bv2 id:4513427648\n",
      "bv id:4513427648\n",
      "bv id:4513426704\n"
     ]
    }
   ],
   "source": [
    "bv = True\n",
    "bv2 = True\n",
    "\n",
    "print('bv id:' + str(id(bv)))\n",
    "print('bv2 id:' + str(id(bv2)))\n",
    "\n",
    "bv2 = False\n",
    "print('bv2 id:' + str(id(bv2)))\n",
    "bv = False\n",
    "print('bv id:' + str(id(bv)))\n",
    "\n",
    "bv = True\n",
    "print('bv id:' + str(id(bv)))"
   ]
  },
  {
   "cell_type": "markdown",
   "metadata": {},
   "source": [
    "# 數字運算"
   ]
  },
  {
   "cell_type": "code",
   "execution_count": 31,
   "metadata": {},
   "outputs": [],
   "source": [
    "var1 = 1\n",
    "var2 = 10"
   ]
  },
  {
   "cell_type": "code",
   "execution_count": 32,
   "metadata": {},
   "outputs": [
    {
     "name": "stdout",
     "output_type": "stream",
     "text": [
      "1\n",
      "10\n"
     ]
    }
   ],
   "source": [
    "print(var1)\n",
    "print(var2)"
   ]
  },
  {
   "cell_type": "code",
   "execution_count": 33,
   "metadata": {},
   "outputs": [
    {
     "ename": "NameError",
     "evalue": "name 'var2' is not defined",
     "output_type": "error",
     "traceback": [
      "\u001b[0;31m---------------------------------------------------------------------------\u001b[0m",
      "\u001b[0;31mNameError\u001b[0m                                 Traceback (most recent call last)",
      "\u001b[0;32m<ipython-input-33-b4585fe39c7f>\u001b[0m in \u001b[0;36m<module>\u001b[0;34m\u001b[0m\n\u001b[1;32m      1\u001b[0m \u001b[0;32mdel\u001b[0m \u001b[0mvar2\u001b[0m\u001b[0;34m\u001b[0m\u001b[0;34m\u001b[0m\u001b[0m\n\u001b[0;32m----> 2\u001b[0;31m \u001b[0mprint\u001b[0m\u001b[0;34m(\u001b[0m\u001b[0mvar2\u001b[0m\u001b[0;34m)\u001b[0m\u001b[0;34m\u001b[0m\u001b[0;34m\u001b[0m\u001b[0m\n\u001b[0m",
      "\u001b[0;31mNameError\u001b[0m: name 'var2' is not defined"
     ]
    }
   ],
   "source": [
    "del var2\n",
    "print(var2)"
   ]
  },
  {
   "cell_type": "markdown",
   "metadata": {},
   "source": [
    "Python 支持三種不同的數值類型： \n",
    "- 整數(Int) - 通常被稱為是整型或整數，是正或負整數，不帶小數點。 Python3 整數是沒有限制大小的，可以當作 Long 類型使用，所以 Python3 沒有 Python2 的 Long 類型。\n",
    "- 浮點型(float) - 浮點型由整數部分與小數部分組成，浮點型也可以使用科學計數法表示（2.5e2 = 2.5 x 102 = 250） \n",
    "- 複數( (complex)) - 複數由實數部分和虛數部分構成，可以用a + bj,或者complex(a,b)表示， 複數的實部a和虛部b都是浮點型。"
   ]
  },
  {
   "cell_type": "code",
   "execution_count": 35,
   "metadata": {},
   "outputs": [
    {
     "data": {
      "text/plain": [
       "2575"
      ]
     },
     "execution_count": 35,
     "metadata": {},
     "output_type": "execute_result"
    }
   ],
   "source": [
    "number = 0xA0F # 十六进制\n",
    "number #2575"
   ]
  },
  {
   "cell_type": "code",
   "execution_count": 36,
   "metadata": {},
   "outputs": [
    {
     "data": {
      "text/plain": [
       "31"
      ]
     },
     "execution_count": 36,
     "metadata": {},
     "output_type": "execute_result"
    }
   ],
   "source": [
    "number=0o37 # 八进制\n",
    "number #31"
   ]
  },
  {
   "cell_type": "code",
   "execution_count": 37,
   "metadata": {},
   "outputs": [
    {
     "data": {
      "text/plain": [
       "9865"
      ]
     },
     "execution_count": 37,
     "metadata": {},
     "output_type": "execute_result"
    }
   ],
   "source": [
    "# 數字的轉換\n",
    "str_number = \"9865\"\n",
    "int(str_number)"
   ]
  },
  {
   "cell_type": "code",
   "execution_count": 38,
   "metadata": {},
   "outputs": [
    {
     "data": {
      "text/plain": [
       "9865.0"
      ]
     },
     "execution_count": 38,
     "metadata": {},
     "output_type": "execute_result"
    }
   ],
   "source": [
    "float(str_number)"
   ]
  },
  {
   "cell_type": "markdown",
   "metadata": {},
   "source": [
    "## pyhon 數字運算\n",
    "\n",
    "加減乘除和其他的程式語言很像"
   ]
  },
  {
   "cell_type": "code",
   "execution_count": 40,
   "metadata": {},
   "outputs": [
    {
     "data": {
      "text/plain": [
       "4"
      ]
     },
     "execution_count": 40,
     "metadata": {},
     "output_type": "execute_result"
    }
   ],
   "source": [
    ">>> 2 + 2"
   ]
  },
  {
   "cell_type": "code",
   "execution_count": 41,
   "metadata": {},
   "outputs": [
    {
     "data": {
      "text/plain": [
       "20"
      ]
     },
     "execution_count": 41,
     "metadata": {},
     "output_type": "execute_result"
    }
   ],
   "source": [
    "50 - 5*6"
   ]
  },
  {
   "cell_type": "code",
   "execution_count": 42,
   "metadata": {},
   "outputs": [
    {
     "data": {
      "text/plain": [
       "5.0"
      ]
     },
     "execution_count": 42,
     "metadata": {},
     "output_type": "execute_result"
    }
   ],
   "source": [
    "(50 - 5*6) / 4"
   ]
  },
  {
   "cell_type": "code",
   "execution_count": 43,
   "metadata": {},
   "outputs": [
    {
     "data": {
      "text/plain": [
       "1.6"
      ]
     },
     "execution_count": 43,
     "metadata": {},
     "output_type": "execute_result"
    }
   ],
   "source": [
    "8 / 5  # 总是返回一个浮点数"
   ]
  },
  {
   "cell_type": "markdown",
   "metadata": {},
   "source": [
    "其他常用運算方式"
   ]
  },
  {
   "cell_type": "code",
   "execution_count": 45,
   "metadata": {},
   "outputs": [
    {
     "data": {
      "text/plain": [
       "5.666666666666667"
      ]
     },
     "execution_count": 45,
     "metadata": {},
     "output_type": "execute_result"
    }
   ],
   "source": [
    "# 返回浮點數\n",
    "17/3"
   ]
  },
  {
   "cell_type": "code",
   "execution_count": 46,
   "metadata": {},
   "outputs": [
    {
     "data": {
      "text/plain": [
       "5"
      ]
     },
     "execution_count": 46,
     "metadata": {},
     "output_type": "execute_result"
    }
   ],
   "source": [
    "# 整数除法返回向下取整數後的结果\n",
    "17//3"
   ]
  },
  {
   "cell_type": "code",
   "execution_count": 47,
   "metadata": {},
   "outputs": [
    {
     "data": {
      "text/plain": [
       "2"
      ]
     },
     "execution_count": 47,
     "metadata": {},
     "output_type": "execute_result"
    }
   ],
   "source": [
    "# 餘數\n",
    "17 % 3"
   ]
  },
  {
   "cell_type": "code",
   "execution_count": 48,
   "metadata": {},
   "outputs": [
    {
     "data": {
      "text/plain": [
       "17"
      ]
     },
     "execution_count": 48,
     "metadata": {},
     "output_type": "execute_result"
    }
   ],
   "source": [
    "# 四則運算\n",
    "5 * 3 + 2 "
   ]
  },
  {
   "cell_type": "code",
   "execution_count": 49,
   "metadata": {},
   "outputs": [
    {
     "data": {
      "text/plain": [
       "5.0"
      ]
     },
     "execution_count": 49,
     "metadata": {},
     "output_type": "execute_result"
    }
   ],
   "source": [
    "# 但是//不一定會返回整數的型態\n",
    "17.0 // 3"
   ]
  },
  {
   "cell_type": "code",
   "execution_count": 50,
   "metadata": {},
   "outputs": [
    {
     "data": {
      "text/plain": [
       "25"
      ]
     },
     "execution_count": 50,
     "metadata": {},
     "output_type": "execute_result"
    }
   ],
   "source": [
    "# 進行平方運算\n",
    "5 ** 2"
   ]
  },
  {
   "cell_type": "code",
   "execution_count": 52,
   "metadata": {},
   "outputs": [
    {
     "data": {
      "text/plain": [
       "256"
      ]
     },
     "execution_count": 52,
     "metadata": {},
     "output_type": "execute_result"
    }
   ],
   "source": [
    "2 ** 8"
   ]
  },
  {
   "cell_type": "code",
   "execution_count": 56,
   "metadata": {},
   "outputs": [
    {
     "data": {
      "text/plain": [
       "113.06"
      ]
     },
     "execution_count": 56,
     "metadata": {},
     "output_type": "execute_result"
    }
   ],
   "source": [
    "# 互動模式 和 round 取小數點下第二位四捨五入\n",
    ">>> tax = 12.5 / 100\n",
    ">>> price = 100.50\n",
    ">>> price * tax\n",
    "# 12.5625\n",
    ">>> price + _\n",
    "# 113.0625\n",
    ">>> round(_, 2)\n",
    "# 113.06"
   ]
  },
  {
   "cell_type": "markdown",
   "metadata": {},
   "source": [
    "# 參考資料 - 數學函數\n",
    "\n",
    "![math](./img/math.png)\n",
    "\n",
    "# 參考資料 - 隨機函數\n",
    "\n",
    "![math](./img/random.png)\n",
    "\n",
    "# 參考資料 - 三角函數和常數\n",
    "![triangle_and_constant](./img/triangle_and_constant.png)"
   ]
  },
  {
   "cell_type": "markdown",
   "metadata": {},
   "source": [
    "# input and open file\n",
    "\n",
    "![input_and_open](./img/input_and_open.png)"
   ]
  },
  {
   "cell_type": "markdown",
   "metadata": {},
   "source": [
    "# 字串操作"
   ]
  },
  {
   "cell_type": "code",
   "execution_count": 11,
   "metadata": {},
   "outputs": [],
   "source": [
    "# 字串宣告\n",
    "language = 'python'"
   ]
  },
  {
   "cell_type": "code",
   "execution_count": 12,
   "metadata": {},
   "outputs": [
    {
     "data": {
      "text/plain": [
       "'I lovepython'"
      ]
     },
     "execution_count": 12,
     "metadata": {},
     "output_type": "execute_result"
    }
   ],
   "source": [
    "# 字串串連\n",
    "language = 'python'\n",
    "word = 'I love'\n",
    "word + language"
   ]
  },
  {
   "cell_type": "code",
   "execution_count": 13,
   "metadata": {},
   "outputs": [
    {
     "data": {
      "text/plain": [
       "'pythonpythonpython'"
      ]
     },
     "execution_count": 13,
     "metadata": {},
     "output_type": "execute_result"
    }
   ],
   "source": [
    "# 字串複製\n",
    "language = 'python'\n",
    "language * 3"
   ]
  },
  {
   "cell_type": "markdown",
   "metadata": {},
   "source": [
    "### 字串的選取 python slice string"
   ]
  },
  {
   "cell_type": "code",
   "execution_count": 14,
   "metadata": {},
   "outputs": [
    {
     "data": {
      "text/plain": [
       "'pt'"
      ]
     },
     "execution_count": 14,
     "metadata": {},
     "output_type": "execute_result"
    }
   ],
   "source": [
    "# 選取字串 [開始:結束:間隔]\n",
    "language = 'python'\n",
    "language[0:1] # p\n",
    "language[0:-1] # pytho\n",
    "\n",
    "# slice\n",
    "language[0:4:2] # pt"
   ]
  },
  {
   "cell_type": "code",
   "execution_count": 15,
   "metadata": {},
   "outputs": [
    {
     "name": "stdout",
     "output_type": "stream",
     "text": [
      "n\n"
     ]
    }
   ],
   "source": [
    "language = 'python'\n",
    "\n",
    "# 取得最後一個字\n",
    "print(language[-1])"
   ]
  },
  {
   "cell_type": "code",
   "execution_count": 16,
   "metadata": {},
   "outputs": [
    {
     "name": "stdout",
     "output_type": "stream",
     "text": [
      "['蘋果', '芭樂', '芒果']\n"
     ]
    }
   ],
   "source": [
    "# 從、分開 成為list\n",
    "水果 = '蘋果、芭樂、芒果'\n",
    "print(水果.split('、'))"
   ]
  },
  {
   "cell_type": "markdown",
   "metadata": {},
   "source": [
    "### 字串的代替"
   ]
  },
  {
   "cell_type": "code",
   "execution_count": 17,
   "metadata": {},
   "outputs": [
    {
     "data": {
      "text/plain": [
       "'no man is a island'"
      ]
     },
     "execution_count": 17,
     "metadata": {},
     "output_type": "execute_result"
    }
   ],
   "source": [
    "island = 'no man is a island'\n",
    "\n",
    "island.replace('no','all',0)"
   ]
  },
  {
   "cell_type": "code",
   "execution_count": 18,
   "metadata": {},
   "outputs": [
    {
     "data": {
      "text/plain": [
       "'all man is a island'"
      ]
     },
     "execution_count": 18,
     "metadata": {},
     "output_type": "execute_result"
    }
   ],
   "source": [
    "island.replace('no','all',1)"
   ]
  },
  {
   "cell_type": "code",
   "execution_count": 19,
   "metadata": {},
   "outputs": [
    {
     "data": {
      "text/plain": [
       "'all man is a island'"
      ]
     },
     "execution_count": 19,
     "metadata": {},
     "output_type": "execute_result"
    }
   ],
   "source": [
    "island.replace('no','all')"
   ]
  },
  {
   "cell_type": "markdown",
   "metadata": {},
   "source": [
    "# 猜數字"
   ]
  },
  {
   "cell_type": "code",
   "execution_count": 23,
   "metadata": {},
   "outputs": [
    {
     "name": "stdout",
     "output_type": "stream",
     "text": [
      "請猜一個0~10的數字\n",
      "來隨便猜一個數字吧: 6\n",
      "喔你猜得太大囉\n",
      "你猜了1次\n",
      "來隨便猜一個數字吧: 4\n",
      "喔你猜得太大囉\n",
      "你猜了2次\n",
      "來隨便猜一個數字吧: 2\n",
      "喔你猜得太大囉\n",
      "你猜了3次\n",
      "來隨便猜一個數字吧: 1\n",
      "恭喜你猜對了！\n",
      "你猜了4次\n"
     ]
    }
   ],
   "source": [
    "import random\n",
    "ans =  random.randint(0,10) #取從1到10的亂數\n",
    "times = 0\n",
    "print('請猜一個0~10的數字')\n",
    "play = True\n",
    "\n",
    "while(play):\n",
    "    try:\n",
    "        guess = int(input('來隨便猜一個數字吧: ')) #input出來預設為str，轉型為int\n",
    "    except:\n",
    "        print('程式出現非預期的錯誤，遊戲結束，答案是'+str(ans))\n",
    "        #str()是將數字轉文字，'+'串接的必須是同樣的型態。\n",
    "        play = False\n",
    "    else:\n",
    "        times = times+1 #每猜一次就要+1\n",
    "        if (guess > ans):\n",
    "            print('喔你猜得太大囉')\n",
    "        elif (guess < ans):\n",
    "            print('喔你猜得太小囉')\n",
    "        else:\n",
    "            print('恭喜你猜對了！')\n",
    "            play = False\n",
    "    finally:\n",
    "        print('你猜了'+str(times)+'次') "
   ]
  },
  {
   "cell_type": "markdown",
   "metadata": {},
   "source": [
    "# python實現猜拳遊戲"
   ]
  },
  {
   "cell_type": "code",
   "execution_count": 22,
   "metadata": {},
   "outputs": [
    {
     "name": "stdout",
     "output_type": "stream",
     "text": [
      "歡迎使用aniuzaixian猜拳遊戲軟件！\n",
      "請閱讀遊戲規則:\n",
      "         1.請輸入\"石頭\",\"剪刀\",\"布\"中的任意一個\n",
      "         2.輸入 end,結束遊戲!\n",
      "請輸入你的名字:剪刀\n",
      "歡迎剪刀猜拳\n",
      "請出拳:剪刀\n",
      "剪刀贏了\n",
      "請出拳:剪刀\n",
      "平手了\n",
      "請出拳:剪刀\n",
      "剪刀贏了\n",
      "請出拳:剪刀\n",
      "剪刀贏了\n",
      "請出拳:剪刀\n",
      "平手了\n",
      "請出拳:剪刀\n",
      "剪刀贏了\n",
      "請出拳:end\n",
      "這次遊戲，剪刀共猜拳6次,贏拳4次,輸拳0次,平手2次\n",
      "歡迎剪刀下次再玩!\n"
     ]
    }
   ],
   "source": [
    "import random\n",
    "\n",
    "print (\"歡迎使用aniuzaixian猜拳遊戲軟件！\")\n",
    "print (\"\"\"請閱讀遊戲規則:\n",
    "         1.請輸入\"石頭\",\"剪刀\",\"布\"中的任意一個\n",
    "         2.輸入 end,結束遊戲!\"\"\")\n",
    "name=input(\"請輸入你的名字:\")\n",
    "print (\"歡迎%s猜拳\"%name)\n",
    "\n",
    "com=0\n",
    "per=0\n",
    "draw=0\n",
    "while True:\n",
    "        s=int(random.randint(1,3))\n",
    "        computer=\"電腦出拳\"\n",
    "        if(s==1):\n",
    "                computer= (\"剪刀\")\n",
    "        elif(s==2):\n",
    "                computer= (\"石頭\")\n",
    "        else:\n",
    "                computer= (\"布\")\n",
    "        person=input(\"請出拳:\")\n",
    "        list=[\"石頭\",\"剪刀\",\"布\"]\n",
    "        if(person in list) and (person != \"end\"):\n",
    "                if(computer == person):\n",
    "                        print (\"平手了\")\n",
    "                        draw+=1\n",
    "                        continue\n",
    "                elif(computer==\"石頭\" and person==\"剪刀\") or (computer==\"剪刀\" and person==\"布\") or (computer==\"布\" and person==\"石頭\"):\n",
    "                        print (\"電腦贏了\")\n",
    "                        com+=1\n",
    "                else:\n",
    "                        print (\"%s贏了\"%name)\n",
    "                        per+=1\n",
    "        elif(person not in list) and (person != \"end\"):\n",
    "                print (\"你輸入有誤,請重新輸入!\")\n",
    "                continue\n",
    "        else:\n",
    "                sum = com + per + draw\n",
    "                print (\"這次遊戲，%s共猜拳%d次,贏拳%d次,輸拳%d次,平手%d次\" %(name,sum,per,com,draw))\n",
    "                print (\"歡迎%s下次再玩!\"%name)\n",
    "                break"
   ]
  },
  {
   "cell_type": "markdown",
   "metadata": {},
   "source": [
    "# Lambda, Map"
   ]
  },
  {
   "cell_type": "code",
   "execution_count": 51,
   "metadata": {},
   "outputs": [
    {
     "name": "stdout",
     "output_type": "stream",
     "text": [
      "[1, 3, 5, 7, 9]\n",
      "[1, 9, 25, 49, 81]\n",
      "[1, 3, 5, 7, 9]\n",
      "[1, 9, 25, 49, 81]\n"
     ]
    }
   ],
   "source": [
    "s = [1, 3, 5, 7, 9]\n",
    "def sqr(x): return x ** 2\n",
    "\n",
    "print(s)\n",
    "print(list(map(sqr,s)))\n",
    "\n",
    "\n",
    "# We can as well use lambda function to get same output\n",
    "s = [1, 3, 5, 7, 9]\n",
    "\n",
    "print(s)\n",
    "print(list(map((lambda x: x**2), s)))"
   ]
  },
  {
   "cell_type": "markdown",
   "metadata": {},
   "source": [
    "### map(), filter(), reduce() 和 zip()\n",
    "Python 自帶模塊的數據結構屈指可數，list是一個隨時都在用的數據結構，對list進行操作python內置了幾個函數對python的list進行操作時候非常方便。\n",
    "\n",
    "- map()是 Python 內置的高階函數，它接收一個函數 f() 和一個 list，並通過把函數 f 依次作用在 list 的每個元素上，得到一個新的 list 並返回。 (這個函數與 R 中的 lapply 非常相似) \n",
    "- 用法map(function, sequence)"
   ]
  },
  {
   "cell_type": "code",
   "execution_count": 125,
   "metadata": {},
   "outputs": [
    {
     "data": {
      "text/plain": [
       "[1, 2, 3, 4]"
      ]
     },
     "execution_count": 125,
     "metadata": {},
     "output_type": "execute_result"
    }
   ],
   "source": [
    "l = ['1','2','3','4']\n",
    "list(map(int,l))"
   ]
  },
  {
   "cell_type": "markdown",
   "metadata": {},
   "source": [
    "對list中的函數求平方"
   ]
  },
  {
   "cell_type": "code",
   "execution_count": null,
   "metadata": {},
   "outputs": [],
   "source": [
    "def f(x):\n",
    "    return x**2\n",
    "\n",
    "l =[1,2,3,4]\n",
    "\n",
    "list(map(f,l))\n",
    "\n",
    "Out[3]: [1, 4, 9, 16]"
   ]
  },
  {
   "cell_type": "markdown",
   "metadata": {},
   "source": [
    "同時操作兩個list"
   ]
  },
  {
   "cell_type": "code",
   "execution_count": 126,
   "metadata": {
    "scrolled": true
   },
   "outputs": [
    {
     "data": {
      "text/plain": [
       "[2, 4, 6, 8]"
      ]
     },
     "execution_count": 126,
     "metadata": {},
     "output_type": "execute_result"
    }
   ],
   "source": [
    "l =[1,2,3,4]\n",
    "list(map(lambda x,y: x+y,l,l))"
   ]
  },
  {
   "cell_type": "markdown",
   "metadata": {},
   "source": [
    "使用filter篩選符合條件的數值"
   ]
  },
  {
   "cell_type": "code",
   "execution_count": 128,
   "metadata": {},
   "outputs": [
    {
     "data": {
      "text/plain": [
       "[3, 4]"
      ]
     },
     "execution_count": 128,
     "metadata": {},
     "output_type": "execute_result"
    }
   ],
   "source": [
    "l =[1,2,3,4]\n",
    "list(filter(lambda x: x>2, l))"
   ]
  },
  {
   "cell_type": "markdown",
   "metadata": {},
   "source": [
    "使用map時會是不同的返回值"
   ]
  },
  {
   "cell_type": "code",
   "execution_count": 130,
   "metadata": {},
   "outputs": [
    {
     "data": {
      "text/plain": [
       "[False, False, True, True]"
      ]
     },
     "execution_count": 130,
     "metadata": {},
     "output_type": "execute_result"
    }
   ],
   "source": [
    "l =[1,2,3,4]\n",
    "list(map(lambda x: x>2, l))"
   ]
  },
  {
   "cell_type": "markdown",
   "metadata": {},
   "source": [
    "### reduce() 求累積\n",
    "\n",
    "- reduce函數功能是將 sequence 中數據，按照 function 函數操作，如將列表第一個數與第二個數進行 function 操作，得到的結果和列表中下一個數據進行 function 操作，一直循環下去…\n",
    "- 用法reduce(function, sequence):\n",
    "\n",
    "因為 Guido 先生討厭 reduce 的關係，python3將reduce從全域名字空間中移除，現在擺在functools模組裡，使用前需要先import"
   ]
  },
  {
   "cell_type": "code",
   "execution_count": 24,
   "metadata": {},
   "outputs": [
    {
     "data": {
      "text/plain": [
       "-0.08333333333333331"
      ]
     },
     "execution_count": 24,
     "metadata": {},
     "output_type": "execute_result"
    }
   ],
   "source": [
    "from functools import reduce\n",
    "l =[1, 2, 3, 4]\n",
    "reduce(lambda a,b: a-1/b , l)"
   ]
  },
  {
   "cell_type": "markdown",
   "metadata": {},
   "source": [
    "### zip()打包函数\n",
    "- zip()是 Python 的一個內建函數，它接受一系列可迭代的對像作為參數，將對像中對應的元素打包成一個個tuple（元組），然後返回由這些tuples組成的list（列表）。若傳入參數的長度不等，則返回 list 的長度和參數中長度最短的對象相同。利用*號操作符，可以將list unzip（解壓）。 \n",
    "- 用法: zip(list,list)"
   ]
  },
  {
   "cell_type": "code",
   "execution_count": 136,
   "metadata": {},
   "outputs": [
    {
     "data": {
      "text/plain": [
       "[(1, 'a'), (2, 'b'), (3, 'c'), (4, 'd')]"
      ]
     },
     "execution_count": 136,
     "metadata": {},
     "output_type": "execute_result"
    }
   ],
   "source": [
    "l1 = [1, 2, 3, 4]\n",
    "l2 = ['a', 'b', 'c', 'd']\n",
    "\n",
    "list(zip(l1,l2))"
   ]
  },
  {
   "cell_type": "code",
   "execution_count": 138,
   "metadata": {},
   "outputs": [
    {
     "data": {
      "text/plain": [
       "[(1, 2, 3, 4), ('a', 'b', 'c', 'd')]"
      ]
     },
     "execution_count": 138,
     "metadata": {},
     "output_type": "execute_result"
    }
   ],
   "source": [
    "l1 = [1, 2, 3, 4]\n",
    "l2 = ['a', 'b', 'c', 'd']\n",
    "zip_l1_l2 = zip(l1,l2)\n",
    "\n",
    "# 使用*反轉\n",
    "list(zip(*zip_l1_l2))"
   ]
  },
  {
   "cell_type": "markdown",
   "metadata": {},
   "source": [
    "使用zip創造字典(dict)"
   ]
  },
  {
   "cell_type": "code",
   "execution_count": 139,
   "metadata": {},
   "outputs": [
    {
     "data": {
      "text/plain": [
       "{1: 'a', 2: 'b', 3: 'c', 4: 'd'}"
      ]
     },
     "execution_count": 139,
     "metadata": {},
     "output_type": "execute_result"
    }
   ],
   "source": [
    "l1 = [1, 2, 3, 4]\n",
    "l2 = ['a', 'b', 'c', 'd']\n",
    "zip_l1_l2 = zip(l1,l2)\n",
    "\n",
    "dict(zip_l1_l2)"
   ]
  },
  {
   "cell_type": "code",
   "execution_count": null,
   "metadata": {},
   "outputs": [],
   "source": []
  },
  {
   "cell_type": "code",
   "execution_count": null,
   "metadata": {},
   "outputs": [],
   "source": []
  },
  {
   "cell_type": "markdown",
   "metadata": {},
   "source": [
    "# 決策樹(Decision Tree)以及隨機森林(Random Forest)介紹"
   ]
  },
  {
   "cell_type": "code",
   "execution_count": 1,
   "metadata": {
    "collapsed": true
   },
   "outputs": [],
   "source": [
    "from sklearn import datasets\n",
    "import pandas as pd\n",
    "import numpy as np\n",
    "import matplotlib.pyplot as plt\n",
    "import seaborn as sns"
   ]
  },
  {
   "cell_type": "code",
   "execution_count": 2,
   "metadata": {
    "collapsed": true
   },
   "outputs": [],
   "source": [
    "%matplotlib inline"
   ]
  },
  {
   "cell_type": "code",
   "execution_count": 3,
   "metadata": {},
   "outputs": [
    {
     "name": "stdout",
     "output_type": "stream",
     "text": [
      "target_names: ['setosa' 'versicolor' 'virginica']\n"
     ]
    },
    {
     "data": {
      "text/html": [
       "<div>\n",
       "<style>\n",
       "    .dataframe thead tr:only-child th {\n",
       "        text-align: right;\n",
       "    }\n",
       "\n",
       "    .dataframe thead th {\n",
       "        text-align: left;\n",
       "    }\n",
       "\n",
       "    .dataframe tbody tr th {\n",
       "        vertical-align: top;\n",
       "    }\n",
       "</style>\n",
       "<table border=\"1\" class=\"dataframe\">\n",
       "  <thead>\n",
       "    <tr style=\"text-align: right;\">\n",
       "      <th></th>\n",
       "      <th>sepal length (cm)</th>\n",
       "      <th>petal length (cm)</th>\n",
       "      <th>target</th>\n",
       "    </tr>\n",
       "  </thead>\n",
       "  <tbody>\n",
       "    <tr>\n",
       "      <th>0</th>\n",
       "      <td>5.1</td>\n",
       "      <td>1.4</td>\n",
       "      <td>0</td>\n",
       "    </tr>\n",
       "    <tr>\n",
       "      <th>1</th>\n",
       "      <td>4.9</td>\n",
       "      <td>1.4</td>\n",
       "      <td>0</td>\n",
       "    </tr>\n",
       "    <tr>\n",
       "      <th>2</th>\n",
       "      <td>4.7</td>\n",
       "      <td>1.3</td>\n",
       "      <td>0</td>\n",
       "    </tr>\n",
       "  </tbody>\n",
       "</table>\n",
       "</div>"
      ],
      "text/plain": [
       "   sepal length (cm)  petal length (cm)  target\n",
       "0                5.1                1.4       0\n",
       "1                4.9                1.4       0\n",
       "2                4.7                1.3       0"
      ]
     },
     "execution_count": 3,
     "metadata": {},
     "output_type": "execute_result"
    }
   ],
   "source": [
    "iris = datasets.load_iris()\n",
    "x = pd.DataFrame(iris['data'], columns=iris['feature_names'])\n",
    "print(\"target_names: \"+str(iris['target_names']))\n",
    "y = pd.DataFrame(iris['target'], columns=['target'])\n",
    "iris_data = pd.concat([x,y], axis=1)\n",
    "iris_data = iris_data[['sepal length (cm)','petal length (cm)','target']]\n",
    "iris_data = iris_data[iris_data['target'].isin([0,1])]\n",
    "iris_data.head(3)"
   ]
  },
  {
   "cell_type": "code",
   "execution_count": 4,
   "metadata": {
    "collapsed": true
   },
   "outputs": [],
   "source": [
    "from sklearn.model_selection import train_test_split"
   ]
  },
  {
   "cell_type": "code",
   "execution_count": 5,
   "metadata": {
    "collapsed": true
   },
   "outputs": [],
   "source": [
    "X_train, X_test, y_train, y_test = train_test_split(\n",
    "    iris_data[['sepal length (cm)','petal length (cm)']], iris_data[['target']], test_size=0.3, random_state=0)"
   ]
  },
  {
   "cell_type": "code",
   "execution_count": 6,
   "metadata": {
    "collapsed": true
   },
   "outputs": [],
   "source": [
    "# 不需要做特徵標準化"
   ]
  },
  {
   "cell_type": "code",
   "execution_count": 7,
   "metadata": {
    "collapsed": true
   },
   "outputs": [],
   "source": [
    "# from sklearn.preprocessing import StandardScaler\n",
    "\n",
    "# sc = StandardScaler()\n",
    "# sc.fit(X_train)\n",
    "# X_train_std = sc.transform(X_train)\n",
    "# X_test_std = sc.transform(X_test)"
   ]
  },
  {
   "cell_type": "code",
   "execution_count": 8,
   "metadata": {
    "collapsed": true
   },
   "outputs": [],
   "source": [
    "from sklearn.tree import DecisionTreeClassifier"
   ]
  },
  {
   "cell_type": "code",
   "execution_count": 9,
   "metadata": {
    "collapsed": true
   },
   "outputs": [],
   "source": [
    "tree = DecisionTreeClassifier(criterion = 'entropy', random_state=0)"
   ]
  },
  {
   "cell_type": "code",
   "execution_count": 10,
   "metadata": {},
   "outputs": [
    {
     "data": {
      "text/plain": [
       "DecisionTreeClassifier(class_weight=None, criterion='entropy', max_depth=None,\n",
       "            max_features=None, max_leaf_nodes=None,\n",
       "            min_impurity_split=1e-07, min_samples_leaf=1,\n",
       "            min_samples_split=2, min_weight_fraction_leaf=0.0,\n",
       "            presort=False, random_state=0, splitter='best')"
      ]
     },
     "execution_count": 10,
     "metadata": {},
     "output_type": "execute_result"
    }
   ],
   "source": [
    "tree.fit(X_train,y_train)"
   ]
  },
  {
   "cell_type": "code",
   "execution_count": 11,
   "metadata": {},
   "outputs": [
    {
     "data": {
      "text/plain": [
       "array([0, 1, 0, 1, 1, 1, 0, 1, 1, 1, 1, 1, 1, 0, 0, 0, 0, 0, 0, 0, 0, 1, 0,\n",
       "       1, 0, 0, 0, 1, 1, 1])"
      ]
     },
     "execution_count": 11,
     "metadata": {},
     "output_type": "execute_result"
    }
   ],
   "source": [
    "tree.predict(X_test)"
   ]
  },
  {
   "cell_type": "code",
   "execution_count": 12,
   "metadata": {},
   "outputs": [
    {
     "data": {
      "text/plain": [
       "array([0, 1, 0, 1, 1, 1, 0, 1, 1, 1, 1, 1, 1, 0, 0, 0, 0, 0, 0, 0, 0, 1, 0,\n",
       "       1, 0, 0, 0, 1, 1, 1])"
      ]
     },
     "execution_count": 12,
     "metadata": {},
     "output_type": "execute_result"
    }
   ],
   "source": [
    "y_test['target'].values"
   ]
  },
  {
   "cell_type": "code",
   "execution_count": 13,
   "metadata": {},
   "outputs": [
    {
     "name": "stdout",
     "output_type": "stream",
     "text": [
      "0\n"
     ]
    }
   ],
   "source": [
    "error = 0\n",
    "for i, v in enumerate(tree.predict(X_test)):\n",
    "    if v!= y_test['target'].values[i]:\n",
    "        print(i,v)\n",
    "        error+=1\n",
    "print(error)"
   ]
  },
  {
   "cell_type": "code",
   "execution_count": 14,
   "metadata": {},
   "outputs": [
    {
     "data": {
      "text/plain": [
       "1.0"
      ]
     },
     "execution_count": 14,
     "metadata": {},
     "output_type": "execute_result"
    }
   ],
   "source": [
    "tree.score(X_test,y_test['target'])"
   ]
  },
  {
   "cell_type": "code",
   "execution_count": 15,
   "metadata": {
    "collapsed": true
   },
   "outputs": [],
   "source": [
    "from matplotlib.colors import ListedColormap\n",
    "\n",
    "def plot_decision_regions(X, y, classifier, test_idx=None, resolution=0.02):\n",
    "\n",
    "    # setup marker generator and color map\n",
    "    markers = ('s', 'x', 'o', '^', 'v')\n",
    "    colors = ('red', 'blue', 'lightgreen', 'gray', 'cyan')\n",
    "    cmap = ListedColormap(colors[:len(np.unique(y))])\n",
    "\n",
    "    # plot the decision surface\n",
    "    x1_min, x1_max = X[:, 0].min() - 1, X[:, 0].max() + 1\n",
    "    x2_min, x2_max = X[:, 1].min() - 1, X[:, 1].max() + 1\n",
    "    xx1, xx2 = np.meshgrid(np.arange(x1_min, x1_max, resolution),\n",
    "                           np.arange(x2_min, x2_max, resolution))\n",
    "    Z = classifier.predict(np.array([xx1.ravel(), xx2.ravel()]).T)\n",
    "    Z = Z.reshape(xx1.shape)\n",
    "    plt.contourf(xx1, xx2, Z, alpha=0.4, cmap=cmap)\n",
    "    plt.xlim(xx1.min(), xx1.max())\n",
    "    plt.ylim(xx2.min(), xx2.max())\n",
    "\n",
    "    for idx, cl in enumerate(np.unique(y)):\n",
    "        plt.scatter(x=X[y == cl, 0], \n",
    "                    y=X[y == cl, 1],\n",
    "                    alpha=0.6, \n",
    "                    c=cmap(idx),\n",
    "                    edgecolor='black',\n",
    "                    marker=markers[idx], \n",
    "                    label=cl)\n",
    "\n",
    "    # highlight test samples\n",
    "    if test_idx:\n",
    "        # plot all samples\n",
    "        if not versiontuple(np.__version__) >= versiontuple('1.9.0'):\n",
    "            X_test, y_test = X[list(test_idx), :], y[list(test_idx)]\n",
    "            warnings.warn('Please update to NumPy 1.9.0 or newer')\n",
    "        else:\n",
    "            X_test, y_test = X[test_idx, :], y[test_idx]\n",
    "\n",
    "        plt.scatter(X_test[:, 0],\n",
    "                    X_test[:, 1],\n",
    "                    c='',\n",
    "                    alpha=1.0,\n",
    "                    edgecolor='black',\n",
    "                    linewidths=1,\n",
    "                    marker='o',\n",
    "                    s=55, label='test set')"
   ]
  },
  {
   "cell_type": "code",
   "execution_count": 16,
   "metadata": {
    "scrolled": true
   },
   "outputs": [
    {
     "data": {
      "image/png": "[encoded data removed]",
      "text/plain": [
       "<matplotlib.figure.Figure at 0x10e327588>"
      ]
     },
     "metadata": {},
     "output_type": "display_data"
    }
   ],
   "source": [
    "plot_decision_regions(X_train.values, y_train['target'].values, classifier=tree)\n",
    "plt.xlabel('petal length [standardized]')\n",
    "plt.ylabel('petal width [standardized]')\n",
    "plt.legend(loc='upper left')\n",
    "plt.tight_layout()\n",
    "plt.show()"
   ]
  },
  {
   "cell_type": "code",
   "execution_count": 17,
   "metadata": {
    "collapsed": true
   },
   "outputs": [],
   "source": [
    "from sklearn.tree import export_graphviz"
   ]
  },
  {
   "cell_type": "code",
   "execution_count": 18,
   "metadata": {
    "collapsed": true
   },
   "outputs": [],
   "source": [
    "export_graphviz(tree, out_file='tree.dot', feature_names=['sepal length (cm)','petal length (cm)'])"
   ]
  },
  {
   "cell_type": "code",
   "execution_count": null,
   "metadata": {
    "collapsed": true
   },
   "outputs": [],
   "source": []
  },
  {
   "cell_type": "code",
   "execution_count": 19,
   "metadata": {},
   "outputs": [
    {
     "name": "stdout",
     "output_type": "stream",
     "text": [
      "target_names: ['setosa' 'versicolor' 'virginica']\n"
     ]
    },
    {
     "data": {
      "text/html": [
       "<div>\n",
       "<style>\n",
       "    .dataframe thead tr:only-child th {\n",
       "        text-align: right;\n",
       "    }\n",
       "\n",
       "    .dataframe thead th {\n",
       "        text-align: left;\n",
       "    }\n",
       "\n",
       "    .dataframe tbody tr th {\n",
       "        vertical-align: top;\n",
       "    }\n",
       "</style>\n",
       "<table border=\"1\" class=\"dataframe\">\n",
       "  <thead>\n",
       "    <tr style=\"text-align: right;\">\n",
       "      <th></th>\n",
       "      <th>petal width (cm)</th>\n",
       "      <th>petal length (cm)</th>\n",
       "      <th>target</th>\n",
       "    </tr>\n",
       "  </thead>\n",
       "  <tbody>\n",
       "    <tr>\n",
       "      <th>0</th>\n",
       "      <td>0.2</td>\n",
       "      <td>1.4</td>\n",
       "      <td>0</td>\n",
       "    </tr>\n",
       "    <tr>\n",
       "      <th>1</th>\n",
       "      <td>0.2</td>\n",
       "      <td>1.4</td>\n",
       "      <td>0</td>\n",
       "    </tr>\n",
       "    <tr>\n",
       "      <th>2</th>\n",
       "      <td>0.2</td>\n",
       "      <td>1.3</td>\n",
       "      <td>0</td>\n",
       "    </tr>\n",
       "  </tbody>\n",
       "</table>\n",
       "</div>"
      ],
      "text/plain": [
       "   petal width (cm)  petal length (cm)  target\n",
       "0               0.2                1.4       0\n",
       "1               0.2                1.4       0\n",
       "2               0.2                1.3       0"
      ]
     },
     "execution_count": 19,
     "metadata": {},
     "output_type": "execute_result"
    }
   ],
   "source": [
    "iris = datasets.load_iris()\n",
    "x = pd.DataFrame(iris['data'], columns=iris['feature_names'])\n",
    "print(\"target_names: \"+str(iris['target_names']))\n",
    "y = pd.DataFrame(iris['target'], columns=['target'])\n",
    "iris_data = pd.concat([x,y], axis=1)\n",
    "iris_data = iris_data[['petal width (cm)','petal length (cm)','target']]\n",
    "iris_data.head(3)"
   ]
  },
  {
   "cell_type": "code",
   "execution_count": 20,
   "metadata": {
    "collapsed": true
   },
   "outputs": [],
   "source": [
    "X_train, X_test, y_train, y_test = train_test_split(\n",
    "    iris_data[['petal width (cm)','petal length (cm)']], iris_data[['target']], test_size=0.3, random_state=0)"
   ]
  },
  {
   "cell_type": "code",
   "execution_count": 21,
   "metadata": {},
   "outputs": [
    {
     "data": {
      "text/plain": [
       "DecisionTreeClassifier(class_weight=None, criterion='entropy', max_depth=3,\n",
       "            max_features=None, max_leaf_nodes=None,\n",
       "            min_impurity_split=1e-07, min_samples_leaf=1,\n",
       "            min_samples_split=2, min_weight_fraction_leaf=0.0,\n",
       "            presort=False, random_state=0, splitter='best')"
      ]
     },
     "execution_count": 21,
     "metadata": {},
     "output_type": "execute_result"
    }
   ],
   "source": [
    "from sklearn.tree import DecisionTreeClassifier\n",
    "tree = DecisionTreeClassifier(criterion = 'entropy', max_depth=3, random_state=0)\n",
    "tree.fit(X_train,y_train)"
   ]
  },
  {
   "cell_type": "code",
   "execution_count": null,
   "metadata": {
    "collapsed": true
   },
   "outputs": [],
   "source": []
  },
  {
   "cell_type": "code",
   "execution_count": 22,
   "metadata": {},
   "outputs": [
    {
     "data": {
      "image/png": "[encoded data removed]",
      "text/plain": [
       "<matplotlib.figure.Figure at 0x10e3e2fd0>"
      ]
     },
     "metadata": {},
     "output_type": "display_data"
    }
   ],
   "source": [
    "plot_decision_regions(X_train.values, y_train['target'].values, classifier=tree)\n",
    "plt.xlabel('petal length [standardized]')\n",
    "plt.ylabel('petal width [standardized]')\n",
    "plt.legend(loc='upper left')\n",
    "plt.tight_layout()\n",
    "plt.show()"
   ]
  },
  {
   "cell_type": "code",
   "execution_count": 23,
   "metadata": {
    "collapsed": true
   },
   "outputs": [],
   "source": [
    "export_graphviz(tree, out_file='tree2.dot', feature_names=['sepal length (cm)','petal length (cm)'])"
   ]
  },
  {
   "cell_type": "code",
   "execution_count": 24,
   "metadata": {
    "collapsed": true
   },
   "outputs": [],
   "source": [
    "from sklearn.ensemble import RandomForestClassifier"
   ]
  },
  {
   "cell_type": "code",
   "execution_count": 25,
   "metadata": {
    "collapsed": true
   },
   "outputs": [],
   "source": [
    "forest = RandomForestClassifier(criterion='entropy', n_estimators=10,random_state=3,n_jobs=2)"
   ]
  },
  {
   "cell_type": "code",
   "execution_count": 26,
   "metadata": {},
   "outputs": [
    {
     "data": {
      "text/plain": [
       "RandomForestClassifier(bootstrap=True, class_weight=None, criterion='entropy',\n",
       "            max_depth=None, max_features='auto', max_leaf_nodes=None,\n",
       "            min_impurity_split=1e-07, min_samples_leaf=1,\n",
       "            min_samples_split=2, min_weight_fraction_leaf=0.0,\n",
       "            n_estimators=10, n_jobs=2, oob_score=False, random_state=3,\n",
       "            verbose=0, warm_start=False)"
      ]
     },
     "execution_count": 26,
     "metadata": {},
     "output_type": "execute_result"
    }
   ],
   "source": [
    "forest.fit(X_train,y_train['target'].values)"
   ]
  },
  {
   "cell_type": "code",
   "execution_count": 27,
   "metadata": {},
   "outputs": [
    {
     "data": {
      "image/png": "[encoded data removed]",
      "text/plain": [
       "<matplotlib.figure.Figure at 0x11220d128>"
      ]
     },
     "metadata": {},
     "output_type": "display_data"
    }
   ],
   "source": [
    "plot_decision_regions(X_train.values, y_train['target'].values, classifier=forest)"
   ]
  },
  {
   "cell_type": "code",
   "execution_count": null,
   "metadata": {
    "collapsed": true
   },
   "outputs": [],
   "source": []
  }
 ],
 "metadata": {
  "kernelspec": {
   "display_name": "Python 3",
   "language": "python",
   "name": "python3"
  },
  "language_info": {
   "codemirror_mode": {
    "name": "ipython",
    "version": 3
   },
   "file_extension": ".py",
   "mimetype": "text/x-python",
   "name": "python",
   "nbconvert_exporter": "python",
   "pygments_lexer": "ipython3",
   "version": "3.7.1"
  }
 },
 "nbformat": 4,
 "nbformat_minor": 2
}
